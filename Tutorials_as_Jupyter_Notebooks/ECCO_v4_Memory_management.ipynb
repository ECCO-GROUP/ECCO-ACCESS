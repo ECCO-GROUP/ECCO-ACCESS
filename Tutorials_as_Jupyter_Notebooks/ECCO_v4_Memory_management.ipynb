{
 "cells": [
  {
   "cell_type": "markdown",
   "id": "3da16745-245c-47c2-9cfd-ef831df10a38",
   "metadata": {},
   "source": [
    "# Memory management in Python\n",
    "Andrew Delman, updated 2024-07-10\n",
    "\n",
    "## Objectives\n",
    "Demonstrate how Python objects (variables) are stored in and cleared from memory, and establish good practices for conserving memory in a Python workspace.\n",
    "\n",
    "## Introduction\n",
    "Python is a very useful computing language for doing numerical analysis of large datasets, largely because of packages that have been developed specifically for this purpose. [Xarray](https://docs.xarray.dev/en/stable/) allows us to open data from a number of files using a single line of code (with `open_mfdataset`), while [Dask](https://www.dask.org/) makes it easy to parallelize computations and stagger memory usage by \"chunking\" the computations. However, we still need to be mindful of the memory limitations of our workspace, and there are some quirks to memory management in Python.\n",
    "\n",
    "\n",
    "## View vs. copy\n",
    "In some numerical computing languages such as Matlab, assigning a new variable instantly creates an independent block of memory in our workspace associated with that variable. In Python, when you create a variable by assigning data from another variable, the assignment does not create a copy of that data. Rather, a pointer called a *view* is created from the new variable to the data in the original. This is the default behavior for native Python objects such as lists, tuples, and dictionaries, as well as [NumPy arrays](https://numpy.org/doc/stable/user/basics.copies.html).\n",
    "\n",
    "### Native Python object (list)\n",
    "Consider a simple list of 3 numbers"
   ]
  },
  {
   "cell_type": "code",
   "execution_count": 1,
   "id": "44e8f31c-2e4f-4816-992a-43c5e2727df1",
   "metadata": {},
   "outputs": [
    {
     "data": {
      "text/plain": [
       "[1, 2, 3]"
      ]
     },
     "execution_count": 1,
     "metadata": {},
     "output_type": "execute_result"
    }
   ],
   "source": [
    "test_list = [1,2,3]\n",
    "view_list = test_list\n",
    "view_list"
   ]
  },
  {
   "cell_type": "markdown",
   "id": "8a296388-8f57-4ad0-9b07-874ec212a2cc",
   "metadata": {},
   "source": [
    "We can see if `view_list` is read from the same object in memory as `test_list`, using the `is` operator."
   ]
  },
  {
   "cell_type": "code",
   "execution_count": 2,
   "id": "cbb28b19-cc69-407a-b138-df7bda5abe23",
   "metadata": {},
   "outputs": [
    {
     "data": {
      "text/plain": [
       "True"
      ]
     },
     "execution_count": 2,
     "metadata": {},
     "output_type": "execute_result"
    }
   ],
   "source": [
    "view_list is test_list"
   ]
  },
  {
   "cell_type": "markdown",
   "id": "0d0239a9-5686-4719-9a65-4c972b44577d",
   "metadata": {},
   "source": [
    "Not only that, because `view_list` is identical in memory space to `test_list`, when `view_list` is modified `test_list` is modified as well."
   ]
  },
  {
   "cell_type": "code",
   "execution_count": 3,
   "id": "db8da8a2-765a-40a3-8935-550e8ef5ebff",
   "metadata": {},
   "outputs": [
    {
     "data": {
      "text/plain": [
       "[1, 4, 3]"
      ]
     },
     "execution_count": 3,
     "metadata": {},
     "output_type": "execute_result"
    }
   ],
   "source": [
    "view_list[1] = 4\n",
    "test_list"
   ]
  },
  {
   "cell_type": "markdown",
   "id": "867aa11d-9aad-4c38-978d-09f03de0035d",
   "metadata": {},
   "source": [
    "Compare this with creating a *copy* of `test_list`. There is a `copy` package that does this in Python, but you can also create a copy just by appending `.copy()`, or by using an operator on the right-hand side of the assignment. For example, we can \"append\" an empty list to create a copy."
   ]
  },
  {
   "cell_type": "code",
   "execution_count": 4,
   "id": "614602d1-98d8-428c-8389-b1e3870dbfa0",
   "metadata": {},
   "outputs": [
    {
     "data": {
      "text/plain": [
       "[1, 2, 3]"
      ]
     },
     "execution_count": 4,
     "metadata": {},
     "output_type": "execute_result"
    }
   ],
   "source": [
    "test_list = [1,2,3]\n",
    "copy_list = test_list + []\n",
    "copy_list"
   ]
  },
  {
   "cell_type": "markdown",
   "id": "556956c0-7644-4ef3-938a-a1b62bc3b97b",
   "metadata": {},
   "source": [
    "Note that if we use the `==` operator, which compares the *values* of the two objects, the result is True."
   ]
  },
  {
   "cell_type": "code",
   "execution_count": 5,
   "id": "feba8d0b-83a0-497d-bf95-30198f3a621d",
   "metadata": {},
   "outputs": [
    {
     "data": {
      "text/plain": [
       "True"
      ]
     },
     "execution_count": 5,
     "metadata": {},
     "output_type": "execute_result"
    }
   ],
   "source": [
    "copy_list == test_list"
   ]
  },
  {
   "cell_type": "markdown",
   "id": "85e53629-b3f5-45f6-9162-90227dc4579a",
   "metadata": {},
   "source": [
    "But if we compare using the `is` operator, we find that the two objects are independent."
   ]
  },
  {
   "cell_type": "code",
   "execution_count": 6,
   "id": "4e363950-d626-4441-b509-5064f97cbed5",
   "metadata": {},
   "outputs": [
    {
     "data": {
      "text/plain": [
       "False"
      ]
     },
     "execution_count": 6,
     "metadata": {},
     "output_type": "execute_result"
    }
   ],
   "source": [
    "copy_list is test_list"
   ]
  },
  {
   "cell_type": "markdown",
   "id": "d5c04f54-ff5a-49b6-b3b8-e1a7a2b5bc56",
   "metadata": {},
   "source": [
    "And so if `copy_list` is modified, `test_list` is not changed."
   ]
  },
  {
   "cell_type": "code",
   "execution_count": 7,
   "id": "ff8fef45-8697-4a92-8696-78747e92ad8d",
   "metadata": {},
   "outputs": [
    {
     "data": {
      "text/plain": [
       "[1, 2, 3]"
      ]
     },
     "execution_count": 7,
     "metadata": {},
     "output_type": "execute_result"
    }
   ],
   "source": [
    "copy_list[1] = 4\n",
    "test_list"
   ]
  },
  {
   "cell_type": "markdown",
   "id": "5c0313f2-b87b-4ff8-a4bf-f2ac63dde90c",
   "metadata": {},
   "source": [
    "## NumPy arrays\n",
    "\n",
    "Views or copies of NumPy arrays can be created using the same general syntax used above."
   ]
  },
  {
   "cell_type": "code",
   "execution_count": 8,
   "id": "85cefeb9-649f-45f9-8b42-0fe75ca391de",
   "metadata": {},
   "outputs": [
    {
     "data": {
      "text/plain": [
       "array([1, 2, 3])"
      ]
     },
     "execution_count": 8,
     "metadata": {},
     "output_type": "execute_result"
    }
   ],
   "source": [
    "import numpy as np\n",
    "\n",
    "test_array = np.array([1,2,3])\n",
    "view_array = test_array\n",
    "view_array"
   ]
  },
  {
   "cell_type": "code",
   "execution_count": 9,
   "id": "ebc1150a-57c9-47e3-a30b-2f437607891e",
   "metadata": {},
   "outputs": [
    {
     "data": {
      "text/plain": [
       "True"
      ]
     },
     "execution_count": 9,
     "metadata": {},
     "output_type": "execute_result"
    }
   ],
   "source": [
    "view_array is test_array"
   ]
  },
  {
   "cell_type": "code",
   "execution_count": 10,
   "id": "0801b572-07ef-4640-8234-2823c84b4924",
   "metadata": {},
   "outputs": [
    {
     "data": {
      "text/plain": [
       "array([1, 4, 3])"
      ]
     },
     "execution_count": 10,
     "metadata": {},
     "output_type": "execute_result"
    }
   ],
   "source": [
    "view_array[1] = 4\n",
    "test_array"
   ]
  },
  {
   "cell_type": "code",
   "execution_count": 11,
   "id": "8397b050-474f-4cd1-9b47-08a3cdf29f64",
   "metadata": {},
   "outputs": [
    {
     "data": {
      "text/plain": [
       "array([1, 2, 3])"
      ]
     },
     "execution_count": 11,
     "metadata": {},
     "output_type": "execute_result"
    }
   ],
   "source": [
    "test_array = np.array([1,2,3])\n",
    "copy_array = test_array + 0\n",
    "copy_array"
   ]
  },
  {
   "cell_type": "code",
   "execution_count": 12,
   "id": "1d880c4e-f5c6-4b79-95a3-f590644f0841",
   "metadata": {},
   "outputs": [
    {
     "data": {
      "text/plain": [
       "array([ True,  True,  True])"
      ]
     },
     "execution_count": 12,
     "metadata": {},
     "output_type": "execute_result"
    }
   ],
   "source": [
    "copy_array == test_array"
   ]
  },
  {
   "cell_type": "code",
   "execution_count": 13,
   "id": "13c0a673-d67a-4cc2-aac8-c8b625e38c1b",
   "metadata": {},
   "outputs": [
    {
     "data": {
      "text/plain": [
       "False"
      ]
     },
     "execution_count": 13,
     "metadata": {},
     "output_type": "execute_result"
    }
   ],
   "source": [
    "copy_array is test_array"
   ]
  },
  {
   "cell_type": "code",
   "execution_count": 14,
   "id": "82253592-b2f0-4606-9a1a-aa7f86d3ead0",
   "metadata": {},
   "outputs": [
    {
     "data": {
      "text/plain": [
       "array([1, 2, 3])"
      ]
     },
     "execution_count": 14,
     "metadata": {},
     "output_type": "execute_result"
    }
   ],
   "source": [
    "copy_array[1] = 4\n",
    "test_array"
   ]
  },
  {
   "cell_type": "markdown",
   "id": "579b8d77-0b86-4cb8-ba7c-e37134bc6774",
   "metadata": {},
   "source": [
    "For NumPy arrays, views or copies can also be created by appending `view()` or `copy()` to the variable name."
   ]
  },
  {
   "cell_type": "markdown",
   "id": "9115770f-97b8-4284-801d-c2fbe832b669",
   "metadata": {},
   "source": [
    "## Delayed computations and memory footprint\n",
    "\n",
    "As the examples above showed, understanding the difference between a view and a copy is important to ensure your code is working the way you think it should be. And Python's capacity to reference an object without creating a separate copy of it is a helpful memory-saver. But there are other ways to create a Python object without writing its data to memory. Let's consider the memory footprint of two large arrays: one a regular NumPy array, the other a [Dask array](https://docs.dask.org/en/stable/array.html).\n",
    "> **Note**: There are a number of tools that can be used to attempt to track the memory footprint of an object in Python, such as the object's `__sizeof__` method, `sys.getsizeof`, and `pympler.asizeof`. To get the most accurate estimate of actual memory usage in the workspace, in this tutorial we use `psutil.virtual_memory()` from the [psutil]((https://psutil.readthedocs.io/en/latest/#memory) package. This function tells us the memory available, and then we can track how it changes."
   ]
  },
  {
   "cell_type": "code",
   "execution_count": 15,
   "id": "449a8b98-3d83-4ce5-a719-375644e816f5",
   "metadata": {},
   "outputs": [
    {
     "data": {
      "text/plain": [
       "svmem(total=7952175104, available=6225760256, percent=21.7, used=1463742464, free=5393702912, active=409407488, inactive=1563713536, buffers=1105920, cached=1093623808, shared=8818688, slab=107347968)"
      ]
     },
     "execution_count": 15,
     "metadata": {},
     "output_type": "execute_result"
    }
   ],
   "source": [
    "import numpy as np\n",
    "import psutil\n",
    "\n",
    "# memory stats (in bytes)\n",
    "psutil.virtual_memory()"
   ]
  },
  {
   "cell_type": "code",
   "execution_count": 16,
   "id": "4c5c3f71-5b3b-470d-934a-8f5398ac2aa2",
   "metadata": {},
   "outputs": [
    {
     "name": "stdout",
     "output_type": "stream",
     "text": [
      "Change in available memory:  -7.72265625  MB\n"
     ]
    }
   ],
   "source": [
    "# log available memory\n",
    "memory_log = np.array([psutil.virtual_memory().available])\n",
    "\n",
    "# NumPy array of random numbers\n",
    "rng = np.random.default_rng()\n",
    "random_array = rng.standard_normal((1000,1000))\n",
    "memory_log = np.append(memory_log,psutil.virtual_memory().available)\n",
    "print('Change in available memory: ',np.diff(memory_log[-2:])[0]/(2**20),' MB')"
   ]
  },
  {
   "cell_type": "markdown",
   "id": "f0e80f84-e326-4ec7-a00d-b7d837cec626",
   "metadata": {},
   "source": [
    "So the impact on available memory of creating a NumPy array of random numbers with a standard normal distribution is a little less than 8 MB. Compare this to the estimate of the array's size using the `__sizeof__` method."
   ]
  },
  {
   "cell_type": "code",
   "execution_count": 17,
   "id": "44005865-fc9a-4f9e-b1da-354aa35809de",
   "metadata": {},
   "outputs": [
    {
     "name": "stdout",
     "output_type": "stream",
     "text": [
      "Array size estimate:  7.6295166015625  MB\n"
     ]
    }
   ],
   "source": [
    "print('Array size estimate: ',(random_array.__sizeof__())/(2**20),' MB')"
   ]
  },
  {
   "cell_type": "markdown",
   "id": "6255ad71-d594-4606-968a-6b84f8345a10",
   "metadata": {},
   "source": [
    "Aside from the sign difference, the memory footprint estimates are very close.\n",
    "\n",
    "Now we create a Dask array that is the same size."
   ]
  },
  {
   "cell_type": "code",
   "execution_count": 18,
   "id": "4d9cc72d-40fc-4caf-bbd8-77d212f29f4e",
   "metadata": {},
   "outputs": [
    {
     "name": "stdout",
     "output_type": "stream",
     "text": [
      "Change in available memory:  0.0  MB\n"
     ]
    }
   ],
   "source": [
    "import dask.array as da\n",
    "\n",
    "# Dask array of random numbers, with chunks of size 100 in each dimension\n",
    "memory_log = np.append(memory_log,psutil.virtual_memory().available)\n",
    "dask_random_array = da.from_array(random_array,chunks=(100,100))\n",
    "memory_log = np.append(memory_log,psutil.virtual_memory().available)\n",
    "print('Change in available memory: ',np.diff(memory_log[-2:])[0]/(2**20),' MB')"
   ]
  },
  {
   "cell_type": "code",
   "execution_count": 19,
   "id": "b74e23e7-6704-4d2d-bf74-cd0784bd655a",
   "metadata": {},
   "outputs": [
    {
     "name": "stdout",
     "output_type": "stream",
     "text": [
      "Array size estimate:  5.340576171875e-05  MB\n"
     ]
    }
   ],
   "source": [
    "print('Array size estimate: ',(dask_random_array.__sizeof__())/(2**20),' MB')"
   ]
  },
  {
   "cell_type": "code",
   "execution_count": 20,
   "id": "342fff3b-b4c3-4ce7-a800-767085dfbb5c",
   "metadata": {},
   "outputs": [
    {
     "data": {
      "text/plain": [
       "False"
      ]
     },
     "execution_count": 20,
     "metadata": {},
     "output_type": "execute_result"
    }
   ],
   "source": [
    "# are the two arrays dependent (True) or independent (False)?\n",
    "dask_random_array is random_array"
   ]
  },
  {
   "cell_type": "markdown",
   "id": "04a080f2-6c66-4838-8f78-7c49ce646ff9",
   "metadata": {},
   "source": [
    "For the Dask array, it is like we made a copy of `random_array` in that the two arrays are independent in any further modifications, but the \"copy\" still has a negligible memory footprint (compared to the NumPy array's size of ~7.6 MB).\n",
    "\n",
    "Now we make another Dask array that squares the numbers in the first array. "
   ]
  },
  {
   "cell_type": "code",
   "execution_count": 21,
   "id": "2f80ee3f-18a4-416e-bf40-dbf5772c0f74",
   "metadata": {},
   "outputs": [
    {
     "name": "stdout",
     "output_type": "stream",
     "text": [
      "Change in available memory:  0.0  MB\n"
     ]
    }
   ],
   "source": [
    "memory_log = np.append(memory_log,psutil.virtual_memory().available)\n",
    "dask_sq_array = dask_random_array**2\n",
    "memory_log = np.append(memory_log,psutil.virtual_memory().available)\n",
    "print('Change in available memory: ',np.diff(memory_log[-2:])[0]/(2**20),' MB')"
   ]
  },
  {
   "cell_type": "markdown",
   "id": "da8c5582-738f-4534-9f3d-6b1a03695b10",
   "metadata": {},
   "source": [
    "And the new array also has no memory footprint!\n",
    "\n",
    "If we want to load a Dask array (or part of it) into workspace memory, then we can use `.compute()`."
   ]
  },
  {
   "cell_type": "code",
   "execution_count": 22,
   "id": "7b57aaa7-9dc0-436c-b5c1-17a060408af7",
   "metadata": {},
   "outputs": [
    {
     "data": {
      "text/plain": [
       "array([[-2.28651615, -0.47829676, -0.9985106 ],\n",
       "       [ 0.02445815,  0.69858675,  1.12554956],\n",
       "       [ 1.11910231, -0.86319442, -0.25582477]])"
      ]
     },
     "execution_count": 22,
     "metadata": {},
     "output_type": "execute_result"
    }
   ],
   "source": [
    "random_array[0:3,0:3]"
   ]
  },
  {
   "cell_type": "code",
   "execution_count": 23,
   "id": "5cb57ca4-44fc-4f0f-a536-8c569644e830",
   "metadata": {},
   "outputs": [
    {
     "data": {
      "text/plain": [
       "array([[-2.28651615, -0.47829676, -0.9985106 ],\n",
       "       [ 0.02445815,  0.69858675,  1.12554956],\n",
       "       [ 1.11910231, -0.86319442, -0.25582477]])"
      ]
     },
     "execution_count": 23,
     "metadata": {},
     "output_type": "execute_result"
    }
   ],
   "source": [
    "dask_random_array[0:3,0:3].compute()"
   ]
  },
  {
   "cell_type": "code",
   "execution_count": 24,
   "id": "e80a210d-c075-48c2-b603-9f5d5b98632a",
   "metadata": {},
   "outputs": [
    {
     "data": {
      "text/plain": [
       "array([[5.22815609e+00, 2.28767794e-01, 9.97023426e-01],\n",
       "       [5.98201074e-04, 4.88023443e-01, 1.26686182e+00],\n",
       "       [1.25238999e+00, 7.45104611e-01, 6.54463138e-02]])"
      ]
     },
     "execution_count": 24,
     "metadata": {},
     "output_type": "execute_result"
    }
   ],
   "source": [
    "dask_sq_array[0:3,0:3].compute()"
   ]
  },
  {
   "cell_type": "markdown",
   "id": "a9de9e67-ab6e-48ad-944b-a4cdc9f3cfea",
   "metadata": {},
   "source": [
    "Generally when using Dask arrays (or Xarray datasets/data arrays that consist of Dask arrays), then it is a good practice to load an array into memory before you reference it multiple times...otherwise when the code finally does execute it will be repeating the same computations!"
   ]
  },
  {
   "cell_type": "markdown",
   "id": "fd869072-102c-492f-a3fa-05fe92771ec0",
   "metadata": {},
   "source": [
    "## Deleting variables to free up memory"
   ]
  },
  {
   "cell_type": "markdown",
   "id": "ef1cfa00-b239-442b-b269-71736bd4c5ba",
   "metadata": {},
   "source": [
    "Python object views and Dask arrays are two examples of how Python uses references to save memory in your workspace. This does mean, however, that deleting data in your workspace can get a bit complicated. In contrast to Matlab where `clear variable` will delete the array `variable` from your workspace, the corresponding Python function `del variable` will only delete `variable` if there are no other references to `variable` existing in the workspace.\n",
    "\n",
    "Consider the memory impact if we load a portion of `dask_sq_array` into memory, and then delete it using the `del` command."
   ]
  },
  {
   "cell_type": "code",
   "execution_count": 25,
   "id": "e5ffddd1-dc1e-4ad7-97e8-80e9333e4710",
   "metadata": {},
   "outputs": [
    {
     "name": "stdout",
     "output_type": "stream",
     "text": [
      "Change in available memory:  -1.62890625  MB\n",
      "sq_block is type:  <class 'numpy.ndarray'>\n",
      "Change in available memory:  0.0  MB\n"
     ]
    }
   ],
   "source": [
    "memory_log = np.append(memory_log,psutil.virtual_memory().available)\n",
    "sq_block = dask_sq_array[0:100,:].compute()\n",
    "memory_log = np.append(memory_log,psutil.virtual_memory().available)\n",
    "print('Change in available memory: ',np.diff(memory_log[-2:])[0]/(2**20),' MB')\n",
    "\n",
    "print('sq_block is type: ',type(sq_block))\n",
    "\n",
    "memory_log = np.append(memory_log,psutil.virtual_memory().available)\n",
    "del sq_block\n",
    "memory_log = np.append(memory_log,psutil.virtual_memory().available)\n",
    "print('Change in available memory: ',np.diff(memory_log[-2:])[0]/(2**20),' MB')"
   ]
  },
  {
   "cell_type": "markdown",
   "id": "016a8d44-11b2-49c1-82ef-b8b679c2e998",
   "metadata": {},
   "source": [
    "The NumPy array `sq_block` used up a block of memory when it was created, but that memory was not made available again when `sq_block` was deleted. Why? Because when `sq_block` was computed and loaded into memory, its data was also associated with the parent array `dask_sq_array`."
   ]
  },
  {
   "cell_type": "code",
   "execution_count": 26,
   "id": "7579a5a7-05ad-48d5-ba71-1735d9e14112",
   "metadata": {},
   "outputs": [
    {
     "name": "stdout",
     "output_type": "stream",
     "text": [
      "Change in available memory:  0.0  MB\n",
      "Change in available memory:  -7.6640625  MB\n"
     ]
    }
   ],
   "source": [
    "memory_log = np.append(memory_log,psutil.virtual_memory().available)\n",
    "# del dask_sq_array\n",
    "# del dask_random_array\n",
    "del random_array\n",
    "# del rng\n",
    "memory_log = np.append(memory_log,psutil.virtual_memory().available)\n",
    "print('Change in available memory: ',np.diff(memory_log[-2:])[0]/(2**20),' MB')\n",
    "# rng = np.random.default_rng()\n",
    "random_array = rng.standard_normal((1000,1000))\n",
    "dask_random_array = da.from_array(random_array,chunks=(100,100))\n",
    "dask_sq_array = dask_random_array**2\n",
    "memory_log = np.append(memory_log,psutil.virtual_memory().available)\n",
    "print('Change in available memory: ',np.diff(memory_log[-2:])[0]/(2**20),' MB')"
   ]
  },
  {
   "cell_type": "markdown",
   "id": "92471d99-1fff-4508-aa7c-54846d82c7a0",
   "metadata": {},
   "source": [
    "## Xarray and memory management"
   ]
  },
  {
   "cell_type": "code",
   "execution_count": null,
   "id": "bf3a8559-187b-4a4d-acb6-54de6c55bd1e",
   "metadata": {},
   "outputs": [],
   "source": []
  }
 ],
 "metadata": {
  "kernelspec": {
   "display_name": "Python 3 (ipykernel)",
   "language": "python",
   "name": "python3"
  },
  "language_info": {
   "codemirror_mode": {
    "name": "ipython",
    "version": 3
   },
   "file_extension": ".py",
   "mimetype": "text/x-python",
   "name": "python",
   "nbconvert_exporter": "python",
   "pygments_lexer": "ipython3",
   "version": "3.12.3"
  }
 },
 "nbformat": 4,
 "nbformat_minor": 5
}
