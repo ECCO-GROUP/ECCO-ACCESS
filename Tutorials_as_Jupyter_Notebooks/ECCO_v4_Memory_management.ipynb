{
 "cells": [
  {
   "cell_type": "markdown",
   "id": "3da16745-245c-47c2-9cfd-ef831df10a38",
   "metadata": {},
   "source": [
    "# Memory management in Python\n",
    "Andrew Delman, updated 2024-07-18\n",
    "\n",
    "## Objectives\n",
    "Demonstrate how Python objects (variables) are stored in and cleared from memory, and establish good practices for conserving memory in a Python workspace.\n",
    "\n",
    "## Introduction\n",
    "Python is a very useful computing language for doing numerical analysis of large datasets, largely because of packages that have been developed specifically for this purpose. [Xarray](https://docs.xarray.dev/en/stable/) allows us to open data from a number of files using a single line of code (with `open_mfdataset`), while [Dask](https://www.dask.org/) makes it easy to parallelize computations and stagger memory usage by \"chunking\" the computations. However, we still need to be mindful of the memory limitations of our workspace, and there are some quirks to memory management in Python.\n",
    "\n",
    "## Datasets to download\n",
    "If you don't have them already, you may need to download the following datasets for the last part of this tutorial.\n",
    "\n",
    "- **ECCO_L4_GEOMETRY_LLC0090GRID_V4R4**\n",
    "- **ECCO_L4_TEMP_SALINITY_LLC0090GRID_MONTHLY_V4R4** (1992-2017)\n",
    "\n",
    "\n",
    "## View vs. copy\n",
    "In some numerical computing languages such as Matlab, assigning a new variable instantly creates an independent block of memory in our workspace associated with that variable. In Python, when you create a variable by assigning data from another variable, the assignment does not create a copy of that data. Rather, a pointer called a *view* is created from the new variable to the data in the original. This is the default behavior for native Python objects such as lists, tuples, and dictionaries, as well as [NumPy arrays](https://numpy.org/doc/stable/user/basics.copies.html).\n",
    "\n",
    "### Native Python object (list)\n",
    "Consider a simple list of 3 numbers"
   ]
  },
  {
   "cell_type": "code",
   "execution_count": 1,
   "id": "44e8f31c-2e4f-4816-992a-43c5e2727df1",
   "metadata": {},
   "outputs": [
    {
     "data": {
      "text/plain": [
       "[1, 2, 3]"
      ]
     },
     "execution_count": 1,
     "metadata": {},
     "output_type": "execute_result"
    }
   ],
   "source": [
    "test_list = [1,2,3]\n",
    "view_list = test_list\n",
    "view_list"
   ]
  },
  {
   "cell_type": "markdown",
   "id": "8a296388-8f57-4ad0-9b07-874ec212a2cc",
   "metadata": {},
   "source": [
    "We can see if `view_list` is read from the same object in memory as `test_list`, using the `is` operator."
   ]
  },
  {
   "cell_type": "code",
   "execution_count": 2,
   "id": "cbb28b19-cc69-407a-b138-df7bda5abe23",
   "metadata": {},
   "outputs": [
    {
     "data": {
      "text/plain": [
       "True"
      ]
     },
     "execution_count": 2,
     "metadata": {},
     "output_type": "execute_result"
    }
   ],
   "source": [
    "view_list is test_list"
   ]
  },
  {
   "cell_type": "markdown",
   "id": "0d0239a9-5686-4719-9a65-4c972b44577d",
   "metadata": {},
   "source": [
    "Not only that, because `view_list` is identical in memory space to `test_list`, when `view_list` is modified `test_list` is modified as well."
   ]
  },
  {
   "cell_type": "code",
   "execution_count": 3,
   "id": "db8da8a2-765a-40a3-8935-550e8ef5ebff",
   "metadata": {},
   "outputs": [
    {
     "data": {
      "text/plain": [
       "[1, 4, 3]"
      ]
     },
     "execution_count": 3,
     "metadata": {},
     "output_type": "execute_result"
    }
   ],
   "source": [
    "view_list[1] = 4\n",
    "test_list"
   ]
  },
  {
   "cell_type": "markdown",
   "id": "867aa11d-9aad-4c38-978d-09f03de0035d",
   "metadata": {},
   "source": [
    "Compare this with creating a *copy* of `test_list`. There is a `copy` package that does this in Python, but you can also create a copy just by appending `.copy()`, or by using an operator on the right-hand side of the assignment. For example, we can \"append\" an empty list to create a copy."
   ]
  },
  {
   "cell_type": "code",
   "execution_count": 4,
   "id": "614602d1-98d8-428c-8389-b1e3870dbfa0",
   "metadata": {},
   "outputs": [
    {
     "data": {
      "text/plain": [
       "[1, 2, 3]"
      ]
     },
     "execution_count": 4,
     "metadata": {},
     "output_type": "execute_result"
    }
   ],
   "source": [
    "test_list = [1,2,3]\n",
    "copy_list = test_list + []\n",
    "copy_list"
   ]
  },
  {
   "cell_type": "markdown",
   "id": "556956c0-7644-4ef3-938a-a1b62bc3b97b",
   "metadata": {},
   "source": [
    "Note that if we use the `==` operator, which compares the *values* of the two objects, the result is True."
   ]
  },
  {
   "cell_type": "code",
   "execution_count": 5,
   "id": "feba8d0b-83a0-497d-bf95-30198f3a621d",
   "metadata": {},
   "outputs": [
    {
     "data": {
      "text/plain": [
       "True"
      ]
     },
     "execution_count": 5,
     "metadata": {},
     "output_type": "execute_result"
    }
   ],
   "source": [
    "copy_list == test_list"
   ]
  },
  {
   "cell_type": "markdown",
   "id": "85e53629-b3f5-45f6-9162-90227dc4579a",
   "metadata": {},
   "source": [
    "But if we compare using the `is` operator, we find that the two objects are independent."
   ]
  },
  {
   "cell_type": "code",
   "execution_count": 6,
   "id": "4e363950-d626-4441-b509-5064f97cbed5",
   "metadata": {},
   "outputs": [
    {
     "data": {
      "text/plain": [
       "False"
      ]
     },
     "execution_count": 6,
     "metadata": {},
     "output_type": "execute_result"
    }
   ],
   "source": [
    "copy_list is test_list"
   ]
  },
  {
   "cell_type": "markdown",
   "id": "d5c04f54-ff5a-49b6-b3b8-e1a7a2b5bc56",
   "metadata": {},
   "source": [
    "And so if `copy_list` is modified, `test_list` is not changed."
   ]
  },
  {
   "cell_type": "code",
   "execution_count": 7,
   "id": "ff8fef45-8697-4a92-8696-78747e92ad8d",
   "metadata": {},
   "outputs": [
    {
     "data": {
      "text/plain": [
       "[1, 2, 3]"
      ]
     },
     "execution_count": 7,
     "metadata": {},
     "output_type": "execute_result"
    }
   ],
   "source": [
    "copy_list[1] = 4\n",
    "test_list"
   ]
  },
  {
   "cell_type": "markdown",
   "id": "5c0313f2-b87b-4ff8-a4bf-f2ac63dde90c",
   "metadata": {},
   "source": [
    "### NumPy arrays\n",
    "\n",
    "Views or copies of NumPy arrays can be created using the same general syntax used above."
   ]
  },
  {
   "cell_type": "code",
   "execution_count": 8,
   "id": "85cefeb9-649f-45f9-8b42-0fe75ca391de",
   "metadata": {},
   "outputs": [
    {
     "data": {
      "text/plain": [
       "array([1, 2, 3])"
      ]
     },
     "execution_count": 8,
     "metadata": {},
     "output_type": "execute_result"
    }
   ],
   "source": [
    "import numpy as np\n",
    "\n",
    "test_array = np.array([1,2,3])\n",
    "view_array = test_array\n",
    "view_array"
   ]
  },
  {
   "cell_type": "code",
   "execution_count": 9,
   "id": "ebc1150a-57c9-47e3-a30b-2f437607891e",
   "metadata": {},
   "outputs": [
    {
     "data": {
      "text/plain": [
       "True"
      ]
     },
     "execution_count": 9,
     "metadata": {},
     "output_type": "execute_result"
    }
   ],
   "source": [
    "view_array is test_array"
   ]
  },
  {
   "cell_type": "code",
   "execution_count": 10,
   "id": "0801b572-07ef-4640-8234-2823c84b4924",
   "metadata": {},
   "outputs": [
    {
     "data": {
      "text/plain": [
       "array([1, 4, 3])"
      ]
     },
     "execution_count": 10,
     "metadata": {},
     "output_type": "execute_result"
    }
   ],
   "source": [
    "view_array[1] = 4\n",
    "test_array"
   ]
  },
  {
   "cell_type": "code",
   "execution_count": 11,
   "id": "8397b050-474f-4cd1-9b47-08a3cdf29f64",
   "metadata": {},
   "outputs": [
    {
     "data": {
      "text/plain": [
       "array([1, 2, 3])"
      ]
     },
     "execution_count": 11,
     "metadata": {},
     "output_type": "execute_result"
    }
   ],
   "source": [
    "test_array = np.array([1,2,3])\n",
    "copy_array = test_array + 0\n",
    "copy_array"
   ]
  },
  {
   "cell_type": "code",
   "execution_count": 12,
   "id": "1d880c4e-f5c6-4b79-95a3-f590644f0841",
   "metadata": {},
   "outputs": [
    {
     "data": {
      "text/plain": [
       "array([ True,  True,  True])"
      ]
     },
     "execution_count": 12,
     "metadata": {},
     "output_type": "execute_result"
    }
   ],
   "source": [
    "copy_array == test_array"
   ]
  },
  {
   "cell_type": "code",
   "execution_count": 13,
   "id": "13c0a673-d67a-4cc2-aac8-c8b625e38c1b",
   "metadata": {},
   "outputs": [
    {
     "data": {
      "text/plain": [
       "False"
      ]
     },
     "execution_count": 13,
     "metadata": {},
     "output_type": "execute_result"
    }
   ],
   "source": [
    "copy_array is test_array"
   ]
  },
  {
   "cell_type": "code",
   "execution_count": 14,
   "id": "82253592-b2f0-4606-9a1a-aa7f86d3ead0",
   "metadata": {},
   "outputs": [
    {
     "data": {
      "text/plain": [
       "array([1, 2, 3])"
      ]
     },
     "execution_count": 14,
     "metadata": {},
     "output_type": "execute_result"
    }
   ],
   "source": [
    "copy_array[1] = 4\n",
    "test_array"
   ]
  },
  {
   "cell_type": "markdown",
   "id": "579b8d77-0b86-4cb8-ba7c-e37134bc6774",
   "metadata": {},
   "source": [
    "For NumPy arrays, views or copies can also be created by appending `view()` or `copy()` to the variable name."
   ]
  },
  {
   "cell_type": "markdown",
   "id": "9115770f-97b8-4284-801d-c2fbe832b669",
   "metadata": {},
   "source": [
    "## Memory footprint\n",
    "\n",
    "As the examples above showed, understanding the difference between a view and a copy is important to ensure your code is working the way you think it should be. Python's capacity to reference an object without creating a separate copy of it is also a helpful memory-saver. But there are other ways to create a Python object without writing its data to memory. Let's consider the memory footprint of two types of arrays: NumPy arrays and [Dask arrays](https://docs.dask.org/en/stable/array.html).\n",
    "> **Note**: There are a number of tools that can be used to estimate the memory footprint of an object in Python, such as the object's `__sizeof__` method, `sys.getsizeof`, and `pympler.asizeof`. To get the most accurate estimate of actual memory usage in the workspace, in this tutorial we use `psutil.virtual_memory` from the [psutil]((https://psutil.readthedocs.io/en/latest/#memory) package. This function tells us the memory available, and then we can track how it changes.\n",
    "\n",
    "\n"
   ]
  },
  {
   "cell_type": "code",
   "execution_count": 1,
   "id": "449a8b98-3d83-4ce5-a719-375644e816f5",
   "metadata": {},
   "outputs": [
    {
     "data": {
      "text/plain": [
       "svmem(total=7952166912, available=5877243904, percent=26.1, used=1808363520, free=4575064064, active=911921152, inactive=1857044480, buffers=2154496, cached=1566584832, shared=8876032, slab=116842496)"
      ]
     },
     "execution_count": 1,
     "metadata": {},
     "output_type": "execute_result"
    }
   ],
   "source": [
    "import numpy as np\n",
    "import psutil\n",
    "\n",
    "# memory stats (in bytes)\n",
    "psutil.virtual_memory()"
   ]
  },
  {
   "cell_type": "markdown",
   "id": "d81d6d5d-3a2f-4c2a-89b8-c1f13a738a69",
   "metadata": {},
   "source": [
    "The above output gives us a variety of information about the memory in our system. We will be tracking the available memory (given as bytes in the tuple above).\n",
    "\n",
    "### NumPy arrays\n",
    "Consider the view/copy distinction in the previous section, but with larger arrays."
   ]
  },
  {
   "cell_type": "code",
   "execution_count": 2,
   "id": "e3cbc599-bd38-4ecd-b2ea-68b05dc7add9",
   "metadata": {},
   "outputs": [
    {
     "name": "stdout",
     "output_type": "stream",
     "text": [
      "Change in available memory:  -8.228864  MB\n"
     ]
    }
   ],
   "source": [
    "memory_log = [psutil.virtual_memory().available]\n",
    "test_array = np.reshape(np.arange(0,1000000),(1000,1000)).astype('float64')\n",
    "memory_log.append(psutil.virtual_memory().available)\n",
    "print('Change in available memory: ',np.diff(np.asarray(memory_log[-2:]))[0]/(10**6),' MB')"
   ]
  },
  {
   "cell_type": "markdown",
   "id": "7f41a2b5-c599-46d4-a075-53133693bec5",
   "metadata": {},
   "source": [
    "The change in our available memory is about 8 MB, which is what we would expect for an array with $10^6$ entries of type float64 (8 bytes each). How does our available memory change if we create a view of this array?"
   ]
  },
  {
   "cell_type": "code",
   "execution_count": 3,
   "id": "dafaa9d4-cf7b-42c6-8bf0-3dd945a45b17",
   "metadata": {},
   "outputs": [
    {
     "name": "stdout",
     "output_type": "stream",
     "text": [
      "Change in available memory:  -0.14336  MB\n"
     ]
    }
   ],
   "source": [
    "view_array = test_array\n",
    "memory_log.append(psutil.virtual_memory().available)\n",
    "print('Change in available memory: ',np.diff(np.asarray(memory_log[-2:]))[0]/(10**6),' MB')"
   ]
  },
  {
   "cell_type": "markdown",
   "id": "b2ba24ae-1dcd-4c83-97ed-b36c1e4bc206",
   "metadata": {},
   "source": [
    "Effectively **zero** change! Note that we wouldn't expect the change to be identically zero, since a pointer has been created somewhere in memory. But the actual change in available memory depends not only on the memory footprint of new object(s) but on how Python allocates memory in response to those changes.\n",
    "\n",
    "Now what is the memory impact (footprint) from making a copy of this array?"
   ]
  },
  {
   "cell_type": "code",
   "execution_count": 4,
   "id": "cb681877-edbb-49fe-8ec9-77fc6a073387",
   "metadata": {},
   "outputs": [
    {
     "name": "stdout",
     "output_type": "stream",
     "text": [
      "Change in available memory:  -7.868416  MB\n"
     ]
    }
   ],
   "source": [
    "copy_array = test_array.copy()\n",
    "memory_log.append(psutil.virtual_memory().available)\n",
    "print('Change in available memory: ',np.diff(np.asarray(memory_log[-2:]))[0]/(10**6),' MB')"
   ]
  },
  {
   "cell_type": "markdown",
   "id": "18c51083-61c3-4be4-858c-6888b5b90712",
   "metadata": {},
   "source": [
    "Very close to the size of the original array.\n",
    "\n",
    "### Dask arrays and delayed computations\n",
    "\n",
    "You may have noticed that NumPy creates (non-memory consuming) views of an array only if:\n",
    "\n",
    "- the view references the original array without any operations applied to it, OR\n",
    "- the view references a subset of the original array using simple indexing\n",
    "\n",
    "So what if you want to create a \"view\" of an array that has been operated on in any variety of ways, while minimizing the memory impact until you are ready to actually \"execute\" the computations? Enter Dask arrays. Let's create a Dask array that is a view of our `test_array`, and then operate on it (take the square root)."
   ]
  },
  {
   "cell_type": "code",
   "execution_count": 5,
   "id": "7000d10d-0869-4707-aba8-36acf76a0b71",
   "metadata": {},
   "outputs": [
    {
     "name": "stdout",
     "output_type": "stream",
     "text": [
      "Change in available memory:  -0.14336  MB\n"
     ]
    }
   ],
   "source": [
    "import dask.array as da\n",
    "\n",
    "memory_log.append(psutil.virtual_memory().available)\n",
    "dask_test_array = da.from_array(test_array,chunks=(100,100))     # array has chunks of size 100x100\n",
    "dask_sqrt_array = dask_test_array**(1/2)\n",
    "memory_log.append(psutil.virtual_memory().available)\n",
    "print('Change in available memory: ',np.diff(np.asarray(memory_log[-2:]))[0]/(10**6),' MB')"
   ]
  },
  {
   "cell_type": "markdown",
   "id": "3b686fdd-8676-468e-b014-321bba9ab99f",
   "metadata": {},
   "source": [
    "No new memory usage from the two operations above. And now, we compute `dask_sqrt_array` so that it becomes a NumPy array in memory:"
   ]
  },
  {
   "cell_type": "code",
   "execution_count": 6,
   "id": "43a87672-8e75-43eb-8833-dd343a787d61",
   "metadata": {},
   "outputs": [
    {
     "name": "stdout",
     "output_type": "stream",
     "text": [
      "Change in available memory:  -26.84928  MB\n"
     ]
    }
   ],
   "source": [
    "sqrt_array_computed = dask_sqrt_array.compute()\n",
    "memory_log.append(psutil.virtual_memory().available)\n",
    "print('Change in available memory: ',np.diff(np.asarray(memory_log[-2:]))[0]/(10**6),' MB')"
   ]
  },
  {
   "cell_type": "markdown",
   "id": "033ac75e-8410-4065-bce4-6a76703b1e6c",
   "metadata": {},
   "source": [
    "Notice that the memory usage from calling `.compute` is larger than we would expect for the size of the array: (1000 x 1000 elements) x (8 bytes/element) $\\approx$ 8 MB. But there is some overhead associated with calling `.compute` for the first time in a notebook or Python script/function. What if we perform the same computation as above, using `copy_array` as our source since it is independent in memory?"
   ]
  },
  {
   "cell_type": "code",
   "execution_count": 7,
   "id": "5726c00b-1464-43c7-ac39-8a25cf632982",
   "metadata": {},
   "outputs": [
    {
     "name": "stdout",
     "output_type": "stream",
     "text": [
      "Change in available memory:  -8.155136  MB\n"
     ]
    }
   ],
   "source": [
    "dask_copy_array = da.from_array(copy_array,chunks=(100,100))     # array has chunks of size 100x100\n",
    "dask_copy_sqrt_array = dask_copy_array**(1/2)\n",
    "copy_sqrt_computed = dask_copy_sqrt_array.compute()\n",
    "memory_log.append(psutil.virtual_memory().available)\n",
    "print('Change in available memory: ',np.diff(np.asarray(memory_log[-2:]))[0]/(10**6),' MB')"
   ]
  },
  {
   "cell_type": "markdown",
   "id": "5e028a58-1b3c-487b-9cfc-a07b95e1f609",
   "metadata": {},
   "source": [
    "Much closer to our expected memory usage, since it is not the first time `.compute` has been called on a Dask array in this notebook.\n",
    "\n",
    "Let's try a \"reduction\" operation, where the computed result is smaller than the intermediate arrays involved. In this case we will take the square of `dask_test_array` and then sum over one of the dimensions."
   ]
  },
  {
   "cell_type": "code",
   "execution_count": 8,
   "id": "e4ab0345-024c-4807-9b6d-fed840764d25",
   "metadata": {},
   "outputs": [
    {
     "name": "stdout",
     "output_type": "stream",
     "text": [
      "Change in available memory:  -0.43008  MB\n"
     ]
    }
   ],
   "source": [
    "dask_sq_array = dask_test_array**2\n",
    "sq_sum_computed = (dask_sq_array.sum(axis=-1)).compute()\n",
    "memory_log.append(psutil.virtual_memory().available)\n",
    "print('Change in available memory: ',np.diff(np.asarray(memory_log[-2:]))[0]/(10**6),' MB')"
   ]
  },
  {
   "cell_type": "markdown",
   "id": "49b85896-7fb7-45ea-9edd-5ffa4a54db49",
   "metadata": {},
   "source": [
    "The memory usage is not as small as the expected size of `sq_sum_computed` (0.008 MB), but it is much smaller than the 8 MB that each of the intermediate arrays would have used if they were regular NumPy arrays. Calling `.compute` on a reduced array like this is where Dask really helps us save memory."
   ]
  },
  {
   "cell_type": "markdown",
   "id": "fd869072-102c-492f-a3fa-05fe92771ec0",
   "metadata": {},
   "source": [
    "## Deleting variables to free up memory\n",
    "\n",
    "Now let's say we want (or need) to increase our available memory by deleting some of the arrays that we just computed. In Matlab for example you might just call `clear variable` to free up the memory used by `variable`. But in Python it is not that simple, especially when Dask is involved.\n",
    "\n",
    "### NumPy cases (without Dask)\n",
    "\n",
    "Here we will compute (first using NumPy only) and then delete the square root of `test_array`, and compare the memory impacts to when we get Dask involved."
   ]
  },
  {
   "cell_type": "code",
   "execution_count": 9,
   "id": "c0cf9d59-a1c5-410a-b93d-4dec9946945f",
   "metadata": {},
   "outputs": [
    {
     "name": "stdout",
     "output_type": "stream",
     "text": [
      "Change in available memory:  -7.954432  MB\n",
      "Change in available memory:  -8.097792  MB\n",
      "Change in available memory:  0.0  MB\n"
     ]
    }
   ],
   "source": [
    "# copy test_array (to create a fresh \"source\" for this calculation)\n",
    "test_numpy = test_array.copy()\n",
    "memory_log.append(psutil.virtual_memory().available)\n",
    "print('Change in available memory: ',np.diff(np.asarray(memory_log[-2:]))[0]/(10**6),' MB')\n",
    "\n",
    "# take the square root\n",
    "test_numpy_sqrt = test_numpy**(1/2)\n",
    "memory_log.append(psutil.virtual_memory().available)\n",
    "print('Change in available memory: ',np.diff(np.asarray(memory_log[-2:]))[0]/(10**6),' MB')\n",
    "\n",
    "# delete the new square root array\n",
    "del test_numpy_sqrt\n",
    "memory_log.append(psutil.virtual_memory().available)\n",
    "print('Change in available memory: ',np.diff(np.asarray(memory_log[-2:]))[0]/(10**6),' MB')"
   ]
  },
  {
   "cell_type": "markdown",
   "id": "3295af50-07fc-4c42-a146-9617a367da95",
   "metadata": {},
   "source": [
    "We created two new NumPy arrays in memory, and the footprint of each is ~8 MB, what we would expect. But when we deleted one of these arrays, we didn't recover its memory. Why?\n",
    "\n",
    "To understand this, let's consider how Python does [\"garbage collection\"](https://devguide.python.org/internals/garbage-collector/index.html). Each Python object has a certain number of references, which are created by equations/operational relationships to other objects). `del` decreases an object's reference count by 1, but the garbage collector will only free up memory associated with an object if the object **and** all objects it is associated with are zero.\n",
    "\n",
    "We can use `sys.getrefcount` to determine an object's number of references, but calling `sys.getrefcount` on an object also creates a temporary reference to that object. So the \"true\" number of references will be 1 less than the output of `sys.getrefcount`."
   ]
  },
  {
   "cell_type": "code",
   "execution_count": 10,
   "id": "cd3d4be9-d02e-416b-a669-93a26c789862",
   "metadata": {},
   "outputs": [
    {
     "name": "stdout",
     "output_type": "stream",
     "text": [
      "Change in available memory:  0.0  MB\n",
      "Reference count of test_numpy_sqrt:  1\n",
      "Reference count of test_numpy:  1\n"
     ]
    }
   ],
   "source": [
    "# Recover test_numpy_sqrt (since we didn't really delete it, it is still cached in memory)\n",
    "test_numpy_sqrt = test_numpy**(1/2)\n",
    "memory_log.append(psutil.virtual_memory().available)\n",
    "print('Change in available memory: ',np.diff(np.asarray(memory_log[-2:]))[0]/(10**6),' MB')\n",
    "\n",
    "import sys\n",
    "\n",
    "print('Reference count of test_numpy_sqrt: ',sys.getrefcount(test_numpy)-1)\n",
    "print('Reference count of test_numpy: ',sys.getrefcount(test_numpy)-1)"
   ]
  },
  {
   "cell_type": "markdown",
   "id": "924b1828-7e28-46ef-97c6-7a00e171632b",
   "metadata": {},
   "source": [
    "These arrays each have 1 reference, which means if we use `del` on both of them, and they are not referencing any other object, then we should be able to clear both of them from memory."
   ]
  },
  {
   "cell_type": "code",
   "execution_count": 11,
   "id": "2fa7a68c-61d5-4ec5-ae7a-a50cf2b8fc3b",
   "metadata": {},
   "outputs": [
    {
     "name": "stdout",
     "output_type": "stream",
     "text": [
      "Change in available memory:  15.54432  MB\n"
     ]
    }
   ],
   "source": [
    "del test_numpy_sqrt\n",
    "del test_numpy\n",
    "memory_log.append(psutil.virtual_memory().available)\n",
    "print('Change in available memory: ',np.diff(np.asarray(memory_log[-2:]))[0]/(10**6),' MB')"
   ]
  },
  {
   "cell_type": "markdown",
   "id": "ef4d87c5-f5b1-4255-a9ee-b0b140c658db",
   "metadata": {},
   "source": [
    "And indeed, we did recover almost 16 MB of memory, the equivalent of the 2 arrays.\n",
    "\n",
    "### When Dask is involved\n",
    "\n",
    "We just demonstrated that in NumPy, when you execute a line of code that involves multiple objects, you usually establish a reference between them so that to delete the memory content of one, you have to delete all of them. With Dask, it gets still more complicated. Let's try to delete `copy_sqrt_computed`, which has the same values as `test_numpy_sqrt` did but was computed using Dask arrays."
   ]
  },
  {
   "cell_type": "code",
   "execution_count": 12,
   "id": "025dc148-4ad1-4f80-83f0-53633a2523c8",
   "metadata": {},
   "outputs": [
    {
     "name": "stdout",
     "output_type": "stream",
     "text": [
      "Reference count of copy_sqrt_computed:  1\n",
      "Reference count of dask_copy_sqrt_array:  1\n",
      "Reference count of dask_copy_array:  1\n",
      "Reference count of copy_array:  102\n"
     ]
    }
   ],
   "source": [
    "print('Reference count of copy_sqrt_computed: ',sys.getrefcount(copy_sqrt_computed)-1)\n",
    "print('Reference count of dask_copy_sqrt_array: ',sys.getrefcount(dask_copy_sqrt_array)-1)\n",
    "print('Reference count of dask_copy_array: ',sys.getrefcount(dask_copy_array)-1)\n",
    "print('Reference count of copy_array: ',sys.getrefcount(copy_array)-1)"
   ]
  },
  {
   "cell_type": "markdown",
   "id": "28f97e53-0c09-4dc7-bf14-53b44a49d985",
   "metadata": {},
   "source": [
    "All of the above arrays are linked by a chain of references, and notice that `copy_array` has 102 references! How did that happen? The Dask array `dask_copy_array` consists of 10x10 = 100 chunks, each sourced from `copy_array`. Each of those chunks adds a reference to `copy_array`.\n",
    "\n",
    "Let's delete all of the above arrays, as we did in the previous case with NumPy. As we do this, we will also track the number of references to `copy_array`."
   ]
  },
  {
   "cell_type": "code",
   "execution_count": 13,
   "id": "d8995672-d4ed-4c75-abff-ece680a83bb1",
   "metadata": {},
   "outputs": [
    {
     "name": "stdout",
     "output_type": "stream",
     "text": [
      "Change in available memory:  0.0  MB\n"
     ]
    }
   ],
   "source": [
    "del copy_sqrt_computed\n",
    "del dask_copy_sqrt_array\n",
    "del dask_copy_array\n",
    "del copy_array\n",
    "memory_log.append(psutil.virtual_memory().available)\n",
    "print('Change in available memory: ',np.diff(np.asarray(memory_log[-2:]))[0]/(10**6),' MB')"
   ]
  },
  {
   "cell_type": "markdown",
   "id": "9217b16e-bd28-4f8f-aeca-7a2e19209d6d",
   "metadata": {},
   "source": [
    "Now we deleted what would seem to be all the arrays that could be linked by references to `copy_sqrt_computed`, and still we haven't recovered memory!\n",
    "\n",
    "There is one more thing we can try though. If the \"source\" of the Dask objects is a file rather than the NumPy array `copy_array`, then any caching of object data might be associated with opening that file rather than getting lost in the ether somewhere. So let's store the data from an array in a file (specifically a `zarr` archive), and see how this affects our ability to manage memory.\n",
    "\n",
    "To try this we need to re-create `copy_array` and make sure that new memory is being allocated for it. Don't ask me why we need to call `.copy` 3 times before new memory is allocated for the array; maybe you know the answer, but I don't!"
   ]
  },
  {
   "cell_type": "code",
   "execution_count": 14,
   "id": "c088e747-b282-4126-afb6-e935ce84ac81",
   "metadata": {},
   "outputs": [
    {
     "name": "stdout",
     "output_type": "stream",
     "text": [
      "Change in available memory:  0.0  MB\n"
     ]
    }
   ],
   "source": [
    "# re-create copy_array\n",
    "copy_array = test_array.copy()\n",
    "memory_log.append(psutil.virtual_memory().available)\n",
    "print('Change in available memory: ',np.diff(np.asarray(memory_log[-2:]))[0]/(10**6),' MB')"
   ]
  },
  {
   "cell_type": "code",
   "execution_count": 15,
   "id": "4c89148c-6e3f-4eb8-928c-52469aac99fa",
   "metadata": {},
   "outputs": [
    {
     "name": "stdout",
     "output_type": "stream",
     "text": [
      "Change in available memory:  0.0  MB\n"
     ]
    }
   ],
   "source": [
    "# create array\n",
    "copy_array_2 = copy_array.copy()\n",
    "memory_log.append(psutil.virtual_memory().available)\n",
    "print('Change in available memory: ',np.diff(np.asarray(memory_log[-2:]))[0]/(10**6),' MB')"
   ]
  },
  {
   "cell_type": "code",
   "execution_count": 16,
   "id": "de5145b0-9496-4bbc-9bea-5d0d44aa213c",
   "metadata": {},
   "outputs": [
    {
     "name": "stdout",
     "output_type": "stream",
     "text": [
      "Change in available memory:  -7.811072  MB\n"
     ]
    }
   ],
   "source": [
    "copy_array_3 = copy_array_2.copy()\n",
    "memory_log.append(psutil.virtual_memory().available)\n",
    "print('Change in available memory: ',np.diff(np.asarray(memory_log[-2:]))[0]/(10**6),' MB')"
   ]
  },
  {
   "cell_type": "code",
   "execution_count": 17,
   "id": "a681ce3e-27f2-44e9-bac7-a0e7c1a146c5",
   "metadata": {},
   "outputs": [
    {
     "name": "stdout",
     "output_type": "stream",
     "text": [
      "Change in available memory:  -2.654208  MB\n"
     ]
    }
   ],
   "source": [
    "# save array to zarr\n",
    "import zarr\n",
    "save_to_zarr = zarr.open('copy_array_3.zarr',mode='w',shape=(1000,1000),chunks=(100,100))\n",
    "save_to_zarr[:] = copy_array_3\n",
    "memory_log.append(psutil.virtual_memory().available)\n",
    "print('Change in available memory: ',np.diff(np.asarray(memory_log[-2:]))[0]/(10**6),' MB')"
   ]
  },
  {
   "cell_type": "code",
   "execution_count": 18,
   "id": "754f55d2-45fe-45f1-b37a-cceb49209dbd",
   "metadata": {},
   "outputs": [
    {
     "name": "stdout",
     "output_type": "stream",
     "text": [
      "1\n",
      "1\n",
      "1\n",
      "1\n",
      "1\n",
      "1\n",
      "1\n",
      "1\n",
      "1\n",
      "1\n",
      "1\n",
      "1\n",
      "1\n",
      "1\n",
      "1\n",
      "1\n",
      "1\n",
      "1\n",
      "1\n",
      "1\n"
     ]
    }
   ],
   "source": [
    "for iteration in range(10):\n",
    "    # delete objects in memory\n",
    "    # print(sys.getrefcount(copy_array_3)-1)\n",
    "    # print(sys.getrefcount(save_to_zarr)-1)\n",
    "\n",
    "    copy_array_3 = [12345,34567]\n",
    "    print(sys.getrefcount(copy_array_3)-1)\n",
    "    del copy_array_3\n",
    "    save_to_zarr = [12345678,23456789]\n",
    "    print(sys.getrefcount(save_to_zarr)-1)\n",
    "    del save_to_zarr\n",
    "    memory_log.append(psutil.virtual_memory().available)\n",
    "    # print('Change in available memory: ',np.diff(np.asarray(memory_log[-2:]))[0]/(10**6),' MB')"
   ]
  },
  {
   "cell_type": "code",
   "execution_count": 19,
   "id": "03d040cc-24f1-4ec8-a412-58a56f7a9fa9",
   "metadata": {},
   "outputs": [
    {
     "data": {
      "text/plain": [
       "29"
      ]
     },
     "execution_count": 19,
     "metadata": {},
     "output_type": "execute_result"
    }
   ],
   "source": [
    "len(memory_log)"
   ]
  },
  {
   "cell_type": "code",
   "execution_count": 20,
   "id": "996013ba-852f-4d8f-aac4-c1050c3d5860",
   "metadata": {},
   "outputs": [
    {
     "data": {
      "text/plain": [
       "[<matplotlib.lines.Line2D at 0x7fd63b300800>]"
      ]
     },
     "execution_count": 20,
     "metadata": {},
     "output_type": "execute_result"
    },
    {
     "data": {
      "image/png": "[encoded data removed]",
      "text/plain": [
       "<Figure size 640x480 with 1 Axes>"
      ]
     },
     "metadata": {},
     "output_type": "display_data"
    }
   ],
   "source": [
    "import matplotlib.pyplot as plt\n",
    "plt.plot(np.asarray(memory_log)[16:])"
   ]
  },
  {
   "cell_type": "code",
   "execution_count": 19,
   "id": "f9c938a1-86ee-4b38-9662-13b40d4fd072",
   "metadata": {},
   "outputs": [
    {
     "name": "stdout",
     "output_type": "stream",
     "text": [
      "Change in available memory:  -0.36864  MB\n"
     ]
    }
   ],
   "source": [
    "memory_log.append(psutil.virtual_memory().available)\n",
    "print('Change in available memory: ',np.diff(np.asarray(memory_log[-2:]))[0]/(10**6),' MB')"
   ]
  },
  {
   "cell_type": "code",
   "execution_count": 18,
   "id": "6c19f6cb-12b9-4f8f-a677-3fac2daeb471",
   "metadata": {},
   "outputs": [
    {
     "name": "stdout",
     "output_type": "stream",
     "text": [
      "Change in available memory:  -0.049152  MB\n"
     ]
    }
   ],
   "source": [
    "del copy_array_3\n",
    "del save_to_zarr\n",
    "gc.collect()\n",
    "memory_log.append(psutil.virtual_memory().available)\n",
    "print('Change in available memory: ',np.diff(np.asarray(memory_log[-2:]))[0]/(10**6),' MB')"
   ]
  },
  {
   "cell_type": "code",
   "execution_count": 20,
   "id": "aa3a7217-70bd-49e9-a2ad-e602f61687bc",
   "metadata": {},
   "outputs": [
    {
     "data": {
      "text/plain": [
       "2"
      ]
     },
     "execution_count": 20,
     "metadata": {},
     "output_type": "execute_result"
    }
   ],
   "source": [
    "sys.getrefcount(copy_array)"
   ]
  },
  {
   "cell_type": "code",
   "execution_count": 19,
   "id": "7f0a1265-5dff-4edc-8872-ac1ffb7b08ef",
   "metadata": {},
   "outputs": [
    {
     "name": "stdout",
     "output_type": "stream",
     "text": [
      "Change in available memory:  0.651264  MB\n"
     ]
    }
   ],
   "source": [
    "import gc\n",
    "gc.collect()\n",
    "memory_log.append(psutil.virtual_memory().available)\n",
    "print('Change in available memory: ',np.diff(np.asarray(memory_log[-2:]))[0]/(10**6),' MB')"
   ]
  },
  {
   "cell_type": "code",
   "execution_count": 32,
   "id": "407579d8-f844-413c-9749-f0b5c7f56de7",
   "metadata": {},
   "outputs": [],
   "source": [
    "save_refs_2 = gc.get_referrers(save_to_zarr)"
   ]
  },
  {
   "cell_type": "code",
   "execution_count": 33,
   "id": "f84c7d39-c94f-4552-8cb5-696be0414ef7",
   "metadata": {},
   "outputs": [
    {
     "data": {
      "text/plain": [
       "4"
      ]
     },
     "execution_count": 33,
     "metadata": {},
     "output_type": "execute_result"
    }
   ],
   "source": [
    "len(save_refs_2)"
   ]
  },
  {
   "cell_type": "code",
   "execution_count": 37,
   "id": "6ac51d59-0c43-4982-b031-e273942cb833",
   "metadata": {},
   "outputs": [
    {
     "data": {
      "text/plain": [
       "<zarr.indexing.BlockIndex at 0x7f32207c1fd0>"
      ]
     },
     "execution_count": 37,
     "metadata": {},
     "output_type": "execute_result"
    }
   ],
   "source": [
    "save_refs_2[3]"
   ]
  },
  {
   "cell_type": "code",
   "execution_count": null,
   "id": "711aafb4-17ad-40ad-8777-53b11176edd0",
   "metadata": {},
   "outputs": [
    {
     "name": "stdout",
     "output_type": "stream",
     "text": [
      "Change in available memory:  -2.482176  MB\n",
      "1\n",
      "4\n",
      "Change in available memory:  0.0  MB\n"
     ]
    }
   ],
   "source": [
    "del copy_array_3\n",
    "del save_to_zarr\n",
    "del copy_array_2\n",
    "del copy_array\n",
    "del dask_test_array\n",
    "del dask_sqrt_array\n",
    "del sqrt_array_computed\n",
    "del view_array\n",
    "del test_array\n",
    "memory_log.append(psutil.virtual_memory().available)\n",
    "print('Change in available memory: ',np.diff(np.asarray(memory_log[-2:]))[0]/(10**6),' MB')"
   ]
  },
  {
   "cell_type": "code",
   "execution_count": null,
   "id": "ced893fe-2d05-4e95-bf0e-bb14cb2616e3",
   "metadata": {},
   "outputs": [
    {
     "name": "stdout",
     "output_type": "stream",
     "text": [
      "Change in available memory:  -3.719168  MB\n",
      "1\n",
      "4294967294\n",
      "Change in available memory:  0.0  MB\n",
      "Change in available memory:  0.0  MB\n",
      "Change in available memory:  -6.332416  MB\n",
      "Change in available memory:  0.0  MB\n",
      "Change in available memory:  0.0  MB\n"
     ]
    }
   ],
   "source": [
    "# re-open Dask arrays from file\n",
    "dask_copy_array = da.from_zarr('copy_array_3.zarr',chunks=(100,100))\n",
    "# with open('copy_array.zarr','r') as copy_array:\n",
    "#     dask_copy_array = da.from_array(copy_array,chunks=(100,100))\n",
    "dask_copy_sqrt_array = dask_copy_array**(1/2)\n",
    "memory_log.append(psutil.virtual_memory().available)\n",
    "print('Change in available memory: ',np.diff(np.asarray(memory_log[-2:]))[0]/(10**6),' MB')\n",
    "\n",
    "# re-compute square root\n",
    "sqrt_array_computed = dask_copy_sqrt_array.compute()\n",
    "memory_log.append(psutil.virtual_memory().available)\n",
    "print('Change in available memory: ',np.diff(np.asarray(memory_log[-2:]))[0]/(10**6),' MB')\n",
    "\n",
    "# delete objects just created\n",
    "del sqrt_array_computed\n",
    "del dask_copy_sqrt_array\n",
    "del dask_copy_array\n",
    "memory_log.append(psutil.virtual_memory().available)\n",
    "print('Change in available memory: ',np.diff(np.asarray(memory_log[-2:]))[0]/(10**6),' MB')\n",
    "\n",
    "# re-open Dask arrays from file\n",
    "dask_copy_array = da.from_zarr('copy_array_3.zarr',chunks=(100,100))\n",
    "dask_copy_sqrt_array = dask_copy_array**(1/2)\n",
    "memory_log.append(psutil.virtual_memory().available)\n",
    "print('Change in available memory: ',np.diff(np.asarray(memory_log[-2:]))[0]/(10**6),' MB')"
   ]
  },
  {
   "cell_type": "code",
   "execution_count": 15,
   "id": "5c422598-51c6-480a-aab8-996aa6bb34e7",
   "metadata": {},
   "outputs": [
    {
     "data": {
      "text/plain": [
       "[<matplotlib.lines.Line2D at 0x7fa4874fc560>]"
      ]
     },
     "execution_count": 15,
     "metadata": {},
     "output_type": "execute_result"
    },
    {
     "data": {
      "image/png": "[encoded data removed]",
      "text/plain": [
       "<Figure size 640x480 with 1 Axes>"
      ]
     },
     "metadata": {},
     "output_type": "display_data"
    }
   ],
   "source": [
    "import matplotlib.pyplot as plt\n",
    "plt.plot(memory_log)"
   ]
  },
  {
   "cell_type": "code",
   "execution_count": 24,
   "id": "02055f20-952e-4d30-9ef6-34dd67409760",
   "metadata": {},
   "outputs": [
    {
     "name": "stdout",
     "output_type": "stream",
     "text": [
      "Change in available memory:  -0.208896  MB\n"
     ]
    }
   ],
   "source": [
    "copy_sqrt_computed = dask_copy_sqrt_array.compute()\n",
    "memory_log.append(psutil.virtual_memory().available)\n",
    "print('Change in available memory: ',np.diff(np.asarray(memory_log[-2:]))[0]/(10**6),' MB')"
   ]
  },
  {
   "cell_type": "markdown",
   "id": "4d5c316c-ed74-42e4-9cbf-101def7ce9c1",
   "metadata": {},
   "source": [
    "Uh oh...if we keep repeating this cycle of delete and re-compute, we will keep using up memory without recovering it (often called a memory \"leak\"). We can better avoid this situation by understanding how Python does [\"garbage collection\"](https://devguide.python.org/internals/garbage-collector/index.html). Each Python object has a certain number of references, which are created by equations/operational relationships to other objects). `del` decreases an object's reference count by 1, but the garbage collector will only free up memory associated with an object if the object **and** all objects it is associated with are zero.\n",
    "\n",
    "We can use `sys.getrefcount` to determine an object's number of references, but calling `sys.getrefcount` on an object also creates a temporary reference to that object. So the \"true\" number of references will be 1 less than the output of `sys.getrefcount`."
   ]
  },
  {
   "cell_type": "code",
   "execution_count": 25,
   "id": "d49ea5c6-0afe-46ff-a3c5-7bf59214ebbb",
   "metadata": {},
   "outputs": [
    {
     "data": {
      "text/plain": [
       "2"
      ]
     },
     "execution_count": 25,
     "metadata": {},
     "output_type": "execute_result"
    }
   ],
   "source": [
    "import sys\n",
    "\n",
    "sys.getrefcount(copy_sqrt_computed)"
   ]
  },
  {
   "cell_type": "markdown",
   "id": "0c63fff0-82db-4d7f-817f-5c62401ea063",
   "metadata": {},
   "source": [
    "So `copy_sqrt_computed` has only 1 reference, yet `del copy_sqrt_computed` did not free up its memory. So look back through the objects that were used to create `copy_sqrt_computed`."
   ]
  },
  {
   "cell_type": "code",
   "execution_count": 26,
   "id": "02e997e9-ce6c-417b-9b71-002f680c534a",
   "metadata": {},
   "outputs": [
    {
     "name": "stdout",
     "output_type": "stream",
     "text": [
      "References to copy_sqrt_computed:  1\n",
      "References to dask_copy_sqrt_array:  1\n",
      "References to dask_copy_array:  1\n",
      "References to copy_array:  102\n"
     ]
    }
   ],
   "source": [
    "print('References to copy_sqrt_computed: ',sys.getrefcount(copy_sqrt_computed)-1)\n",
    "print('References to dask_copy_sqrt_array: ',sys.getrefcount(dask_copy_sqrt_array)-1)\n",
    "print('References to dask_copy_array: ',sys.getrefcount(dask_copy_array)-1)\n",
    "print('References to copy_array: ',sys.getrefcount(copy_array)-1)"
   ]
  },
  {
   "cell_type": "markdown",
   "id": "bb65ead3-c191-4587-aa96-e7411673a72a",
   "metadata": {},
   "source": [
    "Most of the objects in this chain have only 1 reference, but the \"source\" `copy_array` has 102! How did that happen? The Dask array `dask_copy_array` consists of 10x10 = 100 chunks, each sourced from `copy_array`. Each of those chunks adds a reference to `copy_array`. So deleting `dask_copy_array` could remove those references..."
   ]
  },
  {
   "cell_type": "code",
   "execution_count": 27,
   "id": "5f15712c-51b6-467f-ab41-f1778c996efb",
   "metadata": {},
   "outputs": [
    {
     "name": "stdout",
     "output_type": "stream",
     "text": [
      "References to copy_array:  101\n",
      "Change in available memory:  -0.032768  MB\n"
     ]
    }
   ],
   "source": [
    "del dask_copy_array\n",
    "print('References to copy_array: ',sys.getrefcount(copy_array)-1)\n",
    "memory_log.append(psutil.virtual_memory().available)\n",
    "print('Change in available memory: ',np.diff(np.asarray(memory_log[-2:]))[0]/(10**6),' MB')"
   ]
  },
  {
   "cell_type": "markdown",
   "id": "59a74fe0-8bb3-480f-a2a3-4962bb53819b",
   "metadata": {},
   "source": [
    "but because the other objects down the chain still exist, `copy_array` is still holding on to the references. We need to delete *all* of the objects in the chain to release the memory of `copy_sqrt_computed`."
   ]
  },
  {
   "cell_type": "code",
   "execution_count": 28,
   "id": "136ef927-0c96-4e98-9d1f-bfdc83cd4720",
   "metadata": {},
   "outputs": [
    {
     "name": "stdout",
     "output_type": "stream",
     "text": [
      "References to copy_array:  101\n",
      "Change in available memory:  0.0  MB\n",
      "References to copy_array:  1\n",
      "Change in available memory:  0.0  MB\n",
      "Change in available memory:  0.0  MB\n",
      "Change in available memory:  -0.036864  MB\n"
     ]
    }
   ],
   "source": [
    "del copy_sqrt_computed\n",
    "print('References to copy_array: ',sys.getrefcount(copy_array)-1)\n",
    "memory_log.append(psutil.virtual_memory().available)\n",
    "print('Change in available memory: ',np.diff(np.asarray(memory_log[-2:]))[0]/(10**6),' MB')\n",
    "del dask_copy_sqrt_array\n",
    "print('References to copy_array: ',sys.getrefcount(copy_array)-1)\n",
    "memory_log.append(psutil.virtual_memory().available)\n",
    "print('Change in available memory: ',np.diff(np.asarray(memory_log[-2:]))[0]/(10**6),' MB')\n",
    "del copy_array\n",
    "memory_log.append(psutil.virtual_memory().available)\n",
    "print('Change in available memory: ',np.diff(np.asarray(memory_log[-2:]))[0]/(10**6),' MB')"
   ]
  },
  {
   "cell_type": "code",
   "execution_count": 7,
   "id": "d97140f3-bfa9-4d4d-bb32-46291ec63837",
   "metadata": {},
   "outputs": [
    {
     "name": "stdout",
     "output_type": "stream",
     "text": [
      "2\n",
      "Change in available memory:  -0.14336  MB\n",
      "2\n",
      "Change in available memory:  0.0  MB\n",
      "3\n",
      "Change in available memory:  0.0  MB\n"
     ]
    }
   ],
   "source": [
    "import sys\n",
    "\n",
    "# memory_log.append(psutil.virtual_memory().available)\n",
    "# print(sys.getrefcount(sqrt_array_computed))\n",
    "# del sqrt_array_computed\n",
    "# memory_log.append(psutil.virtual_memory().available)\n",
    "# print('Change in available memory: ',np.diff(np.asarray(memory_log[-2:]))[0]/(10**6),' MB')\n",
    "# # dask_sqrt_array = None\n",
    "print(sys.getrefcount(dask_sqrt_array))\n",
    "del dask_sqrt_array\n",
    "memory_log.append(psutil.virtual_memory().available)\n",
    "print('Change in available memory: ',np.diff(np.asarray(memory_log[-2:]))[0]/(10**6),' MB')\n",
    "# dask_test_array = None\n",
    "print(sys.getrefcount(dask_test_array))\n",
    "del dask_test_array\n",
    "memory_log.append(psutil.virtual_memory().available)\n",
    "print('Change in available memory: ',np.diff(np.asarray(memory_log[-2:]))[0]/(10**6),' MB')\n",
    "# print(sys.getrefcount(copy_array))\n",
    "# del copy_array\n",
    "# memory_log.append(psutil.virtual_memory().available)\n",
    "# print('Change in available memory: ',np.diff(np.asarray(memory_log[-2:]))[0]/(10**6),' MB')\n",
    "# print(sys.getrefcount(view_array))\n",
    "del view_array\n",
    "memory_log.append(psutil.virtual_memory().available)\n",
    "print('Change in available memory: ',np.diff(np.asarray(memory_log[-2:]))[0]/(10**6),' MB')\n",
    "print(sys.getrefcount(test_array))\n",
    "del test_array\n",
    "memory_log.append(psutil.virtual_memory().available)\n",
    "print('Change in available memory: ',np.diff(np.asarray(memory_log[-2:]))[0]/(10**6),' MB')"
   ]
  },
  {
   "cell_type": "markdown",
   "id": "ef1cfa00-b239-442b-b269-71736bd4c5ba",
   "metadata": {},
   "source": [
    "Python object views and Dask arrays are two examples of how Python uses references to save memory in your workspace. This does mean, however, that deleting data in your workspace can get a bit complicated. In contrast to Matlab where `clear variable` will delete the array `variable` from your workspace, the corresponding Python function `del variable` will only delete `variable` if there are no other references to `variable` existing in the workspace.\n",
    "\n",
    "Consider the memory impact if we load a portion of `dask_sq_array` into memory, and then delete it using the `del` command."
   ]
  },
  {
   "cell_type": "code",
   "execution_count": 25,
   "id": "e5ffddd1-dc1e-4ad7-97e8-80e9333e4710",
   "metadata": {},
   "outputs": [
    {
     "name": "stdout",
     "output_type": "stream",
     "text": [
      "Change in available memory:  -1.62890625  MB\n",
      "sq_block is type:  <class 'numpy.ndarray'>\n",
      "Change in available memory:  0.0  MB\n"
     ]
    }
   ],
   "source": [
    "memory_log = np.append(memory_log,psutil.virtual_memory().available)\n",
    "sq_block = dask_sq_array[0:100,:].compute()\n",
    "memory_log = np.append(memory_log,psutil.virtual_memory().available)\n",
    "print('Change in available memory: ',np.diff(memory_log[-2:])[0]/(10**6),' MB')\n",
    "\n",
    "print('sq_block is type: ',type(sq_block))\n",
    "\n",
    "memory_log = np.append(memory_log,psutil.virtual_memory().available)\n",
    "del sq_block\n",
    "memory_log = np.append(memory_log,psutil.virtual_memory().available)\n",
    "print('Change in available memory: ',np.diff(memory_log[-2:])[0]/(10**6),' MB')"
   ]
  },
  {
   "cell_type": "markdown",
   "id": "016a8d44-11b2-49c1-82ef-b8b679c2e998",
   "metadata": {},
   "source": [
    "The NumPy array `sq_block` used up a block of memory when it was created, but that memory was not made available again when `sq_block` was deleted. Why? Because when `sq_block` was computed and loaded into memory, its data was also associated with the parent array `dask_sq_array`."
   ]
  },
  {
   "cell_type": "code",
   "execution_count": 26,
   "id": "7579a5a7-05ad-48d5-ba71-1735d9e14112",
   "metadata": {},
   "outputs": [
    {
     "name": "stdout",
     "output_type": "stream",
     "text": [
      "Change in available memory:  0.0  MB\n",
      "Change in available memory:  -7.6640625  MB\n"
     ]
    }
   ],
   "source": [
    "memory_log = np.append(memory_log,psutil.virtual_memory().available)\n",
    "# del dask_sq_array\n",
    "# del dask_random_array\n",
    "del random_array\n",
    "# del rng\n",
    "memory_log = np.append(memory_log,psutil.virtual_memory().available)\n",
    "print('Change in available memory: ',np.diff(memory_log[-2:])[0]/(10**6),' MB')\n",
    "# rng = np.random.default_rng()\n",
    "random_array = rng.standard_normal((1000,1000))\n",
    "dask_random_array = da.from_array(random_array,chunks=(100,100))\n",
    "dask_sq_array = dask_random_array**2\n",
    "memory_log = np.append(memory_log,psutil.virtual_memory().available)\n",
    "print('Change in available memory: ',np.diff(memory_log[-2:])[0]/(10**6),' MB')"
   ]
  },
  {
   "cell_type": "markdown",
   "id": "b8b764c7-947b-4e8b-8fcd-897e6ca5a2e1",
   "metadata": {},
   "source": [
    "You can use Dask arrays to perform computations that would otherwise require more memory than your system has--which Dask accomplishes by computing the result in chunks, then saving only the result and not the intermediate arrays. But sometimes it may be necessary or helpful to explicitly delete intermediate arrays or chunks, if it is more efficient or cleaner memory-wise than leaving Dask to do it behind the scenes.\n",
    "\n",
    "Let's try repeating the square root computation from before, but entirely with NumPy arrays by having our code loop through 100 x 100 chunks instead."
   ]
  },
  {
   "cell_type": "markdown",
   "id": "92471d99-1fff-4508-aa7c-54846d82c7a0",
   "metadata": {},
   "source": [
    "## Xarray and memory management\n",
    "\n",
    "The [xarray](https://docs.xarray.dev/en/stable/) package can open data files as Dask arrays using `open_mfdataset`, which is very useful for limiting memory usage in your workspace. But `xarray.open_mfdataset` often caches data that is loaded from files, which can contribute to memory leaks that were not intended by the user. Consider a case where we are cumulatively averaging monthly ocean temperature from ECCO, one depth level at a time."
   ]
  },
  {
   "cell_type": "code",
   "execution_count": 1,
   "id": "bf3a8559-187b-4a4d-acb6-54de6c55bd1e",
   "metadata": {},
   "outputs": [
    {
     "ename": "NameError",
     "evalue": "name 'glob' is not defined",
     "output_type": "error",
     "traceback": [
      "\u001b[0;31m---------------------------------------------------------------------------\u001b[0m",
      "\u001b[0;31mNameError\u001b[0m                                 Traceback (most recent call last)",
      "Cell \u001b[0;32mIn[1], line 35\u001b[0m\n\u001b[1;32m     33\u001b[0m     ecco_grid \u001b[38;5;241m=\u001b[39m xr\u001b[38;5;241m.\u001b[39mopen_dataset(files_dict[ShortNames_list[\u001b[38;5;241m0\u001b[39m]])\n\u001b[1;32m     34\u001b[0m \u001b[38;5;28;01melse\u001b[39;00m:\n\u001b[0;32m---> 35\u001b[0m     ecco_grid \u001b[38;5;241m=\u001b[39m xr\u001b[38;5;241m.\u001b[39mopen_dataset(\u001b[43mglob\u001b[49m\u001b[38;5;241m.\u001b[39mglob(join(ECCO_dir,\u001b[38;5;124m'\u001b[39m\u001b[38;5;124m*GEOMETRY*\u001b[39m\u001b[38;5;124m'\u001b[39m,\u001b[38;5;124m'\u001b[39m\u001b[38;5;124m*.nc\u001b[39m\u001b[38;5;124m'\u001b[39m))[\u001b[38;5;241m0\u001b[39m])\n\u001b[1;32m     37\u001b[0m \u001b[38;5;66;03m## Open ECCO monthly mean T/S files\u001b[39;00m\n\u001b[1;32m     38\u001b[0m \u001b[38;5;28;01mif\u001b[39;00m incloud_access \u001b[38;5;241m==\u001b[39m \u001b[38;5;28;01mTrue\u001b[39;00m:\n",
      "\u001b[0;31mNameError\u001b[0m: name 'glob' is not defined"
     ]
    }
   ],
   "source": [
    "import numpy as np\n",
    "import xarray as xr\n",
    "from os.path import join,expanduser\n",
    "import glob\n",
    "import psutil\n",
    "\n",
    "user_home_dir = expanduser('~')\n",
    "\n",
    "# indicate whether you are working in a cloud instance (True if yes, False otherwise)\n",
    "incloud_access = False\n",
    "\n",
    "\n",
    "## Set top-level file directory for the ECCO NetCDF files\n",
    "## =================================================================\n",
    "\n",
    "## currently set to ~/Downloads/ECCO_V4r4_PODAAC, \n",
    "## the default if ecco_podaac_download was used to download dataset granules\n",
    "ECCO_dir = join(user_home_dir,'Downloads','ECCO_V4r4_PODAAC')\n",
    "\n",
    "\n",
    "\n",
    "ShortNames_list = [\"ECCO_L4_GEOMETRY_LLC0090GRID_V4R4\",\\\n",
    "                   \"ECCO_L4_TEMP_SALINITY_LLC0090GRID_MONTHLY_V4R4\"]\n",
    "# if working in the AWS cloud, download data to local instance if memory is available\n",
    "if incloud_access == True:\n",
    "    from ecco_s3_retrieve import ecco_podaac_s3_get_diskaware\n",
    "    files_dict = ecco_podaac_s3_get_diskaware(ShortNames=ShortNames_list,\\\n",
    "                                              StartDate='1992-01',EndDate='2017-12',\\\n",
    "                                              max_avail_frac=0.5,\\\n",
    "                                              download_root_dir=ECCO_dir)\n",
    "\n",
    "## Load the model grid\n",
    "if incloud_access == True:\n",
    "    ecco_grid = xr.open_dataset(files_dict[ShortNames_list[0]])\n",
    "else:\n",
    "    ecco_grid = xr.open_dataset(glob.glob(join(ECCO_dir,'*GEOMETRY*','*.nc'))[0])\n",
    "\n",
    "## Open ECCO monthly mean T/S files\n",
    "if incloud_access == True:\n",
    "    ecco_TS = xr.open_mfdataset(files_dict[ShortNames_list[1]],\\\n",
    "                                      data_vars='minimal',coords='minimal',compat='override')\n",
    "else:\n",
    "    ecco_TS = xr.open_mfdataset(join(ECCO_dir,'*_TEMP_SALINITY_LLC0090GRID_MONTHLY*','*.nc'),\\\n",
    "                                           data_vars='minimal',coords='minimal',compat='override')\n",
    "\n",
    "## re-chunk ecco_TS\n",
    "    ecco_TS = ecco_TS.chunk({'k':1})\n",
    "\n",
    "## merge grid and temperature datasets\n",
    "ds = xr.merge((ecco_grid,ecco_TS[['THETA']]))\n",
    "\n",
    "ds"
   ]
  },
  {
   "cell_type": "code",
   "execution_count": 2,
   "id": "89d405cd-523e-401e-89d3-a88523bcc1f8",
   "metadata": {},
   "outputs": [
    {
     "name": "stdout",
     "output_type": "stream",
     "text": [
      "Change in available memory:  -1879.03125  MB\n"
     ]
    },
    {
     "ename": "KeyboardInterrupt",
     "evalue": "",
     "output_type": "error",
     "traceback": [
      "\u001b[0;31m---------------------------------------------------------------------------\u001b[0m",
      "\u001b[0;31mKeyboardInterrupt\u001b[0m                         Traceback (most recent call last)",
      "Cell \u001b[0;32mIn[2], line 11\u001b[0m\n\u001b[1;32m      7\u001b[0m depth_allabove \u001b[38;5;241m=\u001b[39m np\u001b[38;5;241m.\u001b[39mnansum((ds\u001b[38;5;241m.\u001b[39mhFacC\u001b[38;5;241m*\u001b[39mds\u001b[38;5;241m.\u001b[39mdrF)\u001b[38;5;241m.\u001b[39misel(k\u001b[38;5;241m=\u001b[39m\u001b[38;5;28mslice\u001b[39m(\u001b[38;5;241m0\u001b[39m,k_ind)))\n\u001b[1;32m      8\u001b[0m depth_currlevel \u001b[38;5;241m=\u001b[39m (ds\u001b[38;5;241m.\u001b[39mhFacC\u001b[38;5;241m*\u001b[39mds\u001b[38;5;241m.\u001b[39mdrF)\u001b[38;5;241m.\u001b[39misel(k\u001b[38;5;241m=\u001b[39mk_ind)\n\u001b[1;32m      9\u001b[0m temp_cum_depthavg \u001b[38;5;241m=\u001b[39m \u001b[43m(\u001b[49m\u001b[43m(\u001b[49m\u001b[43m(\u001b[49m\u001b[43mdepth_allabove\u001b[49m\u001b[38;5;241;43m*\u001b[39;49m\u001b[43mtemp_cum_depthavg\u001b[49m\u001b[43m)\u001b[49m\u001b[43m\\\u001b[49m\n\u001b[1;32m     10\u001b[0m \u001b[43m                     \u001b[49m\u001b[38;5;241;43m+\u001b[39;49m\u001b[43m \u001b[49m\u001b[43m(\u001b[49m\u001b[43mdepth_currlevel\u001b[49m\u001b[38;5;241;43m*\u001b[39;49m\u001b[43mds\u001b[49m\u001b[38;5;241;43m.\u001b[39;49m\u001b[43mTHETA\u001b[49m\u001b[38;5;241;43m.\u001b[39;49m\u001b[43misel\u001b[49m\u001b[43m(\u001b[49m\u001b[43mk\u001b[49m\u001b[38;5;241;43m=\u001b[39;49m\u001b[43mk_ind\u001b[49m\u001b[43m)\u001b[49m\u001b[43m)\u001b[49m\u001b[43m)\u001b[49m\u001b[43m\\\u001b[49m\n\u001b[0;32m---> 11\u001b[0m \u001b[43m                        \u001b[49m\u001b[38;5;241;43m/\u001b[39;49m\u001b[43m(\u001b[49m\u001b[43mdepth_allabove\u001b[49m\u001b[43m \u001b[49m\u001b[38;5;241;43m+\u001b[39;49m\u001b[43m \u001b[49m\u001b[43mdepth_currlevel\u001b[49m\u001b[43m)\u001b[49m\u001b[43m)\u001b[49m\u001b[38;5;241;43m.\u001b[39;49m\u001b[43mcompute\u001b[49m\u001b[43m(\u001b[49m\u001b[43m)\u001b[49m\n\u001b[1;32m     12\u001b[0m memory_log\u001b[38;5;241m.\u001b[39mappend(psutil\u001b[38;5;241m.\u001b[39mvirtual_memory()\u001b[38;5;241m.\u001b[39mavailable)\n\u001b[1;32m     13\u001b[0m \u001b[38;5;28mprint\u001b[39m(\u001b[38;5;124m'\u001b[39m\u001b[38;5;124mChange in available memory: \u001b[39m\u001b[38;5;124m'\u001b[39m,np\u001b[38;5;241m.\u001b[39mdiff(memory_log[\u001b[38;5;241m-\u001b[39m\u001b[38;5;241m2\u001b[39m:])[\u001b[38;5;241m0\u001b[39m]\u001b[38;5;241m/\u001b[39m(\u001b[38;5;241m2\u001b[39m\u001b[38;5;241m*\u001b[39m\u001b[38;5;241m*\u001b[39m\u001b[38;5;241m20\u001b[39m),\u001b[38;5;124m'\u001b[39m\u001b[38;5;124m MB\u001b[39m\u001b[38;5;124m'\u001b[39m)\n",
      "File \u001b[0;32m~/miniforge3/envs/jupyter/lib/python3.12/site-packages/xarray/core/dataarray.py:1178\u001b[0m, in \u001b[0;36mDataArray.compute\u001b[0;34m(self, **kwargs)\u001b[0m\n\u001b[1;32m   1153\u001b[0m \u001b[38;5;250m\u001b[39m\u001b[38;5;124;03m\"\"\"Manually trigger loading of this array's data from disk or a\u001b[39;00m\n\u001b[1;32m   1154\u001b[0m \u001b[38;5;124;03mremote source into memory and return a new array.\u001b[39;00m\n\u001b[1;32m   1155\u001b[0m \n\u001b[0;32m   (...)\u001b[0m\n\u001b[1;32m   1175\u001b[0m \u001b[38;5;124;03mdask.compute\u001b[39;00m\n\u001b[1;32m   1176\u001b[0m \u001b[38;5;124;03m\"\"\"\u001b[39;00m\n\u001b[1;32m   1177\u001b[0m new \u001b[38;5;241m=\u001b[39m \u001b[38;5;28mself\u001b[39m\u001b[38;5;241m.\u001b[39mcopy(deep\u001b[38;5;241m=\u001b[39m\u001b[38;5;28;01mFalse\u001b[39;00m)\n\u001b[0;32m-> 1178\u001b[0m \u001b[38;5;28;01mreturn\u001b[39;00m \u001b[43mnew\u001b[49m\u001b[38;5;241;43m.\u001b[39;49m\u001b[43mload\u001b[49m\u001b[43m(\u001b[49m\u001b[38;5;241;43m*\u001b[39;49m\u001b[38;5;241;43m*\u001b[39;49m\u001b[43mkwargs\u001b[49m\u001b[43m)\u001b[49m\n",
      "File \u001b[0;32m~/miniforge3/envs/jupyter/lib/python3.12/site-packages/xarray/core/dataarray.py:1146\u001b[0m, in \u001b[0;36mDataArray.load\u001b[0;34m(self, **kwargs)\u001b[0m\n\u001b[1;32m   1126\u001b[0m \u001b[38;5;28;01mdef\u001b[39;00m \u001b[38;5;21mload\u001b[39m(\u001b[38;5;28mself\u001b[39m, \u001b[38;5;241m*\u001b[39m\u001b[38;5;241m*\u001b[39mkwargs) \u001b[38;5;241m-\u001b[39m\u001b[38;5;241m>\u001b[39m Self:\n\u001b[1;32m   1127\u001b[0m \u001b[38;5;250m    \u001b[39m\u001b[38;5;124;03m\"\"\"Manually trigger loading of this array's data from disk or a\u001b[39;00m\n\u001b[1;32m   1128\u001b[0m \u001b[38;5;124;03m    remote source into memory and return this array.\u001b[39;00m\n\u001b[1;32m   1129\u001b[0m \n\u001b[0;32m   (...)\u001b[0m\n\u001b[1;32m   1144\u001b[0m \u001b[38;5;124;03m    dask.compute\u001b[39;00m\n\u001b[1;32m   1145\u001b[0m \u001b[38;5;124;03m    \"\"\"\u001b[39;00m\n\u001b[0;32m-> 1146\u001b[0m     ds \u001b[38;5;241m=\u001b[39m \u001b[38;5;28;43mself\u001b[39;49m\u001b[38;5;241;43m.\u001b[39;49m\u001b[43m_to_temp_dataset\u001b[49m\u001b[43m(\u001b[49m\u001b[43m)\u001b[49m\u001b[38;5;241;43m.\u001b[39;49m\u001b[43mload\u001b[49m\u001b[43m(\u001b[49m\u001b[38;5;241;43m*\u001b[39;49m\u001b[38;5;241;43m*\u001b[39;49m\u001b[43mkwargs\u001b[49m\u001b[43m)\u001b[49m\n\u001b[1;32m   1147\u001b[0m     new \u001b[38;5;241m=\u001b[39m \u001b[38;5;28mself\u001b[39m\u001b[38;5;241m.\u001b[39m_from_temp_dataset(ds)\n\u001b[1;32m   1148\u001b[0m     \u001b[38;5;28mself\u001b[39m\u001b[38;5;241m.\u001b[39m_variable \u001b[38;5;241m=\u001b[39m new\u001b[38;5;241m.\u001b[39m_variable\n",
      "File \u001b[0;32m~/miniforge3/envs/jupyter/lib/python3.12/site-packages/xarray/core/dataset.py:862\u001b[0m, in \u001b[0;36mDataset.load\u001b[0;34m(self, **kwargs)\u001b[0m\n\u001b[1;32m    859\u001b[0m chunkmanager \u001b[38;5;241m=\u001b[39m get_chunked_array_type(\u001b[38;5;241m*\u001b[39mlazy_data\u001b[38;5;241m.\u001b[39mvalues())\n\u001b[1;32m    861\u001b[0m \u001b[38;5;66;03m# evaluate all the chunked arrays simultaneously\u001b[39;00m\n\u001b[0;32m--> 862\u001b[0m evaluated_data: \u001b[38;5;28mtuple\u001b[39m[np\u001b[38;5;241m.\u001b[39mndarray[Any, Any], \u001b[38;5;241m.\u001b[39m\u001b[38;5;241m.\u001b[39m\u001b[38;5;241m.\u001b[39m] \u001b[38;5;241m=\u001b[39m \u001b[43mchunkmanager\u001b[49m\u001b[38;5;241;43m.\u001b[39;49m\u001b[43mcompute\u001b[49m\u001b[43m(\u001b[49m\n\u001b[1;32m    863\u001b[0m \u001b[43m    \u001b[49m\u001b[38;5;241;43m*\u001b[39;49m\u001b[43mlazy_data\u001b[49m\u001b[38;5;241;43m.\u001b[39;49m\u001b[43mvalues\u001b[49m\u001b[43m(\u001b[49m\u001b[43m)\u001b[49m\u001b[43m,\u001b[49m\u001b[43m \u001b[49m\u001b[38;5;241;43m*\u001b[39;49m\u001b[38;5;241;43m*\u001b[39;49m\u001b[43mkwargs\u001b[49m\n\u001b[1;32m    864\u001b[0m \u001b[43m\u001b[49m\u001b[43m)\u001b[49m\n\u001b[1;32m    866\u001b[0m \u001b[38;5;28;01mfor\u001b[39;00m k, data \u001b[38;5;129;01min\u001b[39;00m \u001b[38;5;28mzip\u001b[39m(lazy_data, evaluated_data):\n\u001b[1;32m    867\u001b[0m     \u001b[38;5;28mself\u001b[39m\u001b[38;5;241m.\u001b[39mvariables[k]\u001b[38;5;241m.\u001b[39mdata \u001b[38;5;241m=\u001b[39m data\n",
      "File \u001b[0;32m~/miniforge3/envs/jupyter/lib/python3.12/site-packages/xarray/namedarray/daskmanager.py:86\u001b[0m, in \u001b[0;36mDaskManager.compute\u001b[0;34m(self, *data, **kwargs)\u001b[0m\n\u001b[1;32m     81\u001b[0m \u001b[38;5;28;01mdef\u001b[39;00m \u001b[38;5;21mcompute\u001b[39m(\n\u001b[1;32m     82\u001b[0m     \u001b[38;5;28mself\u001b[39m, \u001b[38;5;241m*\u001b[39mdata: Any, \u001b[38;5;241m*\u001b[39m\u001b[38;5;241m*\u001b[39mkwargs: Any\n\u001b[1;32m     83\u001b[0m ) \u001b[38;5;241m-\u001b[39m\u001b[38;5;241m>\u001b[39m \u001b[38;5;28mtuple\u001b[39m[np\u001b[38;5;241m.\u001b[39mndarray[Any, _DType_co], \u001b[38;5;241m.\u001b[39m\u001b[38;5;241m.\u001b[39m\u001b[38;5;241m.\u001b[39m]:\n\u001b[1;32m     84\u001b[0m     \u001b[38;5;28;01mfrom\u001b[39;00m \u001b[38;5;21;01mdask\u001b[39;00m\u001b[38;5;21;01m.\u001b[39;00m\u001b[38;5;21;01marray\u001b[39;00m \u001b[38;5;28;01mimport\u001b[39;00m compute\n\u001b[0;32m---> 86\u001b[0m     \u001b[38;5;28;01mreturn\u001b[39;00m \u001b[43mcompute\u001b[49m\u001b[43m(\u001b[49m\u001b[38;5;241;43m*\u001b[39;49m\u001b[43mdata\u001b[49m\u001b[43m,\u001b[49m\u001b[43m \u001b[49m\u001b[38;5;241;43m*\u001b[39;49m\u001b[38;5;241;43m*\u001b[39;49m\u001b[43mkwargs\u001b[49m\u001b[43m)\u001b[49m\n",
      "File \u001b[0;32m~/miniforge3/envs/jupyter/lib/python3.12/site-packages/dask/base.py:661\u001b[0m, in \u001b[0;36mcompute\u001b[0;34m(traverse, optimize_graph, scheduler, get, *args, **kwargs)\u001b[0m\n\u001b[1;32m    658\u001b[0m     postcomputes\u001b[38;5;241m.\u001b[39mappend(x\u001b[38;5;241m.\u001b[39m__dask_postcompute__())\n\u001b[1;32m    660\u001b[0m \u001b[38;5;28;01mwith\u001b[39;00m shorten_traceback():\n\u001b[0;32m--> 661\u001b[0m     results \u001b[38;5;241m=\u001b[39m \u001b[43mschedule\u001b[49m\u001b[43m(\u001b[49m\u001b[43mdsk\u001b[49m\u001b[43m,\u001b[49m\u001b[43m \u001b[49m\u001b[43mkeys\u001b[49m\u001b[43m,\u001b[49m\u001b[43m \u001b[49m\u001b[38;5;241;43m*\u001b[39;49m\u001b[38;5;241;43m*\u001b[39;49m\u001b[43mkwargs\u001b[49m\u001b[43m)\u001b[49m\n\u001b[1;32m    663\u001b[0m \u001b[38;5;28;01mreturn\u001b[39;00m repack([f(r, \u001b[38;5;241m*\u001b[39ma) \u001b[38;5;28;01mfor\u001b[39;00m r, (f, a) \u001b[38;5;129;01min\u001b[39;00m \u001b[38;5;28mzip\u001b[39m(results, postcomputes)])\n",
      "File \u001b[0;32m~/miniforge3/envs/jupyter/lib/python3.12/queue.py:171\u001b[0m, in \u001b[0;36mQueue.get\u001b[0;34m(self, block, timeout)\u001b[0m\n\u001b[1;32m    169\u001b[0m \u001b[38;5;28;01melif\u001b[39;00m timeout \u001b[38;5;129;01mis\u001b[39;00m \u001b[38;5;28;01mNone\u001b[39;00m:\n\u001b[1;32m    170\u001b[0m     \u001b[38;5;28;01mwhile\u001b[39;00m \u001b[38;5;129;01mnot\u001b[39;00m \u001b[38;5;28mself\u001b[39m\u001b[38;5;241m.\u001b[39m_qsize():\n\u001b[0;32m--> 171\u001b[0m         \u001b[38;5;28;43mself\u001b[39;49m\u001b[38;5;241;43m.\u001b[39;49m\u001b[43mnot_empty\u001b[49m\u001b[38;5;241;43m.\u001b[39;49m\u001b[43mwait\u001b[49m\u001b[43m(\u001b[49m\u001b[43m)\u001b[49m\n\u001b[1;32m    172\u001b[0m \u001b[38;5;28;01melif\u001b[39;00m timeout \u001b[38;5;241m<\u001b[39m \u001b[38;5;241m0\u001b[39m:\n\u001b[1;32m    173\u001b[0m     \u001b[38;5;28;01mraise\u001b[39;00m \u001b[38;5;167;01mValueError\u001b[39;00m(\u001b[38;5;124m\"\u001b[39m\u001b[38;5;124m'\u001b[39m\u001b[38;5;124mtimeout\u001b[39m\u001b[38;5;124m'\u001b[39m\u001b[38;5;124m must be a non-negative number\u001b[39m\u001b[38;5;124m\"\u001b[39m)\n",
      "File \u001b[0;32m~/miniforge3/envs/jupyter/lib/python3.12/threading.py:355\u001b[0m, in \u001b[0;36mCondition.wait\u001b[0;34m(self, timeout)\u001b[0m\n\u001b[1;32m    353\u001b[0m \u001b[38;5;28;01mtry\u001b[39;00m:    \u001b[38;5;66;03m# restore state no matter what (e.g., KeyboardInterrupt)\u001b[39;00m\n\u001b[1;32m    354\u001b[0m     \u001b[38;5;28;01mif\u001b[39;00m timeout \u001b[38;5;129;01mis\u001b[39;00m \u001b[38;5;28;01mNone\u001b[39;00m:\n\u001b[0;32m--> 355\u001b[0m         \u001b[43mwaiter\u001b[49m\u001b[38;5;241;43m.\u001b[39;49m\u001b[43macquire\u001b[49m\u001b[43m(\u001b[49m\u001b[43m)\u001b[49m\n\u001b[1;32m    356\u001b[0m         gotit \u001b[38;5;241m=\u001b[39m \u001b[38;5;28;01mTrue\u001b[39;00m\n\u001b[1;32m    357\u001b[0m     \u001b[38;5;28;01melse\u001b[39;00m:\n",
      "\u001b[0;31mKeyboardInterrupt\u001b[0m: "
     ]
    }
   ],
   "source": [
    "# compute cumulative depth-weighted average of temperature for top 10 depth levels, and track memory usage\n",
    "memory_log = [psutil.virtual_memory().available]\n",
    "temp_cum_depthavg = ds.THETA.isel(k=0).compute()\n",
    "memory_log.append(psutil.virtual_memory().available)\n",
    "print('Change in available memory: ',np.diff(memory_log[-2:])[0]/(10**6),' MB')\n",
    "for k_ind in range(1,10):\n",
    "    depth_allabove = np.nansum((ds.hFacC*ds.drF).isel(k=slice(0,k_ind)))\n",
    "    depth_currlevel = (ds.hFacC*ds.drF).isel(k=k_ind)\n",
    "    temp_cum_depthavg = (((depth_allabove*temp_cum_depthavg)\\\n",
    "                         + (depth_currlevel*ds.THETA.isel(k=k_ind)))\\\n",
    "                            /(depth_allabove + depth_currlevel)).compute()\n",
    "    memory_log.append(psutil.virtual_memory().available)\n",
    "    print('Change in available memory: ',np.diff(memory_log[-2:])[0]/(10**6),' MB')"
   ]
  },
  {
   "cell_type": "markdown",
   "id": "8b34d77c-ea44-4f85-a84e-7cde24a281ad",
   "metadata": {},
   "source": [
    "The way the code is written, only `temp_cum_depthavg` is actually computed and loaded into memory; since this array does not grow, the available memory should not change much after the 1st iteration of the loop. In reality though, data that is being loaded into the workspace using `open_mfdataset` is also being cached. The advantage of this is that if you then want to access the *same* data again it will load almost instantly. The disadvantage is that each loop iteration consumes more of your available memory.\n",
    "\n",
    "How do we fix this memory \"leak\"? There is an option to set `cache=False` when calling `open_mfdataset`, but I have not always found this to work. The solution that seems to work for me is to:\n",
    "\n",
    "- Close the dataset(s) where the data were first opened from files (in this case `ecco_TS`, not `ds`)\n",
    "\n",
    "- \"Re-open\" the dataset by calling `open_mfdataset` again, effectively overwriting the previous pointers (and cache)"
   ]
  },
  {
   "cell_type": "code",
   "execution_count": null,
   "id": "50fd4645-d656-44bc-a8ce-d6ae6acb40d5",
   "metadata": {},
   "outputs": [],
   "source": [
    "%%time\n",
    "\n",
    "memory_log = [psutil.virtual_memory().available]\n",
    "temp_cum_depthavg = ds.THETA.isel(k=0).compute()\n",
    "memory_log.append(psutil.virtual_memory().available)\n",
    "print('Change in available memory: ',np.diff(memory_log[-2:])[0]/(10**6),' MB')\n",
    "for k_ind in range(1,10):\n",
    "    \n",
    "    # close the \"original\" temperature dataset that the cache is associated with\n",
    "    ecco_TS.close()\n",
    "    # re-open the dataset, overwriting the previous pointers and cache\n",
    "    if incloud_access == True:\n",
    "        ecco_TS = xr.open_mfdataset(files_dict[ShortNames_list[1]],\\\n",
    "                                          data_vars='minimal',coords='minimal',compat='override')\n",
    "    else:\n",
    "        ecco_TS = xr.open_mfdataset(join(ECCO_dir,'*_TEMP_SALINITY_LLC0090GRID_MONTHLY*','*.nc'),\\\n",
    "                                               data_vars='minimal',coords='minimal',compat='override')\n",
    "\n",
    "    # repeat previous calculations and assess memory usage\n",
    "    depth_allabove = np.nansum((ds.hFacC*ds.drF).isel(k=slice(0,k_ind)))\n",
    "    depth_currlevel = (ds.hFacC*ds.drF).isel(k=k_ind)\n",
    "    temp_cum_depthavg = (((depth_allabove*temp_cum_depthavg)\\\n",
    "                         + (depth_currlevel*ds.THETA.isel(k=k_ind)))\\\n",
    "                            /(depth_allabove + depth_currlevel)).compute()\n",
    "    memory_log.append(psutil.virtual_memory().available)\n",
    "    print('Change in available memory: ',np.diff(memory_log[-2:])[0]/(10**6),' MB')"
   ]
  },
  {
   "cell_type": "markdown",
   "id": "ef669a71-ee98-475b-9704-7a6873d81241",
   "metadata": {},
   "source": [
    "This fixes our big memory leak (despite some variations in memory usage on each iteration). But calling `open_mfdataset` on each loop iteration could take a long time, especially if a lot of files are being opened (312 in this case).\n",
    "\n",
    "An easy solution to this slowdown in speed is to [pickle](https://docs.python.org/3/library/pickle.html) the dataset object. The dataset object is made up of a set of pointers; by \"pickling\" it we convert those pointers to a byte stream (with relatively little memory usage) that can be quickly unpacked, rather than `open_mfdataset` having to re-create these pointers each time."
   ]
  },
  {
   "cell_type": "code",
   "execution_count": null,
   "id": "288cdcfb-20de-4ff2-8c77-7fbfc0c38bf0",
   "metadata": {},
   "outputs": [],
   "source": [
    "%%time\n",
    "\n",
    "import pickle\n",
    "ecco_TS_pickled = pickle.dumps(ecco_TS)\n",
    "\n",
    "memory_log = [psutil.virtual_memory().available]\n",
    "temp_cum_depthavg = ds.THETA.isel(k=0).compute()\n",
    "memory_log.append(psutil.virtual_memory().available)\n",
    "print('Change in available memory: ',np.diff(memory_log[-2:])[0]/(10**6),' MB')\n",
    "for k_ind in range(1,10):\n",
    "    \n",
    "    # close the \"original\" temperature dataset that the cache is associated with\n",
    "    ecco_TS.close()\n",
    "    # re-open the dataset by \"un-pickling\" the pointers, overwriting the previous pointers and cache\n",
    "    ecco_TS = pickle.loads(ecco_TS_pickled)\n",
    "\n",
    "    # repeat previous calculations and assess memory usage\n",
    "    depth_allabove = np.nansum((ds.hFacC*ds.drF).isel(k=slice(0,k_ind)))\n",
    "    depth_currlevel = (ds.hFacC*ds.drF).isel(k=k_ind)\n",
    "    temp_cum_depthavg = (((depth_allabove*temp_cum_depthavg)\\\n",
    "                         + (depth_currlevel*ds.THETA.isel(k=k_ind)))\\\n",
    "                            /(depth_allabove + depth_currlevel)).compute()\n",
    "    memory_log.append(psutil.virtual_memory().available)\n",
    "    print('Change in available memory: ',np.diff(memory_log[-2:])[0]/(10**6),' MB')"
   ]
  }
 ],
 "metadata": {
  "kernelspec": {
   "display_name": "Python 3 (ipykernel)",
   "language": "python",
   "name": "python3"
  },
  "language_info": {
   "codemirror_mode": {
    "name": "ipython",
    "version": 3
   },
   "file_extension": ".py",
   "mimetype": "text/x-python",
   "name": "python",
   "nbconvert_exporter": "python",
   "pygments_lexer": "ipython3",
   "version": "3.12.3"
  }
 },
 "nbformat": 4,
 "nbformat_minor": 5
}
