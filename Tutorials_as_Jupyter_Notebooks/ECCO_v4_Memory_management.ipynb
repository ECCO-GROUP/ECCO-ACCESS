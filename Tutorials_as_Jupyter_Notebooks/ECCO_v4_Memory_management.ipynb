{
 "cells": [
  {
   "cell_type": "markdown",
   "id": "3da16745-245c-47c2-9cfd-ef831df10a38",
   "metadata": {},
   "source": [
    "# Memory management in Python\n",
    "Andrew Delman, updated 2024-07-26\n",
    "\n",
    "## Objectives\n",
    "Demonstrate how Python objects (variables) are stored in and cleared from memory, and establish good practices for conserving memory in a Python workspace.\n",
    "\n",
    "## Introduction\n",
    "Python is a very useful computing language for doing numerical analysis of large datasets, largely because of packages that have been developed specifically for this purpose. [Xarray](https://docs.xarray.dev/en/stable/) allows us to open data from a number of files using a single line of code (with `open_mfdataset`), while [Dask](https://www.dask.org/) makes it easy to parallelize computations and stagger memory usage by \"chunking\" the computations. However, we still need to be mindful of the memory limitations of our workspace, and there are some quirks to memory management in Python.\n",
    "\n",
    "## Datasets to download\n",
    "If you don't have them already, you may need to download the following datasets for the last part of this tutorial.\n",
    "\n",
    "- **ECCO_L4_GEOMETRY_LLC0090GRID_V4R4**\n",
    "- **ECCO_L4_TEMP_SALINITY_LLC0090GRID_MONTHLY_V4R4** (1992-2017)\n",
    "\n",
    "\n",
    "## View vs. copy\n",
    "In some numerical computing languages such as Matlab, assigning a new variable instantly creates an independent block of memory in our workspace associated with that variable. In Python, when you create a variable by assigning data from another variable, the assignment does not create a copy of that data. Rather, a pointer called a *view* is created from the new variable to the data in the original. This is the default behavior for native Python objects such as lists, tuples, and dictionaries, as well as [NumPy arrays](https://numpy.org/doc/stable/user/basics.copies.html).\n",
    "\n",
    "### Native Python object (list)\n",
    "Consider a simple list of 3 numbers"
   ]
  },
  {
   "cell_type": "code",
   "execution_count": 1,
   "id": "44e8f31c-2e4f-4816-992a-43c5e2727df1",
   "metadata": {},
   "outputs": [
    {
     "data": {
      "text/plain": [
       "[1, 2, 3]"
      ]
     },
     "execution_count": 1,
     "metadata": {},
     "output_type": "execute_result"
    }
   ],
   "source": [
    "test_list = [1,2,3]\n",
    "view_list = test_list\n",
    "view_list"
   ]
  },
  {
   "cell_type": "markdown",
   "id": "8a296388-8f57-4ad0-9b07-874ec212a2cc",
   "metadata": {},
   "source": [
    "We can see if `view_list` is read from the same object in memory as `test_list`, using the `is` operator."
   ]
  },
  {
   "cell_type": "code",
   "execution_count": 2,
   "id": "cbb28b19-cc69-407a-b138-df7bda5abe23",
   "metadata": {},
   "outputs": [
    {
     "data": {
      "text/plain": [
       "True"
      ]
     },
     "execution_count": 2,
     "metadata": {},
     "output_type": "execute_result"
    }
   ],
   "source": [
    "view_list is test_list"
   ]
  },
  {
   "cell_type": "markdown",
   "id": "0d0239a9-5686-4719-9a65-4c972b44577d",
   "metadata": {},
   "source": [
    "Not only that, because `view_list` is identical in memory space to `test_list`, when `view_list` is modified `test_list` is modified as well."
   ]
  },
  {
   "cell_type": "code",
   "execution_count": 3,
   "id": "db8da8a2-765a-40a3-8935-550e8ef5ebff",
   "metadata": {},
   "outputs": [
    {
     "data": {
      "text/plain": [
       "[1, 4, 3]"
      ]
     },
     "execution_count": 3,
     "metadata": {},
     "output_type": "execute_result"
    }
   ],
   "source": [
    "view_list[1] = 4\n",
    "test_list"
   ]
  },
  {
   "cell_type": "markdown",
   "id": "867aa11d-9aad-4c38-978d-09f03de0035d",
   "metadata": {},
   "source": [
    "Compare this with creating a *copy* of `test_list`. There is a `copy` package that does this in Python, but you can also create a copy just by appending `.copy()`, or by using an operator on the right-hand side of the assignment. For example, we can \"append\" an empty list to create a copy."
   ]
  },
  {
   "cell_type": "code",
   "execution_count": 4,
   "id": "614602d1-98d8-428c-8389-b1e3870dbfa0",
   "metadata": {},
   "outputs": [
    {
     "data": {
      "text/plain": [
       "[1, 2, 3]"
      ]
     },
     "execution_count": 4,
     "metadata": {},
     "output_type": "execute_result"
    }
   ],
   "source": [
    "test_list = [1,2,3]\n",
    "copy_list = test_list + []\n",
    "copy_list"
   ]
  },
  {
   "cell_type": "markdown",
   "id": "556956c0-7644-4ef3-938a-a1b62bc3b97b",
   "metadata": {},
   "source": [
    "Note that if we use the `==` operator, which compares the *values* of the two objects, the result is True."
   ]
  },
  {
   "cell_type": "code",
   "execution_count": 5,
   "id": "feba8d0b-83a0-497d-bf95-30198f3a621d",
   "metadata": {},
   "outputs": [
    {
     "data": {
      "text/plain": [
       "True"
      ]
     },
     "execution_count": 5,
     "metadata": {},
     "output_type": "execute_result"
    }
   ],
   "source": [
    "copy_list == test_list"
   ]
  },
  {
   "cell_type": "markdown",
   "id": "85e53629-b3f5-45f6-9162-90227dc4579a",
   "metadata": {},
   "source": [
    "But if we compare using the `is` operator, we find that the two objects are independent."
   ]
  },
  {
   "cell_type": "code",
   "execution_count": 6,
   "id": "4e363950-d626-4441-b509-5064f97cbed5",
   "metadata": {},
   "outputs": [
    {
     "data": {
      "text/plain": [
       "False"
      ]
     },
     "execution_count": 6,
     "metadata": {},
     "output_type": "execute_result"
    }
   ],
   "source": [
    "copy_list is test_list"
   ]
  },
  {
   "cell_type": "markdown",
   "id": "d5c04f54-ff5a-49b6-b3b8-e1a7a2b5bc56",
   "metadata": {},
   "source": [
    "And so if `copy_list` is modified, `test_list` is not changed."
   ]
  },
  {
   "cell_type": "code",
   "execution_count": 7,
   "id": "ff8fef45-8697-4a92-8696-78747e92ad8d",
   "metadata": {},
   "outputs": [
    {
     "data": {
      "text/plain": [
       "[1, 2, 3]"
      ]
     },
     "execution_count": 7,
     "metadata": {},
     "output_type": "execute_result"
    }
   ],
   "source": [
    "copy_list[1] = 4\n",
    "test_list"
   ]
  },
  {
   "cell_type": "markdown",
   "id": "5c0313f2-b87b-4ff8-a4bf-f2ac63dde90c",
   "metadata": {},
   "source": [
    "### NumPy arrays\n",
    "\n",
    "Views or copies of NumPy arrays can be created using the same general syntax used above."
   ]
  },
  {
   "cell_type": "code",
   "execution_count": 8,
   "id": "85cefeb9-649f-45f9-8b42-0fe75ca391de",
   "metadata": {},
   "outputs": [
    {
     "data": {
      "text/plain": [
       "array([1, 2, 3])"
      ]
     },
     "execution_count": 8,
     "metadata": {},
     "output_type": "execute_result"
    }
   ],
   "source": [
    "import numpy as np\n",
    "\n",
    "test_array = np.array([1,2,3])\n",
    "view_array = test_array\n",
    "view_array"
   ]
  },
  {
   "cell_type": "code",
   "execution_count": 9,
   "id": "ebc1150a-57c9-47e3-a30b-2f437607891e",
   "metadata": {},
   "outputs": [
    {
     "data": {
      "text/plain": [
       "True"
      ]
     },
     "execution_count": 9,
     "metadata": {},
     "output_type": "execute_result"
    }
   ],
   "source": [
    "view_array is test_array"
   ]
  },
  {
   "cell_type": "code",
   "execution_count": 10,
   "id": "0801b572-07ef-4640-8234-2823c84b4924",
   "metadata": {},
   "outputs": [
    {
     "data": {
      "text/plain": [
       "array([1, 4, 3])"
      ]
     },
     "execution_count": 10,
     "metadata": {},
     "output_type": "execute_result"
    }
   ],
   "source": [
    "view_array[1] = 4\n",
    "test_array"
   ]
  },
  {
   "cell_type": "code",
   "execution_count": 11,
   "id": "8397b050-474f-4cd1-9b47-08a3cdf29f64",
   "metadata": {},
   "outputs": [
    {
     "data": {
      "text/plain": [
       "array([1, 2, 3])"
      ]
     },
     "execution_count": 11,
     "metadata": {},
     "output_type": "execute_result"
    }
   ],
   "source": [
    "test_array = np.array([1,2,3])\n",
    "copy_array = test_array + 0\n",
    "copy_array"
   ]
  },
  {
   "cell_type": "code",
   "execution_count": 12,
   "id": "1d880c4e-f5c6-4b79-95a3-f590644f0841",
   "metadata": {},
   "outputs": [
    {
     "data": {
      "text/plain": [
       "array([ True,  True,  True])"
      ]
     },
     "execution_count": 12,
     "metadata": {},
     "output_type": "execute_result"
    }
   ],
   "source": [
    "copy_array == test_array"
   ]
  },
  {
   "cell_type": "code",
   "execution_count": 13,
   "id": "13c0a673-d67a-4cc2-aac8-c8b625e38c1b",
   "metadata": {},
   "outputs": [
    {
     "data": {
      "text/plain": [
       "False"
      ]
     },
     "execution_count": 13,
     "metadata": {},
     "output_type": "execute_result"
    }
   ],
   "source": [
    "copy_array is test_array"
   ]
  },
  {
   "cell_type": "code",
   "execution_count": 14,
   "id": "82253592-b2f0-4606-9a1a-aa7f86d3ead0",
   "metadata": {},
   "outputs": [
    {
     "data": {
      "text/plain": [
       "array([1, 2, 3])"
      ]
     },
     "execution_count": 14,
     "metadata": {},
     "output_type": "execute_result"
    }
   ],
   "source": [
    "copy_array[1] = 4\n",
    "test_array"
   ]
  },
  {
   "cell_type": "markdown",
   "id": "579b8d77-0b86-4cb8-ba7c-e37134bc6774",
   "metadata": {},
   "source": [
    "For NumPy arrays, views or copies can also be created by appending `view()` or `copy()` to the variable name."
   ]
  },
  {
   "cell_type": "markdown",
   "id": "9115770f-97b8-4284-801d-c2fbe832b669",
   "metadata": {},
   "source": [
    "## Memory footprint\n",
    "\n",
    "As the examples above showed, understanding the difference between a view and a copy is important to ensure your code is working the way you think it should be. Python's capacity to reference an object without creating a separate copy of it is also a helpful memory-saver. But there are other ways to create a Python object without writing its data to memory. Let's consider the memory footprint of two types of arrays: NumPy arrays and [Dask arrays](https://docs.dask.org/en/stable/array.html).\n",
    "> **Note**: There are a number of tools that can be used to estimate the memory footprint of an object in Python, such as the object's `__sizeof__` method, `sys.getsizeof`, and `pympler.asizeof`. To get the most accurate estimate of actual memory usage in the workspace, in this tutorial we use `psutil.virtual_memory` from the [psutil]((https://psutil.readthedocs.io/en/latest/#memory) package. This function tells us the memory available, and then we can track how it changes.\n",
    "\n",
    "\n"
   ]
  },
  {
   "cell_type": "code",
   "execution_count": 1,
   "id": "449a8b98-3d83-4ce5-a719-375644e816f5",
   "metadata": {},
   "outputs": [
    {
     "data": {
      "text/plain": [
       "svmem(total=7952175104, available=6128279552, percent=22.9, used=1557368832, free=4434362368, active=1023467520, inactive=1888858112, buffers=2154496, cached=1958289408, shared=8822784, slab=115748864)"
      ]
     },
     "execution_count": 1,
     "metadata": {},
     "output_type": "execute_result"
    }
   ],
   "source": [
    "import numpy as np\n",
    "import xarray as xr\n",
    "import psutil\n",
    "import os\n",
    "\n",
    "# memory stats (in bytes)\n",
    "psutil.virtual_memory()"
   ]
  },
  {
   "cell_type": "markdown",
   "id": "d81d6d5d-3a2f-4c2a-89b8-c1f13a738a69",
   "metadata": {},
   "source": [
    "The above output gives us a variety of information about the memory in our system. We will be tracking the available memory (given as bytes in the tuple above).\n",
    "\n",
    "### NumPy arrays\n",
    "Consider the view/copy distinction in the previous section, but with larger arrays."
   ]
  },
  {
   "cell_type": "code",
   "execution_count": 2,
   "id": "e3cbc599-bd38-4ecd-b2ea-68b05dc7add9",
   "metadata": {},
   "outputs": [
    {
     "name": "stdout",
     "output_type": "stream",
     "text": [
      "Change in available memory:  -8.302592  MB\n"
     ]
    }
   ],
   "source": [
    "memory_log = [psutil.virtual_memory()]\n",
    "test_array = np.reshape(np.arange(0,1000000),(1000,1000)).astype('float64')\n",
    "memory_log.append(psutil.virtual_memory())\n",
    "print('Change in available memory: ',np.diff(np.asarray([memory_log[ind].available\\\n",
    "                                                         for ind in range(-2,0)]))[0]/(10**6),' MB')"
   ]
  },
  {
   "cell_type": "markdown",
   "id": "7f41a2b5-c599-46d4-a075-53133693bec5",
   "metadata": {},
   "source": [
    "The change in our available memory is about 8 MB, which is what we would expect for an array with $10^6$ entries of type float64 (8 bytes each). How does our available memory change if we create a view of this array?"
   ]
  },
  {
   "cell_type": "code",
   "execution_count": 3,
   "id": "dafaa9d4-cf7b-42c6-8bf0-3dd945a45b17",
   "metadata": {},
   "outputs": [
    {
     "name": "stdout",
     "output_type": "stream",
     "text": [
      "Change in available memory:  -0.14336  MB\n"
     ]
    }
   ],
   "source": [
    "view_array = test_array\n",
    "memory_log.append(psutil.virtual_memory())\n",
    "print('Change in available memory: ',np.diff(np.asarray([memory_log[ind].available\\\n",
    "                                                         for ind in range(-2,0)]))[0]/(10**6),' MB')"
   ]
  },
  {
   "cell_type": "markdown",
   "id": "b2ba24ae-1dcd-4c83-97ed-b36c1e4bc206",
   "metadata": {},
   "source": [
    "Effectively **zero** change! Note that we wouldn't expect the change to be identically zero, since a pointer has been created somewhere in memory. But the actual change in available memory depends not only on the memory footprint of new object(s) but on how Python allocates memory in response to those changes.\n",
    "\n",
    "Now what is the memory impact (footprint) from making a copy of this array?"
   ]
  },
  {
   "cell_type": "code",
   "execution_count": 4,
   "id": "cb681877-edbb-49fe-8ec9-77fc6a073387",
   "metadata": {},
   "outputs": [
    {
     "name": "stdout",
     "output_type": "stream",
     "text": [
      "Change in available memory:  -7.778304  MB\n"
     ]
    }
   ],
   "source": [
    "copy_array = test_array.copy()\n",
    "memory_log.append(psutil.virtual_memory())\n",
    "print('Change in available memory: ',np.diff(np.asarray([memory_log[ind].available\\\n",
    "                                                         for ind in range(-2,0)]))[0]/(10**6),' MB')"
   ]
  },
  {
   "cell_type": "markdown",
   "id": "18c51083-61c3-4be4-858c-6888b5b90712",
   "metadata": {},
   "source": [
    "Very close to the size of the original array.\n",
    "\n",
    "### Dask arrays and delayed computations\n",
    "\n",
    "You may have noticed that NumPy creates (non-memory consuming) views of an array only if:\n",
    "\n",
    "- the view references the original array without any operations applied to it, OR\n",
    "- the view references a subset of the original array using simple indexing\n",
    "\n",
    "So what if you want to create a \"view\" of an array that has been operated on in any variety of ways, while minimizing the memory impact until you are ready to actually \"execute\" the computations? Enter Dask arrays. Let's create a Dask array that is a view of our `test_array`, and then operate on it (take the square root)."
   ]
  },
  {
   "cell_type": "code",
   "execution_count": 5,
   "id": "7000d10d-0869-4707-aba8-36acf76a0b71",
   "metadata": {},
   "outputs": [
    {
     "name": "stdout",
     "output_type": "stream",
     "text": [
      "Change in available memory:  -0.086016  MB\n"
     ]
    }
   ],
   "source": [
    "import dask.array as da\n",
    "\n",
    "memory_log.append(psutil.virtual_memory())\n",
    "dask_test_array = da.from_array(test_array,chunks=(100,100))     # array has chunks of size 100x100\n",
    "dask_sqrt_array = dask_test_array**(1/2)\n",
    "memory_log.append(psutil.virtual_memory())\n",
    "print('Change in available memory: ',np.diff(np.asarray([memory_log[ind].available\\\n",
    "                                                         for ind in range(-2,0)]))[0]/(10**6),' MB')"
   ]
  },
  {
   "cell_type": "markdown",
   "id": "3b686fdd-8676-468e-b014-321bba9ab99f",
   "metadata": {},
   "source": [
    "No new memory usage from the two operations above. And now, we compute `dask_sqrt_array` so that it becomes a NumPy array in memory:"
   ]
  },
  {
   "cell_type": "code",
   "execution_count": 6,
   "id": "43a87672-8e75-43eb-8833-dd343a787d61",
   "metadata": {},
   "outputs": [
    {
     "name": "stdout",
     "output_type": "stream",
     "text": [
      "Change in available memory:  -26.877952  MB\n"
     ]
    }
   ],
   "source": [
    "sqrt_array_computed = dask_sqrt_array.compute()\n",
    "memory_log.append(psutil.virtual_memory())\n",
    "print('Change in available memory: ',np.diff(np.asarray([memory_log[ind].available\\\n",
    "                                                         for ind in range(-2,0)]))[0]/(10**6),' MB')"
   ]
  },
  {
   "cell_type": "markdown",
   "id": "033ac75e-8410-4065-bce4-6a76703b1e6c",
   "metadata": {},
   "source": [
    "Notice that the memory usage from calling `.compute` is larger than we would expect for the size of the array: (1000 x 1000 elements) x (8 bytes/element) $\\approx$ 8 MB. But there is some overhead associated with calling `.compute` for the first time in a notebook or Python script/function. What if we perform the same computation as above, using `copy_array` as our source since it is independent in memory?"
   ]
  },
  {
   "cell_type": "code",
   "execution_count": 7,
   "id": "5726c00b-1464-43c7-ac39-8a25cf632982",
   "metadata": {},
   "outputs": [
    {
     "name": "stdout",
     "output_type": "stream",
     "text": [
      "Change in available memory:  -8.728576  MB\n"
     ]
    }
   ],
   "source": [
    "dask_copy_array = da.from_array(copy_array,chunks=(100,100))     # array has chunks of size 100x100\n",
    "dask_copy_sqrt_array = dask_copy_array**(1/2)\n",
    "copy_sqrt_computed = dask_copy_sqrt_array.compute()\n",
    "memory_log.append(psutil.virtual_memory())\n",
    "print('Change in available memory: ',np.diff(np.asarray([memory_log[ind].available\\\n",
    "                                                         for ind in range(-2,0)]))[0]/(10**6),' MB')"
   ]
  },
  {
   "cell_type": "markdown",
   "id": "5e028a58-1b3c-487b-9cfc-a07b95e1f609",
   "metadata": {},
   "source": [
    "Much closer to our expected memory usage, since it is not the first time `.compute` has been called on a Dask array in this notebook.\n",
    "\n",
    "Let's try a \"reduction\" operation, where the computed result is smaller than the intermediate arrays involved. In this case we will take the square of `dask_test_array` and then sum over one of the dimensions."
   ]
  },
  {
   "cell_type": "code",
   "execution_count": 8,
   "id": "e4ab0345-024c-4807-9b6d-fed840764d25",
   "metadata": {},
   "outputs": [
    {
     "name": "stdout",
     "output_type": "stream",
     "text": [
      "Change in available memory:  -0.360448  MB\n"
     ]
    }
   ],
   "source": [
    "dask_sq_array = dask_test_array**2\n",
    "sq_sum_computed = (dask_sq_array.sum(axis=-1)).compute()\n",
    "memory_log.append(psutil.virtual_memory())\n",
    "print('Change in available memory: ',np.diff(np.asarray([memory_log[ind].available\\\n",
    "                                                         for ind in range(-2,0)]))[0]/(10**6),' MB')"
   ]
  },
  {
   "cell_type": "markdown",
   "id": "49b85896-7fb7-45ea-9edd-5ffa4a54db49",
   "metadata": {},
   "source": [
    "The memory usage is not as small as the expected size of `sq_sum_computed` (0.008 MB), but it is much smaller than the 8 MB that each of the intermediate arrays would have used if they were regular NumPy arrays. Calling `.compute` on a reduced array like this is where Dask really helps us save memory."
   ]
  },
  {
   "cell_type": "markdown",
   "id": "fd869072-102c-492f-a3fa-05fe92771ec0",
   "metadata": {},
   "source": [
    "## Deleting variables to free up memory\n",
    "\n",
    "Now let's say we want (or need) to increase our available memory by deleting some of the arrays that we just computed. In Matlab for example you might just call `clear variable` to free up the memory used by `variable`. But in Python it is not that simple, especially when Dask is involved.\n",
    "\n",
    "### NumPy cases (without Dask)\n",
    "\n",
    "Here we will compute (first using NumPy only) and then delete the square root of `test_array`, and compare the memory impacts to when we get Dask involved."
   ]
  },
  {
   "cell_type": "code",
   "execution_count": 9,
   "id": "c0cf9d59-a1c5-410a-b93d-4dec9946945f",
   "metadata": {},
   "outputs": [
    {
     "name": "stdout",
     "output_type": "stream",
     "text": [
      "Change in available memory:  -7.839744  MB\n",
      "Change in available memory:  -8.126464  MB\n",
      "Change in available memory:  0.0  MB\n"
     ]
    }
   ],
   "source": [
    "# restart the memory log\n",
    "memory_log = [psutil.virtual_memory()]\n",
    "\n",
    "# copy test_array (to create a fresh \"source\" for this calculation)\n",
    "test_numpy = test_array.copy()\n",
    "memory_log.append(psutil.virtual_memory())\n",
    "print('Change in available memory: ',np.diff(np.asarray([memory_log[ind].available\\\n",
    "                                                         for ind in range(-2,0)]))[0]/(10**6),' MB')\n",
    "\n",
    "# take the square root\n",
    "test_numpy_sqrt = test_numpy**(1/2)\n",
    "memory_log.append(psutil.virtual_memory())\n",
    "print('Change in available memory: ',np.diff(np.asarray([memory_log[ind].available\\\n",
    "                                                         for ind in range(-2,0)]))[0]/(10**6),' MB')\n",
    "\n",
    "# delete the new square root array\n",
    "del test_numpy_sqrt\n",
    "memory_log.append(psutil.virtual_memory())\n",
    "print('Change in available memory: ',np.diff(np.asarray([memory_log[ind].available\\\n",
    "                                                         for ind in range(-2,0)]))[0]/(10**6),' MB')"
   ]
  },
  {
   "cell_type": "markdown",
   "id": "3295af50-07fc-4c42-a146-9617a367da95",
   "metadata": {},
   "source": [
    "We created two new NumPy arrays in memory, and the footprint of each is ~8 MB, what we would expect. But when we deleted one of these arrays, we didn't recover its memory. Why?\n",
    "\n",
    "To understand this, let's consider how Python does [\"garbage collection\"](https://devguide.python.org/internals/garbage-collector/index.html). Each Python object has a certain number of references, which are created by equations/operational relationships to other objects). `del` decreases an object's reference count by 1, but the garbage collector will only free up memory associated with an object if the object **and** all objects it is associated with are zero.\n",
    "\n",
    "We can use `sys.getrefcount` to determine an object's number of references, but calling `sys.getrefcount` on an object also creates a temporary reference to that object. So the \"true\" number of references will be 1 less than the output of `sys.getrefcount`."
   ]
  },
  {
   "cell_type": "code",
   "execution_count": 10,
   "id": "cd3d4be9-d02e-416b-a669-93a26c789862",
   "metadata": {},
   "outputs": [
    {
     "name": "stdout",
     "output_type": "stream",
     "text": [
      "Change in available memory:  0.0  MB\n",
      "Reference count of test_numpy_sqrt:  1\n",
      "Reference count of test_numpy:  1\n"
     ]
    }
   ],
   "source": [
    "# Recover test_numpy_sqrt (since we didn't really delete it, it is still cached in memory)\n",
    "test_numpy_sqrt = test_numpy**(1/2)\n",
    "memory_log.append(psutil.virtual_memory())\n",
    "print('Change in available memory: ',np.diff(np.asarray([memory_log[ind].available\\\n",
    "                                                         for ind in range(-2,0)]))[0]/(10**6),' MB')\n",
    "\n",
    "import sys\n",
    "\n",
    "print('Reference count of test_numpy_sqrt: ',sys.getrefcount(test_numpy)-1)\n",
    "print('Reference count of test_numpy: ',sys.getrefcount(test_numpy)-1)"
   ]
  },
  {
   "cell_type": "markdown",
   "id": "924b1828-7e28-46ef-97c6-7a00e171632b",
   "metadata": {},
   "source": [
    "These arrays each have 1 reference, which means if we use `del` on both of them, and they are not referencing any other object, then we should be able to clear both of them from memory."
   ]
  },
  {
   "cell_type": "code",
   "execution_count": 11,
   "id": "2fa7a68c-61d5-4ec5-ae7a-a50cf2b8fc3b",
   "metadata": {},
   "outputs": [
    {
     "name": "stdout",
     "output_type": "stream",
     "text": [
      "Change in available memory:  15.74912  MB\n"
     ]
    }
   ],
   "source": [
    "del test_numpy_sqrt\n",
    "del test_numpy\n",
    "memory_log.append(psutil.virtual_memory())\n",
    "print('Change in available memory: ',np.diff(np.asarray([memory_log[ind].available\\\n",
    "                                                         for ind in range(-2,0)]))[0]/(10**6),' MB')"
   ]
  },
  {
   "cell_type": "markdown",
   "id": "ef4d87c5-f5b1-4255-a9ee-b0b140c658db",
   "metadata": {},
   "source": [
    "And indeed, we did recover almost 16 MB of memory, the equivalent of the 2 arrays.\n",
    "\n",
    "### Complications of Dask\n",
    "\n",
    "We just demonstrated that in NumPy, when you execute a line of code that involves multiple objects, you usually establish a reference between them so that to delete the memory content of one, you have to delete all of them. With Dask, it gets still more complicated. Let's try to delete `copy_sqrt_computed`, which has the same values as `test_numpy_sqrt` did but was computed using Dask arrays."
   ]
  },
  {
   "cell_type": "code",
   "execution_count": 12,
   "id": "025dc148-4ad1-4f80-83f0-53633a2523c8",
   "metadata": {},
   "outputs": [
    {
     "name": "stdout",
     "output_type": "stream",
     "text": [
      "Reference count of copy_sqrt_computed:  1\n",
      "Reference count of dask_copy_sqrt_array:  1\n",
      "Reference count of dask_copy_array:  1\n",
      "Reference count of copy_array:  102\n"
     ]
    }
   ],
   "source": [
    "print('Reference count of copy_sqrt_computed: ',sys.getrefcount(copy_sqrt_computed)-1)\n",
    "print('Reference count of dask_copy_sqrt_array: ',sys.getrefcount(dask_copy_sqrt_array)-1)\n",
    "print('Reference count of dask_copy_array: ',sys.getrefcount(dask_copy_array)-1)\n",
    "print('Reference count of copy_array: ',sys.getrefcount(copy_array)-1)"
   ]
  },
  {
   "cell_type": "markdown",
   "id": "28f97e53-0c09-4dc7-bf14-53b44a49d985",
   "metadata": {},
   "source": [
    "All of the above arrays are linked by a chain of references, and notice that `copy_array` has 102 references! How did that happen? The Dask array `dask_copy_array` consists of 10x10 = 100 chunks, each sourced from `copy_array`. Each of those chunks adds a reference to `copy_array`.\n",
    "\n",
    "Let's delete all of the above arrays, as we did in the previous case with NumPy. As we do this, we will also track the number of references to `copy_array`."
   ]
  },
  {
   "cell_type": "code",
   "execution_count": 13,
   "id": "d8995672-d4ed-4c75-abff-ece680a83bb1",
   "metadata": {},
   "outputs": [
    {
     "name": "stdout",
     "output_type": "stream",
     "text": [
      "Reference count of copy_array:  1\n",
      "Change in available memory:  -0.02048  MB\n"
     ]
    }
   ],
   "source": [
    "del copy_sqrt_computed\n",
    "del dask_copy_sqrt_array\n",
    "del dask_copy_array\n",
    "print('Reference count of copy_array: ',sys.getrefcount(copy_array)-1)\n",
    "del copy_array\n",
    "memory_log.append(psutil.virtual_memory())\n",
    "print('Change in available memory: ',np.diff(np.asarray([memory_log[ind].available\\\n",
    "                                                         for ind in range(-2,0)]))[0]/(10**6),' MB')"
   ]
  },
  {
   "cell_type": "markdown",
   "id": "9217b16e-bd28-4f8f-aeca-7a2e19209d6d",
   "metadata": {},
   "source": [
    "Now we deleted what would seem to be all the arrays that could be linked by references to `copy_sqrt_computed`, and still we haven't recovered memory!\n",
    "\n",
    "### Freeing up memory by saving to disk\n",
    "\n",
    "Python's memory management can be difficult to understand sometimes, especially when sophisticated packages like Dask are involved. But one way that an array's memory can be made available again is to save it to disk storage. Even if we don't need the array's data anymore, saving a NumPy array to a [.npz archive](https://numpy.org/doc/stable/reference/generated/numpy.savez.html) moves the array's reference away from the Dask array in the local workspace, to the newly created file.\n",
    "\n",
    "Let's try repeating the previous experiment by re-creating `copy_array` and make sure that new memory is being allocated for it. Don't ask me why we need to call `.copy` 3 times before new memory is allocated for the array; maybe you know the answer, but I don't!"
   ]
  },
  {
   "cell_type": "code",
   "execution_count": 14,
   "id": "c088e747-b282-4126-afb6-e935ce84ac81",
   "metadata": {},
   "outputs": [
    {
     "name": "stdout",
     "output_type": "stream",
     "text": [
      "Change in available memory:  0.0  MB\n"
     ]
    }
   ],
   "source": [
    "copy_array = test_array.copy()\n",
    "memory_log.append(psutil.virtual_memory())\n",
    "print('Change in available memory: ',np.diff(np.asarray([memory_log[ind].available\\\n",
    "                                                         for ind in range(-2,0)]))[0]/(10**6),' MB')"
   ]
  },
  {
   "cell_type": "code",
   "execution_count": 15,
   "id": "4c89148c-6e3f-4eb8-928c-52469aac99fa",
   "metadata": {},
   "outputs": [
    {
     "name": "stdout",
     "output_type": "stream",
     "text": [
      "Change in available memory:  0.0  MB\n"
     ]
    }
   ],
   "source": [
    "copy_array_2 = copy_array.copy()\n",
    "memory_log.append(psutil.virtual_memory())\n",
    "print('Change in available memory: ',np.diff(np.asarray([memory_log[ind].available\\\n",
    "                                                         for ind in range(-2,0)]))[0]/(10**6),' MB')"
   ]
  },
  {
   "cell_type": "code",
   "execution_count": 16,
   "id": "de5145b0-9496-4bbc-9bea-5d0d44aa213c",
   "metadata": {},
   "outputs": [
    {
     "name": "stdout",
     "output_type": "stream",
     "text": [
      "Change in available memory:  -7.7824  MB\n"
     ]
    }
   ],
   "source": [
    "copy_array_3 = copy_array_2.copy()\n",
    "memory_log.append(psutil.virtual_memory())\n",
    "print('Change in available memory: ',np.diff(np.asarray([memory_log[ind].available\\\n",
    "                                                         for ind in range(-2,0)]))[0]/(10**6),' MB')"
   ]
  },
  {
   "cell_type": "code",
   "execution_count": 17,
   "id": "33c046fb-f5ef-440b-bfe0-da86adaf889b",
   "metadata": {},
   "outputs": [
    {
     "name": "stdout",
     "output_type": "stream",
     "text": [
      "Change in available memory:  -10.11712  MB\n"
     ]
    }
   ],
   "source": [
    "# re-create the in-memory array copy_sqrt_computed\n",
    "dask_copy_array = da.from_array(copy_array_3,chunks=(100,100))     # array has chunks of size 100x100\n",
    "dask_copy_sqrt_array = dask_copy_array**(1/2)\n",
    "copy_sqrt_computed = dask_copy_sqrt_array.compute()\n",
    "memory_log.append(psutil.virtual_memory())\n",
    "print('Change in available memory: ',np.diff(np.asarray([memory_log[ind].available\\\n",
    "                                                         for ind in range(-2,0)]))[0]/(10**6),' MB')"
   ]
  },
  {
   "cell_type": "markdown",
   "id": "730c2a60-37a1-4578-bc4f-c61be2c442f2",
   "metadata": {},
   "source": [
    "Now that we finally re-created `copy_sqrt_computed`, let's remove its memory from our workspace by first saving it to `.npz`."
   ]
  },
  {
   "cell_type": "code",
   "execution_count": 18,
   "id": "85d79a0e-89d0-451e-a2c6-30f5796c5de1",
   "metadata": {},
   "outputs": [
    {
     "name": "stdout",
     "output_type": "stream",
     "text": [
      "Change in available memory from saving copy_sqrt_computed to disk:  -8.036352  MB\n",
      "Change in available memory from deleting copy_sqrt_computed:  15.880192  MB\n"
     ]
    }
   ],
   "source": [
    "# save copy_sqrt_computed to a .npz archive\n",
    "np.savez('copy_sqrt_array.npz',copy_sqrt_array=copy_sqrt_computed)\n",
    "memory_log.append(psutil.virtual_memory())\n",
    "print('Change in available memory from saving copy_sqrt_computed to disk: ',\\\n",
    "       np.diff(np.asarray([memory_log[ind].available\\\n",
    "         for ind in range(-2,0)]))[0]/(10**6),' MB')\n",
    "\n",
    "# delete the file that was just created (assuming it isn't needed later)\n",
    "os.remove('copy_sqrt_array.npz')\n",
    "\n",
    "# delete reference for copy_sqrt_computed\n",
    "del copy_sqrt_computed\n",
    "memory_log.append(psutil.virtual_memory())\n",
    "print('Change in available memory from deleting copy_sqrt_computed: ',\\\n",
    "       np.diff(np.asarray([memory_log[ind].available\\\n",
    "         for ind in range(-2,0)]))[0]/(10**6),' MB')"
   ]
  },
  {
   "cell_type": "markdown",
   "id": "a28031bf-6443-4ceb-afd7-2fa9b3547707",
   "metadata": {},
   "source": [
    "We recovered (most of) the memory associated with `copy_sqrt_computed`, though it required saving the array to disk first (which initially used more memory), and then deleting its reference. Does this procedure work with the other in-memory array `copy_array_3`?"
   ]
  },
  {
   "cell_type": "code",
   "execution_count": 19,
   "id": "35ed16ba-c19f-4b62-bdc7-37c7a23dcec1",
   "metadata": {},
   "outputs": [
    {
     "name": "stdout",
     "output_type": "stream",
     "text": [
      "Change in available memory from saving copy_array_3 to disk:  -7.753728  MB\n",
      "Change in available memory from deleting copy_array_3:  -0.118784  MB\n"
     ]
    }
   ],
   "source": [
    "# # try the same thing with copy_array_3\n",
    "\n",
    "# save NumPy array to a .npz archive\n",
    "np.savez('copy_array.npz',copy_array=copy_array_3)\n",
    "memory_log.append(psutil.virtual_memory())\n",
    "print('Change in available memory from saving copy_array_3 to disk: ',\\\n",
    "       np.diff(np.asarray([memory_log[ind].available\\\n",
    "         for ind in range(-2,0)]))[0]/(10**6),' MB')\n",
    "\n",
    "# delete the file that was just created (assuming it isn't needed later)\n",
    "os.remove('copy_array.npz')\n",
    "\n",
    "# delete references involving copy_array_3\n",
    "del dask_copy_sqrt_array\n",
    "del dask_copy_array\n",
    "del copy_array_3\n",
    "memory_log.append(psutil.virtual_memory())\n",
    "print('Change in available memory from deleting copy_array_3: ',\\\n",
    "       np.diff(np.asarray([memory_log[ind].available\\\n",
    "         for ind in range(-2,0)]))[0]/(10**6),' MB')"
   ]
  },
  {
   "cell_type": "markdown",
   "id": "1a84fa35-3bcd-4a59-a2a7-b07988f0aadd",
   "metadata": {},
   "source": [
    "The same procedure did not help to free up the memory from `copy_array_3`, which was probably too interconnected with Dask since a Dask array was created from it. Usually this is not a problem for memory management since we are more likely to load Dask arrays from files, rather than creating them from NumPy arrays already in memory.\n",
    "\n",
    "Let's take a look at the memory log and compare the case that did not involve Dask with the one that did."
   ]
  },
  {
   "cell_type": "code",
   "execution_count": 24,
   "id": "9ecd2aeb-667e-470f-b22e-03da5d24312e",
   "metadata": {},
   "outputs": [
    {
     "data": {
      "image/png": "[encoded data removed]",
      "text/plain": [
       "<Figure size 1200x700 with 2 Axes>"
      ]
     },
     "metadata": {},
     "output_type": "display_data"
    }
   ],
   "source": [
    "import matplotlib.pyplot as plt\n",
    "\n",
    "fig,ax = plt.subplots(1,2,figsize=(12,7))\n",
    "ax[0].plot((np.asarray([memory_log[ind].used for ind in range(0,6)])\\\n",
    "            - memory_log[0].used)/(10**6),color='r',label='used')\n",
    "ax[0].plot((np.asarray([memory_log[ind].available for ind in range(0,6)])\\\n",
    "            - memory_log[0].available)/(10**6),color='b',label='available')\n",
    "ax[0].set_ylim([-27,27])\n",
    "ax[0].axhline(y=0,color='k',lw=0.5)\n",
    "ax[0].set_xlabel('Memory log entry')\n",
    "ax[0].set_ylabel('Memory change since start (MB)')\n",
    "ax[0].legend()\n",
    "ax[0].set_title('No Dask')\n",
    "ax[1].plot((np.asarray([memory_log[ind].used for ind in range(8,15)])\\\n",
    "            - memory_log[8].used)/(10**6),color='r',label='used')\n",
    "ax[1].plot((np.asarray([memory_log[ind].available for ind in range(8,15)])\\\n",
    "            - memory_log[8].available)/(10**6),color='b',label='available')\n",
    "ax[1].set_ylim([-27,27])\n",
    "ax[1].axhline(y=0,color='k',lw=0.5)\n",
    "ax[1].set_xlabel('Memory log entry')\n",
    "ax[1].set_ylabel('Memory change since start (MB)')\n",
    "ax[1].legend()\n",
    "ax[1].set_title('With Dask')\n",
    "plt.show()"
   ]
  },
  {
   "cell_type": "markdown",
   "id": "6cc6978b-c31b-458b-a4e4-402588498f67",
   "metadata": {},
   "source": [
    "With NumPy only (no Dask) we were able to have effectively net zero memory usage at the end. With Dask we achieved a net loss of ~10 MB at entry #4 on the right (just over the size of one of the arrays) before losing more memory when saving `copy_array_3` to disk.\n",
    "\n",
    "It is worth remembering that Dask can also significantly *help* you limit the memory usage in your workspace (as we saw earlier with a [reduction operation](#Dask-arrays-and-delayed-computations))...just that you relinquish some control over memory management when using it."
   ]
  },
  {
   "cell_type": "markdown",
   "id": "92471d99-1fff-4508-aa7c-54846d82c7a0",
   "metadata": {},
   "source": [
    "## Xarray and memory management\n",
    "\n",
    "The [xarray](https://docs.xarray.dev/en/stable/) package can open data files as Dask arrays using `open_mfdataset`, which is very useful for limiting memory usage in your workspace. But `xarray.open_mfdataset` often caches data that is loaded from files, which can contribute to memory leaks that were not intended by the user. Consider a case where we are cumulatively averaging monthly ocean temperature from ECCO, one depth level at a time."
   ]
  },
  {
   "cell_type": "code",
   "execution_count": 1,
   "id": "bf3a8559-187b-4a4d-acb6-54de6c55bd1e",
   "metadata": {},
   "outputs": [
    {
     "ename": "NameError",
     "evalue": "name 'glob' is not defined",
     "output_type": "error",
     "traceback": [
      "\u001b[0;31m---------------------------------------------------------------------------\u001b[0m",
      "\u001b[0;31mNameError\u001b[0m                                 Traceback (most recent call last)",
      "Cell \u001b[0;32mIn[1], line 35\u001b[0m\n\u001b[1;32m     33\u001b[0m     ecco_grid \u001b[38;5;241m=\u001b[39m xr\u001b[38;5;241m.\u001b[39mopen_dataset(files_dict[ShortNames_list[\u001b[38;5;241m0\u001b[39m]])\n\u001b[1;32m     34\u001b[0m \u001b[38;5;28;01melse\u001b[39;00m:\n\u001b[0;32m---> 35\u001b[0m     ecco_grid \u001b[38;5;241m=\u001b[39m xr\u001b[38;5;241m.\u001b[39mopen_dataset(\u001b[43mglob\u001b[49m\u001b[38;5;241m.\u001b[39mglob(join(ECCO_dir,\u001b[38;5;124m'\u001b[39m\u001b[38;5;124m*GEOMETRY*\u001b[39m\u001b[38;5;124m'\u001b[39m,\u001b[38;5;124m'\u001b[39m\u001b[38;5;124m*.nc\u001b[39m\u001b[38;5;124m'\u001b[39m))[\u001b[38;5;241m0\u001b[39m])\n\u001b[1;32m     37\u001b[0m \u001b[38;5;66;03m## Open ECCO monthly mean T/S files\u001b[39;00m\n\u001b[1;32m     38\u001b[0m \u001b[38;5;28;01mif\u001b[39;00m incloud_access \u001b[38;5;241m==\u001b[39m \u001b[38;5;28;01mTrue\u001b[39;00m:\n",
      "\u001b[0;31mNameError\u001b[0m: name 'glob' is not defined"
     ]
    }
   ],
   "source": [
    "import numpy as np\n",
    "import xarray as xr\n",
    "from os.path import join,expanduser\n",
    "import glob\n",
    "import psutil\n",
    "\n",
    "user_home_dir = expanduser('~')\n",
    "\n",
    "# indicate whether you are working in a cloud instance (True if yes, False otherwise)\n",
    "incloud_access = False\n",
    "\n",
    "\n",
    "## Set top-level file directory for the ECCO NetCDF files\n",
    "## =================================================================\n",
    "\n",
    "## currently set to ~/Downloads/ECCO_V4r4_PODAAC, \n",
    "## the default if ecco_podaac_download was used to download dataset granules\n",
    "ECCO_dir = join(user_home_dir,'Downloads','ECCO_V4r4_PODAAC')\n",
    "\n",
    "\n",
    "\n",
    "ShortNames_list = [\"ECCO_L4_GEOMETRY_LLC0090GRID_V4R4\",\\\n",
    "                   \"ECCO_L4_TEMP_SALINITY_LLC0090GRID_MONTHLY_V4R4\"]\n",
    "# if working in the AWS cloud, download data to local instance if memory is available\n",
    "if incloud_access == True:\n",
    "    from ecco_s3_retrieve import ecco_podaac_s3_get_diskaware\n",
    "    files_dict = ecco_podaac_s3_get_diskaware(ShortNames=ShortNames_list,\\\n",
    "                                              StartDate='1992-01',EndDate='2017-12',\\\n",
    "                                              max_avail_frac=0.5,\\\n",
    "                                              download_root_dir=ECCO_dir)\n",
    "\n",
    "## Load the model grid\n",
    "if incloud_access == True:\n",
    "    ecco_grid = xr.open_dataset(files_dict[ShortNames_list[0]])\n",
    "else:\n",
    "    ecco_grid = xr.open_dataset(glob.glob(join(ECCO_dir,'*GEOMETRY*','*.nc'))[0])\n",
    "\n",
    "## Open ECCO monthly mean T/S files\n",
    "if incloud_access == True:\n",
    "    ecco_TS = xr.open_mfdataset(files_dict[ShortNames_list[1]],\\\n",
    "                                      data_vars='minimal',coords='minimal',compat='override')\n",
    "else:\n",
    "    ecco_TS = xr.open_mfdataset(join(ECCO_dir,'*_TEMP_SALINITY_LLC0090GRID_MONTHLY*','*.nc'),\\\n",
    "                                           data_vars='minimal',coords='minimal',compat='override')\n",
    "\n",
    "## re-chunk ecco_TS\n",
    "    ecco_TS = ecco_TS.chunk({'k':1})\n",
    "\n",
    "## merge grid and temperature datasets\n",
    "ds = xr.merge((ecco_grid,ecco_TS[['THETA']]))\n",
    "\n",
    "ds"
   ]
  },
  {
   "cell_type": "code",
   "execution_count": 2,
   "id": "89d405cd-523e-401e-89d3-a88523bcc1f8",
   "metadata": {},
   "outputs": [
    {
     "name": "stdout",
     "output_type": "stream",
     "text": [
      "Change in available memory:  -1879.03125  MB\n"
     ]
    },
    {
     "ename": "KeyboardInterrupt",
     "evalue": "",
     "output_type": "error",
     "traceback": [
      "\u001b[0;31m---------------------------------------------------------------------------\u001b[0m",
      "\u001b[0;31mKeyboardInterrupt\u001b[0m                         Traceback (most recent call last)",
      "Cell \u001b[0;32mIn[2], line 11\u001b[0m\n\u001b[1;32m      7\u001b[0m depth_allabove \u001b[38;5;241m=\u001b[39m np\u001b[38;5;241m.\u001b[39mnansum((ds\u001b[38;5;241m.\u001b[39mhFacC\u001b[38;5;241m*\u001b[39mds\u001b[38;5;241m.\u001b[39mdrF)\u001b[38;5;241m.\u001b[39misel(k\u001b[38;5;241m=\u001b[39m\u001b[38;5;28mslice\u001b[39m(\u001b[38;5;241m0\u001b[39m,k_ind)))\n\u001b[1;32m      8\u001b[0m depth_currlevel \u001b[38;5;241m=\u001b[39m (ds\u001b[38;5;241m.\u001b[39mhFacC\u001b[38;5;241m*\u001b[39mds\u001b[38;5;241m.\u001b[39mdrF)\u001b[38;5;241m.\u001b[39misel(k\u001b[38;5;241m=\u001b[39mk_ind)\n\u001b[1;32m      9\u001b[0m temp_cum_depthavg \u001b[38;5;241m=\u001b[39m \u001b[43m(\u001b[49m\u001b[43m(\u001b[49m\u001b[43m(\u001b[49m\u001b[43mdepth_allabove\u001b[49m\u001b[38;5;241;43m*\u001b[39;49m\u001b[43mtemp_cum_depthavg\u001b[49m\u001b[43m)\u001b[49m\u001b[43m\\\u001b[49m\n\u001b[1;32m     10\u001b[0m \u001b[43m                     \u001b[49m\u001b[38;5;241;43m+\u001b[39;49m\u001b[43m \u001b[49m\u001b[43m(\u001b[49m\u001b[43mdepth_currlevel\u001b[49m\u001b[38;5;241;43m*\u001b[39;49m\u001b[43mds\u001b[49m\u001b[38;5;241;43m.\u001b[39;49m\u001b[43mTHETA\u001b[49m\u001b[38;5;241;43m.\u001b[39;49m\u001b[43misel\u001b[49m\u001b[43m(\u001b[49m\u001b[43mk\u001b[49m\u001b[38;5;241;43m=\u001b[39;49m\u001b[43mk_ind\u001b[49m\u001b[43m)\u001b[49m\u001b[43m)\u001b[49m\u001b[43m)\u001b[49m\u001b[43m\\\u001b[49m\n\u001b[0;32m---> 11\u001b[0m \u001b[43m                        \u001b[49m\u001b[38;5;241;43m/\u001b[39;49m\u001b[43m(\u001b[49m\u001b[43mdepth_allabove\u001b[49m\u001b[43m \u001b[49m\u001b[38;5;241;43m+\u001b[39;49m\u001b[43m \u001b[49m\u001b[43mdepth_currlevel\u001b[49m\u001b[43m)\u001b[49m\u001b[43m)\u001b[49m\u001b[38;5;241;43m.\u001b[39;49m\u001b[43mcompute\u001b[49m\u001b[43m(\u001b[49m\u001b[43m)\u001b[49m\n\u001b[1;32m     12\u001b[0m memory_log\u001b[38;5;241m.\u001b[39mappend(psutil\u001b[38;5;241m.\u001b[39mvirtual_memory()\u001b[38;5;241m.\u001b[39mavailable)\n\u001b[1;32m     13\u001b[0m \u001b[38;5;28mprint\u001b[39m(\u001b[38;5;124m'\u001b[39m\u001b[38;5;124mChange in available memory: \u001b[39m\u001b[38;5;124m'\u001b[39m,np\u001b[38;5;241m.\u001b[39mdiff(memory_log[\u001b[38;5;241m-\u001b[39m\u001b[38;5;241m2\u001b[39m:])[\u001b[38;5;241m0\u001b[39m]\u001b[38;5;241m/\u001b[39m(\u001b[38;5;241m2\u001b[39m\u001b[38;5;241m*\u001b[39m\u001b[38;5;241m*\u001b[39m\u001b[38;5;241m20\u001b[39m),\u001b[38;5;124m'\u001b[39m\u001b[38;5;124m MB\u001b[39m\u001b[38;5;124m'\u001b[39m)\n",
      "File \u001b[0;32m~/miniforge3/envs/jupyter/lib/python3.12/site-packages/xarray/core/dataarray.py:1178\u001b[0m, in \u001b[0;36mDataArray.compute\u001b[0;34m(self, **kwargs)\u001b[0m\n\u001b[1;32m   1153\u001b[0m \u001b[38;5;250m\u001b[39m\u001b[38;5;124;03m\"\"\"Manually trigger loading of this array's data from disk or a\u001b[39;00m\n\u001b[1;32m   1154\u001b[0m \u001b[38;5;124;03mremote source into memory and return a new array.\u001b[39;00m\n\u001b[1;32m   1155\u001b[0m \n\u001b[0;32m   (...)\u001b[0m\n\u001b[1;32m   1175\u001b[0m \u001b[38;5;124;03mdask.compute\u001b[39;00m\n\u001b[1;32m   1176\u001b[0m \u001b[38;5;124;03m\"\"\"\u001b[39;00m\n\u001b[1;32m   1177\u001b[0m new \u001b[38;5;241m=\u001b[39m \u001b[38;5;28mself\u001b[39m\u001b[38;5;241m.\u001b[39mcopy(deep\u001b[38;5;241m=\u001b[39m\u001b[38;5;28;01mFalse\u001b[39;00m)\n\u001b[0;32m-> 1178\u001b[0m \u001b[38;5;28;01mreturn\u001b[39;00m \u001b[43mnew\u001b[49m\u001b[38;5;241;43m.\u001b[39;49m\u001b[43mload\u001b[49m\u001b[43m(\u001b[49m\u001b[38;5;241;43m*\u001b[39;49m\u001b[38;5;241;43m*\u001b[39;49m\u001b[43mkwargs\u001b[49m\u001b[43m)\u001b[49m\n",
      "File \u001b[0;32m~/miniforge3/envs/jupyter/lib/python3.12/site-packages/xarray/core/dataarray.py:1146\u001b[0m, in \u001b[0;36mDataArray.load\u001b[0;34m(self, **kwargs)\u001b[0m\n\u001b[1;32m   1126\u001b[0m \u001b[38;5;28;01mdef\u001b[39;00m \u001b[38;5;21mload\u001b[39m(\u001b[38;5;28mself\u001b[39m, \u001b[38;5;241m*\u001b[39m\u001b[38;5;241m*\u001b[39mkwargs) \u001b[38;5;241m-\u001b[39m\u001b[38;5;241m>\u001b[39m Self:\n\u001b[1;32m   1127\u001b[0m \u001b[38;5;250m    \u001b[39m\u001b[38;5;124;03m\"\"\"Manually trigger loading of this array's data from disk or a\u001b[39;00m\n\u001b[1;32m   1128\u001b[0m \u001b[38;5;124;03m    remote source into memory and return this array.\u001b[39;00m\n\u001b[1;32m   1129\u001b[0m \n\u001b[0;32m   (...)\u001b[0m\n\u001b[1;32m   1144\u001b[0m \u001b[38;5;124;03m    dask.compute\u001b[39;00m\n\u001b[1;32m   1145\u001b[0m \u001b[38;5;124;03m    \"\"\"\u001b[39;00m\n\u001b[0;32m-> 1146\u001b[0m     ds \u001b[38;5;241m=\u001b[39m \u001b[38;5;28;43mself\u001b[39;49m\u001b[38;5;241;43m.\u001b[39;49m\u001b[43m_to_temp_dataset\u001b[49m\u001b[43m(\u001b[49m\u001b[43m)\u001b[49m\u001b[38;5;241;43m.\u001b[39;49m\u001b[43mload\u001b[49m\u001b[43m(\u001b[49m\u001b[38;5;241;43m*\u001b[39;49m\u001b[38;5;241;43m*\u001b[39;49m\u001b[43mkwargs\u001b[49m\u001b[43m)\u001b[49m\n\u001b[1;32m   1147\u001b[0m     new \u001b[38;5;241m=\u001b[39m \u001b[38;5;28mself\u001b[39m\u001b[38;5;241m.\u001b[39m_from_temp_dataset(ds)\n\u001b[1;32m   1148\u001b[0m     \u001b[38;5;28mself\u001b[39m\u001b[38;5;241m.\u001b[39m_variable \u001b[38;5;241m=\u001b[39m new\u001b[38;5;241m.\u001b[39m_variable\n",
      "File \u001b[0;32m~/miniforge3/envs/jupyter/lib/python3.12/site-packages/xarray/core/dataset.py:862\u001b[0m, in \u001b[0;36mDataset.load\u001b[0;34m(self, **kwargs)\u001b[0m\n\u001b[1;32m    859\u001b[0m chunkmanager \u001b[38;5;241m=\u001b[39m get_chunked_array_type(\u001b[38;5;241m*\u001b[39mlazy_data\u001b[38;5;241m.\u001b[39mvalues())\n\u001b[1;32m    861\u001b[0m \u001b[38;5;66;03m# evaluate all the chunked arrays simultaneously\u001b[39;00m\n\u001b[0;32m--> 862\u001b[0m evaluated_data: \u001b[38;5;28mtuple\u001b[39m[np\u001b[38;5;241m.\u001b[39mndarray[Any, Any], \u001b[38;5;241m.\u001b[39m\u001b[38;5;241m.\u001b[39m\u001b[38;5;241m.\u001b[39m] \u001b[38;5;241m=\u001b[39m \u001b[43mchunkmanager\u001b[49m\u001b[38;5;241;43m.\u001b[39;49m\u001b[43mcompute\u001b[49m\u001b[43m(\u001b[49m\n\u001b[1;32m    863\u001b[0m \u001b[43m    \u001b[49m\u001b[38;5;241;43m*\u001b[39;49m\u001b[43mlazy_data\u001b[49m\u001b[38;5;241;43m.\u001b[39;49m\u001b[43mvalues\u001b[49m\u001b[43m(\u001b[49m\u001b[43m)\u001b[49m\u001b[43m,\u001b[49m\u001b[43m \u001b[49m\u001b[38;5;241;43m*\u001b[39;49m\u001b[38;5;241;43m*\u001b[39;49m\u001b[43mkwargs\u001b[49m\n\u001b[1;32m    864\u001b[0m \u001b[43m\u001b[49m\u001b[43m)\u001b[49m\n\u001b[1;32m    866\u001b[0m \u001b[38;5;28;01mfor\u001b[39;00m k, data \u001b[38;5;129;01min\u001b[39;00m \u001b[38;5;28mzip\u001b[39m(lazy_data, evaluated_data):\n\u001b[1;32m    867\u001b[0m     \u001b[38;5;28mself\u001b[39m\u001b[38;5;241m.\u001b[39mvariables[k]\u001b[38;5;241m.\u001b[39mdata \u001b[38;5;241m=\u001b[39m data\n",
      "File \u001b[0;32m~/miniforge3/envs/jupyter/lib/python3.12/site-packages/xarray/namedarray/daskmanager.py:86\u001b[0m, in \u001b[0;36mDaskManager.compute\u001b[0;34m(self, *data, **kwargs)\u001b[0m\n\u001b[1;32m     81\u001b[0m \u001b[38;5;28;01mdef\u001b[39;00m \u001b[38;5;21mcompute\u001b[39m(\n\u001b[1;32m     82\u001b[0m     \u001b[38;5;28mself\u001b[39m, \u001b[38;5;241m*\u001b[39mdata: Any, \u001b[38;5;241m*\u001b[39m\u001b[38;5;241m*\u001b[39mkwargs: Any\n\u001b[1;32m     83\u001b[0m ) \u001b[38;5;241m-\u001b[39m\u001b[38;5;241m>\u001b[39m \u001b[38;5;28mtuple\u001b[39m[np\u001b[38;5;241m.\u001b[39mndarray[Any, _DType_co], \u001b[38;5;241m.\u001b[39m\u001b[38;5;241m.\u001b[39m\u001b[38;5;241m.\u001b[39m]:\n\u001b[1;32m     84\u001b[0m     \u001b[38;5;28;01mfrom\u001b[39;00m \u001b[38;5;21;01mdask\u001b[39;00m\u001b[38;5;21;01m.\u001b[39;00m\u001b[38;5;21;01marray\u001b[39;00m \u001b[38;5;28;01mimport\u001b[39;00m compute\n\u001b[0;32m---> 86\u001b[0m     \u001b[38;5;28;01mreturn\u001b[39;00m \u001b[43mcompute\u001b[49m\u001b[43m(\u001b[49m\u001b[38;5;241;43m*\u001b[39;49m\u001b[43mdata\u001b[49m\u001b[43m,\u001b[49m\u001b[43m \u001b[49m\u001b[38;5;241;43m*\u001b[39;49m\u001b[38;5;241;43m*\u001b[39;49m\u001b[43mkwargs\u001b[49m\u001b[43m)\u001b[49m\n",
      "File \u001b[0;32m~/miniforge3/envs/jupyter/lib/python3.12/site-packages/dask/base.py:661\u001b[0m, in \u001b[0;36mcompute\u001b[0;34m(traverse, optimize_graph, scheduler, get, *args, **kwargs)\u001b[0m\n\u001b[1;32m    658\u001b[0m     postcomputes\u001b[38;5;241m.\u001b[39mappend(x\u001b[38;5;241m.\u001b[39m__dask_postcompute__())\n\u001b[1;32m    660\u001b[0m \u001b[38;5;28;01mwith\u001b[39;00m shorten_traceback():\n\u001b[0;32m--> 661\u001b[0m     results \u001b[38;5;241m=\u001b[39m \u001b[43mschedule\u001b[49m\u001b[43m(\u001b[49m\u001b[43mdsk\u001b[49m\u001b[43m,\u001b[49m\u001b[43m \u001b[49m\u001b[43mkeys\u001b[49m\u001b[43m,\u001b[49m\u001b[43m \u001b[49m\u001b[38;5;241;43m*\u001b[39;49m\u001b[38;5;241;43m*\u001b[39;49m\u001b[43mkwargs\u001b[49m\u001b[43m)\u001b[49m\n\u001b[1;32m    663\u001b[0m \u001b[38;5;28;01mreturn\u001b[39;00m repack([f(r, \u001b[38;5;241m*\u001b[39ma) \u001b[38;5;28;01mfor\u001b[39;00m r, (f, a) \u001b[38;5;129;01min\u001b[39;00m \u001b[38;5;28mzip\u001b[39m(results, postcomputes)])\n",
      "File \u001b[0;32m~/miniforge3/envs/jupyter/lib/python3.12/queue.py:171\u001b[0m, in \u001b[0;36mQueue.get\u001b[0;34m(self, block, timeout)\u001b[0m\n\u001b[1;32m    169\u001b[0m \u001b[38;5;28;01melif\u001b[39;00m timeout \u001b[38;5;129;01mis\u001b[39;00m \u001b[38;5;28;01mNone\u001b[39;00m:\n\u001b[1;32m    170\u001b[0m     \u001b[38;5;28;01mwhile\u001b[39;00m \u001b[38;5;129;01mnot\u001b[39;00m \u001b[38;5;28mself\u001b[39m\u001b[38;5;241m.\u001b[39m_qsize():\n\u001b[0;32m--> 171\u001b[0m         \u001b[38;5;28;43mself\u001b[39;49m\u001b[38;5;241;43m.\u001b[39;49m\u001b[43mnot_empty\u001b[49m\u001b[38;5;241;43m.\u001b[39;49m\u001b[43mwait\u001b[49m\u001b[43m(\u001b[49m\u001b[43m)\u001b[49m\n\u001b[1;32m    172\u001b[0m \u001b[38;5;28;01melif\u001b[39;00m timeout \u001b[38;5;241m<\u001b[39m \u001b[38;5;241m0\u001b[39m:\n\u001b[1;32m    173\u001b[0m     \u001b[38;5;28;01mraise\u001b[39;00m \u001b[38;5;167;01mValueError\u001b[39;00m(\u001b[38;5;124m\"\u001b[39m\u001b[38;5;124m'\u001b[39m\u001b[38;5;124mtimeout\u001b[39m\u001b[38;5;124m'\u001b[39m\u001b[38;5;124m must be a non-negative number\u001b[39m\u001b[38;5;124m\"\u001b[39m)\n",
      "File \u001b[0;32m~/miniforge3/envs/jupyter/lib/python3.12/threading.py:355\u001b[0m, in \u001b[0;36mCondition.wait\u001b[0;34m(self, timeout)\u001b[0m\n\u001b[1;32m    353\u001b[0m \u001b[38;5;28;01mtry\u001b[39;00m:    \u001b[38;5;66;03m# restore state no matter what (e.g., KeyboardInterrupt)\u001b[39;00m\n\u001b[1;32m    354\u001b[0m     \u001b[38;5;28;01mif\u001b[39;00m timeout \u001b[38;5;129;01mis\u001b[39;00m \u001b[38;5;28;01mNone\u001b[39;00m:\n\u001b[0;32m--> 355\u001b[0m         \u001b[43mwaiter\u001b[49m\u001b[38;5;241;43m.\u001b[39;49m\u001b[43macquire\u001b[49m\u001b[43m(\u001b[49m\u001b[43m)\u001b[49m\n\u001b[1;32m    356\u001b[0m         gotit \u001b[38;5;241m=\u001b[39m \u001b[38;5;28;01mTrue\u001b[39;00m\n\u001b[1;32m    357\u001b[0m     \u001b[38;5;28;01melse\u001b[39;00m:\n",
      "\u001b[0;31mKeyboardInterrupt\u001b[0m: "
     ]
    }
   ],
   "source": [
    "# compute cumulative depth-weighted average of temperature for top 10 depth levels, and track memory usage\n",
    "memory_log = [psutil.virtual_memory().available]\n",
    "temp_cum_depthavg = ds.THETA.isel(k=0).compute()\n",
    "memory_log.append(psutil.virtual_memory().available)\n",
    "print('Change in available memory: ',np.diff(memory_log[-2:])[0]/(10**6),' MB')\n",
    "for k_ind in range(1,10):\n",
    "    depth_allabove = np.nansum((ds.hFacC*ds.drF).isel(k=slice(0,k_ind)))\n",
    "    depth_currlevel = (ds.hFacC*ds.drF).isel(k=k_ind)\n",
    "    temp_cum_depthavg = (((depth_allabove*temp_cum_depthavg)\\\n",
    "                         + (depth_currlevel*ds.THETA.isel(k=k_ind)))\\\n",
    "                            /(depth_allabove + depth_currlevel)).compute()\n",
    "    memory_log.append(psutil.virtual_memory().available)\n",
    "    print('Change in available memory: ',np.diff(memory_log[-2:])[0]/(10**6),' MB')"
   ]
  },
  {
   "cell_type": "markdown",
   "id": "8b34d77c-ea44-4f85-a84e-7cde24a281ad",
   "metadata": {},
   "source": [
    "The way the code is written, only `temp_cum_depthavg` is actually computed and loaded into memory; since this array does not grow, the available memory should not change much after the 1st iteration of the loop. In reality though, data that is being loaded into the workspace using `open_mfdataset` is also being cached. The advantage of this is that if you then want to access the *same* data again it will load almost instantly. The disadvantage is that each loop iteration consumes more of your available memory.\n",
    "\n",
    "How do we fix this memory \"leak\"? There is an option to set `cache=False` when calling `open_mfdataset`, but I have not always found this to work. The solution that seems to work for me is to:\n",
    "\n",
    "- Close the dataset(s) where the data were first opened from files (in this case `ecco_TS`, not `ds`)\n",
    "\n",
    "- \"Re-open\" the dataset by calling `open_mfdataset` again, effectively overwriting the previous pointers (and cache)"
   ]
  },
  {
   "cell_type": "code",
   "execution_count": null,
   "id": "50fd4645-d656-44bc-a8ce-d6ae6acb40d5",
   "metadata": {},
   "outputs": [],
   "source": [
    "%%time\n",
    "\n",
    "memory_log = [psutil.virtual_memory().available]\n",
    "temp_cum_depthavg = ds.THETA.isel(k=0).compute()\n",
    "memory_log.append(psutil.virtual_memory().available)\n",
    "print('Change in available memory: ',np.diff(memory_log[-2:])[0]/(10**6),' MB')\n",
    "for k_ind in range(1,10):\n",
    "    \n",
    "    # close the \"original\" temperature dataset that the cache is associated with\n",
    "    ecco_TS.close()\n",
    "    # re-open the dataset, overwriting the previous pointers and cache\n",
    "    if incloud_access == True:\n",
    "        ecco_TS = xr.open_mfdataset(files_dict[ShortNames_list[1]],\\\n",
    "                                          data_vars='minimal',coords='minimal',compat='override')\n",
    "    else:\n",
    "        ecco_TS = xr.open_mfdataset(join(ECCO_dir,'*_TEMP_SALINITY_LLC0090GRID_MONTHLY*','*.nc'),\\\n",
    "                                               data_vars='minimal',coords='minimal',compat='override')\n",
    "\n",
    "    # repeat previous calculations and assess memory usage\n",
    "    depth_allabove = np.nansum((ds.hFacC*ds.drF).isel(k=slice(0,k_ind)))\n",
    "    depth_currlevel = (ds.hFacC*ds.drF).isel(k=k_ind)\n",
    "    temp_cum_depthavg = (((depth_allabove*temp_cum_depthavg)\\\n",
    "                         + (depth_currlevel*ds.THETA.isel(k=k_ind)))\\\n",
    "                            /(depth_allabove + depth_currlevel)).compute()\n",
    "    memory_log.append(psutil.virtual_memory().available)\n",
    "    print('Change in available memory: ',np.diff(memory_log[-2:])[0]/(10**6),' MB')"
   ]
  },
  {
   "cell_type": "markdown",
   "id": "ef669a71-ee98-475b-9704-7a6873d81241",
   "metadata": {},
   "source": [
    "This fixes our big memory leak (despite some variations in memory usage on each iteration). But calling `open_mfdataset` on each loop iteration could take a long time, especially if a lot of files are being opened (312 in this case).\n",
    "\n",
    "An easy solution to this slowdown in speed is to [pickle](https://docs.python.org/3/library/pickle.html) the dataset object. The dataset object is made up of a set of pointers; by \"pickling\" it we convert those pointers to a byte stream (with relatively little memory usage) that can be quickly unpacked, rather than `open_mfdataset` having to re-create these pointers each time."
   ]
  },
  {
   "cell_type": "code",
   "execution_count": null,
   "id": "288cdcfb-20de-4ff2-8c77-7fbfc0c38bf0",
   "metadata": {},
   "outputs": [],
   "source": [
    "%%time\n",
    "\n",
    "import pickle\n",
    "ecco_TS_pickled = pickle.dumps(ecco_TS)\n",
    "\n",
    "memory_log = [psutil.virtual_memory().available]\n",
    "temp_cum_depthavg = ds.THETA.isel(k=0).compute()\n",
    "memory_log.append(psutil.virtual_memory().available)\n",
    "print('Change in available memory: ',np.diff(memory_log[-2:])[0]/(10**6),' MB')\n",
    "for k_ind in range(1,10):\n",
    "    \n",
    "    # close the \"original\" temperature dataset that the cache is associated with\n",
    "    ecco_TS.close()\n",
    "    # re-open the dataset by \"un-pickling\" the pointers, overwriting the previous pointers and cache\n",
    "    ecco_TS = pickle.loads(ecco_TS_pickled)\n",
    "\n",
    "    # repeat previous calculations and assess memory usage\n",
    "    depth_allabove = np.nansum((ds.hFacC*ds.drF).isel(k=slice(0,k_ind)))\n",
    "    depth_currlevel = (ds.hFacC*ds.drF).isel(k=k_ind)\n",
    "    temp_cum_depthavg = (((depth_allabove*temp_cum_depthavg)\\\n",
    "                         + (depth_currlevel*ds.THETA.isel(k=k_ind)))\\\n",
    "                            /(depth_allabove + depth_currlevel)).compute()\n",
    "    memory_log.append(psutil.virtual_memory().available)\n",
    "    print('Change in available memory: ',np.diff(memory_log[-2:])[0]/(10**6),' MB')"
   ]
  }
 ],
 "metadata": {
  "kernelspec": {
   "display_name": "Python 3 (ipykernel)",
   "language": "python",
   "name": "python3"
  },
  "language_info": {
   "codemirror_mode": {
    "name": "ipython",
    "version": 3
   },
   "file_extension": ".py",
   "mimetype": "text/x-python",
   "name": "python",
   "nbconvert_exporter": "python",
   "pygments_lexer": "ipython3",
   "version": "3.12.3"
  }
 },
 "nbformat": 4,
 "nbformat_minor": 5
}
