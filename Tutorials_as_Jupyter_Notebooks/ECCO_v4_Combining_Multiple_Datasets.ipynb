{
 "cells": [
  {
   "cell_type": "markdown",
   "metadata": {},
   "source": [
    "# Combining multiple `Datasets` \n",
    "\n",
    "## Objectives:\n",
    "\n",
    "Show how to combine the multiple `Datasets` that are created each time an ECCO v4 state estimate variable is loaded.\n",
    "\n",
    "## Loading multiple `Datasets`  \n",
    "\n",
    "In previous tutorials we've loaded lat-lon-cap NetCDF tile files for different state estimate variables and model grid parameters.  Here we will show you how to merge the resulting `Datasets` together.  Some benefits of merging `Datasets` include having a tidier workspace and simplying subsetting operations, the subject of a future tutorial.  \n",
    "\n",
    "First, load three `Datasets` for state estimate variables corresponding to $c$, $u$, and $v$ c-grid points."
   ]
  },
  {
   "cell_type": "code",
   "execution_count": 1,
   "metadata": {
    "collapsed": true
   },
   "outputs": [],
   "source": [
    "import numpy as np\n",
    "import xarray as xr\n",
    "import ecco_v4_py as ecco"
   ]
  },
  {
   "cell_type": "markdown",
   "metadata": {},
   "source": [
    "### *c* point: ``SSH``"
   ]
  },
  {
   "cell_type": "code",
   "execution_count": 2,
   "metadata": {
    "scrolled": true
   },
   "outputs": [
    {
     "name": "stdout",
     "output_type": "stream",
     "text": [
      "Finished loading all 13 tiles of SSH\n",
      "Removing Dataset Attributes A-Z\n",
      "\n"
     ]
    }
   ],
   "source": [
    "# Set this to be the directory for your fields\n",
    "ECCO_dir = '/Users/ifenty/ECCOv4/R3'\n",
    "\n",
    "data_dir= ECCO_dir + '/nctiles_monthly/SSH/'  \n",
    "var = 'SSH'\n",
    "var_type = 'c'\n",
    "\n",
    "# use the less_output = True optional argument to \n",
    "# reduce the amount of output generated during loading\n",
    "ssh_all_tiles = ecco.load_all_tiles_from_netcdf(data_dir, \n",
    "                                                var, var_type,\n",
    "                                                less_output=True)\n",
    "ecco.minimal_metadata(ssh_all_tiles)"
   ]
  },
  {
   "cell_type": "markdown",
   "metadata": {},
   "source": [
    "### *u* point: ``ADVxSNOW``\n",
    "\n",
    "``ADVxSNOW`` is the horizontal advective flux of snow in each tile's $x$ direction."
   ]
  },
  {
   "cell_type": "code",
   "execution_count": 3,
   "metadata": {},
   "outputs": [
    {
     "name": "stdout",
     "output_type": "stream",
     "text": [
      "Finished loading all 13 tiles of ADVxSNOW\n",
      "Removing Dataset Attributes A-Z\n",
      "\n"
     ]
    }
   ],
   "source": [
    "data_dir= ECCO_dir + '/nctiles_monthly/ADVxSNOW/'    \n",
    "var = 'ADVxSNOW'\n",
    "var_type = 'u'\n",
    "advxsnow_all_tiles= ecco.load_all_tiles_from_netcdf(data_dir, \n",
    "                                                    var, var_type,\n",
    "                                                    less_output=True)\n",
    "ecco.minimal_metadata(advxsnow_all_tiles)"
   ]
  },
  {
   "cell_type": "markdown",
   "metadata": {},
   "source": [
    "### *v* point: ``ADVySNOW``\n",
    "\n",
    "``ADVySNOW`` is the horizontal advective flux of snow in each tile's $y$ direction."
   ]
  },
  {
   "cell_type": "code",
   "execution_count": 4,
   "metadata": {},
   "outputs": [
    {
     "name": "stdout",
     "output_type": "stream",
     "text": [
      "Finished loading all 13 tiles of ADVySNOW\n",
      "Removing Dataset Attributes A-Z\n",
      "\n"
     ]
    }
   ],
   "source": [
    "data_dir= ECCO_dir + '/nctiles_monthly/ADVySNOW/'    \n",
    "var = 'ADVySNOW'\n",
    "var_type = 'v'\n",
    "advysnow_all_tiles= ecco.load_all_tiles_from_netcdf(data_dir, \n",
    "                                                    var, var_type,\n",
    "                                                    less_output=True)\n",
    "ecco.minimal_metadata(advysnow_all_tiles)"
   ]
  },
  {
   "cell_type": "markdown",
   "metadata": {},
   "source": [
    "### Examining the dimensions and coordinates of these `Datasets`"
   ]
  },
  {
   "cell_type": "markdown",
   "metadata": {},
   "source": [
    "Recall that these three `Datasets` are each storing just one `DataArray` and that each  `DataArray` uses a different coordinate system."
   ]
  },
  {
   "cell_type": "code",
   "execution_count": 5,
   "metadata": {},
   "outputs": [
    {
     "data": {
      "text/plain": [
       "('time', 'tile', 'j', 'i')"
      ]
     },
     "execution_count": 5,
     "metadata": {},
     "output_type": "execute_result"
    }
   ],
   "source": [
    "ssh_all_tiles.SSH.dims"
   ]
  },
  {
   "cell_type": "code",
   "execution_count": 6,
   "metadata": {},
   "outputs": [
    {
     "data": {
      "text/plain": [
       "('time', 'tile', 'j_g', 'i')"
      ]
     },
     "execution_count": 6,
     "metadata": {},
     "output_type": "execute_result"
    }
   ],
   "source": [
    "advysnow_all_tiles.ADVySNOW.dims"
   ]
  },
  {
   "cell_type": "code",
   "execution_count": 7,
   "metadata": {},
   "outputs": [
    {
     "data": {
      "text/plain": [
       "('time', 'tile', 'j', 'i_g')"
      ]
     },
     "execution_count": 7,
     "metadata": {},
     "output_type": "execute_result"
    }
   ],
   "source": [
    "advxsnow_all_tiles.ADVxSNOW.dims"
   ]
  },
  {
   "cell_type": "markdown",
   "metadata": {},
   "source": [
    "## Merging multiple `Datasets`  from state estimate variables\n",
    "\n",
    "Using the `xarray` method `merge` we can create a single `Dataset` that stores multiple `DataArrays`.  "
   ]
  },
  {
   "cell_type": "code",
   "execution_count": 8,
   "metadata": {
    "collapsed": true
   },
   "outputs": [],
   "source": [
    "output_merged = xr.merge([ssh_all_tiles, advxsnow_all_tiles, advysnow_all_tiles])"
   ]
  },
  {
   "cell_type": "code",
   "execution_count": 9,
   "metadata": {
    "scrolled": true
   },
   "outputs": [
    {
     "data": {
      "text/plain": [
       "<xarray.Dataset>\n",
       "Dimensions:   (i: 90, i_g: 90, j: 90, j_g: 90, tile: 13, time: 288)\n",
       "Coordinates:\n",
       "  * time      (time) float64 1.0 2.0 3.0 4.0 5.0 6.0 7.0 8.0 9.0 10.0 11.0 ...\n",
       "  * j         (j) float64 1.0 2.0 3.0 4.0 5.0 6.0 7.0 8.0 9.0 10.0 11.0 12.0 ...\n",
       "  * i         (i) float64 1.0 2.0 3.0 4.0 5.0 6.0 7.0 8.0 9.0 10.0 11.0 12.0 ...\n",
       "    tim       (time) datetime64[ns] 1992-01-16 1992-02-16 1992-03-16 ...\n",
       "    timestep  (time) float64 732.0 1.428e+03 2.172e+03 2.892e+03 3.636e+03 ...\n",
       "    lon_c     (tile, j, i) float64 -111.6 -111.3 -110.9 -110.5 -110.0 -109.3 ...\n",
       "    lat_c     (tile, j, i) float64 -88.24 -88.38 -88.52 -88.66 -88.8 -88.94 ...\n",
       "  * tile      (tile) int64 1 2 3 4 5 6 7 8 9 10 11 12 13\n",
       "  * i_g       (i_g) float64 1.0 2.0 3.0 4.0 5.0 6.0 7.0 8.0 9.0 10.0 11.0 ...\n",
       "    lon_u     (tile, j, i_g) float64 -115.0 -115.0 -115.0 -115.0 -115.0 ...\n",
       "    lat_u     (tile, j, i_g) float64 -88.24 -88.38 -88.52 -88.66 -88.8 ...\n",
       "  * j_g       (j_g) float64 1.0 2.0 3.0 4.0 5.0 6.0 7.0 8.0 9.0 10.0 11.0 ...\n",
       "    lon_v     (tile, j_g, i) float64 -111.6 -111.3 -110.9 -110.5 -110.0 ...\n",
       "    lat_v     (tile, j_g, i) float64 -88.18 -88.32 -88.46 -88.6 -88.74 ...\n",
       "Data variables:\n",
       "    SSH       (time, tile, j, i) float64 nan nan nan nan nan nan nan nan nan ...\n",
       "    ADVxSNOW  (time, tile, j, i_g) float64 nan nan nan nan nan nan nan nan ...\n",
       "    ADVySNOW  (time, tile, j_g, i) float64 nan nan nan nan nan nan nan nan ..."
      ]
     },
     "execution_count": 9,
     "metadata": {},
     "output_type": "execute_result"
    }
   ],
   "source": [
    "output_merged"
   ]
  },
  {
   "cell_type": "markdown",
   "metadata": {},
   "source": [
    "### Examining the merged `Dataset`\n",
    "\n",
    "As before, let's look at the contents of the new merged `Dataset`\n",
    "\n",
    "#### 1. Dimensions\n",
    "`Dimensions:   (i: 90, i_g: 90, j: 90, j_g: 90, tile: 13, time: 288)`\n",
    "\n",
    "The new *Dimensions* list is the union of the dimensions of the three merged variables. \n",
    "\n",
    "#### 2. Coordinates\n",
    "```\n",
    "Coordinates:\n",
    "  * time      (time) float64 1.0 2.0 3.0 4.0 5.0 6.0 7.0 8.0 9.0 10.0 11.0 ...\n",
    "  * j         (j) float64 1.0 2.0 3.0 4.0 5.0 6.0 7.0 8.0 9.0 10.0 11.0 12.0 ...\n",
    "  * i         (i) float64 1.0 2.0 3.0 4.0 5.0 6.0 7.0 8.0 9.0 10.0 11.0 12.0 ...\n",
    "    tim       (time) datetime64[ns] 1992-01-16 1992-02-16 1992-03-16 ...\n",
    "    timestep  (time) float64 732.0 1.428e+03 2.172e+03 2.892e+03 3.636e+03 ...\n",
    "    lon_c     (tile, j, i) float64 -111.6 -111.3 -110.9 -110.5 -110.0 -109.3 ...\n",
    "    lat_c     (tile, j, i) float64 -88.24 -88.38 -88.52 -88.66 -88.8 -88.94 ...\n",
    "  * tile      (tile) int64 1 2 3 4 5 6 7 8 9 10 11 12 13\n",
    "  * i_g       (i_g) float64 1.0 2.0 3.0 4.0 5.0 6.0 7.0 8.0 9.0 10.0 11.0 ...\n",
    "    lon_u     (tile, j, i_g) float64 -115.0 -115.0 -115.0 -115.0 -115.0 ...\n",
    "    lat_u     (tile, j, i_g) float64 -88.24 -88.38 -88.52 -88.66 -88.8 ...\n",
    "  * j_g       (j_g) float64 1.0 2.0 3.0 4.0 5.0 6.0 7.0 8.0 9.0 10.0 11.0 ...\n",
    "    lon_v     (tile, j_g, i) float64 -111.6 -111.3 -110.9 -110.5 -110.0 ...\n",
    "    lat_v     (tile, j_g, i) float64 -88.18 -88.32 -88.46 -88.6 -88.74 ...\n",
    "``` \n",
    "\n",
    "Notice the three ``lon_*`` and ``lat_*`` *non-dimensional* coordinates are also merged.\n",
    "\n",
    "\n",
    "#### 3. Data Variables\n",
    "```\n",
    "Data variables:\n",
    "    SSH       (time, tile, j, i) float64 nan nan nan nan nan nan nan nan nan ...\n",
    "    ADVxSNOW  (time, tile, j, i_g) float64 nan nan nan nan nan nan nan nan ...\n",
    "    ADVySNOW  (time, tile, j_g, i) float64 nan nan nan nan nan nan nan nan ...\n",
    "```\n",
    "\n",
    "The *Data variables* are now the three `Data Arrays`.  \n",
    "\n",
    "#### 4. Attributes\n",
    "\n",
    "Notice that all of the high level `Dataset` attributes are gone!  Each of the three `Datasets` had different attributes and the `merge` routine simply drops them.  The attributes of the *Data variables* remain intact:"
   ]
  },
  {
   "cell_type": "code",
   "execution_count": 10,
   "metadata": {},
   "outputs": [
    {
     "name": "stdout",
     "output_type": "stream",
     "text": [
      "Surface Height Anomaly adjusted with global steric height change and sea-ice load \n"
     ]
    }
   ],
   "source": [
    "print output_merged.SSH.attrs['long_name']"
   ]
  },
  {
   "cell_type": "code",
   "execution_count": 11,
   "metadata": {},
   "outputs": [
    {
     "name": "stdout",
     "output_type": "stream",
     "text": [
      "m\n"
     ]
    }
   ],
   "source": [
    "print output_merged.SSH.attrs['units']"
   ]
  },
  {
   "cell_type": "markdown",
   "metadata": {},
   "source": [
    "## Merging the model grid parameters  `Dataset`\n",
    "\n",
    "Let's use the `merge` routine to combine a 13-tile `Dataset` holding the model grid parameters with `output_merged`.\n",
    "\n",
    "### Load the model grid parameters"
   ]
  },
  {
   "cell_type": "code",
   "execution_count": 12,
   "metadata": {},
   "outputs": [
    {
     "name": "stdout",
     "output_type": "stream",
     "text": [
      "Finished loading all 13 tiles of GRID\n",
      "Removing Dataset Attributes A-Z\n",
      "\n"
     ]
    }
   ],
   "source": [
    "# specify the location of your nctiles_grid directory\n",
    "grid_dir= ECCO_dir + '/nctiles_grid/'    \n",
    "var = 'GRID'\n",
    "var_type = 'grid'\n",
    "grid_all_tiles = ecco.load_all_tiles_from_netcdf(grid_dir, var, var_type, less_output=True)\n",
    "\n",
    "# minimize the metadata (optional)\n",
    "ecco.minimal_metadata(grid_all_tiles)"
   ]
  },
  {
   "cell_type": "markdown",
   "metadata": {},
   "source": [
    "### Merge ``grid_all_tiles`` with ``output_merged``"
   ]
  },
  {
   "cell_type": "code",
   "execution_count": 13,
   "metadata": {
    "collapsed": true
   },
   "outputs": [],
   "source": [
    "output_merged = xr.merge([output_merged, grid_all_tiles])"
   ]
  },
  {
   "cell_type": "code",
   "execution_count": 14,
   "metadata": {},
   "outputs": [
    {
     "data": {
      "text/plain": [
       "<xarray.Dataset>\n",
       "Dimensions:   (i: 90, i_g: 90, j: 90, j_g: 90, k: 50, k_g: 50, tile: 13, time: 288)\n",
       "Coordinates:\n",
       "  * time      (time) float64 1.0 2.0 3.0 4.0 5.0 6.0 7.0 8.0 9.0 10.0 11.0 ...\n",
       "  * j         (j) float64 1.0 2.0 3.0 4.0 5.0 6.0 7.0 8.0 9.0 10.0 11.0 12.0 ...\n",
       "  * i         (i) float64 1.0 2.0 3.0 4.0 5.0 6.0 7.0 8.0 9.0 10.0 11.0 12.0 ...\n",
       "    tim       (time) datetime64[ns] 1992-01-16 1992-02-16 1992-03-16 ...\n",
       "    timestep  (time) float64 732.0 1.428e+03 2.172e+03 2.892e+03 3.636e+03 ...\n",
       "    lon_c     (tile, j, i) float64 -111.6 -111.3 -110.9 -110.5 -110.0 -109.3 ...\n",
       "    lat_c     (tile, j, i) float64 -88.24 -88.38 -88.52 -88.66 -88.8 -88.94 ...\n",
       "  * tile      (tile) int64 1 2 3 4 5 6 7 8 9 10 11 12 13\n",
       "  * i_g       (i_g) float64 1.0 2.0 3.0 4.0 5.0 6.0 7.0 8.0 9.0 10.0 11.0 ...\n",
       "    lon_u     (tile, j, i_g) float64 -115.0 -115.0 -115.0 -115.0 -115.0 ...\n",
       "    lat_u     (tile, j, i_g) float64 -88.24 -88.38 -88.52 -88.66 -88.8 ...\n",
       "  * j_g       (j_g) float64 1.0 2.0 3.0 4.0 5.0 6.0 7.0 8.0 9.0 10.0 11.0 ...\n",
       "    lon_v     (tile, j_g, i) float64 -111.6 -111.3 -110.9 -110.5 -110.0 ...\n",
       "    lat_v     (tile, j_g, i) float64 -88.18 -88.32 -88.46 -88.6 -88.74 ...\n",
       "  * k         (k) float64 1.0 2.0 3.0 4.0 5.0 6.0 7.0 8.0 9.0 10.0 11.0 12.0 ...\n",
       "  * k_g       (k_g) float64 1.0 2.0 3.0 4.0 5.0 6.0 7.0 8.0 9.0 10.0 11.0 ...\n",
       "Data variables:\n",
       "    SSH       (time, tile, j, i) float64 nan nan nan nan nan nan nan nan nan ...\n",
       "    ADVxSNOW  (time, tile, j, i_g) float64 nan nan nan nan nan nan nan nan ...\n",
       "    ADVySNOW  (time, tile, j_g, i) float64 nan nan nan nan nan nan nan nan ...\n",
       "    XC        (tile, j, i) float64 -111.6 -111.3 -110.9 -110.5 -110.0 -109.3 ...\n",
       "    YC        (tile, j, i) float64 -88.24 -88.38 -88.52 -88.66 -88.8 -88.94 ...\n",
       "    RAC       (tile, j, i) float64 3.623e+08 3.633e+08 3.643e+08 3.651e+08 ...\n",
       "    Depth     (tile, j, i) float64 0.0 0.0 0.0 0.0 0.0 0.0 0.0 0.0 0.0 0.0 ...\n",
       "    AngleCS   (tile, j, i) float64 0.06158 0.06675 0.07293 0.08042 0.0897 ...\n",
       "    AngleSN   (tile, j, i) float64 -0.9981 -0.9978 -0.9973 -0.9968 -0.996 ...\n",
       "    hFacC     (tile, k, j, i) float64 0.0 0.0 0.0 0.0 0.0 0.0 0.0 0.0 0.0 ...\n",
       "    land_c    (tile, k, j, i) float64 0.0 0.0 0.0 0.0 0.0 0.0 0.0 0.0 0.0 ...\n",
       "    XG        (tile, j_g, i_g) float64 -115.0 -115.0 -115.0 -115.0 -115.0 ...\n",
       "    YG        (tile, j_g, i_g) float64 -88.18 -88.32 -88.46 -88.6 -88.74 ...\n",
       "    RAZ       (tile, j_g, i_g) float64 1.799e+08 1.805e+08 1.81e+08 ...\n",
       "    DXC       (tile, j, i_g) float64 1.558e+04 1.559e+04 1.559e+04 1.56e+04 ...\n",
       "    DYG       (tile, j, i_g) float64 2.321e+04 2.327e+04 2.333e+04 2.338e+04 ...\n",
       "    hFacW     (tile, k, j, i_g) float64 0.0 0.0 0.0 0.0 0.0 0.0 0.0 0.0 0.0 ...\n",
       "    land_u    (tile, k, j, i_g) float64 0.0 0.0 0.0 0.0 0.0 0.0 0.0 0.0 0.0 ...\n",
       "    DYC       (tile, j_g, i) float64 1.156e+04 1.159e+04 1.162e+04 1.165e+04 ...\n",
       "    DXG       (tile, j_g, i) float64 1.558e+04 1.559e+04 1.559e+04 1.56e+04 ...\n",
       "    hFacS     (tile, k, j_g, i) float64 0.0 0.0 0.0 0.0 0.0 0.0 0.0 0.0 0.0 ...\n",
       "    land_v    (tile, k, j_g, i) float64 0.0 0.0 0.0 0.0 0.0 0.0 0.0 0.0 0.0 ...\n",
       "    RC        (k) float64 -5.0 -15.0 -25.0 -35.0 -45.0 -55.0 -65.0 -75.0 ...\n",
       "    RF        (k_g) float64 0.0 -10.0 -20.0 -30.0 -40.0 -50.0 -60.0 -70.0 ...\n",
       "    DRC       (k_g) float64 5.0 10.0 10.0 10.0 10.0 10.0 10.0 10.01 10.02 ...\n",
       "    DRF       (k) float64 10.0 10.0 10.0 10.0 10.0 10.0 10.0 10.01 10.03 ..."
      ]
     },
     "execution_count": 14,
     "metadata": {},
     "output_type": "execute_result"
    }
   ],
   "source": [
    "output_merged"
   ]
  },
  {
   "cell_type": "markdown",
   "metadata": {},
   "source": [
    "### Examining the merged `Dataset`\n",
    "\n",
    "The result of this final merging is a single `Dataset` with 20+ variables, a combination of state estimate output variables and grid parameters.\n",
    "\n",
    "## Merging and memory\n",
    "\n",
    "Merging `Datasets` together does not make copies of the data in memory.  Instead, merged `Datasets` are in fact just a reorganized collection of pointers.  You may want to delete the original variables to clear your namespace, but it is not necessary."
   ]
  },
  {
   "cell_type": "code",
   "execution_count": 15,
   "metadata": {
    "collapsed": true
   },
   "outputs": [],
   "source": [
    "del ssh_all_tiles\n",
    "del advxsnow_all_tiles\n",
    "del advysnow_all_tiles\n",
    "del grid_all_tiles"
   ]
  },
  {
   "cell_type": "code",
   "execution_count": 16,
   "metadata": {},
   "outputs": [
    {
     "name": "stdout",
     "output_type": "stream",
     "text": [
      "Variable        Type       Data/Info\n",
      "------------------------------------\n",
      "ECCO_dir        str        /Users/ifenty/ECCOv4/R3\n",
      "data_dir        str        /Users/ifenty/ECCOv4/R3/nctiles_monthly/ADVySNOW/\n",
      "ecco            module     <module 'ecco_v4_py' from<...>ecco_v4_py/__init__.pyc'>\n",
      "grid_dir        str        /Users/ifenty/ECCOv4/R3/nctiles_grid/\n",
      "np              module     <module 'numpy' from '/an<...>ages/numpy/__init__.pyc'>\n",
      "output_merged   Dataset    <xarray.Dataset>\\nDimensi<...>10.0 10.0 10.01 10.03 ...\n",
      "var             str        GRID\n",
      "var_type        str        grid\n",
      "xr              module     <module 'xarray' from '/a<...>ges/xarray/__init__.pyc'>\n"
     ]
    }
   ],
   "source": [
    "whos"
   ]
  },
  {
   "cell_type": "markdown",
   "metadata": {},
   "source": [
    "## Summary\n",
    "\n",
    "Now you know how to merge multiple `Datasets` using the `merge` command.  We demonstrated merging of `Datasets` constructed from all 13 tile files from three different variables and the model grid parameters."
   ]
  }
 ],
 "metadata": {
  "kernelspec": {
   "display_name": "Python 2",
   "language": "python",
   "name": "python2"
  },
  "language_info": {
   "codemirror_mode": {
    "name": "ipython",
    "version": 2
   },
   "file_extension": ".py",
   "mimetype": "text/x-python",
   "name": "python",
   "nbconvert_exporter": "python",
   "pygments_lexer": "ipython2",
   "version": "2.7.14"
  }
 },
 "nbformat": 4,
 "nbformat_minor": 2
}
