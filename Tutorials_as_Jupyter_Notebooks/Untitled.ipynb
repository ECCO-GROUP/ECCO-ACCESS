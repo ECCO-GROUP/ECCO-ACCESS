{
 "cells": [
  {
   "cell_type": "code",
   "execution_count": 1,
   "id": "ad5ec9ef-46c3-4446-b5ee-233ad7ed2283",
   "metadata": {},
   "outputs": [],
   "source": [
    "from ecco_s3_retrieve import *"
   ]
  },
  {
   "cell_type": "code",
   "execution_count": 2,
   "id": "a7b41b61-b63c-4696-b146-34f65c923aa2",
   "metadata": {},
   "outputs": [
    {
     "name": "stdout",
     "output_type": "stream",
     "text": [
      "Help on function ecco_podaac_s3_open in module ecco_s3_retrieve:\n",
      "\n",
      "ecco_podaac_s3_open(ShortName, StartDate, EndDate)\n",
      "    This routine searches for and opens ECCO datasets from S3 buckets in the PO.DAAC Cloud.\n",
      "    It returns a list of opened file(s) on S3 that can be passed to xarray.\n",
      "    This function is intended to be called from an EC2 instance running in AWS region us-west-2.\n",
      "    \n",
      "    Parameters\n",
      "    ----------\n",
      "    ShortName: str, the ShortName that identifies the dataset on PO.DAAC.\n",
      "    \n",
      "    StartDate,EndDate: str, in 'YYYY', 'YYYY-MM', or 'YYYY-MM-DD' format, \n",
      "                       define date range [StartDate,EndDate] for download.\n",
      "                       EndDate is included in the time range (unlike typical Python ranges).\n",
      "                       ECCOv4r4 date range is '1992-01-01' to '2017-12-31'.\n",
      "                       For 'SNAPSHOT' datasets, an additional day is added to EndDate to enable closed budgets\n",
      "                       within the specified date range.\n",
      "    \n",
      "    Returns\n",
      "    -------\n",
      "    open_files: str or list, opened file(s) on S3 that can be passed directly to xarray (open_dataset or open_mfdataset)\n",
      "\n"
     ]
    }
   ],
   "source": [
    "help(ecco_podaac_s3_open)"
   ]
  },
  {
   "cell_type": "code",
   "execution_count": 3,
   "id": "5dd4f5ad-8e63-4ea1-880d-35ff89499aff",
   "metadata": {},
   "outputs": [],
   "source": [
    "import numpy as np\n",
    "import xarray as xr"
   ]
  },
  {
   "cell_type": "code",
   "execution_count": 4,
   "id": "01e934e2-f796-4314-a60c-1ded8f5297ad",
   "metadata": {},
   "outputs": [
    {
     "name": "stdout",
     "output_type": "stream",
     "text": [
      "Please provide Earthdata Login credentials for access.\n"
     ]
    },
    {
     "name": "stdin",
     "output_type": "stream",
     "text": [
      "Username:  adelman\n"
     ]
    },
    {
     "ename": "NameError",
     "evalue": "name 'getpass' is not defined",
     "output_type": "error",
     "traceback": [
      "\u001b[0;31m---------------------------------------------------------------------------\u001b[0m",
      "\u001b[0;31mFileNotFoundError\u001b[0m                         Traceback (most recent call last)",
      "File \u001b[0;32m~/ECCO-v4-Python-Tutorial/Tutorials_as_Jupyter_Notebooks/ecco_s3_retrieve.py:63\u001b[0m, in \u001b[0;36mecco_podaac_s3_query.<locals>.setup_earthdata_login_auth\u001b[0;34m(url)\u001b[0m\n\u001b[1;32m     62\u001b[0m \u001b[38;5;28;01mtry\u001b[39;00m:\n\u001b[0;32m---> 63\u001b[0m     username, _, password \u001b[38;5;241m=\u001b[39m \u001b[43mnetrc\u001b[49m\u001b[43m(\u001b[49m\u001b[43mfile\u001b[49m\u001b[38;5;241;43m=\u001b[39;49m\u001b[43m_netrc\u001b[49m\u001b[43m)\u001b[49m\u001b[38;5;241m.\u001b[39mauthenticators(url)\n\u001b[1;32m     65\u001b[0m \u001b[38;5;66;03m# if the file is not found, prompt the user for the login/password\u001b[39;00m\n",
      "File \u001b[0;32m/srv/conda/envs/notebook/lib/python3.11/netrc.py:74\u001b[0m, in \u001b[0;36mnetrc.__init__\u001b[0;34m(self, file)\u001b[0m\n\u001b[1;32m     73\u001b[0m \u001b[38;5;28;01mtry\u001b[39;00m:\n\u001b[0;32m---> 74\u001b[0m     \u001b[38;5;28;01mwith\u001b[39;00m \u001b[38;5;28;43mopen\u001b[39;49m\u001b[43m(\u001b[49m\u001b[43mfile\u001b[49m\u001b[43m,\u001b[49m\u001b[43m \u001b[49m\u001b[43mencoding\u001b[49m\u001b[38;5;241;43m=\u001b[39;49m\u001b[38;5;124;43m\"\u001b[39;49m\u001b[38;5;124;43mutf-8\u001b[39;49m\u001b[38;5;124;43m\"\u001b[39;49m\u001b[43m)\u001b[49m \u001b[38;5;28;01mas\u001b[39;00m fp:\n\u001b[1;32m     75\u001b[0m         \u001b[38;5;28mself\u001b[39m\u001b[38;5;241m.\u001b[39m_parse(file, fp, default_netrc)\n",
      "\u001b[0;31mFileNotFoundError\u001b[0m: [Errno 2] No such file or directory: '/home/jovyan/.netrc'",
      "\nDuring handling of the above exception, another exception occurred:\n",
      "\u001b[0;31mNameError\u001b[0m                                 Traceback (most recent call last)",
      "Cell \u001b[0;32mIn[4], line 1\u001b[0m\n\u001b[0;32m----> 1\u001b[0m files \u001b[38;5;241m=\u001b[39m \u001b[43mecco_podaac_s3_open\u001b[49m\u001b[43m(\u001b[49m\u001b[38;5;124;43m\"\u001b[39;49m\u001b[38;5;124;43mECCO_L4_SSH_LLC0090GRID_MONTHLY_V4R4\u001b[39;49m\u001b[38;5;124;43m\"\u001b[39;49m\u001b[43m,\u001b[49m\u001b[43m\\\u001b[49m\n\u001b[1;32m      2\u001b[0m \u001b[43m                            \u001b[49m\u001b[43mStartDate\u001b[49m\u001b[38;5;241;43m=\u001b[39;49m\u001b[38;5;124;43m'\u001b[39;49m\u001b[38;5;124;43m2000-01\u001b[39;49m\u001b[38;5;124;43m'\u001b[39;49m\u001b[43m,\u001b[49m\u001b[43mEndDate\u001b[49m\u001b[38;5;241;43m=\u001b[39;49m\u001b[38;5;124;43m'\u001b[39;49m\u001b[38;5;124;43m2000-12\u001b[39;49m\u001b[38;5;124;43m'\u001b[39;49m\u001b[43m)\u001b[49m\n",
      "File \u001b[0;32m~/ECCO-v4-Python-Tutorial/Tutorials_as_Jupyter_Notebooks/ecco_s3_retrieve.py:362\u001b[0m, in \u001b[0;36mecco_podaac_s3_open\u001b[0;34m(ShortName, StartDate, EndDate)\u001b[0m\n\u001b[1;32m    359\u001b[0m \u001b[38;5;28;01mpass\u001b[39;00m    \n\u001b[1;32m    361\u001b[0m \u001b[38;5;66;03m# get list of files\u001b[39;00m\n\u001b[0;32m--> 362\u001b[0m s3_files_list \u001b[38;5;241m=\u001b[39m \u001b[43mecco_podaac_s3_query\u001b[49m\u001b[43m(\u001b[49m\u001b[43mShortName\u001b[49m\u001b[43m,\u001b[49m\u001b[43mStartDate\u001b[49m\u001b[43m,\u001b[49m\u001b[43mEndDate\u001b[49m\u001b[43m)\u001b[49m\n\u001b[1;32m    364\u001b[0m num_grans \u001b[38;5;241m=\u001b[39m \u001b[38;5;28mlen\u001b[39m(s3_files_list)\n\u001b[1;32m    365\u001b[0m \u001b[38;5;28mprint\u001b[39m (\u001b[38;5;124mf\u001b[39m\u001b[38;5;124m'\u001b[39m\u001b[38;5;130;01m\\n\u001b[39;00m\u001b[38;5;124mTotal number of matching granules: \u001b[39m\u001b[38;5;132;01m{\u001b[39;00mnum_grans\u001b[38;5;132;01m}\u001b[39;00m\u001b[38;5;124m'\u001b[39m)\n",
      "File \u001b[0;32m~/ECCO-v4-Python-Tutorial/Tutorials_as_Jupyter_Notebooks/ecco_s3_retrieve.py:169\u001b[0m, in \u001b[0;36mecco_podaac_s3_query\u001b[0;34m(ShortName, StartDate, EndDate)\u001b[0m\n\u001b[1;32m    163\u001b[0m     EndDate \u001b[38;5;241m=\u001b[39m \u001b[38;5;28mstr\u001b[39m(np\u001b[38;5;241m.\u001b[39mdatetime64(EndDate,\u001b[38;5;124m'\u001b[39m\u001b[38;5;124mD\u001b[39m\u001b[38;5;124m'\u001b[39m) \u001b[38;5;241m+\u001b[39m np\u001b[38;5;241m.\u001b[39mtimedelta64(\u001b[38;5;241m1\u001b[39m,\u001b[38;5;124m'\u001b[39m\u001b[38;5;124mD\u001b[39m\u001b[38;5;124m'\u001b[39m))\n\u001b[1;32m    166\u001b[0m \u001b[38;5;66;03m## Log into Earthdata using your username and password\u001b[39;00m\n\u001b[1;32m    167\u001b[0m \n\u001b[1;32m    168\u001b[0m \u001b[38;5;66;03m# actually log in with this command:\u001b[39;00m\n\u001b[0;32m--> 169\u001b[0m \u001b[43msetup_earthdata_login_auth\u001b[49m\u001b[43m(\u001b[49m\u001b[43m)\u001b[49m\n\u001b[1;32m    171\u001b[0m \u001b[38;5;66;03m# Query the NASA Common Metadata Repository to find the URL of every granule associated with the desired \u001b[39;00m\n\u001b[1;32m    172\u001b[0m \u001b[38;5;66;03m# ECCO Dataset and date range of interest.\u001b[39;00m\n\u001b[1;32m    173\u001b[0m \n\u001b[1;32m    174\u001b[0m \u001b[38;5;66;03m# create a Python dictionary with our search criteria:  `ShortName` and `temporal`\u001b[39;00m\n\u001b[1;32m    175\u001b[0m input_search_params \u001b[38;5;241m=\u001b[39m {\u001b[38;5;124m'\u001b[39m\u001b[38;5;124mShortName\u001b[39m\u001b[38;5;124m'\u001b[39m: ShortName,\n\u001b[1;32m    176\u001b[0m                        \u001b[38;5;124m'\u001b[39m\u001b[38;5;124mtemporal\u001b[39m\u001b[38;5;124m'\u001b[39m: \u001b[38;5;124m\"\u001b[39m\u001b[38;5;124m,\u001b[39m\u001b[38;5;124m\"\u001b[39m\u001b[38;5;241m.\u001b[39mjoin([StartDate, EndDate])}\n",
      "File \u001b[0;32m~/ECCO-v4-Python-Tutorial/Tutorials_as_Jupyter_Notebooks/ecco_s3_retrieve.py:68\u001b[0m, in \u001b[0;36mecco_podaac_s3_query.<locals>.setup_earthdata_login_auth\u001b[0;34m(url)\u001b[0m\n\u001b[1;32m     66\u001b[0m \u001b[38;5;28;01mexcept\u001b[39;00m (\u001b[38;5;167;01mFileNotFoundError\u001b[39;00m, \u001b[38;5;167;01mTypeError\u001b[39;00m):\n\u001b[1;32m     67\u001b[0m     \u001b[38;5;28mprint\u001b[39m(\u001b[38;5;124m'\u001b[39m\u001b[38;5;124mPlease provide Earthdata Login credentials for access.\u001b[39m\u001b[38;5;124m'\u001b[39m)\n\u001b[0;32m---> 68\u001b[0m     username, password \u001b[38;5;241m=\u001b[39m \u001b[38;5;28minput\u001b[39m(\u001b[38;5;124m'\u001b[39m\u001b[38;5;124mUsername: \u001b[39m\u001b[38;5;124m'\u001b[39m), \u001b[43mgetpass\u001b[49m(\u001b[38;5;124m'\u001b[39m\u001b[38;5;124mPassword: \u001b[39m\u001b[38;5;124m'\u001b[39m)\n\u001b[1;32m     70\u001b[0m manager \u001b[38;5;241m=\u001b[39m request\u001b[38;5;241m.\u001b[39mHTTPPasswordMgrWithDefaultRealm()\n\u001b[1;32m     71\u001b[0m manager\u001b[38;5;241m.\u001b[39madd_password(\u001b[38;5;28;01mNone\u001b[39;00m, url, username, password)\n",
      "\u001b[0;31mNameError\u001b[0m: name 'getpass' is not defined"
     ]
    }
   ],
   "source": [
    "files = ecco_podaac_s3_open(\"ECCO_L4_SSH_LLC0090GRID_MONTHLY_V4R4\",\\\n",
    "                            StartDate='2000-01',EndDate='2000-12')"
   ]
  }
 ],
 "metadata": {
  "kernelspec": {
   "display_name": "Python 3 (ipykernel)",
   "language": "python",
   "name": "python3"
  },
  "language_info": {
   "codemirror_mode": {
    "name": "ipython",
    "version": 3
   },
   "file_extension": ".py",
   "mimetype": "text/x-python",
   "name": "python",
   "nbconvert_exporter": "python",
   "pygments_lexer": "ipython3",
   "version": "3.11.9"
  }
 },
 "nbformat": 4,
 "nbformat_minor": 5
}
