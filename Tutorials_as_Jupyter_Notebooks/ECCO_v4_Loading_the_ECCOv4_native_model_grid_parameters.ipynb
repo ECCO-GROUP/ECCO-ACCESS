{
 "cells": [
  {
   "cell_type": "markdown",
   "metadata": {},
   "source": [
    "# Loading the ECCOv4 native model grid parameters \n",
    "\n",
    "## Objectives\n",
    "\n",
    "Introduce two methods of loading the ECCOv4 native model grid parameters.\n",
    "\n",
    "## Introduction\n",
    "\n",
    "The ECCOv4 model grid parameters are provided as a single NetCDF file.  The file you have may look a little different than the one shown here because we have been working hard at improving how what exactly goes into our NetCDF files.  \n",
    "\n",
    "This tutorial document is current as of Sep 2019 with the ECCOv4 NetCDF grid files provided in the following directories:\n",
    "\n",
    "https://ecco.jpl.nasa.gov/drive/files/Version4/Release3_alt (po.daac drive, recommended)\n",
    "\n",
    "https://web.corral.tacc.utexas.edu/OceanProjects/ECCO/ECCOv4/Release3_alt/  (mirror at U. Texas, Austin)"
   ]
  },
  {
   "cell_type": "markdown",
   "metadata": {},
   "source": [
    "## Two methods to load the ECCOv4 model grid parameter NetCDF file \n",
    "\n",
    "Because the ECCOv4 model grid parameter data is provided in a single file you can use the ``open_dataset`` routine from ``xarray`` to open it. \n",
    "\n",
    "Alternatively, our subroutine ``load_ecco_grid_nc`` allows you to (optionally) specify a subset of vertical levels or a subset of tiles to load.\n",
    "\n",
    "We'll show both methods.  Let's start with ``open_dataset``.\n",
    "\n",
    "First set up your environment."
   ]
  },
  {
   "cell_type": "code",
   "execution_count": 1,
   "metadata": {},
   "outputs": [],
   "source": [
    "import numpy as np\n",
    "import xarray as xr\n",
    "import sys\n",
    "import matplotlib.pyplot as plt\n",
    "%matplotlib inline"
   ]
  },
  {
   "cell_type": "code",
   "execution_count": 2,
   "metadata": {},
   "outputs": [],
   "source": [
    "## Import the ecco_v4_py library into Python\n",
    "## =========================================\n",
    "\n",
    "## -- If ecco_v4_py is not installed in your local Python library, \n",
    "##    tell Python where to find it.  For example, if your ecco_v4_py\n",
    "##    files are in /Users/ifenty/ECCOv4-py/ecco_v4_py, then use:\n",
    "\n",
    "sys.path.append('/home/ifenty/ECCOv4-py')\n",
    "import ecco_v4_py as ecco"
   ]
  },
  {
   "cell_type": "code",
   "execution_count": 3,
   "metadata": {},
   "outputs": [],
   "source": [
    "## Set top-level file directory for the ECCO NetCDF files\n",
    "## =================================================================\n",
    "\n",
    "## -- If files are on a local machine, use something like \n",
    "# base_dir = '/Users/ifenty/'\n",
    "base_dir = '/home/ifenty/ECCOv4-release/'\n",
    "\n",
    "## define a high-level directory for ECCO fields\n",
    "ECCO_dir = base_dir + '/Release3_alt/'"
   ]
  },
  {
   "cell_type": "markdown",
   "metadata": {},
   "source": [
    "### Method 1: Loading the model grid parameters using ``load_ecco_grid_nc``\n",
    "\n",
    "Method 2 is super simple, just use ``open_dataset``:"
   ]
  },
  {
   "cell_type": "code",
   "execution_count": 4,
   "metadata": {
    "scrolled": false
   },
   "outputs": [
    {
     "data": {
      "text/plain": [
       "<xarray.Dataset>\n",
       "Dimensions:    (i: 90, i_g: 90, j: 90, j_g: 90, k: 50, k_l: 50, k_p1: 51, k_u: 50, tile: 13)\n",
       "Coordinates:\n",
       "  * i          (i) int64 0 1 2 3 4 5 6 7 8 9 ... 80 81 82 83 84 85 86 87 88 89\n",
       "  * i_g        (i_g) int64 0 1 2 3 4 5 6 7 8 9 ... 80 81 82 83 84 85 86 87 88 89\n",
       "  * j          (j) int64 0 1 2 3 4 5 6 7 8 9 ... 80 81 82 83 84 85 86 87 88 89\n",
       "  * j_g        (j_g) int64 0 1 2 3 4 5 6 7 8 9 ... 80 81 82 83 84 85 86 87 88 89\n",
       "  * k          (k) int64 0 1 2 3 4 5 6 7 8 9 ... 40 41 42 43 44 45 46 47 48 49\n",
       "  * k_u        (k_u) int64 0 1 2 3 4 5 6 7 8 9 ... 40 41 42 43 44 45 46 47 48 49\n",
       "  * k_l        (k_l) int64 0 1 2 3 4 5 6 7 8 9 ... 40 41 42 43 44 45 46 47 48 49\n",
       "  * k_p1       (k_p1) int64 0 1 2 3 4 5 6 7 8 9 ... 42 43 44 45 46 47 48 49 50\n",
       "  * tile       (tile) int64 0 1 2 3 4 5 6 7 8 9 10 11 12\n",
       "    XC         (tile, j, i) float32 ...\n",
       "    YC         (tile, j, i) float32 ...\n",
       "    XG         (tile, j_g, i_g) float32 ...\n",
       "    YG         (tile, j_g, i_g) float32 ...\n",
       "    CS         (tile, j, i) float32 ...\n",
       "    SN         (tile, j, i) float32 ...\n",
       "    Z          (k) float32 ...\n",
       "    Zp1        (k_p1) float32 ...\n",
       "    Zu         (k_u) float32 ...\n",
       "    Zl         (k_l) float32 ...\n",
       "    rA         (tile, j, i) float32 ...\n",
       "    dxG        (tile, j_g, i) float32 ...\n",
       "    dyG        (tile, j, i_g) float32 ...\n",
       "    Depth      (tile, j, i) float32 ...\n",
       "    rAz        (tile, j_g, i_g) float32 ...\n",
       "    dxC        (tile, j, i_g) float32 ...\n",
       "    dyC        (tile, j_g, i) float32 ...\n",
       "    rAw        (tile, j, i_g) float32 ...\n",
       "    rAs        (tile, j_g, i) float32 ...\n",
       "    drC        (k_p1) float32 ...\n",
       "    drF        (k) float32 ...\n",
       "    PHrefC     (k) float32 ...\n",
       "    PHrefF     (k_p1) float32 ...\n",
       "    hFacC      (k, tile, j, i) float32 ...\n",
       "    hFacW      (k, tile, j, i_g) float32 ...\n",
       "    hFacS      (k, tile, j_g, i) float32 ...\n",
       "    maskC      (k, tile, j, i) bool ...\n",
       "    maskW      (k, tile, j, i_g) bool ...\n",
       "    maskS      (k, tile, j_g, i) bool ...\n",
       "    maskCtrlW  (k, tile, j, i_g) bool ...\n",
       "    maskCtrlS  (k, tile, j_g, i) bool ...\n",
       "    maskCtrlC  (k, tile, j, i) bool ...\n",
       "Data variables:\n",
       "    *empty*\n",
       "Attributes:\n",
       "    Conventions:  CF-1.6\n",
       "    title:        netCDF wrapper of MITgcm MDS binary data\n",
       "    source:       MITgcm\n",
       "    history:      Created by calling `open_mdsdataset(extra_metadata=None, ll..."
      ]
     },
     "execution_count": 4,
     "metadata": {},
     "output_type": "execute_result"
    }
   ],
   "source": [
    "grid_dir = ECCO_dir + 'nctiles_grid/'\n",
    "\n",
    "## load the grid\n",
    "grid = xr.open_dataset(grid_dir + 'ECCOv4r3_grid.nc')\n",
    "grid"
   ]
  },
  {
   "cell_type": "markdown",
   "metadata": {},
   "source": [
    "Let's plot two of the model grid parameter fields ``hFacC`` (tracer cell thickness factor) and ``rA`` (grid cell surface area)\n",
    "\n",
    "First we plot ``hFac``:"
   ]
  },
  {
   "cell_type": "code",
   "execution_count": 5,
   "metadata": {},
   "outputs": [
    {
     "data": {
      "image/png": "[encoded data removed]",
      "text/plain": [
       "<Figure size 648x745.2 with 26 Axes>"
      ]
     },
     "metadata": {
      "needs_background": "light"
     },
     "output_type": "display_data"
    }
   ],
   "source": [
    "ecco.plot_tiles(grid.hFacC.sel(k=0), show_colorbar=True, cmap='gray');"
   ]
  },
  {
   "cell_type": "code",
   "execution_count": 6,
   "metadata": {},
   "outputs": [
    {
     "data": {
      "text/plain": [
       "'Model grid cell surface area [m^2]'"
      ]
     },
     "execution_count": 6,
     "metadata": {},
     "output_type": "execute_result"
    },
    {
     "data": {
      "image/png": "[encoded data removed]",
      "text/plain": [
       "<Figure size 648x745.2 with 26 Axes>"
      ]
     },
     "metadata": {
      "needs_background": "light"
     },
     "output_type": "display_data"
    }
   ],
   "source": [
    "ecco.plot_tiles(grid.rA, show_colorbar=True);\n",
    "'Model grid cell surface area [m^2]'"
   ]
  },
  {
   "cell_type": "markdown",
   "metadata": {},
   "source": [
    "### Method 2: Loading the model grid parameters using ``load_ecco_grid_nc``\n",
    "\n",
    "A more advanced routine, ``load_ecco_grid_nc``, allows you to load only a subset of tiles and vertical levels.  If no optional parameters are given, the entire grid object is loaded, just like ``open_dataset``"
   ]
  },
  {
   "cell_type": "code",
   "execution_count": 7,
   "metadata": {
    "scrolled": true
   },
   "outputs": [
    {
     "data": {
      "text/plain": [
       "<xarray.Dataset>\n",
       "Dimensions:    (i: 90, i_g: 90, j: 90, j_g: 90, k: 50, k_l: 50, k_p1: 51, k_u: 50, tile: 13)\n",
       "Coordinates:\n",
       "  * i          (i) int64 0 1 2 3 4 5 6 7 8 9 ... 80 81 82 83 84 85 86 87 88 89\n",
       "  * i_g        (i_g) int64 0 1 2 3 4 5 6 7 8 9 ... 80 81 82 83 84 85 86 87 88 89\n",
       "  * j          (j) int64 0 1 2 3 4 5 6 7 8 9 ... 80 81 82 83 84 85 86 87 88 89\n",
       "  * j_g        (j_g) int64 0 1 2 3 4 5 6 7 8 9 ... 80 81 82 83 84 85 86 87 88 89\n",
       "  * k          (k) int64 0 1 2 3 4 5 6 7 8 9 ... 40 41 42 43 44 45 46 47 48 49\n",
       "  * k_u        (k_u) int64 0 1 2 3 4 5 6 7 8 9 ... 40 41 42 43 44 45 46 47 48 49\n",
       "  * k_l        (k_l) int64 0 1 2 3 4 5 6 7 8 9 ... 40 41 42 43 44 45 46 47 48 49\n",
       "  * k_p1       (k_p1) int64 0 1 2 3 4 5 6 7 8 9 ... 42 43 44 45 46 47 48 49 50\n",
       "  * tile       (tile) int64 0 1 2 3 4 5 6 7 8 9 10 11 12\n",
       "    XC         (tile, j, i) float32 -111.60647 -111.303 ... -111.86579\n",
       "    YC         (tile, j, i) float32 -88.24259 -88.382515 ... -88.07871 -88.10267\n",
       "    XG         (tile, j_g, i_g) float32 -115.0 -115.0 ... -102.928925 -108.95171\n",
       "    YG         (tile, j_g, i_g) float32 -88.17569 -88.31587 ... -88.02409\n",
       "    CS         (tile, j, i) float32 0.06157813 0.06675376 ... -0.9983638\n",
       "    SN         (tile, j, i) float32 -0.99810225 -0.9977695 ... -0.057182025\n",
       "    Z          (k) float32 -5.0 -15.0 -25.0 -35.0 ... -5039.25 -5461.25 -5906.25\n",
       "    Zp1        (k_p1) float32 0.0 -10.0 -20.0 -30.0 ... -5244.5 -5678.0 -6134.5\n",
       "    Zu         (k_u) float32 -10.0 -20.0 -30.0 -40.0 ... -5244.5 -5678.0 -6134.5\n",
       "    Zl         (k_l) float32 0.0 -10.0 -20.0 -30.0 ... -4834.0 -5244.5 -5678.0\n",
       "    rA         (tile, j, i) float32 362256450.0 363300960.0 ... 361119100.0\n",
       "    dxG        (tile, j_g, i) float32 15584.907 15589.316 ... 23142.107\n",
       "    dyG        (tile, j, i_g) float32 23210.262 23273.26 ... 15595.26 15583.685\n",
       "    Depth      (tile, j, i) float32 0.0 0.0 0.0 0.0 0.0 ... 0.0 0.0 0.0 0.0 0.0\n",
       "    rAz        (tile, j_g, i_g) float32 179944260.0 180486990.0 ... 364150620.0\n",
       "    dxC        (tile, j, i_g) float32 15583.418 15588.104 ... 23406.256\n",
       "    dyC        (tile, j_g, i) float32 11563.718 11593.785 ... 15578.138\n",
       "    rAw        (tile, j, i_g) float32 361699460.0 362790240.0 ... 364760350.0\n",
       "    rAs        (tile, j_g, i) float32 179944260.0 180486990.0 ... 364150620.0\n",
       "    drC        (k_p1) float32 5.0 10.0 10.0 10.0 ... 399.0 422.0 445.0 228.25\n",
       "    drF        (k) float32 10.0 10.0 10.0 10.0 10.0 ... 387.5 410.5 433.5 456.5\n",
       "    PHrefC     (k) float32 49.05 147.15 245.25 ... 49435.043 53574.863 57940.312\n",
       "    PHrefF     (k_p1) float32 0.0 98.1 196.2 ... 51448.547 55701.18 60179.445\n",
       "    hFacC      (k, tile, j, i) float32 0.0 0.0 0.0 0.0 0.0 ... 0.0 0.0 0.0 0.0\n",
       "    hFacW      (k, tile, j, i_g) float32 0.0 0.0 0.0 0.0 0.0 ... 0.0 0.0 0.0 0.0\n",
       "    hFacS      (k, tile, j_g, i) float32 0.0 0.0 0.0 0.0 0.0 ... 0.0 0.0 0.0 0.0\n",
       "    maskC      (k, tile, j, i) bool False False False ... False False False\n",
       "    maskW      (k, tile, j, i_g) bool False False False ... False False False\n",
       "    maskS      (k, tile, j_g, i) bool False False False ... False False False\n",
       "    maskCtrlW  (k, tile, j, i_g) bool False False False ... False False False\n",
       "    maskCtrlS  (k, tile, j_g, i) bool False False False ... False False False\n",
       "    maskCtrlC  (k, tile, j, i) bool False False False ... False False False\n",
       "Data variables:\n",
       "    *empty*\n",
       "Attributes:\n",
       "    Conventions:              CF-1.6\n",
       "    geospatial_lat_max:       90.0\n",
       "    geospatial_lat_min:       -90.0\n",
       "    geospatial_lon_max:       180.0\n",
       "    geospatial_lon_min:       -179.99919\n",
       "    geospatial_vertical_max:  -5.0\n",
       "    geospatial_vertical_min:  -5906.25\n",
       "    history:                  Created by calling `open_mdsdataset(extra_metad...\n",
       "    nx:                       90\n",
       "    ny:                       90\n",
       "    nz:                       50\n",
       "    source:                   MITgcm\n",
       "    title:                    netCDF wrapper of MITgcm MDS binary data"
      ]
     },
     "execution_count": 7,
     "metadata": {},
     "output_type": "execute_result"
    }
   ],
   "source": [
    "grid_dir = ECCO_dir + 'nctiles_grid'\n",
    "\n",
    "grid = ecco.load_ecco_grid_nc(grid_dir, 'ECCOv4r3_grid.nc')\n",
    "grid"
   ]
  },
  {
   "cell_type": "markdown",
   "metadata": {},
   "source": [
    "Alternatively we can load just a subset of tiles and vertical levels."
   ]
  },
  {
   "cell_type": "code",
   "execution_count": 8,
   "metadata": {
    "scrolled": false
   },
   "outputs": [
    {
     "data": {
      "text/plain": [
       "<xarray.Dataset>\n",
       "Dimensions:    (i: 90, i_g: 90, j: 90, j_g: 90, k: 4, k_l: 4, k_p1: 4, k_u: 4, tile: 3)\n",
       "Coordinates:\n",
       "  * i          (i) int64 0 1 2 3 4 5 6 7 8 9 ... 80 81 82 83 84 85 86 87 88 89\n",
       "  * i_g        (i_g) int64 0 1 2 3 4 5 6 7 8 9 ... 80 81 82 83 84 85 86 87 88 89\n",
       "  * j          (j) int64 0 1 2 3 4 5 6 7 8 9 ... 80 81 82 83 84 85 86 87 88 89\n",
       "  * j_g        (j_g) int64 0 1 2 3 4 5 6 7 8 9 ... 80 81 82 83 84 85 86 87 88 89\n",
       "  * k          (k) int64 0 1 2 3\n",
       "  * k_u        (k_u) int64 0 1 2 3\n",
       "  * k_l        (k_l) int64 0 1 2 3\n",
       "  * k_p1       (k_p1) int64 0 1 2 3\n",
       "  * tile       (tile) int64 1 10 12\n",
       "    XC         (tile, j, i) float32 -37.5 -36.5 -35.5 ... -105.58465 -111.86579\n",
       "    YC         (tile, j, i) float32 -56.73891 -56.73891 ... -88.07871 -88.10267\n",
       "    XG         (tile, j_g, i_g) float32 -38.0 -37.0 ... -102.928925 -108.95171\n",
       "    YG         (tile, j_g, i_g) float32 -57.005695 -57.005695 ... -88.02409\n",
       "    CS         (tile, j, i) float32 1.0 1.0 1.0 ... -0.98536175 -0.9983638\n",
       "    SN         (tile, j, i) float32 -0.0 6.52406e-15 ... -0.1704766 -0.057182025\n",
       "    Z          (k) float32 -5.0 -15.0 -25.0 -35.0\n",
       "    Zp1        (k_p1) float32 0.0 -10.0 -20.0 -30.0\n",
       "    Zu         (k_u) float32 -10.0 -20.0 -30.0 -40.0\n",
       "    Zl         (k_l) float32 0.0 -10.0 -20.0 -30.0\n",
       "    rA         (tile, j, i) float32 3624512000.0 3624512000.0 ... 361119100.0\n",
       "    dxG        (tile, j_g, i) float32 60542.324 60542.324 ... 23142.107\n",
       "    dyG        (tile, j, i_g) float32 59441.125 59441.125 ... 15595.26 15583.685\n",
       "    Depth      (tile, j, i) float32 3284.1084 3485.7 3485.7 ... 0.0 0.0 0.0\n",
       "    rAz        (tile, j_g, i_g) float32 3584245000.0 ... 364150620.0\n",
       "    dxC        (tile, j, i_g) float32 60975.85 60975.85 ... 23865.428 23406.256\n",
       "    dyC        (tile, j_g, i) float32 59201.66 59201.66 ... 15585.765 15578.138\n",
       "    rAw        (tile, j, i_g) float32 3624512000.0 3624512000.0 ... 364760350.0\n",
       "    rAs        (tile, j_g, i) float32 3584245000.0 3584245000.0 ... 364150620.0\n",
       "    drC        (k_p1) float32 5.0 10.0 10.0 10.0\n",
       "    drF        (k) float32 10.0 10.0 10.0 10.0\n",
       "    PHrefC     (k) float32 49.05 147.15 245.25 343.35\n",
       "    PHrefF     (k_p1) float32 0.0 98.1 196.2 294.3\n",
       "    hFacC      (k, tile, j, i) float32 1.0 1.0 1.0 1.0 1.0 ... 0.0 0.0 0.0 0.0\n",
       "    hFacW      (k, tile, j, i_g) float32 1.0 1.0 1.0 1.0 1.0 ... 0.0 0.0 0.0 0.0\n",
       "    hFacS      (k, tile, j_g, i) float32 1.0 1.0 1.0 1.0 1.0 ... 0.0 0.0 0.0 0.0\n",
       "    maskC      (k, tile, j, i) bool True True True True ... False False False\n",
       "    maskW      (k, tile, j, i_g) bool True True True True ... False False False\n",
       "    maskS      (k, tile, j_g, i) bool True True True True ... False False False\n",
       "    maskCtrlW  (k, tile, j, i_g) bool True True True True ... False False False\n",
       "    maskCtrlS  (k, tile, j_g, i) bool True True True True ... False False False\n",
       "    maskCtrlC  (k, tile, j, i) bool True True True True ... False False False\n",
       "Data variables:\n",
       "    *empty*\n",
       "Attributes:\n",
       "    Conventions:              CF-1.6\n",
       "    geospatial_lat_max:       72.043434\n",
       "    geospatial_lat_min:       -88.02409\n",
       "    geospatial_lon_max:       51.0\n",
       "    geospatial_lon_min:       -128.0\n",
       "    geospatial_vertical_max:  -5.0\n",
       "    geospatial_vertical_min:  -35.0\n",
       "    history:                  Created by calling `open_mdsdataset(extra_metad...\n",
       "    nx:                       90\n",
       "    ny:                       90\n",
       "    nz:                       4\n",
       "    source:                   MITgcm\n",
       "    title:                    netCDF wrapper of MITgcm MDS binary data"
      ]
     },
     "execution_count": 8,
     "metadata": {},
     "output_type": "execute_result"
    }
   ],
   "source": [
    "grid_subset = ecco.load_ecco_grid_nc(grid_dir, 'ECCOv4r3_grid.nc', tiles_to_load = [1, 10, 12], k_subset=[0,1,2,3])\n",
    "grid_subset"
   ]
  },
  {
   "cell_type": "markdown",
   "metadata": {},
   "source": [
    "notice that ``grid_subset`` only has 3 tiles (9,10, 11) and 4 depth levels (0, 1, 2, 3), as expected.\n",
    "\n",
    "Let's plot ``hFacC`` and ``rA`` again"
   ]
  },
  {
   "cell_type": "code",
   "execution_count": 9,
   "metadata": {},
   "outputs": [
    {
     "data": {
      "text/plain": [
       "'Model grid cell surface area [m^2] in tiles 1, 10, and 12 '"
      ]
     },
     "execution_count": 9,
     "metadata": {},
     "output_type": "execute_result"
    },
    {
     "data": {
      "image/png": "[encoded data removed]",
      "text/plain": [
       "<Figure size 648x745.2 with 26 Axes>"
      ]
     },
     "metadata": {
      "needs_background": "light"
     },
     "output_type": "display_data"
    }
   ],
   "source": [
    "ecco.plot_tiles(grid_subset.hFacC.sel(k=0), show_colorbar=True, cmap='gray');\n",
    "'Model grid cell surface area [m^2] in tiles 1, 10, and 12 '"
   ]
  },
  {
   "cell_type": "markdown",
   "metadata": {},
   "source": [
    "Notice that 10 of the 13 tiles are blank because they were not loaded."
   ]
  },
  {
   "cell_type": "code",
   "execution_count": 10,
   "metadata": {},
   "outputs": [
    {
     "data": {
      "text/plain": [
       "'Model grid cell surface area [m^2]'"
      ]
     },
     "execution_count": 10,
     "metadata": {},
     "output_type": "execute_result"
    },
    {
     "data": {
      "image/png": "[encoded data removed]",
      "text/plain": [
       "<Figure size 648x745.2 with 26 Axes>"
      ]
     },
     "metadata": {
      "needs_background": "light"
     },
     "output_type": "display_data"
    }
   ],
   "source": [
    "ecco.plot_tiles(grid_subset.rA, show_colorbar=True);\n",
    "'Model grid cell surface area [m^2]'"
   ]
  },
  {
   "cell_type": "markdown",
   "metadata": {},
   "source": [
    "## Summary\n",
    "\n",
    "Now you know two ways to load the ECCOv4 grid parameter file!  "
   ]
  }
 ],
 "metadata": {
  "kernelspec": {
   "display_name": "Python 3",
   "language": "python",
   "name": "python3"
  },
  "language_info": {
   "codemirror_mode": {
    "name": "ipython",
    "version": 3
   },
   "file_extension": ".py",
   "mimetype": "text/x-python",
   "name": "python",
   "nbconvert_exporter": "python",
   "pygments_lexer": "ipython3",
   "version": "3.6.9"
  }
 },
 "nbformat": 4,
 "nbformat_minor": 2
}
