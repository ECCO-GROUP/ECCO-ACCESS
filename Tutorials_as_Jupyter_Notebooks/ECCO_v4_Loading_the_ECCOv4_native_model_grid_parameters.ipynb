{
 "cells": [
  {
   "cell_type": "markdown",
   "metadata": {},
   "source": [
    "# Loading the ECCOv4 native model grid parameters \n",
    "\n",
    "## Objectives\n",
    "\n",
    "Briefly show how to open the ECCOv4 grid file as an `xarray` dataset, plot parameters, and create subsets of the grid dataset.\n",
    "\n",
    "## Introduction\n",
    "\n",
    "The ECCOv4 model grid parameters are provided as a single NetCDF file. It can be downloaded using the `ecco_podaac_download` function as described in the [download tutorial](https://ecco-v4-python-tutorial.readthedocs.io/Downloading_ECCO_Datasets_from_PODAAC_Python.html#ECCO_download-module). The ShortName for the dataset is **ECCO_L4_GEOMETRY_LLC0090GRID_V4R4**. The grid parameters file has no time dimension, but `ecco_podaac_download` requires a StartDate and EndDate to be specified; any date in the range 1992-2017 can be used."
   ]
  },
  {
   "cell_type": "markdown",
   "metadata": {},
   "source": [
    "## Load the ECCOv4 model grid parameter NetCDF file\n",
    "\n",
    "Because the ECCOv4 model grid parameter data is provided in a single file you can use the ``open_dataset`` routine from ``xarray`` to open it. \n",
    "\n",
    "First set up your environment."
   ]
  },
  {
   "cell_type": "code",
   "execution_count": null,
   "metadata": {},
   "outputs": [],
   "source": [
    "import numpy as np\n",
    "import xarray as xr\n",
    "import sys\n",
    "import matplotlib.pyplot as plt\n",
    "%matplotlib inline"
   ]
  },
  {
   "cell_type": "code",
   "execution_count": null,
   "metadata": {},
   "outputs": [],
   "source": [
    "## Import the ecco_v4_py library into Python\n",
    "## =========================================\n",
    "\n",
    "## -- If ecco_v4_py is not installed in your local Python library, \n",
    "##    tell Python where to find it.  For example, if your ecco_v4_py\n",
    "##    files are in /Users/ifenty/ECCOv4-py/ecco_v4_py, then use:\n",
    "\n",
    "from os.path import expanduser,join\n",
    "import sys\n",
    "user_home_dir = expanduser('~')\n",
    "sys.path.append(join(user_home_dir,'ECCOv4-py'))\n",
    "import ecco_v4_py as ecco"
   ]
  },
  {
   "cell_type": "code",
   "execution_count": null,
   "metadata": {},
   "outputs": [],
   "source": [
    "## Set top-level file directory for the ECCO NetCDF files\n",
    "\n",
    "## change ECCO_dir as needed\n",
    "ECCO_dir = join(user_home_dir,'Downloads','ECCO_V4r4_PODAAC')"
   ]
  },
  {
   "cell_type": "code",
   "execution_count": null,
   "metadata": {},
   "outputs": [],
   "source": [
    "## open ECCO datasets needed for the tutorial (without loading them into memory yet)\n",
    "\n",
    "ShortNames_list = [\"ECCO_L4_GEOMETRY_LLC0090GRID_V4R4\"]\n",
    "if incloud_access == True:\n",
    "    from ecco_s3_retrieve import ecco_podaac_s3_get_diskaware\n",
    "    files_nested_list = ecco_podaac_s3_get_diskaware(ShortNames=ShortNames_list,\\\n",
    "                                                     StartDate='1992-01',EndDate='2017-12',\\\n",
    "                                                     max_avail_frac=0.5,\\\n",
    "                                                     download_root_dir=ECCO_dir)\n",
    "    grid = xr.open_mfdataset(files_nested_list[ShortNames_list[0]])\n",
    "else:\n",
    "    grid_params_file = \"GRID_GEOMETRY_ECCO_V4r4_native_llc0090.nc\"\n",
    "    grid = xr.open_mfdataset(join(ECCO_dir,ShortNames_list[0],grid_params_file))"
   ]
  },
  {
   "cell_type": "code",
   "execution_count": null,
   "metadata": {},
   "outputs": [],
   "source": [
    "# show contents of grid_dataset\n",
    "grid"
   ]
  },
  {
   "cell_type": "markdown",
   "metadata": {},
   "source": [
    "### Plot grid parameters using plot_tiles function\n",
    "\n",
    "Let's plot two of the model grid parameter fields ``hFacC`` (tracer cell thickness factor) and ``rA`` (grid cell surface area)\n",
    "\n",
    "First we plot ``hFac``:"
   ]
  },
  {
   "cell_type": "code",
   "execution_count": null,
   "metadata": {},
   "outputs": [],
   "source": [
    "ecco.plot_tiles(grid.hFacC.isel(k=0), cmap='gray', show_colorbar=True,);"
   ]
  },
  {
   "cell_type": "code",
   "execution_count": null,
   "metadata": {},
   "outputs": [],
   "source": [
    "ecco.plot_tiles(grid.rA, cmap='jet', show_colorbar=True);\n",
    "plt.suptitle('Model grid cell surface area [m^2]')\n",
    "\n",
    "plt.show()"
   ]
  },
  {
   "cell_type": "markdown",
   "metadata": {},
   "source": [
    "### Plot subset of global domain\n",
    "\n",
    "Once the file has been \"opened\" using ``open_dataset``, we can use `Dataset.isel` to subset the file if we don't want to plot the full global domain."
   ]
  },
  {
   "cell_type": "code",
   "execution_count": null,
   "metadata": {},
   "outputs": [],
   "source": [
    "grid_subset = grid.isel(tile=[1,10,12],k=[0,1,2,3])\n",
    "grid_subset"
   ]
  },
  {
   "cell_type": "markdown",
   "metadata": {},
   "source": [
    "Notice that ``grid_subset`` only has 3 tiles (1, 10, 12) and 4 depth levels (0, 1, 2, 3), as expected. The subset indices can also be passed to `isel` as a Python dictionary, with the same result."
   ]
  },
  {
   "cell_type": "code",
   "execution_count": null,
   "metadata": {},
   "outputs": [],
   "source": [
    "subset_ind = {'tile':[1,10,12],'k':[0,1,2,3]}\n",
    "\n",
    "grid_subset = grid.isel(subset_ind)\n",
    "grid_subset"
   ]
  },
  {
   "cell_type": "markdown",
   "metadata": {},
   "source": [
    "Let's plot ``hFacC`` and ``rA`` again"
   ]
  },
  {
   "cell_type": "code",
   "execution_count": null,
   "metadata": {},
   "outputs": [],
   "source": [
    "ecco.plot_tiles(grid_subset.hFacC.isel(k=0), cmap='gray', show_colorbar=True,);\n",
    "'Model grid cell surface area [m^2] in tiles 1, 10, and 12 '"
   ]
  },
  {
   "cell_type": "markdown",
   "metadata": {},
   "source": [
    "Notice that 10 of the 13 tiles are blank because they were not loaded."
   ]
  },
  {
   "cell_type": "code",
   "execution_count": null,
   "metadata": {},
   "outputs": [],
   "source": [
    "ecco.plot_tiles(grid_subset.rA, cmap='jet', show_colorbar=True);\n",
    "'Model grid cell surface area [m^2]'"
   ]
  }
 ],
 "metadata": {
  "kernelspec": {
   "display_name": "Python 3 (ipykernel)",
   "language": "python",
   "name": "python3"
  },
  "language_info": {
   "codemirror_mode": {
    "name": "ipython",
    "version": 3
   },
   "file_extension": ".py",
   "mimetype": "text/x-python",
   "name": "python",
   "nbconvert_exporter": "python",
   "pygments_lexer": "ipython3",
   "version": "3.9.13"
  }
 },
 "nbformat": 4,
 "nbformat_minor": 4
}
