{
 "cells": [
  {
   "cell_type": "markdown",
   "metadata": {},
   "source": [
    "# Coordinates and Dimensions of ECCOv4 NetCDF files\n",
    "\n",
    "## Objectives\n",
    "\n",
    "Introduce the student ot the idea that the ECCO v4 NetCDF fields have coordinate labels which shows *where* these fields are on the Arakawa-C grid.\n",
    "\n",
    "## Introduction\n",
    "\n",
    "As we showed in the first tutorial, we can use the `open_dataset` method from `xarray` to load a NetCDF tile file into Python as a `Dataset` object.  `open_dataset` is very convenient because it automatically parses the NetCDF file and constructs a `Dataset` object using all of the  dimensions, coordinates, variables, and metadata information.  \n",
    "\n",
    "In the last tutorial we loaded a single ECCOv4 tile file, March 2010 average potential temperature and examined its contents.  Let's load it up again and take a closer look at its coordinates.  This time we'll name the new `Dataset` object *ecco_dataset* since we are loading the file using `open_dataset`."
   ]
  },
  {
   "cell_type": "code",
   "execution_count": 19,
   "metadata": {},
   "outputs": [],
   "source": [
    "import numpy as np\n",
    "import xarray as xr\n",
    "import sys\n",
    "sys.path.append('/Users/ifenty/ECCOv4-py')\n",
    "import ecco_v4_py as ecco\n",
    "\n",
    "# define a high-level directory for ECCO fields\n",
    "ECCO_dir = '/Users/ifenty/eccov4r3_native_grid_netcdf_tiles/'\n",
    "\n",
    "# Load one tile of the llc90 grid\n",
    "data_dir= ECCO_dir + '/mon_mean/THETA/2010/03/'\n",
    "\n",
    "fname = 'THETA_2010_03_tile_02.nc'\n",
    "theta_dataset = xr.open_dataset(data_dir + fname).load()"
   ]
  },
  {
   "cell_type": "markdown",
   "metadata": {},
   "source": [
    "Before we get started, plot the temperature field at the surface layer (k=0) so that everything below has some context."
   ]
  },
  {
   "cell_type": "code",
   "execution_count": 2,
   "metadata": {},
   "outputs": [
    {
     "data": {
      "text/plain": [
       "<matplotlib.collections.QuadMesh at 0x31e4edfd0>"
      ]
     },
     "execution_count": 2,
     "metadata": {},
     "output_type": "execute_result"
    },
    {
     "data": {
      "image/png": "[encoded data removed]",
      "text/plain": [
       "<Figure size 432x288 with 2 Axes>"
      ]
     },
     "metadata": {
      "needs_background": "light"
     },
     "output_type": "display_data"
    }
   ],
   "source": [
    "theta_dataset.THETA.isel(k=0).plot()"
   ]
  },
  {
   "cell_type": "markdown",
   "metadata": {},
   "source": [
    "## The Dimensions and Coordinates of *THETA*"
   ]
  },
  {
   "cell_type": "markdown",
   "metadata": {},
   "source": [
    "### Dimensions\n",
    "\n",
    "This ``dataset`` is three spatial dimensional because it's single *Data variable*, ``THETA`` is three dimensional.  There is also one dummy dimension **nv** which is not a spatial dimension it is the second dimension of the two-dimensional array `time_bnds`.\n",
    "\n",
    "The spatial dimensions are labelled **i**, **j**, and **k**. "
   ]
  },
  {
   "cell_type": "code",
   "execution_count": 3,
   "metadata": {
    "scrolled": false
   },
   "outputs": [
    {
     "data": {
      "text/plain": [
       "<xarray.Dataset>\n",
       "Dimensions:    (i: 90, j: 90, k: 50, nv: 2)\n",
       "Coordinates:\n",
       "    XC         (j, i) float32 -37.5 -36.5 -35.5 ... 50.968143 51.44421 51.837925\n",
       "    YC         (j, i) float32 10.458642 10.458642 ... 67.53387 67.47211\n",
       "    rA         (j, i) float32 11896091000.0 11896091000.0 ... 212633870.0\n",
       "  * j          (j) int32 0 1 2 3 4 5 6 7 8 9 ... 80 81 82 83 84 85 86 87 88 89\n",
       "  * i          (i) int32 0 1 2 3 4 5 6 7 8 9 ... 80 81 82 83 84 85 86 87 88 89\n",
       "    hFacC      (k, j, i) float32 1.0 1.0 1.0 1.0 1.0 1.0 ... 0.0 0.0 0.0 0.0 0.0\n",
       "  * k          (k) int32 0 1 2 3 4 5 6 7 8 9 ... 40 41 42 43 44 45 46 47 48 49\n",
       "    Z          (k) float32 -5.0 -15.0 -25.0 -35.0 ... -5039.25 -5461.25 -5906.25\n",
       "    PHrefC     (k) float32 49.05 147.15 245.25 ... 49435.043 53574.863 57940.312\n",
       "    drF        (k) float32 10.0 10.0 10.0 10.0 10.0 ... 387.5 410.5 433.5 456.5\n",
       "    time_bnds  (nv) datetime64[ns] 2010-03-01 2010-04-01\n",
       "    tile       int32 2\n",
       "    iter       int32 159948\n",
       "    time       datetime64[ns] 2010-03-16T12:00:00\n",
       "Dimensions without coordinates: nv\n",
       "Data variables:\n",
       "    THETA      (k, j, i) float32 26.663628 26.587461 26.537895 ... 0.0 0.0 0.0\n",
       "Attributes:\n",
       "    product_time_coverage_start:  1992-01-01T12:00:00\n",
       "    author:                       Ian Fenty and Ou Wang\n",
       "    Insitution:                   JPL\n",
       "    product_version:              ECCO Version 4 Release 3 (ECCOv4r3) 1992-2015\n",
       "    time_units:                   days since 1992-01-01 00:00:00\n",
       "    Conventions:                  CF-1.6\n",
       "    Project:                      Estimating the Circulation and Climate of t...\n",
       "    cdm_data_type:                Grid\n",
       "    geospatial_lon_units:         degrees_east\n",
       "    Metadata_Conventions:         CF-1.6, Unidata Dataset Discovery v1.0, GDS...\n",
       "    no_data:                      NaNf\n",
       "    geospatial_lat_units:         degrees_north\n",
       "    product_time_coverage_end:    2015-12-31T12:00:00\n",
       "    geospatial_vertical_min:      0\n",
       "    nz:                           50\n",
       "    geospatial_vertical_units:    meter\n",
       "    geospatial_vertical_max:      6134.5\n",
       "    date_created:                 Mon May 13 02:40:14 2019\n",
       "    geospatial_lat_max:           71.83288\n",
       "    geospatial_lat_min:           10.458642\n",
       "    nx:                           90\n",
       "    ny:                           90\n",
       "    geospatial_lon_max:           51.837925\n",
       "    geospatial_lon_min:           -37.837925\n",
       "    time_coverage_start:          2010-03-01T00:00:00\n",
       "    time_coverage_end:            2010-04-01T00:00:00"
      ]
     },
     "execution_count": 3,
     "metadata": {},
     "output_type": "execute_result"
    }
   ],
   "source": [
    "theta_dataset"
   ]
  },
  {
   "cell_type": "markdown",
   "metadata": {},
   "source": [
    "```\n",
    "<xarray.DataArray 'THETA' (k: 50, j: 90, i: 90)>\n",
    "```"
   ]
  },
  {
   "cell_type": "markdown",
   "metadata": {},
   "source": [
    "### Coordinates\n",
    "\n",
    "#### Dimension Coordinates\n",
    "\n",
    "Beyond having three dimensions *theta_dataset* also has *coordinates* in the **i**, **j**, and **k** directions.  The most basic coordinates are 1D vectors, one for each dimension, which contain *indices* for the array.  Let us call these basic coordinates, *dimension coordinates*.  Here we use 0 as the first index of dimension coordinates\n",
    "```\n",
    "* i          (i) int32 0 1 2 3 4 5 6 7 8 9 ... 80 81 82 83 84 85 86 87 88 89\n",
    "```\n",
    "\n",
    "Let's look at the three Dimension Coordinates more closely\n",
    "\n",
    "##### Dimension Coordinate ``i``"
   ]
  },
  {
   "cell_type": "code",
   "execution_count": 4,
   "metadata": {
    "scrolled": true
   },
   "outputs": [
    {
     "data": {
      "text/plain": [
       "<xarray.DataArray 'i' (i: 90)>\n",
       "array([ 0,  1,  2,  3,  4,  5,  6,  7,  8,  9, 10, 11, 12, 13, 14, 15, 16, 17,\n",
       "       18, 19, 20, 21, 22, 23, 24, 25, 26, 27, 28, 29, 30, 31, 32, 33, 34, 35,\n",
       "       36, 37, 38, 39, 40, 41, 42, 43, 44, 45, 46, 47, 48, 49, 50, 51, 52, 53,\n",
       "       54, 55, 56, 57, 58, 59, 60, 61, 62, 63, 64, 65, 66, 67, 68, 69, 70, 71,\n",
       "       72, 73, 74, 75, 76, 77, 78, 79, 80, 81, 82, 83, 84, 85, 86, 87, 88, 89],\n",
       "      dtype=int32)\n",
       "Coordinates:\n",
       "  * i        (i) int32 0 1 2 3 4 5 6 7 8 9 10 ... 80 81 82 83 84 85 86 87 88 89\n",
       "    tile     int32 2\n",
       "    iter     int32 159948\n",
       "    time     datetime64[ns] 2010-03-16T12:00:00\n",
       "Attributes:\n",
       "    long_name:      x-dimension of the t grid\n",
       "    standard_name:  x_grid_index\n",
       "    swap_dim:       XC\n",
       "    axis:           X"
      ]
     },
     "execution_count": 4,
     "metadata": {},
     "output_type": "execute_result"
    }
   ],
   "source": [
    "theta_dataset.i"
   ]
  },
  {
   "cell_type": "markdown",
   "metadata": {},
   "source": [
    "##### Dimension Coordinate ``j``"
   ]
  },
  {
   "cell_type": "code",
   "execution_count": 5,
   "metadata": {
    "scrolled": true
   },
   "outputs": [
    {
     "data": {
      "text/plain": [
       "<xarray.DataArray 'j' (j: 90)>\n",
       "array([ 0,  1,  2,  3,  4,  5,  6,  7,  8,  9, 10, 11, 12, 13, 14, 15, 16, 17,\n",
       "       18, 19, 20, 21, 22, 23, 24, 25, 26, 27, 28, 29, 30, 31, 32, 33, 34, 35,\n",
       "       36, 37, 38, 39, 40, 41, 42, 43, 44, 45, 46, 47, 48, 49, 50, 51, 52, 53,\n",
       "       54, 55, 56, 57, 58, 59, 60, 61, 62, 63, 64, 65, 66, 67, 68, 69, 70, 71,\n",
       "       72, 73, 74, 75, 76, 77, 78, 79, 80, 81, 82, 83, 84, 85, 86, 87, 88, 89],\n",
       "      dtype=int32)\n",
       "Coordinates:\n",
       "  * j        (j) int32 0 1 2 3 4 5 6 7 8 9 10 ... 80 81 82 83 84 85 86 87 88 89\n",
       "    tile     int32 2\n",
       "    iter     int32 159948\n",
       "    time     datetime64[ns] 2010-03-16T12:00:00\n",
       "Attributes:\n",
       "    long_name:      y-dimension of the t grid\n",
       "    standard_name:  y_grid_index\n",
       "    swap_dim:       YC\n",
       "    axis:           Y"
      ]
     },
     "execution_count": 5,
     "metadata": {},
     "output_type": "execute_result"
    }
   ],
   "source": [
    "theta_dataset.j"
   ]
  },
  {
   "cell_type": "markdown",
   "metadata": {},
   "source": [
    "##### Dimension Coordinate ``k``"
   ]
  },
  {
   "cell_type": "code",
   "execution_count": 6,
   "metadata": {
    "scrolled": true
   },
   "outputs": [
    {
     "data": {
      "text/plain": [
       "<xarray.DataArray 'k' (k: 50)>\n",
       "array([ 0,  1,  2,  3,  4,  5,  6,  7,  8,  9, 10, 11, 12, 13, 14, 15, 16, 17,\n",
       "       18, 19, 20, 21, 22, 23, 24, 25, 26, 27, 28, 29, 30, 31, 32, 33, 34, 35,\n",
       "       36, 37, 38, 39, 40, 41, 42, 43, 44, 45, 46, 47, 48, 49], dtype=int32)\n",
       "Coordinates:\n",
       "  * k        (k) int32 0 1 2 3 4 5 6 7 8 9 10 ... 40 41 42 43 44 45 46 47 48 49\n",
       "    Z        (k) float32 -5.0 -15.0 -25.0 -35.0 ... -5039.25 -5461.25 -5906.25\n",
       "    PHrefC   (k) float32 49.05 147.15 245.25 ... 49435.043 53574.863 57940.312\n",
       "    drF      (k) float32 10.0 10.0 10.0 10.0 10.0 ... 387.5 410.5 433.5 456.5\n",
       "    tile     int32 2\n",
       "    iter     int32 159948\n",
       "    time     datetime64[ns] 2010-03-16T12:00:00\n",
       "Attributes:\n",
       "    long_name:      z-dimension of the t grid\n",
       "    standard_name:  z_grid_index\n",
       "    swap_dim:       Z\n",
       "    axis:           Z"
      ]
     },
     "execution_count": 6,
     "metadata": {},
     "output_type": "execute_result"
    }
   ],
   "source": [
    "theta_dataset.k"
   ]
  },
  {
   "cell_type": "markdown",
   "metadata": {},
   "source": [
    "#### Other Coordinates\n",
    "\n",
    "Notice some *coordinates* do not have an \"\\*\" in front of their names:\n",
    "```             \n",
    "Coordinates:\n",
    "    XC         (j, i) float32 -37.5 -36.5 -35.5 ... 50.968143 51.44421 51.837925\n",
    "    YC         (j, i) float32 10.458642 10.458642 ... 67.53387 67.47211\n",
    "    rA         (j, i) float32 11896091000.0 11896091000.0 ... 212633870.0\n",
    "    hFacC      (k, j, i) float32 1.0 1.0 1.0 1.0 1.0 1.0 ... 0.0 0.0 0.0 0.0 0.0\n",
    "    Z          (k) float32 -5.0 -15.0 -25.0 -35.0 ... -5039.25 -5461.25 -5906.25\n",
    "    PHrefC     (k) float32 49.05 147.15 245.25 ... 49435.043 53574.863 57940.312\n",
    "    drF        (k) float32 10.0 10.0 10.0 10.0 10.0 ... 387.5 410.5 433.5 456.5\n",
    "    time_bnds  (nv) datetime64[ns] 2010-03-01 2010-04-01\n",
    "    tile       int32 2\n",
    "    iter       int32 159948\n",
    "    time       datetime64[ns] 2010-03-16T12:00:00\n",
    "```\n",
    "\n",
    "These are so-called [non-dimension coordinates](http://xarray.pydata.org/en/stable/data-structures.html#coordinates).  From the xarray documenation:\n",
    "\n",
    "```\n",
    "non-dimension coordinates are variables that contain coordinate data, but are not a dimension coordinate. They can be multidimensional ... and there is no relationship between the name of a non-dimension coordinate and the name(s) of its dimension(s). Non-dimension coordinates can be useful for indexing or plotting; ...\n",
    "```\n",
    "\n",
    "The three non-dimension coordinates that are linked to dimensions of the array are **XC** and **YC**, the longitude and latitudes of the 'c' points (at **j**, **i**), and **Z** which is the depth at the tracer cell (at **k**).  **PHrefC** is a reference pressure.\n",
    "\n",
    "There are also three non-dimension coordinates that do not correspond to any dimensions at all!  Here they are **time** and **iter**, the value for the record and the model time step (model iteration) when the record was saved. The last is **tile**, the label of the the llc90 tiles.\n",
    "\n",
    "When multiple DataArrays from different tiles and times are combined, the array dimensions will be expanded along the **time** and **tile** dimensions.  \n",
    "\n",
    "##### Non-Dimension Coordinate ``tile``\n",
    "\n",
    "The non-dimension coordinate ``tile`` here equals 2 (recall we loaded tile 2): "
   ]
  },
  {
   "cell_type": "code",
   "execution_count": 7,
   "metadata": {},
   "outputs": [
    {
     "data": {
      "text/plain": [
       "<xarray.DataArray 'tile' ()>\n",
       "array(2, dtype=int32)\n",
       "Coordinates:\n",
       "    tile     int32 2\n",
       "    iter     int32 159948\n",
       "    time     datetime64[ns] 2010-03-16T12:00:00\n",
       "Attributes:\n",
       "    standard_name:  tile_index"
      ]
     },
     "execution_count": 7,
     "metadata": {},
     "output_type": "execute_result"
    }
   ],
   "source": [
    "theta_dataset.tile"
   ]
  },
  {
   "cell_type": "markdown",
   "metadata": {},
   "source": [
    "##### Non-Dimension Coordinate ``time``\n",
    "\n",
    "While ``time`` is a special object ``datetime64`` which contains the *center time of the averaging period*.   Recall we loaded the monthly-mean ``THETA`` fields for March 2010."
   ]
  },
  {
   "cell_type": "code",
   "execution_count": 8,
   "metadata": {
    "scrolled": true
   },
   "outputs": [
    {
     "data": {
      "text/plain": [
       "<xarray.DataArray 'time' ()>\n",
       "array('2010-03-16T12:00:00.000000000', dtype='datetime64[ns]')\n",
       "Coordinates:\n",
       "    tile     int32 2\n",
       "    iter     int32 159948\n",
       "    time     datetime64[ns] 2010-03-16T12:00:00\n",
       "Attributes:\n",
       "    long_name:      center time of averaging period\n",
       "    standard_name:  time\n",
       "    bounds:         time_bnds\n",
       "    axis:           T"
      ]
     },
     "execution_count": 8,
     "metadata": {},
     "output_type": "execute_result"
    }
   ],
   "source": [
    "theta_dataset.time"
   ]
  },
  {
   "cell_type": "markdown",
   "metadata": {},
   "source": [
    "##### Non-Dimension Coordinate ``time_bnds``\n",
    "\n",
    "Another very important field is ``time_bnds``.  This is a 2D array provding the *start* and *end* time of the averaging period.  As this is a monthly-mean field for March, the *start* time is 2010-03-01 and the end time is 2010-04-01.  Having this information can be very helpful."
   ]
  },
  {
   "cell_type": "code",
   "execution_count": 9,
   "metadata": {},
   "outputs": [
    {
     "data": {
      "text/plain": [
       "<xarray.DataArray 'time_bnds' (nv: 2)>\n",
       "array(['2010-03-01T00:00:00.000000000', '2010-04-01T00:00:00.000000000'],\n",
       "      dtype='datetime64[ns]')\n",
       "Coordinates:\n",
       "    time_bnds  (nv) datetime64[ns] 2010-03-01 2010-04-01\n",
       "    tile       int32 2\n",
       "    iter       int32 159948\n",
       "    time       datetime64[ns] 2010-03-16T12:00:00\n",
       "Dimensions without coordinates: nv\n",
       "Attributes:\n",
       "    long_name:      time bounds of averaging period\n",
       "    standard_name:  time_bounds"
      ]
     },
     "execution_count": 9,
     "metadata": {},
     "output_type": "execute_result"
    }
   ],
   "source": [
    "theta_dataset.time_bnds"
   ]
  },
  {
   "cell_type": "markdown",
   "metadata": {},
   "source": [
    "## The Dimension Coordinates of the Arakawa C-Grid"
   ]
  },
  {
   "cell_type": "markdown",
   "metadata": {},
   "source": [
    "Dimension coordinates have special meanings.  In **standard_name** and **long_name** attributes we see that they are indices corresponding to the **t** grid, meaing **t**racer cell of the staggered Arakawa-C grid (hereafter c-grid). In c-grid models, not all variables are horizontally located on tracer points.  Horizontally, variables can be associated with three 'locations': 1) tracer cells, 2) horizontal sides of the tracer cell, 3) tracer cell corners. Vertically, there are also two 'locations': 1) tracer cell, 2) vertical sides of the tracer cell (top/bottom).\n",
    "\n",
    "To understand this issue better, let's briefly review the geometry of the c-grid coordinate system.\n",
    "\n",
    "### 3D staggering of velocity components. \n",
    "\n",
    "From : https://mitgcm.readthedocs.io/en/latest/algorithm/c-grid.html\n",
    "\n",
    "In c-grid models, the components of flow (𝑢,𝑣,𝑤) staggered in space such that the zonal component falls on the interface between continuity cells in the zonal direction. Similarly for the meridional and vertical directions. The continuity cell is synonymous with tracer cells (they are one and the same).*\n",
    "\n",
    "\n",
    "![uvw-grid](../figures/uvw.png )\n",
    "\n",
    "\"The staggering of velocity components facilitates the natural discretization of the continuity and tracer equations. \n",
    "\n",
    "\n",
    "### The horizontal points of the c-grid\n",
    "\n",
    "\n",
    "The staggered Arakawa-C grid (C-grid) has four different categories of horizontal point: **c**, **u**, **v**, **g**:\n",
    "\n",
    "![c-grid](../figures/C-grid-points.png )\n",
    "\n",
    "\n",
    "\n",
    "#### *c* points\n",
    "\n",
    "Scalar variables (e.g., ``THETA, SALT, SSH, OBP, SIarea``) and variables associated with vertical velocity (e.g., ``WVEL``) are situated at the center of the tracer grid cell in the horizontal plane.  These are $c$ points\n",
    "\n",
    "Define the coordinates $(i,j)$ for the discrete indices of $c$ points in the $x$ and $y$ directions, respectively.\n",
    "\n",
    "In the ECCO v4 NetCDF files, $c(0,0)$ is the $-x$ most and $-y$ most tracer grid cell.\n",
    "\n",
    "* In the +$y$ direction, the next $c$ point is $c(0,1)$.\n",
    "* In the +$x$ direction, the next $c$ point is $c(1,0)$ \n",
    "\n",
    "#### *u* points\n",
    "\n",
    "Vector variables related to horizontal velocity in the $x$ direction are  staggered along the edges of tracer cells between $c$ points in the horizontal plane. Examples include horizontal velocity in the $x$ direction (``UVEL``) and horizontal advective fluxes in the $x$ direction (e.g., ``ADVxSNOW``).  $u$ points are situated along the edges (if 2D) or faces (if 3D) of the tracer grid cells on either side of $c$ points in the $x$.\n",
    "\n",
    "Define the coordinates $(i_g,j)$ for the indices of $u$ points in the $x$ and $y$ directions, respectively.\n",
    "\n",
    "We use $i_g$ as the coordinate in the $x$ direction because $u$ points are situated along the tracer grid cell ed**g**es.  We use $j$ for its $y$ coordinate because $u$ points and $c$ points fall along the same lines in $y$.\n",
    "\n",
    "In the ECCO v4 netCDF files, $u(0,0)$ is the $-x$ most and $-y$ most $u$ point.\n",
    "\n",
    "#### *v* points\n",
    "\n",
    "Vector variables related to horizontal velocity in the $y$ direction are  staggered along the edges of tracer cells between $c$ points in the horizontal plane. Examples include horizontal velocity in the $y$ direction (``VVEL``) and horizontal advective flux of snow in the $y$ direction (``ADVySNOW``).  They are situated along the edges (if 2D) or faces (if 3D) of the tracer grid cells in the $y$ direction.     \n",
    "\n",
    "Define the coordinates $(i,j_g)$ for the indices of $v$ points in the $x$ and $y$ directions, respectively.\n",
    "\n",
    "We use $j_g$ as the coordinate in the $y$ direction because $v$ points are situated along the tracer grid cell ed**g**es.  We use $i$ for its $x$ coordinate because $v$ points and $c$ points fall along the same lines in $x$.  \n",
    "\n",
    "In the ECCO v4 NetCDF files, $v(0,0)$ is the $-x$ most and $-y$ most $v$ point.\n",
    "\n",
    "#### *g* points\n",
    "\n",
    "Model variables that are explictly related to horizontal velocities in **both** the $x$ and $y$ directions (vorticity) are situated at $g$ points in the horizontal plane.  $g$ points are the four **corners** of tracer grid cells.  \n",
    "\n",
    "Define the coordinates $(i_g,j_g)$ for the indices of $g$ points in the $x$ and $y$ directions, respectively.  \n",
    "\n",
    "We use $i_g$ and $j_g$ because $g$ points are on the ed**g**es (corners) of tracer grid cells.\n",
    "\n",
    "In the ECCO v4 NetCDF files, $g(0,0)$ is the $-x$ most and $-y$ most $g$ point.\n",
    "\n",
    "### The vertical points of the c-grid\n",
    "\n",
    "The staggered Arakawa-C grid (C-grid) has two different categories of vertical point: **c**, **w**\n",
    "\n",
    "#### *c* points\n",
    "\n",
    "Variables that are not related to vertical velocity or vertical fluxes are situated at $k$ points in the vertical direction.  Define the coordinate $k$ for points situated in the center of the grid cells.\n",
    "\n",
    "In the ECCO v4 NetCDF files, $k(0)$ is the middle of the uppermost tracer grid cell.\n",
    "\n",
    "#### *w* points\n",
    "\n",
    "Variables related to vertical velocity or vertical fluxes are situated at $w$ points in the vertical direction.  These variables are situated on the upper and lower faces of the tracer grid cell.   \n",
    "\n",
    "Define the dimension coordinates $k_u$ and $k_l$ points using the same reasoning as above: $k_u$ and $k_l$ points fall along the the **u**pper and **l**ower faces of tracer grid cells in the $z$ direction, respectively.  $k_u$ and $k_l$ have 50 elements because there are 50 **u**pper faces (top) and 50 **l**ower (bottom) faces of ECCOv4 tracer grid cells.  \n",
    "\n",
    "An auxillary coordinate $k_{p1}$ indexes all of the **upper** and **lower** faces and therefore has 51 elements. \n",
    "\n",
    "*In the ECCO v4 NetCDF files, $k_u(0)$ and $k_{p1}(0)$ both denote the uppermost grid cell surface.*"
   ]
  },
  {
   "cell_type": "markdown",
   "metadata": {},
   "source": [
    "## All ECCOv4 dimension coordinates\n",
    "\n",
    "*Theta* only uses **i, j, and k**.  To see all of the coordinates used let's load an ECCO grid netcdf tile file."
   ]
  },
  {
   "cell_type": "code",
   "execution_count": 10,
   "metadata": {},
   "outputs": [
    {
     "data": {
      "text/plain": [
       "<xarray.Dataset>\n",
       "Dimensions:  (i: 90, i_g: 90, j: 90, j_g: 90, k: 50, k_l: 50, k_p1: 51, k_u: 50)\n",
       "Coordinates:\n",
       "  * k_p1     (k_p1) int64 0 1 2 3 4 5 6 7 8 9 ... 41 42 43 44 45 46 47 48 49 50\n",
       "  * j_g      (j_g) int64 0 1 2 3 4 5 6 7 8 9 ... 80 81 82 83 84 85 86 87 88 89\n",
       "  * i_g      (i_g) int64 0 1 2 3 4 5 6 7 8 9 ... 80 81 82 83 84 85 86 87 88 89\n",
       "  * k        (k) int64 0 1 2 3 4 5 6 7 8 9 10 ... 40 41 42 43 44 45 46 47 48 49\n",
       "  * j        (j) int64 0 1 2 3 4 5 6 7 8 9 10 ... 80 81 82 83 84 85 86 87 88 89\n",
       "  * k_u      (k_u) int64 0 1 2 3 4 5 6 7 8 9 ... 40 41 42 43 44 45 46 47 48 49\n",
       "  * i        (i) int64 0 1 2 3 4 5 6 7 8 9 10 ... 80 81 82 83 84 85 86 87 88 89\n",
       "  * k_l      (k_l) int64 0 1 2 3 4 5 6 7 8 9 ... 40 41 42 43 44 45 46 47 48 49\n",
       "    tile     int64 2\n",
       "    XC       (j, i) float32 -37.5 -36.5 -35.5 ... 50.968143 51.44421 51.837925\n",
       "    YC       (j, i) float32 10.458642 10.458642 10.458642 ... 67.53387 67.47211\n",
       "    XG       (j_g, i_g) float32 -38.0 -37.0 -36.0 ... 51.118958 51.588932\n",
       "    YG       (j_g, i_g) float32 9.96973 9.96973 9.96973 ... 67.49435 67.42869\n",
       "    Zl       (k_l) float32 0.0 -10.0 -20.0 -30.0 ... -4834.0 -5244.5 -5678.0\n",
       "    Zu       (k_u) float32 -10.0 -20.0 -30.0 -40.0 ... -5244.5 -5678.0 -6134.5\n",
       "    Z        (k) float32 -5.0 -15.0 -25.0 -35.0 ... -5039.25 -5461.25 -5906.25\n",
       "    Zp1      (k_p1) float32 0.0 -10.0 -20.0 -30.0 ... -5244.5 -5678.0 -6134.5\n",
       "    dxC      (j, i_g) float32 109330.39 109330.39 ... 22498.332 18116.71\n",
       "    rAs      (j_g, i) float32 11884406000.0 11884406000.0 ... 335292540.0\n",
       "    rAw      (j, i_g) float32 11896091000.0 11896091000.0 ... 292185820.0\n",
       "    Depth    (j, i) float32 4658.681 4820.5703 5014.177 ... 0.0 0.0 0.0\n",
       "    rA       (j, i) float32 11896091000.0 11896091000.0 ... 212633870.0\n",
       "    dxG      (j_g, i) float32 109498.625 109498.625 ... 21326.564 17873.049\n",
       "    dyG      (j, i_g) float32 108810.11 108810.11 ... 19713.574 15965.378\n",
       "    rAz      (j_g, i_g) float32 11884406000.0 11884406000.0 ... 335292540.0\n",
       "    dyC      (j_g, i) float32 108536.33 108536.33 ... 18723.23 15461.596\n",
       "    PHrefC   (k) float32 49.05 147.15 245.25 ... 49435.043 53574.863 57940.312\n",
       "    drC      (k_p1) float32 5.0 10.0 10.0 10.0 10.0 ... 399.0 422.0 445.0 228.25\n",
       "    PHrefF   (k_p1) float32 0.0 98.1 196.2 ... 51448.547 55701.18 60179.445\n",
       "    drF      (k) float32 10.0 10.0 10.0 10.0 10.0 ... 387.5 410.5 433.5 456.5\n",
       "    hFacS    (k, j_g, i) float32 1.0 1.0 1.0 1.0 1.0 1.0 ... 0.0 0.0 0.0 0.0 0.0\n",
       "    hFacC    (k, j, i) float32 1.0 1.0 1.0 1.0 1.0 1.0 ... 0.0 0.0 0.0 0.0 0.0\n",
       "    hFacW    (k, j, i_g) float32 1.0 1.0 1.0 1.0 1.0 1.0 ... 0.0 0.0 0.0 0.0 0.0\n",
       "Data variables:\n",
       "    *empty*"
      ]
     },
     "execution_count": 10,
     "metadata": {},
     "output_type": "execute_result"
    }
   ],
   "source": [
    "grid_dir = '/Users/ifenty/eccov4r3_native_grid_netcdf_tiles/grid/'\n",
    "grid_name = 'ECCOv4r3_grid_tile_02.nc'\n",
    "grid_dataset = xr.open_dataset(grid_dir + grid_name)\n",
    "grid_dataset.attrs =[]\n",
    "grid_dataset.load()"
   ]
  },
  {
   "cell_type": "markdown",
   "metadata": {},
   "source": [
    "### Dimensions\n",
    "`Dimensions:  (i: 90, i_g: 90, j: 90, j_g: 90, k: 50, k_l: 50, k_p1: 51, k_u: 50)`\n",
    "\n",
    "The *Dimensions* list now lists the six different coordinates and their dimension used by variables stored in this new grid tile `Dataset` object.  \n",
    "\n",
    "### Coordinates\n",
    "##### Dimension Coordinates\n",
    "\n",
    "```\n",
    "  * k_p1     (k_p1) int64 0 1 2 3 4 5 6 7 8 9 ... 41 42 43 44 45 46 47 48 49 50\n",
    "  * j_g      (j_g) int64 0 1 2 3 4 5 6 7 8 9 ... 80 81 82 83 84 85 86 87 88 89\n",
    "  * i_g      (i_g) int64 0 1 2 3 4 5 6 7 8 9 ... 80 81 82 83 84 85 86 87 88 89\n",
    "  * k        (k) int64 0 1 2 3 4 5 6 7 8 9 10 ... 40 41 42 43 44 45 46 47 48 49\n",
    "  * j        (j) int64 0 1 2 3 4 5 6 7 8 9 10 ... 80 81 82 83 84 85 86 87 88 89\n",
    "  * k_u      (k_u) int64 0 1 2 3 4 5 6 7 8 9 ... 40 41 42 43 44 45 46 47 48 49\n",
    "  * i        (i) int64 0 1 2 3 4 5 6 7 8 9 10 ... 80 81 82 83 84 85 86 87 88 89\n",
    "  * k_l      (k_l) int64 0 1 2 3 4 5 6 7 8 9 ... 40 41 42 43 44 45 46 47 48 49\n",
    "``` \n",
    "\n",
    "We note that horizontal coords have 90 indices [0..89], $k_u$ and $k_l$ have 50 [0..49] and k_{p1} has 51 [0..50]\n",
    "\n",
    "\n",
    "##### *Non-Dimension Coordinates* that can be used as spatial coordinates\n",
    "```\n",
    "    XC       (j, i) float32 ...\n",
    "    YC       (j, i) float32 ...\n",
    "    XG       (j_g, i_g) float32 ...\n",
    "    YG       (j_g, i_g) float32 ...\n",
    "    Zl       (k_l) float32 ...\n",
    "    Zu       (k_u) float32 ...\n",
    "    Z        (k) float32 ...\n",
    "    Zp1      (k_p1) float32 ...\n",
    "    Depth    (j, i) float32 ...\n",
    "    PHrefC   (k) float32 ...\n",
    "    PHrefF   (k_p1) float32 ...\n",
    "```\n",
    "* note other non-dimension coordinates are present but will be changed to Data Variables in future releases *\n",
    "\n",
    "##### *Non-Dimension Coordinates* that are actually geometric grid measures \n",
    "```\n",
    "    dxC      (j, i_g) float32 ...\n",
    "    rAs      (j_g, i) float32 ...\n",
    "    rAw      (j, i_g) float32 ...\n",
    "    Depth    (j, i) float32 ...\n",
    "    rA       (j, i) float32 ...\n",
    "    dxG      (j_g, i) float32 ...\n",
    "    dyG      (j, i_g) float32 ...\n",
    "    rAz      (j_g, i_g) float32 ...\n",
    "    dyC      (j_g, i) float32 ...\n",
    "    drC      (k_p1) float32 ...\n",
    "    drF      (k) float32 ...\n",
    "    hFacS    (k, j_g, i) float32 ...\n",
    "    hFacC    (k, j, i) float32 ...\n",
    "    hFacW    (k, j, i_g) float32 ...\n",
    "```\n",
    "\n",
    "Some of the non-dimension coordinates are actually ancilliary geometric variables of the model and model grid (grid cell areas, horizontal distances, vertical distances, and geometric factors, and model depth). They are not coordinates in any meaningful sense but they *are essential for quantitative analysis*. \n",
    "\n",
    "The reason this ancilliary information is in the non-dimension coordinate category is simply that we reserve the category *data variables* for variables that are part of the model solution.   In the future we may change the classification of these fields *data variables* -- it doesn't really matter. In fact, you can use the function reset_coords() to change them all to data variables.  Try it if you like, grid_dataset.reset_coords()\n",
    "\n",
    "Let's look at one of these geometric quantities, Instead they contain information about the geometry of the grid .  For example, consider the non-dimension coordinate ``dxG``:"
   ]
  },
  {
   "cell_type": "code",
   "execution_count": 11,
   "metadata": {
    "scrolled": false
   },
   "outputs": [
    {
     "data": {
      "text/plain": [
       "<xarray.DataArray 'dxG' (j_g: 90, i: 90)>\n",
       "array([[109498.625, 109498.625, 109498.625, ..., 109498.625, 109498.625,\n",
       "        109498.625],\n",
       "       [109153.875, 109153.875, 109153.875, ..., 109153.875, 109153.875,\n",
       "        109153.875],\n",
       "       [108776.664, 108776.664, 108776.664, ..., 108776.664, 108776.664,\n",
       "        108776.664],\n",
       "       ...,\n",
       "       [ 24995.342,  26019.037,  27603.951, ...,  27603.951,  26019.037,\n",
       "         24995.342],\n",
       "       [ 21862.79 ,  23614.71 ,  25916.31 , ...,  25916.31 ,  23614.71 ,\n",
       "         21862.79 ],\n",
       "       [ 17873.049,  21326.564,  24596.092, ...,  24596.092,  21326.564,\n",
       "         17873.049]], dtype=float32)\n",
       "Coordinates:\n",
       "  * j_g      (j_g) int64 0 1 2 3 4 5 6 7 8 9 ... 80 81 82 83 84 85 86 87 88 89\n",
       "  * i        (i) int64 0 1 2 3 4 5 6 7 8 9 10 ... 80 81 82 83 84 85 86 87 88 89\n",
       "    tile     int64 2\n",
       "    rAs      (j_g, i) float32 11884406000.0 11884406000.0 ... 335292540.0\n",
       "    dxG      (j_g, i) float32 109498.625 109498.625 ... 21326.564 17873.049\n",
       "    dyC      (j_g, i) float32 108536.33 108536.33 ... 18723.23 15461.596\n",
       "Attributes:\n",
       "    coordinate:     YG XC\n",
       "    units:          m\n",
       "    standard_name:  cell_x_size_at_v_location\n",
       "    long_name:      cell x size"
      ]
     },
     "execution_count": 11,
     "metadata": {},
     "output_type": "execute_result"
    }
   ],
   "source": [
    "grid_dataset.dxG"
   ]
  },
  {
   "cell_type": "markdown",
   "metadata": {},
   "source": [
    "Note that ``dxG`` has coordinates $i$ and $j_g$, which mean that it is located at a 'v' point.  ``dxG`` is the horizontal distance between $g$ (cell corners) points in the $x$ direction.  \n",
    "\n",
    "\n",
    "For reference, see the chart below from the MITgcm documentation, Figure 2.6:\n",
    "https://mitgcm.readthedocs.io/en/latest/algorithm/horiz-grid.html\n",
    "\n",
    "dxG = $\\Delta x_g$ in subfigure (a) below:\n",
    "\n",
    "       \n",
    "![hgrid](../figures/hgrid-abcd.svg)\n",
    "\n",
    "\n",
    "*Figure 2.6 Staggering of horizontal grid descriptors (lengths and areas). The grid lines indicate the tracer cell boundaries and are the reference grid for all panels. a) The area of a tracer cell, 𝐴𝑐, is bordered by the lengths Δ𝑥𝑔 and Δ𝑦𝑔. b) The area of a vorticity cell, 𝐴𝜁, is bordered by the lengths Δ𝑥𝑐 and Δ𝑦𝑐. c) The area of a u cell, 𝐴𝑤, is bordered by the lengths Δ𝑥𝑣 and Δ𝑦𝑓. d) The area of a v cell, 𝐴𝑠, is bordered by the lengths Δ𝑥𝑓 and Δ𝑦𝑢.*\n",
    "\n"
   ]
  },
  {
   "cell_type": "markdown",
   "metadata": {},
   "source": [
    "## The Dimensions and Coordinates of *UVEL*\n",
    "\n",
    "So far we looked ``THETA`` which is a $c$ point variable.  Let's examine a variable situated on a model $u$ point, horizontal velocity in the $x$ direction.\n",
    "\n",
    "\n",
    "Load tile 2 of the 2010 March average velocity in the $x$ direction."
   ]
  },
  {
   "cell_type": "code",
   "execution_count": 12,
   "metadata": {
    "scrolled": true
   },
   "outputs": [],
   "source": [
    "# Directory of the UVEL files\n",
    "data_dir= ECCO_dir + '/mon_mean/UVEL/2010/03/'\n",
    "\n",
    "fname = 'UVEL_2010_03_tile_02.nc'\n",
    "uvel_dataset = xr.open_dataset(data_dir + fname).load()\n",
    "uvel_dataset.attrs = []\n",
    "\n"
   ]
  },
  {
   "cell_type": "markdown",
   "metadata": {},
   "source": [
    "### ``UVEL`` context\n",
    "\n",
    "Plot the time-mean horizontal velocity at the top-most model grid cell in the tile's $x$ direction"
   ]
  },
  {
   "cell_type": "code",
   "execution_count": 13,
   "metadata": {},
   "outputs": [
    {
     "data": {
      "text/plain": [
       "<matplotlib.collections.QuadMesh at 0x31f6f2bd0>"
      ]
     },
     "execution_count": 13,
     "metadata": {},
     "output_type": "execute_result"
    },
    {
     "data": {
      "image/png": "[encoded data removed]",
      "text/plain": [
       "<Figure size 432x288 with 2 Axes>"
      ]
     },
     "metadata": {
      "needs_background": "light"
     },
     "output_type": "display_data"
    }
   ],
   "source": [
    "uvel_dataset.UVEL.sel(k=0).plot()"
   ]
  },
  {
   "cell_type": "markdown",
   "metadata": {},
   "source": [
    "Let's look at *uvel_dataset* "
   ]
  },
  {
   "cell_type": "code",
   "execution_count": 14,
   "metadata": {},
   "outputs": [
    {
     "data": {
      "text/plain": [
       "<xarray.DataArray 'UVEL' (k: 50, j: 90, i_g: 90)>\n",
       "array([[[-0.081476, -0.078937, ...,  0.      ,  0.      ],\n",
       "        [-0.09575 , -0.092195, ...,  0.      ,  0.      ],\n",
       "        ...,\n",
       "        [ 0.      ,  0.      , ...,  0.      ,  0.      ],\n",
       "        [ 0.      ,  0.      , ...,  0.      ,  0.      ]],\n",
       "\n",
       "       [[-0.035361, -0.034133, ...,  0.      ,  0.      ],\n",
       "        [-0.049959, -0.047672, ...,  0.      ,  0.      ],\n",
       "        ...,\n",
       "        [ 0.      ,  0.      , ...,  0.      ,  0.      ],\n",
       "        [ 0.      ,  0.      , ...,  0.      ,  0.      ]],\n",
       "\n",
       "       ...,\n",
       "\n",
       "       [[ 0.      ,  0.      , ...,  0.      ,  0.      ],\n",
       "        [ 0.      ,  0.      , ...,  0.      ,  0.      ],\n",
       "        ...,\n",
       "        [ 0.      ,  0.      , ...,  0.      ,  0.      ],\n",
       "        [ 0.      ,  0.      , ...,  0.      ,  0.      ]],\n",
       "\n",
       "       [[ 0.      ,  0.      , ...,  0.      ,  0.      ],\n",
       "        [ 0.      ,  0.      , ...,  0.      ,  0.      ],\n",
       "        ...,\n",
       "        [ 0.      ,  0.      , ...,  0.      ,  0.      ],\n",
       "        [ 0.      ,  0.      , ...,  0.      ,  0.      ]]], dtype=float32)\n",
       "Coordinates:\n",
       "    dxC      (j, i_g) float32 109330.39 109330.39 ... 22498.332 18116.71\n",
       "    rAw      (j, i_g) float32 11896091000.0 11896091000.0 ... 292185820.0\n",
       "    dyG      (j, i_g) float32 108810.11 108810.11 ... 19713.574 15965.378\n",
       "  * i_g      (i_g) int32 0 1 2 3 4 5 6 7 8 9 ... 80 81 82 83 84 85 86 87 88 89\n",
       "  * j        (j) int32 0 1 2 3 4 5 6 7 8 9 10 ... 80 81 82 83 84 85 86 87 88 89\n",
       "    hFacW    (k, j, i_g) float32 1.0 1.0 1.0 1.0 1.0 1.0 ... 0.0 0.0 0.0 0.0 0.0\n",
       "  * k        (k) int32 0 1 2 3 4 5 6 7 8 9 10 ... 40 41 42 43 44 45 46 47 48 49\n",
       "    Z        (k) float32 -5.0 -15.0 -25.0 -35.0 ... -5039.25 -5461.25 -5906.25\n",
       "    PHrefC   (k) float32 49.05 147.15 245.25 ... 49435.043 53574.863 57940.312\n",
       "    drF      (k) float32 10.0 10.0 10.0 10.0 10.0 ... 387.5 410.5 433.5 456.5\n",
       "    tile     int32 2\n",
       "    iter     int32 159948\n",
       "    time     datetime64[ns] 2010-03-16T12:00:00\n",
       "Attributes:\n",
       "    units:          m/s\n",
       "    long_name:      Zonal      Comp of Velocity (m/s)\n",
       "    standard_name:  x_sea_water_velocity"
      ]
     },
     "execution_count": 14,
     "metadata": {},
     "output_type": "execute_result"
    }
   ],
   "source": [
    "uvel_dataset.UVEL"
   ]
  },
  {
   "cell_type": "markdown",
   "metadata": {},
   "source": [
    "### Dimension coordinates\n",
    "\n",
    "As expected, ``UVEL`` uses the **i_g, j** coordinates to label its horizontal dimension. Because ``UVEL`` is the velocity  along the left and right sides of tracer cells we use **k** for its vertical coordinate.  The ordering of this  three-dimensional field is **k, j, i**.\n",
    "\n",
    "### Non-Dimension coordinates\n",
    "\n",
    "Included in the non-dimension coordinates of ``UVEL`` are **z**, the vertical depth of the cell center (meters) and PHrefC, the model's reference pressure at the cell center.\n",
    "\n",
    "Let's look at the model grid cell center depth as a function of vertical **k** index:"
   ]
  },
  {
   "cell_type": "code",
   "execution_count": 15,
   "metadata": {},
   "outputs": [
    {
     "data": {
      "text/plain": [
       "[<matplotlib.lines.Line2D at 0x31f8161d0>]"
      ]
     },
     "execution_count": 15,
     "metadata": {},
     "output_type": "execute_result"
    },
    {
     "data": {
      "image/png": "[encoded data removed]",
      "text/plain": [
       "<Figure size 432x288 with 1 Axes>"
      ]
     },
     "metadata": {
      "needs_background": "light"
     },
     "output_type": "display_data"
    }
   ],
   "source": [
    "uvel_dataset.Z.plot()"
   ]
  },
  {
   "cell_type": "markdown",
   "metadata": {},
   "source": [
    "## The Dimensions and Coordinates of ``VVEL``\n",
    "\n",
    "Let's load tile 2 of the horizontal velocity in the $y$ direction, ``VVEL``, a $v$ point variable."
   ]
  },
  {
   "cell_type": "code",
   "execution_count": 16,
   "metadata": {
    "scrolled": false
   },
   "outputs": [],
   "source": [
    "# Directory of the VVEL files\n",
    "data_dir= ECCO_dir + '/mon_mean/VVEL/2010/03/'\n",
    "\n",
    "fname = 'VVEL_2010_03_tile_02.nc'\n",
    "vvel_dataset = xr.open_dataset(data_dir + fname).load()\n",
    "vvel_dataset.attrs = []"
   ]
  },
  {
   "cell_type": "markdown",
   "metadata": {},
   "source": [
    "### ``VVEL`` context\n",
    "\n",
    "Plot the time-mean horizontal velocity in the tile's $y$ direction at model level 5 (55m) "
   ]
  },
  {
   "cell_type": "code",
   "execution_count": 17,
   "metadata": {
    "scrolled": true
   },
   "outputs": [
    {
     "data": {
      "text/plain": [
       "<matplotlib.collections.QuadMesh at 0x31f8eeed0>"
      ]
     },
     "execution_count": 17,
     "metadata": {},
     "output_type": "execute_result"
    },
    {
     "data": {
      "image/png": "[encoded data removed]",
      "text/plain": [
       "<Figure size 432x288 with 2 Axes>"
      ]
     },
     "metadata": {
      "needs_background": "light"
     },
     "output_type": "display_data"
    }
   ],
   "source": [
    "vvel_dataset.VVEL.sel(k=5).plot()"
   ]
  },
  {
   "cell_type": "code",
   "execution_count": 18,
   "metadata": {},
   "outputs": [
    {
     "data": {
      "text/plain": [
       "<xarray.DataArray 'VVEL' (k: 50, j_g: 90, i: 90)>\n",
       "array([[[0.022591, 0.018273, ..., 0.      , 0.15625 ],\n",
       "        [0.021642, 0.020516, ..., 0.      , 0.153724],\n",
       "        ...,\n",
       "        [0.      , 0.      , ..., 0.      , 0.      ],\n",
       "        [0.      , 0.      , ..., 0.      , 0.      ]],\n",
       "\n",
       "       [[0.031768, 0.028298, ..., 0.      , 0.155365],\n",
       "        [0.029948, 0.029558, ..., 0.      , 0.147858],\n",
       "        ...,\n",
       "        [0.      , 0.      , ..., 0.      , 0.      ],\n",
       "        [0.      , 0.      , ..., 0.      , 0.      ]],\n",
       "\n",
       "       ...,\n",
       "\n",
       "       [[0.      , 0.      , ..., 0.      , 0.      ],\n",
       "        [0.      , 0.      , ..., 0.      , 0.      ],\n",
       "        ...,\n",
       "        [0.      , 0.      , ..., 0.      , 0.      ],\n",
       "        [0.      , 0.      , ..., 0.      , 0.      ]],\n",
       "\n",
       "       [[0.      , 0.      , ..., 0.      , 0.      ],\n",
       "        [0.      , 0.      , ..., 0.      , 0.      ],\n",
       "        ...,\n",
       "        [0.      , 0.      , ..., 0.      , 0.      ],\n",
       "        [0.      , 0.      , ..., 0.      , 0.      ]]], dtype=float32)\n",
       "Coordinates:\n",
       "    rAs      (j_g, i) float32 11884406000.0 11884406000.0 ... 335292540.0\n",
       "    dxG      (j_g, i) float32 109498.625 109498.625 ... 21326.564 17873.049\n",
       "    dyC      (j_g, i) float32 108536.33 108536.33 ... 18723.23 15461.596\n",
       "  * j_g      (j_g) int32 0 1 2 3 4 5 6 7 8 9 ... 80 81 82 83 84 85 86 87 88 89\n",
       "  * i        (i) int32 0 1 2 3 4 5 6 7 8 9 10 ... 80 81 82 83 84 85 86 87 88 89\n",
       "    hFacS    (k, j_g, i) float32 1.0 1.0 1.0 1.0 1.0 1.0 ... 0.0 0.0 0.0 0.0 0.0\n",
       "  * k        (k) int32 0 1 2 3 4 5 6 7 8 9 10 ... 40 41 42 43 44 45 46 47 48 49\n",
       "    Z        (k) float32 -5.0 -15.0 -25.0 -35.0 ... -5039.25 -5461.25 -5906.25\n",
       "    PHrefC   (k) float32 49.05 147.15 245.25 ... 49435.043 53574.863 57940.312\n",
       "    drF      (k) float32 10.0 10.0 10.0 10.0 10.0 ... 387.5 410.5 433.5 456.5\n",
       "    tile     int32 2\n",
       "    iter     int32 159948\n",
       "    time     datetime64[ns] 2010-03-16T12:00:00\n",
       "Attributes:\n",
       "    units:          m/s\n",
       "    long_name:      Meridional Comp of Velocity (m/s)\n",
       "    standard_name:  y_sea_water_velocity"
      ]
     },
     "execution_count": 18,
     "metadata": {},
     "output_type": "execute_result"
    }
   ],
   "source": [
    "vvel_dataset.VVEL"
   ]
  },
  {
   "cell_type": "markdown",
   "metadata": {},
   "source": [
    "### Dimension coordinates\n",
    "\n",
    "As expected, ``VVEL`` uses the **i, j_g** coordinates to label its horizontal dimension. Because ``VVEL`` is the velocity through sides of tracer cells we use **k** for its vertical coordinate.  The ordering of this  three-dimensional field is **k, j_g, i**.\n",
    "\n",
    "### Non-Dimension coordinates\n",
    "\n",
    "**z** is also includes as a non-dimension coordinate of ``VVEL``"
   ]
  },
  {
   "cell_type": "markdown",
   "metadata": {},
   "source": [
    "## Summary\n",
    "\n",
    "You have now been introduced to the some of the dimension and coordinates used by the MITgcm and ECCO.\n"
   ]
  }
 ],
 "metadata": {
  "kernelspec": {
   "display_name": "Python 2",
   "language": "python",
   "name": "python2"
  },
  "language_info": {
   "codemirror_mode": {
    "name": "ipython",
    "version": 2
   },
   "file_extension": ".py",
   "mimetype": "text/x-python",
   "name": "python",
   "nbconvert_exporter": "python",
   "pygments_lexer": "ipython2",
   "version": "2.7.16"
  }
 },
 "nbformat": 4,
 "nbformat_minor": 2
}
