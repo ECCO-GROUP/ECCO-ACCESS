{
 "cells": [
  {
   "cell_type": "markdown",
   "metadata": {},
   "source": [
    "# Coordinates and Dimensions of ECCOv4 NetCDF files\n",
    "\n",
    "## Objectives\n",
    "\n",
    "Introduce the student ot the idea that the ECCO v4 NetCDF fields have coordinate labels which shows *where* these fields are on the Arakawa-C grid.\n",
    "\n",
    "## Introduction\n",
    "\n",
    "As we showed in the first tutorial, we can use the `open_dataset` method from `xarray` to load a NetCDF tile file into Python as a `Dataset` object.  `open_dataset` is very convenient because it automatically parses the NetCDF file and constructs a `Dataset` object using all of the  dimensions, coordinates, variables, and metadata information.  \n",
    "\n",
    "In the last tutorial we loaded a single ECCOv4 tile file, March 2010 average potential temperature for tile 2 (NE North Atlantic) and examined its contents.  Let's load it up again and take a closer look at its coordinates.  This time we'll name the new `Dataset` object *theta_dataset* since we are loading the file using `open_dataset`."
   ]
  },
  {
   "cell_type": "code",
   "execution_count": 1,
   "metadata": {
    "collapsed": true
   },
   "outputs": [],
   "source": [
    "## SET UP ENVIRONMENT\n",
    "import numpy as np\n",
    "import xarray as xr\n",
    "import sys\n",
    "sys.path.append('/Users/ifenty/ECCOv4-py')\n",
    "import ecco_v4_py as ecco\n",
    "import matplotlib.pyplot as plt\n",
    "import json\n",
    "%matplotlib inline"
   ]
  },
  {
   "cell_type": "code",
   "execution_count": 2,
   "metadata": {
    "collapsed": true
   },
   "outputs": [],
   "source": [
    "## LOAD NETCDF FILE\n",
    "\n",
    "# define a high-level directory for ECCO fields\n",
    "ECCO_dir = '/Users/ifenty/eccov4r3_native_grid_netcdf_tiles/'\n",
    "# directory of the file\n",
    "data_dir= ECCO_dir + '/mon_mean/THETA/2010/03/'\n",
    "# filename\n",
    "fname = 'THETA_2010_03_tile_02.nc'\n",
    "# load the dataset file\n",
    "theta_dataset = xr.open_dataset(data_dir + fname).load()"
   ]
  },
  {
   "cell_type": "markdown",
   "metadata": {},
   "source": [
    "Before we get started, plot the temperature field at the surface layer (k=0) for tile 2, NE Atlantic..\n",
    "\n",
    "> Note :: Don't worry about the complicated looking code below, w'll cover plotting later"
   ]
  },
  {
   "cell_type": "code",
   "execution_count": 3,
   "metadata": {},
   "outputs": [
    {
     "data": {
      "text/plain": [
       "<matplotlib.collections.QuadMesh at 0x10a3dbd90>"
      ]
     },
     "execution_count": 3,
     "metadata": {},
     "output_type": "execute_result"
    },
    {
     "data": {
      "image/png": "[encoded data removed]",
      "text/plain": [
       "<matplotlib.figure.Figure at 0x109493490>"
      ]
     },
     "metadata": {},
     "output_type": "display_data"
    }
   ],
   "source": [
    "fig=plt.figure(figsize=(8, 6.5))\n",
    "td_masked = theta_dataset.THETA.where(theta_dataset.hFacC > 0, np.nan)\n",
    "td_masked.isel(k=0).plot(cmap='jet', vmin=-2,vmax=25)"
   ]
  },
  {
   "cell_type": "markdown",
   "metadata": {},
   "source": [
    "## The Dimensions and Coordinates of *THETA*"
   ]
  },
  {
   "cell_type": "code",
   "execution_count": 4,
   "metadata": {},
   "outputs": [
    {
     "data": {
      "text/plain": [
       "<xarray.Dataset>\n",
       "Dimensions:    (i: 90, j: 90, k: 50, nv: 2)\n",
       "Coordinates:\n",
       "    XC         (j, i) float32 -37.5 -36.5 -35.5 ... 50.968143 51.44421 51.837925\n",
       "    YC         (j, i) float32 10.458642 10.458642 ... 67.53387 67.47211\n",
       "    rA         (j, i) float32 11896091000.0 11896091000.0 ... 212633870.0\n",
       "  * j          (j) int32 0 1 2 3 4 5 6 7 8 9 ... 80 81 82 83 84 85 86 87 88 89\n",
       "  * i          (i) int32 0 1 2 3 4 5 6 7 8 9 ... 80 81 82 83 84 85 86 87 88 89\n",
       "    hFacC      (k, j, i) float32 1.0 1.0 1.0 1.0 1.0 1.0 ... 0.0 0.0 0.0 0.0 0.0\n",
       "  * k          (k) int32 0 1 2 3 4 5 6 7 8 9 ... 40 41 42 43 44 45 46 47 48 49\n",
       "    Z          (k) float32 -5.0 -15.0 -25.0 -35.0 ... -5039.25 -5461.25 -5906.25\n",
       "    PHrefC     (k) float32 49.05 147.15 245.25 ... 49435.043 53574.863 57940.312\n",
       "    drF        (k) float32 10.0 10.0 10.0 10.0 10.0 ... 387.5 410.5 433.5 456.5\n",
       "    time_bnds  (nv) datetime64[ns] 2010-03-01 2010-04-01\n",
       "    tile       int32 2\n",
       "    iter       int32 159948\n",
       "    time       datetime64[ns] 2010-03-16T12:00:00\n",
       "Dimensions without coordinates: nv\n",
       "Data variables:\n",
       "    THETA      (k, j, i) float32 26.663628 26.587461 26.537895 ... 0.0 0.0 0.0"
      ]
     },
     "execution_count": 4,
     "metadata": {},
     "output_type": "execute_result"
    }
   ],
   "source": [
    "theta_dataset.attrs = []\n",
    "theta_dataset"
   ]
  },
  {
   "cell_type": "markdown",
   "metadata": {},
   "source": [
    "### Dimensions\n",
    "\n",
    "*theta_dataset* shows four dimensions, **i**, **j**, **k**, and **nv**.  Recall that ``Dataset`` objects are containers and so it lists all of the  **unique** dimensions of the variables it is storing.  *theta_dataset* is storing a single *Data variable*, *THETA*.  We see that this *THETA* field is three dimensional from the (**k**, **j**, **i**) in the line:\n",
    "~~~\n",
    "THETA      (k, j, i) float32 26.663628 26.587461 26.537895 ... 0.0 0.0 0.0\n",
    "~~~\n",
    "\n",
    "Examining the coordinates of the ``Dataset``, we find that all of them have some combination of **i**, **j**, **k**, or none except *time_bnds* which has dimension **nv**.  This **nv** dimension is not a spatial dimension, *time_bnds* is a 1x2 array with **nv** as the name of its second dimension."
   ]
  },
  {
   "cell_type": "markdown",
   "metadata": {},
   "source": [
    "### Coordinates\n",
    "\n",
    "#### Dimension Coordinates\n",
    "\n",
    "Beyond having three spatial dimensions *theta_dataset* also has *coordinates* in the **i**, **j**, and **k** directions.  The most basic coordinates are 1D vectors, one for each dimension, which contain *indices* for the array.  Let us call these basic coordinates, *dimension coordinates*.  Here we use 0 as the first index of dimension coordinates\n",
    "```\n",
    "* i          (i) int32 0 1 2 3 4 5 6 7 8 9 ... 80 81 82 83 84 85 86 87 88 89\n",
    "* j          (j) int32 0 1 2 3 4 5 6 7 8 9 ... 80 81 82 83 84 85 86 87 88 89\n",
    "* k          (k) int32 0 1 2 3 4 5 6 7 8 9 ... 40 41 42 43 44 45 46 47 48 49\n",
    "```\n",
    "\n",
    "Let's examine each *Dimension Coordinate* more closely\n",
    "\n",
    "##### Dimension Coordinate ``i``"
   ]
  },
  {
   "cell_type": "code",
   "execution_count": 5,
   "metadata": {
    "scrolled": true
   },
   "outputs": [
    {
     "data": {
      "text/plain": [
       "<xarray.DataArray 'i' (i: 90)>\n",
       "array([ 0,  1,  2,  3,  4,  5,  6,  7,  8,  9, 10, 11, 12, 13, 14, 15, 16, 17,\n",
       "       18, 19, 20, 21, 22, 23, 24, 25, 26, 27, 28, 29, 30, 31, 32, 33, 34, 35,\n",
       "       36, 37, 38, 39, 40, 41, 42, 43, 44, 45, 46, 47, 48, 49, 50, 51, 52, 53,\n",
       "       54, 55, 56, 57, 58, 59, 60, 61, 62, 63, 64, 65, 66, 67, 68, 69, 70, 71,\n",
       "       72, 73, 74, 75, 76, 77, 78, 79, 80, 81, 82, 83, 84, 85, 86, 87, 88, 89],\n",
       "      dtype=int32)\n",
       "Coordinates:\n",
       "  * i        (i) int32 0 1 2 3 4 5 6 7 8 9 10 ... 80 81 82 83 84 85 86 87 88 89\n",
       "    tile     int32 2\n",
       "    iter     int32 159948\n",
       "    time     datetime64[ns] 2010-03-16T12:00:00\n",
       "Attributes:\n",
       "    long_name:      x-dimension of the t grid\n",
       "    standard_name:  x_grid_index\n",
       "    swap_dim:       XC\n",
       "    axis:           X"
      ]
     },
     "execution_count": 5,
     "metadata": {},
     "output_type": "execute_result"
    }
   ],
   "source": [
    "theta_dataset.i"
   ]
  },
  {
   "cell_type": "markdown",
   "metadata": {},
   "source": [
    "*i* is an array of integers from 0 to 89 indicating the *x_grid_index* along this tile's *X* axis."
   ]
  },
  {
   "cell_type": "markdown",
   "metadata": {},
   "source": [
    "##### Dimension Coordinate ``j``"
   ]
  },
  {
   "cell_type": "code",
   "execution_count": 6,
   "metadata": {
    "scrolled": true
   },
   "outputs": [
    {
     "data": {
      "text/plain": [
       "<xarray.DataArray 'j' (j: 90)>\n",
       "array([ 0,  1,  2,  3,  4,  5,  6,  7,  8,  9, 10, 11, 12, 13, 14, 15, 16, 17,\n",
       "       18, 19, 20, 21, 22, 23, 24, 25, 26, 27, 28, 29, 30, 31, 32, 33, 34, 35,\n",
       "       36, 37, 38, 39, 40, 41, 42, 43, 44, 45, 46, 47, 48, 49, 50, 51, 52, 53,\n",
       "       54, 55, 56, 57, 58, 59, 60, 61, 62, 63, 64, 65, 66, 67, 68, 69, 70, 71,\n",
       "       72, 73, 74, 75, 76, 77, 78, 79, 80, 81, 82, 83, 84, 85, 86, 87, 88, 89],\n",
       "      dtype=int32)\n",
       "Coordinates:\n",
       "  * j        (j) int32 0 1 2 3 4 5 6 7 8 9 10 ... 80 81 82 83 84 85 86 87 88 89\n",
       "    tile     int32 2\n",
       "    iter     int32 159948\n",
       "    time     datetime64[ns] 2010-03-16T12:00:00\n",
       "Attributes:\n",
       "    long_name:      y-dimension of the t grid\n",
       "    standard_name:  y_grid_index\n",
       "    swap_dim:       YC\n",
       "    axis:           Y"
      ]
     },
     "execution_count": 6,
     "metadata": {},
     "output_type": "execute_result"
    }
   ],
   "source": [
    "theta_dataset.j"
   ]
  },
  {
   "cell_type": "markdown",
   "metadata": {},
   "source": [
    "*j* is an array of integers from 0 to 89 indicating the *y_grid_index* along this tile's *Y* axis.\n",
    "\n",
    "##### Dimension Coordinate ``k``"
   ]
  },
  {
   "cell_type": "code",
   "execution_count": 7,
   "metadata": {
    "scrolled": true
   },
   "outputs": [
    {
     "data": {
      "text/plain": [
       "<xarray.DataArray 'k' (k: 50)>\n",
       "array([ 0,  1,  2,  3,  4,  5,  6,  7,  8,  9, 10, 11, 12, 13, 14, 15, 16, 17,\n",
       "       18, 19, 20, 21, 22, 23, 24, 25, 26, 27, 28, 29, 30, 31, 32, 33, 34, 35,\n",
       "       36, 37, 38, 39, 40, 41, 42, 43, 44, 45, 46, 47, 48, 49], dtype=int32)\n",
       "Coordinates:\n",
       "  * k        (k) int32 0 1 2 3 4 5 6 7 8 9 10 ... 40 41 42 43 44 45 46 47 48 49\n",
       "    Z        (k) float32 -5.0 -15.0 -25.0 -35.0 ... -5039.25 -5461.25 -5906.25\n",
       "    PHrefC   (k) float32 49.05 147.15 245.25 ... 49435.043 53574.863 57940.312\n",
       "    drF      (k) float32 10.0 10.0 10.0 10.0 10.0 ... 387.5 410.5 433.5 456.5\n",
       "    tile     int32 2\n",
       "    iter     int32 159948\n",
       "    time     datetime64[ns] 2010-03-16T12:00:00\n",
       "Attributes:\n",
       "    long_name:      z-dimension of the t grid\n",
       "    standard_name:  z_grid_index\n",
       "    swap_dim:       Z\n",
       "    axis:           Z"
      ]
     },
     "execution_count": 7,
     "metadata": {},
     "output_type": "execute_result"
    }
   ],
   "source": [
    "theta_dataset.k"
   ]
  },
  {
   "cell_type": "markdown",
   "metadata": {},
   "source": [
    "*k* is an array of integers from 0 to 49 indicating the *z_grid_index* along this tile's *Z* axis.\n",
    "\n",
    "#### Other Coordinates\n",
    "\n",
    "Notice some *coordinates* do not have an **\"\\*\"** in front of their names:\n",
    "```             \n",
    "Coordinates:\n",
    "    XC         (j, i) float32 -37.5 -36.5 -35.5 ... 50.968143 51.44421 51.837925\n",
    "    YC         (j, i) float32 10.458642 10.458642 ... 67.53387 67.47211\n",
    "    rA         (j, i) float32 11896091000.0 11896091000.0 ... 212633870.0\n",
    "    hFacC      (k, j, i) float32 1.0 1.0 1.0 1.0 1.0 1.0 ... 0.0 0.0 0.0 0.0 0.0\n",
    "    Z          (k) float32 -5.0 -15.0 -25.0 -35.0 ... -5039.25 -5461.25 -5906.25\n",
    "    PHrefC     (k) float32 49.05 147.15 245.25 ... 49435.043 53574.863 57940.312\n",
    "    drF        (k) float32 10.0 10.0 10.0 10.0 10.0 ... 387.5 410.5 433.5 456.5\n",
    "    time_bnds  (nv) datetime64[ns] 2010-03-01 2010-04-01\n",
    "    tile       int32 2\n",
    "    iter       int32 159948\n",
    "    time       datetime64[ns] 2010-03-16T12:00:00\n",
    "```\n",
    "\n",
    "These are so-called [non-dimension coordinates](http://xarray.pydata.org/en/stable/data-structures.html#coordinates).  From the xarray documenation:\n",
    "\n",
    "```\n",
    "1. non-dimension coordinates are variables that [may] contain coordinate data, \n",
    "   but are not a dimension coordinate. \n",
    "\n",
    "2. They can be multidimensional ... and there is no relationship between \n",
    "   the name of a non-dimension coordinate and the name(s) of its dimension(s). \n",
    "\n",
    "3. Non-dimension coordinates can be useful for indexing or plotting; ...\n",
    "```\n",
    "\n",
    "Four of these variables contain spatial coordinate data:\n",
    "\n",
    "* **XC** and **YC**, the longitude and latitudes of the 'c' points (varies with **i** and **j**)\n",
    "* **Z** the center depth of tracer cells (varies only with **k**)\n",
    "* **PHrefC**, a reference pressure of tracer cells (varies only with **k**)\n",
    "\n",
    "Two of these variables have *spatial dimensions* but are not coordinates in a tradiational sense:\n",
    "\n",
    "* **hFacC**, the fraction (0,1) of a tracer grid cell height which is wet (varies with **k**, **j**, and **i**) \n",
    "* **drF**, the distance between the top and bottom of a tracer grid cell (varies only with **k**)\n",
    "\n",
    "Three non-dimension coordinates do not have any spatial dimensions!  \n",
    "\n",
    "* **tile**, values of the current llc90 tile index.\n",
    "* **iter**, the time step of the model (time iteration) when the record was saved \n",
    "* **time**, a calendar date and time \n",
    "* **time_bnds**, a 1x2 array of calendar dates and times indicating the start and end times of the averaging period of the field\n",
    "\n",
    "When multiple DataArrays from different tiles and times are combined, the dimensions of the merged arrays will expand along the **time** and **tile** dimensions.   \n",
    "\n",
    "Let's quickly look at the **time** coordinate"
   ]
  },
  {
   "cell_type": "code",
   "execution_count": 8,
   "metadata": {},
   "outputs": [
    {
     "data": {
      "text/plain": [
       "<xarray.DataArray 'time' ()>\n",
       "array('2010-03-16T12:00:00.000000000', dtype='datetime64[ns]')\n",
       "Coordinates:\n",
       "    tile     int32 2\n",
       "    iter     int32 159948\n",
       "    time     datetime64[ns] 2010-03-16T12:00:00\n",
       "Attributes:\n",
       "    long_name:      center time of averaging period\n",
       "    standard_name:  time\n",
       "    bounds:         time_bnds\n",
       "    axis:           T"
      ]
     },
     "execution_count": 8,
     "metadata": {},
     "output_type": "execute_result"
    }
   ],
   "source": [
    "theta_dataset.time"
   ]
  },
  {
   "cell_type": "markdown",
   "metadata": {},
   "source": [
    "In this file the **time** coordinate indicates the *center time of the averaging period*.  Recall that we loaded the monthly-mean ``THETA`` fields for March 2010, so the *center time of the averaging period* for this file is March 16, 12:00, 2010.\n",
    "\n",
    "Let's quickly look at the **time_bnds** coordinate:"
   ]
  },
  {
   "cell_type": "code",
   "execution_count": 9,
   "metadata": {
    "scrolled": true
   },
   "outputs": [
    {
     "data": {
      "text/plain": [
       "<xarray.DataArray 'time_bnds' (nv: 2)>\n",
       "array(['2010-03-01T00:00:00.000000000', '2010-04-01T00:00:00.000000000'],\n",
       "      dtype='datetime64[ns]')\n",
       "Coordinates:\n",
       "    time_bnds  (nv) datetime64[ns] 2010-03-01 2010-04-01\n",
       "    tile       int32 2\n",
       "    iter       int32 159948\n",
       "    time       datetime64[ns] 2010-03-16T12:00:00\n",
       "Dimensions without coordinates: nv\n",
       "Attributes:\n",
       "    long_name:      time bounds of averaging period\n",
       "    standard_name:  time_bounds"
      ]
     },
     "execution_count": 9,
     "metadata": {},
     "output_type": "execute_result"
    }
   ],
   "source": [
    "theta_dataset.time_bnds"
   ]
  },
  {
   "cell_type": "markdown",
   "metadata": {},
   "source": [
    "For time-averaged fields, **time_bnds** is a 2D array provding the *start* and *end* time of the averaging period.  As this is a monthly-mean field for March, the *start* time is 2010-03-01 and the end time is 2010-04-01. \n",
    "\n",
    "time-averaging period, March 1, 00:00 to Apri 1, 00:00, 2010\n",
    "~~~\n",
    "start time : 2010-03-01T00:00:00.000000000  \n",
    "  end time : 2010-04-01T00:00:00.000000000\n",
    "~~~\n",
    "  \n",
    "Having this information readily available can be very helpful."
   ]
  },
  {
   "cell_type": "markdown",
   "metadata": {},
   "source": [
    "## The Dimension Coordinates of the Arakawa C-Grid"
   ]
  },
  {
   "cell_type": "markdown",
   "metadata": {},
   "source": [
    "Dimension coordinates have special meanings.  The MITgcm uses the staggered Arakawa-C grid (hereafter c-grid). In c-grid models, variables are staggered in space.  Horizontally, variables are associated with three 'locations': \n",
    "\n",
    "1. tracer cells (e.g. temperature, salinity, density)\n",
    "2. the 4 lateral faces of tracer cells (e.g., horizontal velocities and fluxes) \n",
    "3. the 4 corners of tracer cells (e.g., vertical component of vorticity field)\n",
    "\n",
    "Vertically, there are also two 'locations': \n",
    "\n",
    "1. tracer cells\n",
    "2. the 2 top/bottom faces of tracer cells (e.g., vertical velocities and fluxes).\n",
    "\n",
    "To understand this better, let's review the geometry of c-grid models.\n",
    "\n",
    "### 3D staggering of velocity components. \n",
    "\n",
    "Paraphrasing from https://mitgcm.readthedocs.io/en/latest/algorithm/c-grid.html,\n",
    "\n",
    "~~~\n",
    "In c-grid models, the components of flow (𝑢,𝑣,𝑤) are staggered in \n",
    "space such that the zonal component falls on the interface between \n",
    "tracer cells in the zonal direction. Similarly for the meridional \n",
    "and vertical directions. \n",
    "~~~\n",
    "\n",
    "#### Why the c-grid?\n",
    "\n",
    "~~~\n",
    "The basic algorithm employed for stepping forward the momentum \n",
    "equations is based on retaining non-divergence of the flow at \n",
    "all times. This is most naturally done if the components of flow\n",
    "are staggered in space in the form of an Arakawa C grid...\n",
    "~~~\n",
    "\n",
    "![uvw-grid](../figures/uvw.png )\n",
    "\n",
    "\n",
    "### Defining the c-grid coordinate system\n",
    "\n",
    "As shown, variables on Arakawa-C grids (c-grid) are staggered in space.  For convenience we  define a coordinate system that distinguishes between these different locations.\n",
    "\n",
    "#### The c-grid horizontal coordinates\n",
    "\n",
    "In the horizontal, variables can take one of four locations: **c**, **u**, **v**, or **g**.  \n",
    "\n",
    "![c-grid](../figures/C-grid-points.png )\n",
    "\n",
    "\n",
    "##### horizontal \"c\" location\n",
    "\n",
    "Variables associated with tracer cell area or volumetric averages (e.g., temperature, salinity, sea ice thickness, air-sea net heat flux) and variables associated with vertical velocities (e.g., $\\vec w$) are identified with **c** locations.\n",
    "\n",
    "For these variables we define the horizontal dimensions of **i** and **j**, corresponding with the model grid $x$ and $y$ directions, respectively.  \n",
    "\n",
    "##### horizontal \"u\" location\n",
    "\n",
    "Variables associated with the two lateral sides of tracer cells in the $x$ direction are identified with **u** locations. \n",
    "\n",
    "Define the horizontal dimensions of **u** variables as **i_g** and **j**, corresponding with the model's $x$ and $y$ dimensions, respectively.  \n",
    "\n",
    "> **Important Note**: In the llc90 curvilinear model grid used by ECCOv4, the $x$ direction is **NOT** same as the geographic zonal (east-west) direction.\n",
    "\n",
    "##### horizontal \"v\" location\n",
    "\n",
    "Variables associated with the two lateral sides of tracer cells in the $y$ direction are identified with **v** locations. \n",
    "\n",
    "Define the horizontal dimensions of **v** variables as **i** and **j_g**, corresponding with the model's $x$ and $y$ dimensions, respectively.\n",
    "\n",
    "> **Important Note**: In the llc90 curvilinear model grid used by ECCOv4, the $y$ direction is **NOT** same as the geographic meridional (north-south) direction.\n",
    "\n",
    "\n",
    "##### horizontal \"g\" location\n",
    "\n",
    "Variables associated with the horizontal corners of tracer grid cells are identified with **g** locations.\n",
    "\n",
    "Define the horizontal dimensions of **g** variables as **i_g** and **j_g**, corresponding with the model's $x$ and $y$ dimensions, respectively.  \n",
    "\n",
    "#### The c-grid vertical coordinates\n",
    "\n",
    "In the horizontal, variables can take one of two locations: **c** and **w**\n",
    "\n",
    "#### vertical \"c\" location\n",
    "\n",
    "Variables associated with tracer cell volumetric quantities (e.g., temperature, salinity) are identified with **c** locations.\n",
    "\n",
    "For these variables we define the vertical dimensions of **k** which corresponds with the model grid' $z$ direction.\n",
    "\n",
    "#### vertical \"w\" location\n",
    "\n",
    "Variables associated with the two top/bottom sides of tracer cells in the $z$ direction are identified with **w** locations. \n",
    "\n",
    "For these variables we define the vertical dimension of **$k_u$** to indicate the model tracer cell's **u**pper faces in the $k$ direction, respectively.  \n",
    "\n",
    "Two other vertical dimensions are also used.  **$k_l$** indicates the model tracer cell's **l**ower faces, and $k_{p1}$ which index all of the **upper** and **lower** faces.  \n",
    "\n",
    "> Note: In ECCOv4 NetCDF files both **$k_u$**(0) and **$k_{p1}$**(0) correspond to the same top face of the model tracer grid cell."
   ]
  },
  {
   "cell_type": "markdown",
   "metadata": {},
   "source": [
    "## All ECCOv4 coordinates\n",
    "\n",
    "Now that we have been oriented to the dimensions and coordinates used by ECCOv4, let's load up and examinea a ``Dataset`` that uses all of them, an ECCOv4 NetCDF grid file. \n",
    "\n",
    "Open the ECCOv4 grid file associated with tile 2:"
   ]
  },
  {
   "cell_type": "code",
   "execution_count": 10,
   "metadata": {},
   "outputs": [
    {
     "data": {
      "text/plain": [
       "Coordinates:\n",
       "  * k_p1     (k_p1) int64 0 1 2 3 4 5 6 7 8 9 ... 41 42 43 44 45 46 47 48 49 50\n",
       "  * j_g      (j_g) int64 0 1 2 3 4 5 6 7 8 9 ... 80 81 82 83 84 85 86 87 88 89\n",
       "  * i_g      (i_g) int64 0 1 2 3 4 5 6 7 8 9 ... 80 81 82 83 84 85 86 87 88 89\n",
       "  * k        (k) int64 0 1 2 3 4 5 6 7 8 9 10 ... 40 41 42 43 44 45 46 47 48 49\n",
       "  * j        (j) int64 0 1 2 3 4 5 6 7 8 9 10 ... 80 81 82 83 84 85 86 87 88 89\n",
       "  * k_u      (k_u) int64 0 1 2 3 4 5 6 7 8 9 ... 40 41 42 43 44 45 46 47 48 49\n",
       "  * i        (i) int64 0 1 2 3 4 5 6 7 8 9 10 ... 80 81 82 83 84 85 86 87 88 89\n",
       "  * k_l      (k_l) int64 0 1 2 3 4 5 6 7 8 9 ... 40 41 42 43 44 45 46 47 48 49\n",
       "    tile     int64 2\n",
       "    XC       (j, i) float32 -37.5 -36.5 -35.5 ... 50.968143 51.44421 51.837925\n",
       "    YC       (j, i) float32 10.458642 10.458642 10.458642 ... 67.53387 67.47211\n",
       "    XG       (j_g, i_g) float32 -38.0 -37.0 -36.0 ... 51.118958 51.588932\n",
       "    YG       (j_g, i_g) float32 9.96973 9.96973 9.96973 ... 67.49435 67.42869\n",
       "    Zl       (k_l) float32 0.0 -10.0 -20.0 -30.0 ... -4834.0 -5244.5 -5678.0\n",
       "    Zu       (k_u) float32 -10.0 -20.0 -30.0 -40.0 ... -5244.5 -5678.0 -6134.5\n",
       "    Z        (k) float32 -5.0 -15.0 -25.0 -35.0 ... -5039.25 -5461.25 -5906.25\n",
       "    Zp1      (k_p1) float32 0.0 -10.0 -20.0 -30.0 ... -5244.5 -5678.0 -6134.5\n",
       "    dxC      (j, i_g) float32 109330.39 109330.39 ... 22498.332 18116.71\n",
       "    rAs      (j_g, i) float32 11884406000.0 11884406000.0 ... 335292540.0\n",
       "    rAw      (j, i_g) float32 11896091000.0 11896091000.0 ... 292185820.0\n",
       "    Depth    (j, i) float32 4658.681 4820.5703 5014.177 ... 0.0 0.0 0.0\n",
       "    rA       (j, i) float32 11896091000.0 11896091000.0 ... 212633870.0\n",
       "    dxG      (j_g, i) float32 109498.625 109498.625 ... 21326.564 17873.049\n",
       "    dyG      (j, i_g) float32 108810.11 108810.11 ... 19713.574 15965.378\n",
       "    rAz      (j_g, i_g) float32 11884406000.0 11884406000.0 ... 335292540.0\n",
       "    dyC      (j_g, i) float32 108536.33 108536.33 ... 18723.23 15461.596\n",
       "    PHrefC   (k) float32 49.05 147.15 245.25 ... 49435.043 53574.863 57940.312\n",
       "    drC      (k_p1) float32 5.0 10.0 10.0 10.0 10.0 ... 399.0 422.0 445.0 228.25\n",
       "    PHrefF   (k_p1) float32 0.0 98.1 196.2 ... 51448.547 55701.18 60179.445\n",
       "    drF      (k) float32 10.0 10.0 10.0 10.0 10.0 ... 387.5 410.5 433.5 456.5\n",
       "    hFacS    (k, j_g, i) float32 1.0 1.0 1.0 1.0 1.0 1.0 ... 0.0 0.0 0.0 0.0 0.0\n",
       "    hFacC    (k, j, i) float32 1.0 1.0 1.0 1.0 1.0 1.0 ... 0.0 0.0 0.0 0.0 0.0\n",
       "    hFacW    (k, j, i_g) float32 1.0 1.0 1.0 1.0 1.0 1.0 ... 0.0 0.0 0.0 0.0 0.0"
      ]
     },
     "execution_count": 10,
     "metadata": {},
     "output_type": "execute_result"
    }
   ],
   "source": [
    "grid_dir = '/Users/ifenty/eccov4r3_native_grid_netcdf_tiles/grid/'\n",
    "grid_name = 'ECCOv4r3_grid_tile_02.nc'\n",
    "grid_dataset = xr.open_dataset(grid_dir + grid_name).load()\n",
    "grid_dataset.attrs =[]\n",
    "grid_dataset.coords"
   ]
  },
  {
   "cell_type": "markdown",
   "metadata": {},
   "source": [
    "### Dimensions\n",
    "`Dimensions:  (i: 90, i_g: 90, j: 90, j_g: 90, k: 50, k_l: 50, k_p1: 51, k_u: 50)`\n",
    "\n",
    "The *Dimensions* list now lists the six different coordinates and their dimension used by variables stored in this new grid tile `Dataset` object.  \n",
    "\n",
    "### Dimension Coordinates \n",
    "\n",
    "\n",
    "```\n",
    "  * k_p1     (k_p1) int64 0 1 2 3 4 5 6 7 8 9 ... 41 42 43 44 45 46 47 48 49 50\n",
    "  * j_g      (j_g) int64 0 1 2 3 4 5 6 7 8 9 ... 80 81 82 83 84 85 86 87 88 89\n",
    "  * i_g      (i_g) int64 0 1 2 3 4 5 6 7 8 9 ... 80 81 82 83 84 85 86 87 88 89\n",
    "  * k        (k) int64 0 1 2 3 4 5 6 7 8 9 10 ... 40 41 42 43 44 45 46 47 48 49\n",
    "  * j        (j) int64 0 1 2 3 4 5 6 7 8 9 10 ... 80 81 82 83 84 85 86 87 88 89\n",
    "  * k_u      (k_u) int64 0 1 2 3 4 5 6 7 8 9 ... 40 41 42 43 44 45 46 47 48 49\n",
    "  * i        (i) int64 0 1 2 3 4 5 6 7 8 9 10 ... 80 81 82 83 84 85 86 87 88 89\n",
    "  * k_l      (k_l) int64 0 1 2 3 4 5 6 7 8 9 ... 40 41 42 43 44 45 46 47 48 49\n",
    "``` \n",
    "\n",
    "We note that horizontal coords have 90 indices [0..89], $k_u$ and $k_l$ have 50 [0..49] and k_{p1} has 51 [0..50]\n",
    "\n",
    "\n",
    "### Non-Dimension Coordinates\n",
    "\n",
    "Some non-dimension coordinates are spatial coordinates.\n",
    "* XC, YC : longitude and latitude of tracer cell centers\n",
    "* XG, YG : longitude and latitude of tracer cell corners\n",
    "* Z_l, Z_u, Z_p1 : depths of tracer cell lower and upper faces\n",
    "* Z : depths of tracer cell centers\n",
    "* PHrefC, PHrefF : reference pressures at tracer cell centers and upper and lower faces\n",
    "\n",
    "```\n",
    "    XC       (j, i) float32 ...\n",
    "    YC       (j, i) float32 ...\n",
    "    XG       (j_g, i_g) float32 ...\n",
    "    YG       (j_g, i_g) float32 ...\n",
    "    Zl       (k_l) float32 ...\n",
    "    Zu       (k_u) float32 ...\n",
    "    Z        (k) float32 ...\n",
    "    Zp1      (k_p1) float32 ...\n",
    "    PHrefC   (k) float32 ...\n",
    "    PHrefF   (k_p1) float32 ...\n",
    "```\n",
    "\n",
    "While others describe the model grid geometry (areas, distances, distances, and geometric factors) and other information (model depth).  They are not coordinates in any meaningful sense but they *are essential for quantitative analysis*. \n",
    "\n",
    "horizontal distances:\n",
    "```\n",
    "    dxG      (j_g, i) float32 ...\n",
    "    dyG      (j, i_g) float32 ...\n",
    "    dxC      (j, i_g) float32 ...\n",
    "    dyC      (j_g, i) float32 ...\n",
    "```\n",
    "\n",
    "vertical distances:\n",
    "```\n",
    "    drC      (k_p1) float32 ...\n",
    "    drF      (k) float32 ...\n",
    "```        \n",
    "\n",
    "areas:\n",
    "```\n",
    "    rAs      (j_g, i) float32 ...\n",
    "    rAw      (j, i_g) float32 ...\n",
    "    rA       (j, i) float32 ...\n",
    "    rAz      (j_g, i_g) float32 ...\n",
    "```\n",
    "\n",
    "geometric factors\n",
    "```\n",
    "    hFacS    (k, j_g, i) float32 ...\n",
    "    hFacC    (k, j, i) float32 ...\n",
    "    hFacW    (k, j, i_g) float32 ...\n",
    "```    \n",
    "\n",
    "seafloor depth\n",
    "```\n",
    "Depth    (j, i) float32 ...\n",
    "```\n",
    "\n",
    "These ancilliary fields are classified as non-dimension coordinates because we wanted to reserve *data variables* for variables that are part of the model solution.\n",
    "\n",
    "In the end, it doesn't matter what you call these ancillary variables -- what matters is that you have them on hand for calculations.  If it makes you feel beter, use the function ``.reset_coords()`` to convert all non-dimension coordinates to data variables.  \n",
    "~~~\n",
    "grid_dataset.reset_coords()\n",
    "~~~\n",
    "\n",
    "### Model Grid Geometry Fields \n",
    "\n",
    "Let's examine one of these grid geometric variables, *dxG*:"
   ]
  },
  {
   "cell_type": "code",
   "execution_count": 11,
   "metadata": {
    "scrolled": false
   },
   "outputs": [
    {
     "data": {
      "text/plain": [
       "<xarray.DataArray 'dxG' (j_g: 90, i: 90)>\n",
       "array([[109498.625, 109498.625, 109498.625, ..., 109498.625, 109498.625,\n",
       "        109498.625],\n",
       "       [109153.875, 109153.875, 109153.875, ..., 109153.875, 109153.875,\n",
       "        109153.875],\n",
       "       [108776.664, 108776.664, 108776.664, ..., 108776.664, 108776.664,\n",
       "        108776.664],\n",
       "       ...,\n",
       "       [ 24995.342,  26019.037,  27603.951, ...,  27603.951,  26019.037,\n",
       "         24995.342],\n",
       "       [ 21862.79 ,  23614.71 ,  25916.31 , ...,  25916.31 ,  23614.71 ,\n",
       "         21862.79 ],\n",
       "       [ 17873.049,  21326.564,  24596.092, ...,  24596.092,  21326.564,\n",
       "         17873.049]], dtype=float32)\n",
       "Coordinates:\n",
       "  * j_g      (j_g) int64 0 1 2 3 4 5 6 7 8 9 ... 80 81 82 83 84 85 86 87 88 89\n",
       "  * i        (i) int64 0 1 2 3 4 5 6 7 8 9 10 ... 80 81 82 83 84 85 86 87 88 89\n",
       "    tile     int64 2\n",
       "    rAs      (j_g, i) float32 11884406000.0 11884406000.0 ... 335292540.0\n",
       "    dxG      (j_g, i) float32 109498.625 109498.625 ... 21326.564 17873.049\n",
       "    dyC      (j_g, i) float32 108536.33 108536.33 ... 18723.23 15461.596\n",
       "Attributes:\n",
       "    coordinate:     YG XC\n",
       "    units:          m\n",
       "    standard_name:  cell_x_size_at_v_location\n",
       "    long_name:      cell x size"
      ]
     },
     "execution_count": 11,
     "metadata": {},
     "output_type": "execute_result"
    }
   ],
   "source": [
    "grid_dataset.dxG"
   ]
  },
  {
   "cell_type": "markdown",
   "metadata": {},
   "source": [
    "*dxG* has coordinates $i$ and $j_g$, which means that it is a **v** location variable.  *dxG* is the horizontal distance between $g$ points (tracer cell corners) in the tile's $x$ direction.  \n",
    "\n",
    "For reference, see the chart below from the MITgcm documentation, [Figure 2.6](https://mitgcm.readthedocs.io/en/latest/algorithm/horiz-grid.html \"Fig 2.6\")\n",
    "\n",
    "dxG = $\\Delta x_g$ in subfigure (a) below:\n",
    "\n",
    "![hgrid](../figures/hgrid-abcd.svg)\n",
    "\n",
    "*Figure 2.6 Staggering of horizontal grid descriptors (lengths and areas). The grid lines indicate the tracer cell boundaries and are the reference grid for all panels. a) The area of a tracer cell, 𝐴𝑐, is bordered by the lengths Δ𝑥𝑔 and Δ𝑦𝑔. b) The area of a vorticity cell, 𝐴𝜁, is bordered by the lengths Δ𝑥𝑐 and Δ𝑦𝑐. c) The area of a u cell, 𝐴𝑤, is bordered by the lengths Δ𝑥𝑣 and Δ𝑦𝑓. d) The area of a v cell, 𝐴𝑠, is bordered by the lengths Δ𝑥𝑓 and Δ𝑦𝑢.*"
   ]
  },
  {
   "cell_type": "markdown",
   "metadata": {},
   "source": [
    "## Dimensions and Coordinates of *UVEL*\n",
    "\n",
    "So far we looked *THETA* which is a $c$ variable.  Let's examine *UVEL*, horizontal velocity in the tile's $x$ direction.  As you've probably guessed, *UVEL* is a $u$ variable: \n",
    "\n",
    "Load tile 2 of the 2010 March average horizonatal velocity in the $x$ direction."
   ]
  },
  {
   "cell_type": "code",
   "execution_count": 12,
   "metadata": {
    "collapsed": true,
    "scrolled": true
   },
   "outputs": [],
   "source": [
    "# Directory of the UVEL files\n",
    "data_dir= ECCO_dir + '/mon_mean/UVEL/2010/03/'\n",
    "\n",
    "fname = 'UVEL_2010_03_tile_02.nc'\n",
    "uvel_dataset = xr.open_dataset(data_dir + fname).load()\n",
    "uvel_dataset.attrs = []"
   ]
  },
  {
   "cell_type": "markdown",
   "metadata": {},
   "source": [
    "### ``UVEL`` context\n",
    "\n",
    "Plot the time-mean horizontal velocity at the top-most model grid cell in the tile's $x$ direction"
   ]
  },
  {
   "cell_type": "code",
   "execution_count": 13,
   "metadata": {},
   "outputs": [
    {
     "data": {
      "text/plain": [
       "<matplotlib.collections.QuadMesh at 0x10ab12350>"
      ]
     },
     "execution_count": 13,
     "metadata": {},
     "output_type": "execute_result"
    },
    {
     "data": {
      "image/png": "[encoded data removed]",
      "text/plain": [
       "<matplotlib.figure.Figure at 0x1054323d0>"
      ]
     },
     "metadata": {},
     "output_type": "display_data"
    }
   ],
   "source": [
    "fig=plt.figure(figsize=(8, 6.5))\n",
    "ud_masked = uvel_dataset.UVEL.where(uvel_dataset.hFacW > 0, np.nan)\n",
    "ud_masked.isel(k=0).plot(cmap='jet', vmin=-.2,vmax=.2)"
   ]
  },
  {
   "cell_type": "markdown",
   "metadata": {},
   "source": [
    "Let's look at the dimensions and coordinates of *UVEL*"
   ]
  },
  {
   "cell_type": "code",
   "execution_count": 14,
   "metadata": {},
   "outputs": [
    {
     "data": {
      "text/plain": [
       "Data variables:\n",
       "    UVEL     (k, j, i_g) float32 -0.08147599 -0.07893662 -0.0776869 ... 0.0 0.0"
      ]
     },
     "execution_count": 14,
     "metadata": {},
     "output_type": "execute_result"
    }
   ],
   "source": [
    "uvel_dataset.data_vars"
   ]
  },
  {
   "cell_type": "code",
   "execution_count": 15,
   "metadata": {
    "scrolled": true
   },
   "outputs": [
    {
     "data": {
      "text/plain": [
       "Coordinates:\n",
       "    dxC        (j, i_g) float32 109330.39 109330.39 ... 22498.332 18116.71\n",
       "    rAw        (j, i_g) float32 11896091000.0 11896091000.0 ... 292185820.0\n",
       "    dyG        (j, i_g) float32 108810.11 108810.11 ... 19713.574 15965.378\n",
       "  * i_g        (i_g) int32 0 1 2 3 4 5 6 7 8 9 ... 80 81 82 83 84 85 86 87 88 89\n",
       "  * j          (j) int32 0 1 2 3 4 5 6 7 8 9 ... 80 81 82 83 84 85 86 87 88 89\n",
       "    hFacW      (k, j, i_g) float32 1.0 1.0 1.0 1.0 1.0 ... 0.0 0.0 0.0 0.0 0.0\n",
       "  * k          (k) int32 0 1 2 3 4 5 6 7 8 9 ... 40 41 42 43 44 45 46 47 48 49\n",
       "    Z          (k) float32 -5.0 -15.0 -25.0 -35.0 ... -5039.25 -5461.25 -5906.25\n",
       "    PHrefC     (k) float32 49.05 147.15 245.25 ... 49435.043 53574.863 57940.312\n",
       "    drF        (k) float32 10.0 10.0 10.0 10.0 10.0 ... 387.5 410.5 433.5 456.5\n",
       "    time_bnds  (nv) datetime64[ns] 2010-03-01 2010-04-01\n",
       "    tile       int32 2\n",
       "    iter       int32 159948\n",
       "    time       datetime64[ns] 2010-03-16T12:00:00"
      ]
     },
     "execution_count": 15,
     "metadata": {},
     "output_type": "execute_result"
    }
   ],
   "source": [
    "uvel_dataset.coords"
   ]
  },
  {
   "cell_type": "markdown",
   "metadata": {},
   "source": [
    "### Dimension coordinates\n",
    "\n",
    "As expected, *UVEL* has horizontal dimensions of **i_g, j**. Because *UVEL* is the velocity  at the left and right faces of 3D tracer cells we use **k** for its vertical coordinate.\n",
    "\n",
    "~~~\n",
    "  * i_g        (i_g) int32 0 1 2 3 4 5 6 7 8 9 ... 80 81 82 83 84 85 86 87 88 89\n",
    "  * j          (j) int32 0 1 2 3 4 5 6 7 8 9 ... 80 81 82 83 84 85 86 87 88 89\n",
    "  * k          (k) int32 0 1 2 3 4 5 6 7 8 9 ... 40 41 42 43 44 45 46 47 48 49\n",
    "~~~"
   ]
  },
  {
   "cell_type": "markdown",
   "metadata": {},
   "source": [
    "## Dimensions and Coordinates of *VVEL*\n",
    "\n",
    "Finally, let's examine *VVEL*, horizontal velocity in the tile's $y$ direction.  As you've probably guessed, *VVEL* is a $v$ variable: \n",
    "\n",
    "Load tile 2 of the 2010 March average horizonatal velocity in the $y$ direction."
   ]
  },
  {
   "cell_type": "code",
   "execution_count": 16,
   "metadata": {
    "collapsed": true,
    "scrolled": false
   },
   "outputs": [],
   "source": [
    "# Directory of the VVEL files\n",
    "data_dir= ECCO_dir + '/mon_mean/VVEL/2010/03/'\n",
    "\n",
    "fname = 'VVEL_2010_03_tile_02.nc'\n",
    "vvel_dataset = xr.open_dataset(data_dir + fname).load()\n",
    "vvel_dataset.attrs = []"
   ]
  },
  {
   "cell_type": "markdown",
   "metadata": {},
   "source": [
    "### ``VVEL`` context\n",
    "\n",
    "Plot the time-mean horizontal velocity in the tile's $y$ direction at model level 5 (55m) "
   ]
  },
  {
   "cell_type": "code",
   "execution_count": 17,
   "metadata": {
    "scrolled": false
   },
   "outputs": [
    {
     "data": {
      "text/plain": [
       "<matplotlib.collections.QuadMesh at 0x30ebcdfd0>"
      ]
     },
     "execution_count": 17,
     "metadata": {},
     "output_type": "execute_result"
    },
    {
     "data": {
      "image/png": "[encoded data removed]",
      "text/plain": [
       "<matplotlib.figure.Figure at 0x105432310>"
      ]
     },
     "metadata": {},
     "output_type": "display_data"
    }
   ],
   "source": [
    "fig=plt.figure(figsize=(8, 6.5))\n",
    "vd_masked = vvel_dataset.VVEL.where(vvel_dataset.hFacS > 0, np.nan)\n",
    "vd_masked.isel(k=0).plot(cmap='jet', vmin=-.2,vmax=.2)"
   ]
  },
  {
   "cell_type": "code",
   "execution_count": 18,
   "metadata": {
    "scrolled": false
   },
   "outputs": [
    {
     "data": {
      "text/plain": [
       "Data variables:\n",
       "    VVEL     (k, j_g, i) float32 0.022591135 0.018273398 0.016787423 ... 0.0 0.0"
      ]
     },
     "execution_count": 18,
     "metadata": {},
     "output_type": "execute_result"
    }
   ],
   "source": [
    "vvel_dataset.data_vars"
   ]
  },
  {
   "cell_type": "code",
   "execution_count": 19,
   "metadata": {},
   "outputs": [
    {
     "data": {
      "text/plain": [
       "Coordinates:\n",
       "    rAs        (j_g, i) float32 11884406000.0 11884406000.0 ... 335292540.0\n",
       "    dxG        (j_g, i) float32 109498.625 109498.625 ... 21326.564 17873.049\n",
       "    dyC        (j_g, i) float32 108536.33 108536.33 ... 18723.23 15461.596\n",
       "  * j_g        (j_g) int32 0 1 2 3 4 5 6 7 8 9 ... 80 81 82 83 84 85 86 87 88 89\n",
       "  * i          (i) int32 0 1 2 3 4 5 6 7 8 9 ... 80 81 82 83 84 85 86 87 88 89\n",
       "    hFacS      (k, j_g, i) float32 1.0 1.0 1.0 1.0 1.0 ... 0.0 0.0 0.0 0.0 0.0\n",
       "  * k          (k) int32 0 1 2 3 4 5 6 7 8 9 ... 40 41 42 43 44 45 46 47 48 49\n",
       "    Z          (k) float32 -5.0 -15.0 -25.0 -35.0 ... -5039.25 -5461.25 -5906.25\n",
       "    PHrefC     (k) float32 49.05 147.15 245.25 ... 49435.043 53574.863 57940.312\n",
       "    drF        (k) float32 10.0 10.0 10.0 10.0 10.0 ... 387.5 410.5 433.5 456.5\n",
       "    time_bnds  (nv) datetime64[ns] 2010-03-01 2010-04-01\n",
       "    tile       int32 2\n",
       "    iter       int32 159948\n",
       "    time       datetime64[ns] 2010-03-16T12:00:00"
      ]
     },
     "execution_count": 19,
     "metadata": {},
     "output_type": "execute_result"
    }
   ],
   "source": [
    "vvel_dataset.coords"
   ]
  },
  {
   "cell_type": "markdown",
   "metadata": {},
   "source": [
    "### Dimension coordinates\n",
    "\n",
    "As expected, *VVEL* has horizontal dimensions of **i, j_g**. Because *VVEL* is the velocity at the front and rear faces of 3D tracer cells we use **k** for its vertical coordinate.\n",
    "\n",
    "~~~\n",
    "  * i          (i) int32 0 1 2 3 4 5 6 7 8 9 ... 80 81 82 83 84 85 86 87 88 89\n",
    "  * j_g        (j_g) int32 0 1 2 3 4 5 6 7 8 9 ... 80 81 82 83 84 85 86 87 88 89\n",
    "  * k          (k) int32 0 1 2 3 4 5 6 7 8 9 ... 40 41 42 43 44 45 46 47 48 49\n",
    "~~~"
   ]
  },
  {
   "cell_type": "markdown",
   "metadata": {},
   "source": [
    "## Summary\n",
    "\n",
    "ECCOv4 variables are on the staggered Arakawa-C grid.  Different dimension labels and coordinates are applied to state estimate variables so that one can easily identify where on the c-grid any particular variable is situated.\n"
   ]
  }
 ],
 "metadata": {
  "kernelspec": {
   "display_name": "Python 2",
   "language": "python",
   "name": "python2"
  },
  "language_info": {
   "codemirror_mode": {
    "name": "ipython",
    "version": 2
   },
   "file_extension": ".py",
   "mimetype": "text/x-python",
   "name": "python",
   "nbconvert_exporter": "python",
   "pygments_lexer": "ipython2",
   "version": "2.7.14"
  }
 },
 "nbformat": 4,
 "nbformat_minor": 2
}
