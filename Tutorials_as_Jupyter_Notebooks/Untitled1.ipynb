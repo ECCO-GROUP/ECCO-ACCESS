{
 "cells": [
  {
   "cell_type": "code",
   "execution_count": 1,
   "metadata": {
    "collapsed": true
   },
   "outputs": [],
   "source": [
    "import numpy as np\n",
    "import xarray as xr\n",
    "import sys\n",
    "import matplotlib.pyplot as plt\n",
    "\n",
    "sys.path.append('/Users/ifenty/ECCOv4-py')\n",
    "import ecco_v4_py as ecco\n",
    "\n",
    "# define a high-level directory for ECCO fields\n",
    "ECCO_tiles_dir = '/Users/ifenty/eccov4r3_native_grid_netcdf_tiles/'\n",
    "\n",
    "# Load one tile of the llc90 grid\n",
    "grid_dir= ECCO_tiles_dir + 'grid'"
   ]
  },
  {
   "cell_type": "code",
   "execution_count": 2,
   "metadata": {},
   "outputs": [
    {
     "name": "stdout",
     "output_type": "stream",
     "text": [
      "Help on function load_ecco_var_from_years_nc in module ecco_v4_py.tile_io:\n",
      "\n",
      "load_ecco_var_from_years_nc(data_dir, var_name, years_to_load='all', tiles_to_load=[0, 1, 2, 3, 4, 5, 6, 7, 8, 9, 10, 11, 12], k_subset=[], dask_chunk=True, less_output=True)\n",
      "    Loads one or more ECCOv4 NetCDF state estimate variable in the\n",
      "    format of one file per variable per year.  All 13 tiles of the \n",
      "    lat-lon-cap (llc) grid are present in this type of file.\n",
      "    \n",
      "    Files in this format have names like \n",
      "        /eccov4r3_native_grid_netcdf/mon_mean/THETA_2010.nc\n",
      "        /eccov4r3_native_grid_netcdf/day_mean/THETA_2010.nc\n",
      "        /eccov4r3_native_grid_netcdf/mon_snapshot/THETA_2010.nc\n",
      "    \n",
      "    Simply point this routine at a directory with one or more \n",
      "    of these files and one or more years of var_name variables will\n",
      "    be loaded. \n",
      "    * Used repeatedly by recursive_load_ecco_var_from_years_nc *\n",
      "    \n",
      "    \n",
      "    Parameters\n",
      "    ----------\n",
      "    data_dir : str\n",
      "        path to a directory within which we will look for NetCDF tile files\n",
      "    \n",
      "    var_name : str\n",
      "        string indicating which variable to load.\n",
      "        \n",
      "    years_to_load : str, int or list or range, optional, default 'all'\n",
      "        a list of which years to load.  \n",
      "    \n",
      "    k_subset : list, optional, default = [] (load all)\n",
      "        a list of which vertical levels to load. \n",
      "                \n",
      "    dask_chunk : boolean, optional, default True\n",
      "        whether or not to ask Dask to chunk the arrays into pieces 90x90.  \n",
      "        WARNING: DON'T MESS WITH THIS NUMBER.\n",
      "    \n",
      "    less_output : boolean, default False\n",
      "        A debugging flag.  False = less debugging output\n",
      "        \n",
      "    Returns\n",
      "    -------\n",
      "    g : Dataset\n",
      "        an xarray Dataset\n",
      "\n"
     ]
    }
   ],
   "source": [
    "help(ecco.load_ecco_var_from_years_nc)"
   ]
  }
 ],
 "metadata": {
  "kernelspec": {
   "display_name": "Python 2",
   "language": "python",
   "name": "python2"
  },
  "language_info": {
   "codemirror_mode": {
    "name": "ipython",
    "version": 2
   },
   "file_extension": ".py",
   "mimetype": "text/x-python",
   "name": "python",
   "nbconvert_exporter": "python",
   "pygments_lexer": "ipython2",
   "version": "2.7.14"
  }
 },
 "nbformat": 4,
 "nbformat_minor": 2
}
