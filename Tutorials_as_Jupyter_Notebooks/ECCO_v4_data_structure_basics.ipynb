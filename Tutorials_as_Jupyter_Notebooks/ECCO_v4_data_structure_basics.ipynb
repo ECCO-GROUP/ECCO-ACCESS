{
 "cells": [
  {
   "cell_type": "markdown",
   "metadata": {},
   "source": [
    "# The Dataset and DataArray objects used in the ECCOv4 Python package.\n",
    "\n",
    "## Objectives\n",
    "\n",
    "To introduce the two high-level data structures, `Dataset` and `DataArray`, that are used in by the `ecco_v4_py` Python package to load and store the ECCO v4 model grid parameters and state estimate variables.\n",
    "\n",
    "## Introduction \n",
    "\n",
    "In this first tutorial we will start slowly, providing detail at every step.  Later tutorials will be assume knowledge of some basic operations introduced here.\n",
    "\n",
    "Let's get started.\n",
    "\n",
    "## Import external packages and modules\n",
    "\n",
    "Before using Python libraries we must import them.  Usually this is done at the beginning of every Python program or interactive Juypter notebook instance but one can import a library at any point in the code.  Python libraries, called **packages**, contain subroutines and/or define data structures that provide useful functionality.\n",
    "\n",
    "Before we go further, let's import some packages needed for this tutorial:"
   ]
  },
  {
   "cell_type": "code",
   "execution_count": 1,
   "metadata": {},
   "outputs": [],
   "source": [
    "# NumPy is the fundamental package for scientific computing with Python. \n",
    "# It contains among other things:\n",
    "#    a powerful N-dimensional array object\n",
    "#    sophisticated (broadcasting) functions\n",
    "#    tools for integrating C/C++ and Fortran code\n",
    "#    useful linear algebra, Fourier transform, and random number capabilities\n",
    "# http://www.numpy.org/\n",
    "#\n",
    "# make all functions from the 'numpy' module available with the prefix 'np'\n",
    "import numpy as np\n",
    "\n",
    "# xarray is an open source project and Python package that aims to bring the \n",
    "# labeled data power of pandas to the physical sciences, by providing\n",
    "# N-dimensional variants of the core pandas data structures.\n",
    "# Our approach adopts the Common Data Model for self- describing scientific \n",
    "# data in widespread use in the Earth sciences: xarray.Dataset is an in-memory\n",
    "# representation of a netCDF file.\n",
    "# http://xarray.pydata.org/en/stable/\n",
    "#\n",
    "# import all function from the 'xarray' module available with the prefix 'xr'\n",
    "import xarray as xr"
   ]
  },
  {
   "cell_type": "markdown",
   "metadata": {},
   "source": [
    "### Load the ECCO Version 4 Python package\n",
    "\n",
    "The *ecco_v4_py* is a Python package written specifically for working with the NetCDF output provided in the [nctiles_monthly](ftp://ecco.jpl.nasa.gov/Version4/Release3/nctiles_monthly/) directory of the [ECCO v4 release](ftp://ecco.jpl.nasa.gov/Version4/Release3/)\n",
    "\n",
    "See the \"Getting Started\" page in the tutorial for instructions about installing the *ecco_v4_py* module on your machine."
   ]
  },
  {
   "cell_type": "code",
   "execution_count": 2,
   "metadata": {},
   "outputs": [],
   "source": [
    "## Import the ecco_v4_py library into Python\n",
    "## =========================================\n",
    "## -- If ecco_v4_py is not installed in your local Python library, \n",
    "##    tell Python where to find it.  For example, if your ecco_v4_py\n",
    "##    files are in /home/username/ECCOv4-py/ecco_v4_py, then use:\n",
    "#sys.path.append('/home/username/ECCOv4-py')\n",
    "\n",
    "## -- For the ECCO Summer School, use \n",
    "import ecco_v4_py as ecco\n"
   ]
  },
  {
   "cell_type": "markdown",
   "metadata": {},
   "source": [
    "The syntax \n",
    "\n",
    "```Python\n",
    "  import XYZ package as ABC\n",
    "```\n",
    "\n",
    "allows you to access all of the subroutines and/or objects in a package with perhaps a long complicated name with a shorter, easier name.\n",
    "\n",
    "Here, we import `ecco_v4_py` as `ecco` because typing `ecco` is easier than `ecco_v4_py` every time.  Also, `ecco_v4_py` is actually comprised of multiple python modules and by importing just `ecco_v4_py` we can actually access all of the subroutines in those modules as well.  Fancy."
   ]
  },
  {
   "cell_type": "markdown",
   "metadata": {},
   "source": [
    "## Load a single state estimate variable NetCDF tile file\n",
    "\n",
    "To load ECCO v4's NetCDF files we will use the *open_dataset* command from the Python package [xarray](http://xarray.pydata.org/en/stable/index.html). The *open_dataset* routine creates a `Dataset` object and loads the contents of the NetCDF file, including its metadata, into a data structure.    \n",
    "\n",
    "Let's open one monthly mean THETA file associated with *tile 2* (the North East Atlantic Ocean)."
   ]
  },
  {
   "cell_type": "code",
   "execution_count": 3,
   "metadata": {},
   "outputs": [],
   "source": [
    "## Tell Python where to find some ECCO NetCDF tile fields (Format 1)\n",
    "## =================================================================\n",
    "## -- For the ECCO Summer School, use :\n",
    "ECCO_dir = '/work/projects/aci/ECCO/community/ECCO/ECCOv4/Release3p1/eccov4r3_native_grid_netcdf_tiles'\n",
    "\n",
    "## -- If files are on a local machine, use something like \n",
    "#ECCO_dir = '/Users/ifenty/eccov4r3_native_grid_netcdf_tiles/'"
   ]
  },
  {
   "cell_type": "code",
   "execution_count": 17,
   "metadata": {},
   "outputs": [],
   "source": [
    "# Load one tile of the llc90 grid\n",
    "data_dir= ECCO_dir + '/mon_mean/THETA/2010/03/'\n",
    "\n",
    "fname = 'THETA_2010_03_tile_02.nc'\n",
    "ds = xr.open_dataset(data_dir + fname)"
   ]
  },
  {
   "cell_type": "markdown",
   "metadata": {},
   "source": [
    "What is *ds*?  It is a `Dataset` object which is defined somewhere deep in the `xarray` package:"
   ]
  },
  {
   "cell_type": "code",
   "execution_count": 4,
   "metadata": {},
   "outputs": [
    {
     "data": {
      "text/plain": [
       "xarray.core.dataset.Dataset"
      ]
     },
     "execution_count": 4,
     "metadata": {},
     "output_type": "execute_result"
    }
   ],
   "source": [
    "type(ds)"
   ]
  },
  {
   "cell_type": "markdown",
   "metadata": {},
   "source": [
    "## The Dataset object \n",
    "\n",
    "According to the xarray documentation, a [Dataset](http://xarray.pydata.org/en/stable/generated/xarray.Dataset.html) is a Python object designed as an \"in-memory representation of the data model from the NetCDF file format.\"\n",
    "\n",
    "What does that mean?  NetCDF files are *self-describing* in the sense that they [include information about the data they contain](https://www.unidata.ucar.edu/software/netcdf/docs/faq.html).  When `Datasets` are created by loading a NetCDF file they load all of the same data and metadata.\n",
    "\n",
    "Just as a NetCDF file can contain many variables, a `Dataset` can contain many variables.  These variables are referred to as `Data Variables` in the `xarray` nomenclature.\n",
    "\n",
    "`Datasets` contain three main classes of fields:\n",
    "\n",
    "1. **Coordinates**   : arrays identifying the coordinates of the data variables\n",
    "2. **Data Variables**: the data variable arrays and their associated coordinates\n",
    "3. **Attributes**    : metadata describing the dataset\n",
    "\n",
    "Now that we've loaded `GRID.0003.nc` as the *ds* `Dataset` object let's examine its contents.  \n",
    "\n",
    "> **Note:** *You can get information about objects and their contents by typing the name of the variable and hitting **enter** in an interactive session of an IDE such as Spyder or by executing the cell of a Jupyter notebook.*\n",
    "\n"
   ]
  },
  {
   "cell_type": "code",
   "execution_count": 5,
   "metadata": {
    "scrolled": false
   },
   "outputs": [
    {
     "data": {
      "text/plain": [
       "<xarray.Dataset>\n",
       "Dimensions:    (i: 90, j: 90, k: 50, nv: 2)\n",
       "Coordinates:\n",
       "    XC         (j, i) float32 ...\n",
       "    YC         (j, i) float32 ...\n",
       "    rA         (j, i) float32 ...\n",
       "  * j          (j) int32 0 1 2 3 4 5 6 7 8 9 ... 80 81 82 83 84 85 86 87 88 89\n",
       "  * i          (i) int32 0 1 2 3 4 5 6 7 8 9 ... 80 81 82 83 84 85 86 87 88 89\n",
       "    hFacC      (k, j, i) float32 ...\n",
       "  * k          (k) int32 0 1 2 3 4 5 6 7 8 9 ... 40 41 42 43 44 45 46 47 48 49\n",
       "    Z          (k) float32 ...\n",
       "    PHrefC     (k) float32 ...\n",
       "    drF        (k) float32 ...\n",
       "    time_bnds  (nv) datetime64[ns] ...\n",
       "    tile       int32 ...\n",
       "    iter       int32 ...\n",
       "    time       datetime64[ns] ...\n",
       "Dimensions without coordinates: nv\n",
       "Data variables:\n",
       "    THETA      (k, j, i) float32 ...\n",
       "Attributes:\n",
       "    product_time_coverage_start:  1992-01-01T12:00:00\n",
       "    author:                       Ian Fenty and Ou Wang\n",
       "    Insitution:                   JPL\n",
       "    product_version:              ECCO Version 4 Release 3 (ECCOv4r3) 1992-2015\n",
       "    time_units:                   days since 1992-01-01 00:00:00\n",
       "    Conventions:                  CF-1.6\n",
       "    Project:                      Estimating the Circulation and Climate of t...\n",
       "    cdm_data_type:                Grid\n",
       "    geospatial_lon_units:         degrees_east\n",
       "    Metadata_Conventions:         CF-1.6, Unidata Dataset Discovery v1.0, GDS...\n",
       "    no_data:                      NaNf\n",
       "    geospatial_lat_units:         degrees_north\n",
       "    product_time_coverage_end:    2015-12-31T12:00:00\n",
       "    geospatial_vertical_min:      0\n",
       "    nz:                           50\n",
       "    geospatial_vertical_units:    meter\n",
       "    geospatial_vertical_max:      6134.5\n",
       "    date_created:                 Mon May 13 02:40:14 2019\n",
       "    geospatial_lat_max:           71.83288\n",
       "    geospatial_lat_min:           10.458642\n",
       "    nx:                           90\n",
       "    ny:                           90\n",
       "    geospatial_lon_max:           51.837925\n",
       "    geospatial_lon_min:           -37.837925\n",
       "    time_coverage_start:          2010-03-01T00:00:00\n",
       "    time_coverage_end:            2010-04-01T00:00:00"
      ]
     },
     "execution_count": 5,
     "metadata": {},
     "output_type": "execute_result"
    }
   ],
   "source": [
    "ds"
   ]
  },
  {
   "cell_type": "markdown",
   "metadata": {},
   "source": [
    "### Examining the Dataset object contents\n",
    "\n",
    "Let's go through *ds* piece by piece, starting from the top.\n",
    "\n",
    "#### 1. Object type\n",
    "`<xarray.Dataset>`\n",
    "\n",
    "The top line tells us what type of object the variable is.  *ds* is an instance of a`Dataset` defined in `xarray`.\n",
    "\n",
    "#### 2. Dimensions\n",
    "```Dimensions:   (i: 90, j: 90, k: 50, nv: 2)```\n",
    "\n",
    "The *Dimensions* list shows all of the different dimensions used by all of the different arrays stored in the NetCDF file (and now loaded in the `Dataset` object).\n",
    "  \n",
    "Arrays may use any combination of these dimensions.  In the case of this *grid* datasets, we find 1D (e.g., depth), 2D (e.g., lat/lon), and 3D (e.g., mask) arrays.\n",
    "  \n",
    "The names and lengths of the three dimensions is given by: ` (i: 90, j: 90, k: 50, nv: 2)`.  There are 50 vertical levels in the ECCO v4 model grid so the `k` corresponds to vertical dimension.  `i` and `j` correspond to the horizontal dimensions.\n",
    "\n",
    "> **Note:** Each tile in the llc90 grid used by ECCO v4 has 90x90 horizontal grid points.  That's where the 90 in llc**90** comes from!  \n",
    "\n",
    "#### 3. Coordinates\n",
    "\n",
    "Some coordinates have an asterix **\"\\*\"** in front of their names.  They are known as *dimension coordinates* and are always one-dimensional arrays of length $n$ which specify the length of arrays in the dataset in different dimensions.\n",
    "\n",
    "```\n",
    "Coordinates:\n",
    "  * j        (j) int32 0 1 2 3 4 5 6 7 8 9 10 ... 80 81 82 83 84 85 86 87 88 89\n",
    "  * i        (i) int32 0 1 2 3 4 5 6 7 8 9 10 ... 80 81 82 83 84 85 86 87 88 89\n",
    "  * k        (k) int32 0 1 2 3 4 5 6 7 8 9 10 ... 40 41 42 43 44 45 46 47 48 49\n",
    "``` \n",
    "  \n",
    "These [coordinates](http://xarray.pydata.org/en/stable/data-structures.html#coordinates) are arrays whose values *label* each grid cell in the arrays.  They are used for *label-based indexing* and *alignment*.\n",
    "\n",
    "Why are there two `i` coordinates? Let's find out?"
   ]
  },
  {
   "cell_type": "code",
   "execution_count": 6,
   "metadata": {
    "scrolled": false
   },
   "outputs": [
    {
     "name": "stdout",
     "output_type": "stream",
     "text": [
      "x-dimension of the t grid\n",
      "y-dimension of the t grid\n"
     ]
    }
   ],
   "source": [
    "print(ds.i.long_name)\n",
    "print(ds.j.long_name)"
   ]
  },
  {
   "cell_type": "markdown",
   "metadata": {},
   "source": [
    "`i` labels the tracer grid cells in the `x` direction and `j` labels the tracer grid cells in the `y` direction. \n",
    "\n",
    "Similarly `k` labels the tracer grid cells in the `z` direction."
   ]
  },
  {
   "cell_type": "markdown",
   "metadata": {},
   "source": [
    "#### 4. Data Variables\n",
    "```\n",
    "Data variables:\n",
    "    THETA      (k, j, i) float32 ...\n",
    "``` \n",
    "\n",
    "The *Data Variables* are one or more `xarray.DataArray` objects.  `DataArray` objects are labeled, multi-dimensional arrays that may also contain metadata (attributes).  `DataArray` objects are very important to understand because they are container objects which store the  numerical arrays of the state estimate fields.  We'll investigate these objects in more detail after completing our survey of this `Dataset`.\n",
    "\n",
    "In this netcdf file there is one *Data variables*, `THETA`, a three dimensional (**k,j,i**) field of average potential temperature.  \n",
    "  \n",
    "The 1D variables label the single **k** vertical dimension while **j** and **i** label the horizontal dimensions.  `THETA` is stored here as a 32 bit floating point precision.\n",
    "  \n",
    "> **Note:** The meaning of all MITgcm grid parameters can be found [here](https://mitgcm.readthedocs.io/en/latest/algorithm/horiz-grid.html).\n"
   ]
  },
  {
   "cell_type": "markdown",
   "metadata": {},
   "source": [
    "#### 5. Attributes\n",
    "```\n",
    "Attributes:\n",
    "    product_time_coverage_start:  1992-01-01T12:00:00\n",
    "    author:                       Ian Fenty and Ou Wang\n",
    "    Insitution:                   JPL\n",
    "    product_version:              ECCO Version 4 Release 3 (ECCOv4r3) 1992-2015\n",
    "    time_units:                   days since 1992-01-01 00:00:00\n",
    "    Conventions:                  CF-1.6\n",
    "    Project:                      Estimating the Circulation and Climate of t...\n",
    "    cdm_data_type:                Grid\n",
    "    geospatial_lon_units:         degrees_east\n",
    "    Metadata_Conventions:         CF-1.6, Unidata Dataset Discovery v1.0, GDS...\n",
    "    no_data:                      NaNf\n",
    "    geospatial_lat_units:         degrees_north\n",
    "    product_time_coverage_end:    2015-12-31T12:00:00\n",
    "    geospatial_vertical_min:      0\n",
    "    nz:                           50\n",
    "    geospatial_vertical_units:    meter\n",
    "    geospatial_vertical_max:      6134.5\n",
    "    date_created:                 Mon May 13 02:40:14 2019\n",
    "    geospatial_lat_max:           71.83288\n",
    "    geospatial_lat_min:           10.458642\n",
    "    nx:                           90\n",
    "    ny:                           90\n",
    "    geospatial_lon_max:           51.837925\n",
    "    geospatial_lon_min:           -37.837925\n",
    "    time_coverage_start:          2010-03-01T00:00:00\n",
    "    time_coverage_end:            2010-04-01T00:00:00\n",
    "```\n",
    "  \n",
    "The `attrs` variable is a Python [dictionary object](https://www.python-course.eu/dictionaries.php) containing metadata or any auxilliary information.\n",
    "  \n",
    "Metadata is presented as a set of dictionary `key-value` pairs.  Here the `keys` are *description, A, B,  ... missing_value.* while the `values` are the corresponding text and non-text values.  \n",
    "  \n",
    "To see the metadata `value` associated with the metadata `key` called \"Conventions\" we can print the value as follows:"
   ]
  },
  {
   "cell_type": "code",
   "execution_count": 7,
   "metadata": {},
   "outputs": [
    {
     "name": "stdout",
     "output_type": "stream",
     "text": [
      "CF-1.6\n"
     ]
    }
   ],
   "source": [
    "print ds.attrs['Conventions']"
   ]
  },
  {
   "cell_type": "markdown",
   "metadata": {},
   "source": [
    "\"CF-1.6\" tells us that ECCO NetCDF output conforms to the [**Climate and Forecast Conventions version 1.6**](http://cfconventions.org/).  How convenient.  "
   ]
  },
  {
   "cell_type": "markdown",
   "metadata": {},
   "source": [
    "### Map of the `Dataset` object\n",
    "\n",
    "Now that we've completed our survey, we see that a `Dataset` is a really a kind of *container* comprised of (actually pointing to) many other objects.  \n",
    "\n",
    "+ dims: A `dict` that maps dimension names (keys) with dimension lengths (values)\n",
    "+ coords: A `dict` that maps dimension names (keys such as **k, j, i**) with arrays that label each point in the dimension (values) \n",
    "+ One or more *Data Variables* that are pointers to `DataArray` objects \n",
    "+ attrs A `dict` that maps different attribute names (keys) with the attributes themselves (values).\n",
    "\n",
    "![Dataset-diagram](../figures/Dataset-diagram.png)"
   ]
  },
  {
   "cell_type": "markdown",
   "metadata": {},
   "source": [
    "## The `DataArray` Object\n",
    "\n",
    "It is worth looking at the `DataArray` object in more detail because `DataArrays` store the arrays that store the ECCO output.  Please see the [xarray documentation on the DataArray object](http://xarray.pydata.org/en/stable/data-structures.html#dataarray) for more information.\n",
    "\n",
    "`DataArrays` are actually very similar to `Datasets`.  They also contain dimensions, coordinates, and attributes.  The two main differences between `Datasets` and `DataArrays` is that `DataArrays` have a **name** (a string) and an array of **values**.  The **values** array is a [numpy n-dimensional array](https://docs.scipy.org/doc/numpy-1.13.0/reference/generated/numpy.array.html), an `ndarray`.\n",
    "\n",
    "### Examining the contents of a `DataArray` \n",
    "\n",
    "Let's examine the contents of one of the coordinates `DataArrays` found in *ds*, *XC*.  "
   ]
  },
  {
   "cell_type": "code",
   "execution_count": 8,
   "metadata": {},
   "outputs": [
    {
     "data": {
      "text/plain": [
       "<xarray.DataArray 'XC' (j: 90, i: 90)>\n",
       "array([[-37.5     , -36.5     , -35.5     , ...,  49.5     ,  50.5     ,\n",
       "         51.5     ],\n",
       "       [-37.5     , -36.5     , -35.5     , ...,  49.5     ,  50.5     ,\n",
       "         51.5     ],\n",
       "       [-37.5     , -36.5     , -35.5     , ...,  49.5     ,  50.5     ,\n",
       "         51.5     ],\n",
       "       ...,\n",
       "       [-37.730072, -37.17829 , -36.597565, ...,  50.597565,  51.17829 ,\n",
       "         51.730072],\n",
       "       [-37.771988, -37.291943, -36.764027, ...,  50.764027,  51.291943,\n",
       "         51.771988],\n",
       "       [-37.837925, -37.44421 , -36.968143, ...,  50.968143,  51.44421 ,\n",
       "         51.837925]], dtype=float32)\n",
       "Coordinates:\n",
       "    XC       (j, i) float32 -37.5 -36.5 -35.5 ... 50.968143 51.44421 51.837925\n",
       "    YC       (j, i) float32 ...\n",
       "    rA       (j, i) float32 ...\n",
       "  * j        (j) int32 0 1 2 3 4 5 6 7 8 9 10 ... 80 81 82 83 84 85 86 87 88 89\n",
       "  * i        (i) int32 0 1 2 3 4 5 6 7 8 9 10 ... 80 81 82 83 84 85 86 87 88 89\n",
       "    tile     int32 ...\n",
       "    iter     int32 ...\n",
       "    time     datetime64[ns] ...\n",
       "Attributes:\n",
       "    units:          degrees_east\n",
       "    long_name:      longitude at center of tracer cell\n",
       "    standard_name:  longitude_at_c_location\n",
       "    valid_range:    -180., 180."
      ]
     },
     "execution_count": 8,
     "metadata": {},
     "output_type": "execute_result"
    }
   ],
   "source": [
    "ds.XC"
   ]
  },
  {
   "cell_type": "markdown",
   "metadata": {},
   "source": [
    "### Examining the `DataArray`\n",
    "\n",
    "The layout of `DataArrays` is very similar to those of `Datasets`.  Let's examine each part of *ds.XC*, starting from the top.\n",
    "\n",
    "#### 1. Object type\n",
    "`<xarray.DataArray>`\n",
    "\n",
    "This is indeed a `DataArray` object from the `xarray` package.\n",
    "\n",
    "> Note: You can also find the type of an object with the `type` command: `print type(ds.XC)`"
   ]
  },
  {
   "cell_type": "code",
   "execution_count": 9,
   "metadata": {},
   "outputs": [
    {
     "name": "stdout",
     "output_type": "stream",
     "text": [
      "<class 'xarray.core.dataarray.DataArray'>\n"
     ]
    }
   ],
   "source": [
    "print type(ds.XC)"
   ]
  },
  {
   "cell_type": "markdown",
   "metadata": {},
   "source": [
    "#### 2. Object Name\n",
    "`XC`\n",
    "\n",
    "The top line shows `DataArray` name, `XC`."
   ]
  },
  {
   "cell_type": "markdown",
   "metadata": {},
   "source": [
    "#### 3. Dimensions\n",
    "`(j: 90, i: 90)`  \n",
    "\n",
    "Unlike *THETA*, *XC* only has two dimensions, **j** and **i**.  This makes sense since the longitude of the grid cell centers only vary with horizontal location and not depth."
   ]
  },
  {
   "cell_type": "markdown",
   "metadata": {},
   "source": [
    "#### 4. The `numpy` Array\n",
    "````\n",
    "array([[-37.5     , -36.5     , -35.5     , ...,  49.5     ,  50.5     ,\n",
    "         51.5     ],\n",
    "       [-37.5     , -36.5     , -35.5     , ...,  49.5     ,  50.5     ,\n",
    "         51.5     ],\n",
    "       [-37.5     , -36.5     , -35.5     , ...,  49.5     ,  50.5     ,\n",
    "         51.5     ],\n",
    "       ...,\n",
    "       [-37.730072, -37.17829 , -36.597565, ...,  50.597565,  51.17829 ,\n",
    "         51.730072],\n",
    "       [-37.771988, -37.291943, -36.764027, ...,  50.764027,  51.291943,\n",
    "         51.771988],\n",
    "       [-37.837925, -37.44421 , -36.968143, ...,  50.968143,  51.44421 ,\n",
    "         51.837925]], dtype=float32)\n",
    "````\n",
    "\n",
    "In `Dataset` objects there are *Data variables*.  In `DataArray` objects we find `numpy` **arrays**.  Python prints out a subset of the entire array.  \n",
    "\n",
    "> **Note**: `DataArrays` store **only one** array while `DataSets` can store **one or more** `DataArrays`.\n",
    "\n",
    "We access the `numpy` array by invoking the `.values` command on the `DataArray`."
   ]
  },
  {
   "cell_type": "code",
   "execution_count": 10,
   "metadata": {
    "scrolled": true
   },
   "outputs": [
    {
     "data": {
      "text/plain": [
       "array([[-37.5     , -36.5     , -35.5     , ...,  49.5     ,  50.5     ,\n",
       "         51.5     ],\n",
       "       [-37.5     , -36.5     , -35.5     , ...,  49.5     ,  50.5     ,\n",
       "         51.5     ],\n",
       "       [-37.5     , -36.5     , -35.5     , ...,  49.5     ,  50.5     ,\n",
       "         51.5     ],\n",
       "       ...,\n",
       "       [-37.730072, -37.17829 , -36.597565, ...,  50.597565,  51.17829 ,\n",
       "         51.730072],\n",
       "       [-37.771988, -37.291943, -36.764027, ...,  50.764027,  51.291943,\n",
       "         51.771988],\n",
       "       [-37.837925, -37.44421 , -36.968143, ...,  50.968143,  51.44421 ,\n",
       "         51.837925]], dtype=float32)"
      ]
     },
     "execution_count": 10,
     "metadata": {},
     "output_type": "execute_result"
    }
   ],
   "source": [
    "ds.XC.values"
   ]
  },
  {
   "cell_type": "markdown",
   "metadata": {},
   "source": [
    "The array that is returned is a numpy n-dimensional array:"
   ]
  },
  {
   "cell_type": "code",
   "execution_count": 11,
   "metadata": {
    "scrolled": true
   },
   "outputs": [
    {
     "data": {
      "text/plain": [
       "numpy.ndarray"
      ]
     },
     "execution_count": 11,
     "metadata": {},
     "output_type": "execute_result"
    }
   ],
   "source": [
    "type(ds.XC.values)"
   ]
  },
  {
   "cell_type": "markdown",
   "metadata": {},
   "source": [
    "Being a numpy array, one can use all of the numerical operations provided by the numpy module on it.\n",
    "\n",
    "\n",
    "> ** Note: ** You may find it useful to learn about the operations that can be made on numpy arrays. Here is a quickstart guide: \n",
    "https://docs.scipy.org/doc/numpy-dev/user/quickstart.html\n",
    "\n",
    "We'll learn more about how to access the values of this array in a later tutorial.  For now it is sufficient to know how to access the arrays!"
   ]
  },
  {
   "cell_type": "markdown",
   "metadata": {},
   "source": [
    "#### 4. Coordinates\n",
    "\n",
    "The dimensional coordinates (with the asterixes) are\n",
    "```\n",
    "Coordinates:\n",
    "  * j        (j) int32 0 1 2 3 4 5 6 7 8 9 10 ... 80 81 82 83 84 85 86 87 88 89\n",
    "  * i        (i) int32 0 1 2 3 4 5 6 7 8 9 10 ... 80 81 82 83 84 85 86 87 88 89\n",
    "```\n",
    "\n",
    "We find two 1D arrays with coordinate labels for **j** and **i**.\n",
    "\n",
    "There are also other coordinates, `XC`,`YC`, `rA`, `tile`, `iter`, and `time`.  `XC` is a coordinate of itself, which is a little weird.  "
   ]
  },
  {
   "cell_type": "code",
   "execution_count": 12,
   "metadata": {},
   "outputs": [
    {
     "data": {
      "text/plain": [
       "Coordinates:\n",
       "    XC       (j, i) float32 -37.5 -36.5 -35.5 ... 50.968143 51.44421 51.837925\n",
       "    YC       (j, i) float32 ...\n",
       "    rA       (j, i) float32 ...\n",
       "  * j        (j) int32 0 1 2 3 4 5 6 7 8 9 10 ... 80 81 82 83 84 85 86 87 88 89\n",
       "  * i        (i) int32 0 1 2 3 4 5 6 7 8 9 10 ... 80 81 82 83 84 85 86 87 88 89\n",
       "    tile     int32 ...\n",
       "    iter     int32 ...\n",
       "    time     datetime64[ns] ..."
      ]
     },
     "execution_count": 12,
     "metadata": {},
     "output_type": "execute_result"
    }
   ],
   "source": [
    "ds.XC.coords"
   ]
  },
  {
   "cell_type": "markdown",
   "metadata": {},
   "source": [
    "two other important coordinates here are `tile` and `time`"
   ]
  },
  {
   "cell_type": "code",
   "execution_count": 13,
   "metadata": {},
   "outputs": [
    {
     "name": "stdout",
     "output_type": "stream",
     "text": [
      "tile: \n",
      "2\n",
      "time: \n",
      "2010-03-16T12:00:00.000000000\n"
     ]
    }
   ],
   "source": [
    "print('tile: ')\n",
    "print(ds.tile.values)\n",
    "print('time: ')\n",
    "print (ds.time.values)"
   ]
  },
  {
   "cell_type": "markdown",
   "metadata": {},
   "source": [
    "The file we loaded was `THETA_1992_08_tile_02.nc`, the August 1992 monthly mean potential temperature field in tile 2.  Here the time coordinate is the center of the averaging period (August 16 1992 at 12:00)"
   ]
  },
  {
   "cell_type": "markdown",
   "metadata": {},
   "source": [
    "#### 5. Attributes\n",
    "```\n",
    "Attributes:\n",
    "    units:          degrees_east\n",
    "    long_name:      longitude at center of tracer cell\n",
    "    standard_name:  longitude_at_c_location\n",
    "    valid_range:    -180., 180.\n",
    "```\n",
    "\n",
    "The `XC` variable has a `long_name` (longitude at center of tracer cell) and units (degrees_east) and other information.  This metadata was loaded from the NetCDF file.  The entire attribute dictionary is accessed using `.attrs`."
   ]
  },
  {
   "cell_type": "code",
   "execution_count": 14,
   "metadata": {
    "scrolled": false
   },
   "outputs": [
    {
     "data": {
      "text/plain": [
       "OrderedDict([(u'units', u'degrees_east'),\n",
       "             (u'long_name', u'longitude at center of tracer cell'),\n",
       "             (u'standard_name', u'longitude_at_c_location'),\n",
       "             (u'valid_range', u'-180., 180.')])"
      ]
     },
     "execution_count": 14,
     "metadata": {},
     "output_type": "execute_result"
    }
   ],
   "source": [
    "ds.XC.attrs"
   ]
  },
  {
   "cell_type": "code",
   "execution_count": 15,
   "metadata": {
    "scrolled": true
   },
   "outputs": [
    {
     "data": {
      "text/plain": [
       "u'degrees_east'"
      ]
     },
     "execution_count": 15,
     "metadata": {},
     "output_type": "execute_result"
    }
   ],
   "source": [
    "ds.XC.attrs['units']"
   ]
  },
  {
   "cell_type": "code",
   "execution_count": 16,
   "metadata": {},
   "outputs": [
    {
     "data": {
      "text/plain": [
       "u'-180., 180.'"
      ]
     },
     "execution_count": 16,
     "metadata": {},
     "output_type": "execute_result"
    }
   ],
   "source": [
    "ds.XC.attrs['valid_range']"
   ]
  },
  {
   "cell_type": "markdown",
   "metadata": {},
   "source": [
    "### Map of the `DataArray` Object\n",
    "\n",
    "The `DataArray` can be mapped out with the following diagram:\n",
    "\n",
    "![DataArray-diagram](../figures/DataArray-diagram.png)"
   ]
  },
  {
   "cell_type": "markdown",
   "metadata": {},
   "source": [
    "## Summary\n",
    "\n",
    "Now you know the basics of the `Dataset` and `DataArray` objects that will store the ECCO v4 model grid parameters and state estimate output variables.  Go back and take a look athe grid $ds$ object that we originally loaded.  It should make a lot more sense now!"
   ]
  }
 ],
 "metadata": {
  "kernelspec": {
   "display_name": "Python 2",
   "language": "python",
   "name": "python2"
  },
  "language_info": {
   "codemirror_mode": {
    "name": "ipython",
    "version": 2
   },
   "file_extension": ".py",
   "mimetype": "text/x-python",
   "name": "python",
   "nbconvert_exporter": "python",
   "pygments_lexer": "ipython2",
   "version": "2.7.15"
  }
 },
 "nbformat": 4,
 "nbformat_minor": 2
}
