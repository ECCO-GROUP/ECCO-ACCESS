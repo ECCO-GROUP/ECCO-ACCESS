{
 "cells": [
  {
   "cell_type": "markdown",
   "metadata": {},
   "source": [
    "# The Dataset and DataArray objects used in the ECCOv4 Python package.\n",
    "\n",
    "## Objectives\n",
    "\n",
    "To introduce the two high-level data structures, `Dataset` and `DataArray`, that are used in by the ECCOv4 Python package to load and store the ECCO model grid parameters and state estimate variables\n",
    "\n",
    "## Introduction \n",
    "\n",
    "Because this is the first tutorial, we describe every step in detail.  Later tutorials will be less explicit about describing the basic operations required to begin working with the state estimate.\n",
    "\n",
    "Let's get started.\n",
    "\n",
    "## Import external packages and modules\n",
    "\n",
    "At the beginning of every Python program or interactive instance we need to import helpful non-core modules or packages.  Modules or packages that are loaded into the environment can be thought of as external code libraries and contain subroutines and/or data objects that provide useful functionality."
   ]
  },
  {
   "cell_type": "code",
   "execution_count": 1,
   "metadata": {
    "collapsed": true
   },
   "outputs": [],
   "source": [
    "# Matplotlib is a Python 2D plotting library which produces publication quality\n",
    "# figures in a variety of hardcopy formats and interactive environments across \n",
    "# platforms.\n",
    "# https://matplotlib.org/\n",
    "#\n",
    "# make all functions from the 'matplotlib.pylab' module available with the \n",
    "# prefix 'plt'\n",
    "import matplotlib.pylab as plt\n",
    "\n",
    "# NumPy is the fundamental package for scientific computing with Python. \n",
    "# It contains among other things:\n",
    "#    a powerful N-dimensional array object\n",
    "#    sophisticated (broadcasting) functions\n",
    "#    tools for integrating C/C++ and Fortran code\n",
    "#    useful linear algebra, Fourier transform, and random number capabilities\n",
    "# http://www.numpy.org/\n",
    "#\n",
    "# make all functions from the 'numpy' module available with the prefix 'np'\n",
    "import numpy as np\n",
    "\n",
    "# make all functions from the 'sys' module available with the prefix 'sys'\n",
    "import sys\n",
    "\n",
    "# xarray is an open source project and Python package that aims to bring the \n",
    "# labeled data power of pandas to the physical sciences, by providing\n",
    "# N-dimensional variants of the core pandas data structures.\n",
    "# Our approach adopts the Common Data Model for self- describing scientific \n",
    "# data in widespread use in the Earth sciences: xarray.Dataset is an in-memory\n",
    "# representation of a netCDF file.\n",
    "# http://xarray.pydata.org/en/stable/\n",
    "#\n",
    "# import all function from the 'xarray' module available with the prefix 'xr'\n",
    "import xarray as xr\n",
    "\n",
    "# The matplotlib basemap toolkit is a library for plotting 2D data on maps in\n",
    "# Python. ... Basemap is geared toward the needs of earth scientists, \n",
    "# particularly oceanographers and meteorologists. \n",
    "# https://matplotlib.org/basemap/index.html\n",
    "#\n",
    "# The 'copy' module provides generic ... copy operations.\"\n",
    "# \"Assignment statements in Python do not copy objects, they create \n",
    "# bindings [pointers] between a target and an object.\" \"... a copy is \n",
    "# sometimes needed so one can change one copy without changing the other.\"\n",
    "# https://docs.python.org/2/library/copy.html\n",
    "#\n",
    "# import the 'deepcopy' function from the 'copy' module\n",
    "from copy import deepcopy \n",
    "\n",
    "# Modules to display images in Jupyter notebooks:\n",
    "from IPython.display import Image\n",
    "from IPython.core.display import HTML "
   ]
  },
  {
   "cell_type": "markdown",
   "metadata": {},
   "source": [
    "### Load the ECCO Version 4 Python package\n",
    "\n",
    "The *ecco_v4_py* is a Python package written specifically for working with the NetCDF output provided in the [nctiles_monthly](ftp://ecco.jpl.nasa.gov/Version4/Release3/nctiles_monthly/) directory of the [ECCO v4 release](ftp://ecco.jpl.nasa.gov/Version4/Release3/)\n",
    "\n",
    "See the \"Getting Started\" page in the tutorial for instructions about installing the *ecco_v4_py* module on your machine."
   ]
  },
  {
   "cell_type": "code",
   "execution_count": 2,
   "metadata": {
    "collapsed": true
   },
   "outputs": [],
   "source": [
    "import ecco_v4_py as ecco"
   ]
  },
  {
   "cell_type": "markdown",
   "metadata": {},
   "source": [
    "The syntax *import X package as Y* allows you to access all of the subroutines and other objects in X by typing *Y.some_routine_in_X*.   Here, we import `ecco_v4_py` as `ecco` because it is less to type than *ecco_v4_py* and by doing so we can access many subroutines spread out over several modules within the *ecco_v4_py* package."
   ]
  },
  {
   "cell_type": "markdown",
   "metadata": {},
   "source": [
    "## Load a single NetCDF grid tile file\n",
    "\n",
    "To load ECCO v4's NetCDF files we will use the *open_dataset* command from the [xarray](http://xarray.pydata.org/en/stable/index.html) Python package.  *open_dataset* creates a **Dataset** object and loads the contents of the NetCDF file, including its metadata, into a data structure.    \n",
    "\n",
    "Let's open the model ``GRID`` parameter file for *tile 3* (North East Atlantic Ocean).\n",
    "\n"
   ]
  },
  {
   "cell_type": "code",
   "execution_count": 3,
   "metadata": {
    "collapsed": true
   },
   "outputs": [],
   "source": [
    "# Change `grid_dir` to match the location of your `nctiles_grid` directory.\n",
    "grid_dir='/Volumes/ECCO_BASE/ECCO_v4r3/nctiles_grid/'    \n",
    "\n",
    "fname = 'GRID.0003.nc'\n",
    "ds = xr.open_dataset(grid_dir + fname)"
   ]
  },
  {
   "cell_type": "code",
   "execution_count": 4,
   "metadata": {},
   "outputs": [
    {
     "data": {
      "text/plain": [
       "xarray.core.dataset.Dataset"
      ]
     },
     "execution_count": 4,
     "metadata": {},
     "output_type": "execute_result"
    }
   ],
   "source": [
    "type(ds)"
   ]
  },
  {
   "cell_type": "markdown",
   "metadata": {},
   "source": [
    "## The Dataset object \n",
    "\n",
    "According to the xarray documentation, a [Dataset](http://xarray.pydata.org/en/stable/generated/xarray.Dataset.html) is a \"Python object designed as an \"in-memory representation of the data model from the NetCDF file format.\"\n",
    "\n",
    "What does that mean?  NetCDF files are *self-describing* in the sense that they [include information about the data they contain](https://www.unidata.ucar.edu/software/netcdf/docs/faq.html).  When Dataset objects are created by loading a NetCDF file they contain all of the same data and metadata provided by the NetCDF file.\n",
    "\n",
    "Just as a NetCDF file can contain many variables, a `Dataset` object can contain many variables.  These variables are referred to as `Data Variables` in the `xarray` nomenclature.\n",
    "\n",
    "Dataset objects contain three main classes of fields:\n",
    "\n",
    "1. **Coordinates**   : indices and labels for all of the coordinates used by all data variables \n",
    "2. **Data Variables**: `DataArray` objects which contain numerical arrays, their coordinates, coordinate labels, and variable-specific metadata\n",
    "3. **Attributes**    : metadata \n",
    "\n",
    "Now that we've loaded `GRID.0003.nc` into the `ds` `Dataset` object, let's examine its contents.  \n",
    "  \n",
    "  > **Note:** *You can get information about objects and their contents by typing the name of the variable and hitting **enter** in an interactive session of an IDE such as Spyder or a Jupyter notebook.*"
   ]
  },
  {
   "cell_type": "code",
   "execution_count": 5,
   "metadata": {},
   "outputs": [
    {
     "data": {
      "text/plain": [
       "<xarray.Dataset>\n",
       "Dimensions:  (i1: 50, i2: 90, i3: 90)\n",
       "Coordinates:\n",
       "  * i1       (i1) float64 1.0 2.0 3.0 4.0 5.0 6.0 7.0 8.0 9.0 10.0 11.0 12.0 ...\n",
       "  * i2       (i2) float64 1.0 2.0 3.0 4.0 5.0 6.0 7.0 8.0 9.0 10.0 11.0 12.0 ...\n",
       "  * i3       (i3) float64 1.0 2.0 3.0 4.0 5.0 6.0 7.0 8.0 9.0 10.0 11.0 12.0 ...\n",
       "Data variables:\n",
       "    hFacC    (i1, i2, i3) float64 ...\n",
       "    hFacW    (i1, i2, i3) float64 ...\n",
       "    hFacS    (i1, i2, i3) float64 ...\n",
       "    XC       (i2, i3) float64 ...\n",
       "    YC       (i2, i3) float64 ...\n",
       "    XG       (i2, i3) float64 ...\n",
       "    YG       (i2, i3) float64 ...\n",
       "    RAC      (i2, i3) float64 ...\n",
       "    RAZ      (i2, i3) float64 ...\n",
       "    DXC      (i2, i3) float64 ...\n",
       "    DYC      (i2, i3) float64 ...\n",
       "    DXG      (i2, i3) float64 ...\n",
       "    DYG      (i2, i3) float64 ...\n",
       "    Depth    (i2, i3) float64 ...\n",
       "    AngleCS  (i2, i3) float64 ...\n",
       "    AngleSN  (i2, i3) float64 ...\n",
       "    RC       (i1) float64 ...\n",
       "    RF       (i1) float64 ...\n",
       "    DRC      (i1) float64 ...\n",
       "    DRF      (i1) float64 ...\n",
       "Attributes:\n",
       "    description:    C-grid parameters (see MITgcm documentation for details)....\n",
       "    A:              :Format      = native grid (nctiles w. 13 tiles)\n",
       "    B:              :source      = ECCO consortium (http://ecco-group.org/)\n",
       "    C:              :institution = JPL/UT/MIT/AER\n",
       "    D:              :history     = files revision history :\n",
       "    E:                                 04/20/2017: fill in geometry info for ...\n",
       "    F:                                 11/06/2016: third release of ECCO v4 (...\n",
       "    G:                             estimates revision history (from second re...\n",
       "    H:                                 employs bi-harmonic viscosity (enhance...\n",
       "    I:                                 sea-ice parameters, updated or novel o...\n",
       "    J:                                 GRACE OBP, Aquarius SSS, global mean s...\n",
       "    K:                                 time-series, extended and/or expanded ...\n",
       "    L:                                 revised weights including data and con...\n",
       "    M:                                 to account for grid-size variation and...\n",
       "    N:                                 separate time-mean and time-variable d...\n",
       "    O:                                 and controls, sea-ice costs, and initi...\n",
       "    P:                                 additional controls.\\n \n",
       "    Q:              :references  = Forget, G., J.-M. Campin, P. Heimbach, C. ...\n",
       "    R:                              and C. Wunsch, 2015: ECCO version 4: an i...\n",
       "    S:                              non-linear inverse modeling and global oc...\n",
       "    T:                              Geoscientific Model Development, 8, 3071-...\n",
       "    U:                             Forget, G., J.-M. Campin, P. Heimbach, C. ...\n",
       "    V:                              ECCO version 4: Second Release, 2016, htt...\n",
       "    W:              file created using gcmfaces_IO/write2nctiles.m\n",
       "    date:           21-Apr-2017\n",
       "    Conventions:    CF-1.6\n",
       "    _FillValue:     nan\n",
       "    missing_value:  nan"
      ]
     },
     "execution_count": 5,
     "metadata": {},
     "output_type": "execute_result"
    }
   ],
   "source": [
    "ds"
   ]
  },
  {
   "cell_type": "markdown",
   "metadata": {},
   "source": [
    "### Examining the Dataset object contents\n",
    "\n",
    "Let's go through `ds` piece by piece, starting from the top.\n",
    "\n",
    "#### 1. Object type\n",
    "`<xarray.Dataset>`  \n",
    "\n",
    "The top line tells us what type of object the variable is.  In this case  `ds` is an instance of the `Dataset` object from the `xarray` package.\n",
    "\n",
    "#### 2. Dimensions\n",
    "`Dimensions:  (i1: 50, i2: 90, i3: 90)`  \n",
    "\n",
    "The *Dimensions* list shows all of the different dimensions used by all of the different arrays stored in the NetCDF file (and now loaded in the `Dataset` object.)\n",
    "  \n",
    "Arrays may use any combination of these dimensions.  In the case of the NetCDF ECCO grid file that we've loaded, there are 1D, 2D, and 3D arrays.\n",
    "  \n",
    "The names and lengths of the three dimensions is given by: `(i1: 50, i2: 90, i3: 90)`.  There are 50 vertical levels in the ECCO v4 model grid so the `i1` obviously corresponds to the vertical dimension while `i2`| and `i3` correspond to the horizontal dimensions.\n",
    "\n",
    "> **Note:** Each tile in the llc90 grid used by ECCO v4 has 90x90 horizontal grid points.  That's where the \"90: in llc**90** comes from!  \n",
    "\n",
    "#### 3. Coordinates\n",
    "```\n",
    "Coordinates:\n",
    "    i1       (i1) float64 1.0 2.0 3.0 4.0 5.0 6.0 7.0 8.0 9.0 10.0 11.0 12.0 ...\n",
    "    i2       (i2) float64 1.0 2.0 3.0 4.0 5.0 6.0 7.0 8.0 9.0 10.0 11.0 12.0 ...\n",
    "    i3       (i3) float64 1.0 2.0 3.0 4.0 5.0 6.0 7.0 8.0 9.0 10.0 11.0 12.0 ... \n",
    "``` \n",
    "  \n",
    "**i1**, **i2**, and **i3** are the [coordinates](http://xarray.pydata.org/en/stable/data-structures.html#coordinates), which are Python dictionaries of arrays whose values *label* each point.  They are used for label-based indexing and alignment.\n",
    "\n",
    "In this case, the *coordinates* of each dimension consist of *labels* $[1, 2, ... n]$, where $n$ is the length of the dimension:\n",
    "  \n",
    "  + Dim **i1**: `array([  1.,   2., ..., 50.])`\n",
    "  + Dim **i2** and **i3**: `array([  1.,   2., ..., 90.])`\n",
    "  \n",
    "> **Note:** Actually these coordinates are **Dimension coordinates** which are one dimensional coordinates (marked by an asterix **\"\\*\"** when printing a dataset or data array).  Don't worry what that means for now, we'll return to the topic in a later tutorial.\n",
    "\n",
    "#### 4. Data Variables\n",
    "```\n",
    "Data variables:\n",
    "    hFacC    (i1, i2, i3) float64 ...\n",
    "    hFacW    (i1, i2, i3) float64 ...\n",
    "    hFacS    (i1, i2, i3) float64 ...\n",
    "    ...\n",
    "    XC       (i2, i3) float64 ...\n",
    "    YC       (i2, i3) float64 ...\n",
    "    ...\n",
    "    RC       (i1) float64 ...\n",
    "    RF       (i1) float64 ...\n",
    "```\n",
    "\n",
    "The `Data Variables` are one or more `xarray.DataArray` objects.  `DataArray` objects are labeled, multi-dimensional arrays that may also contain metadata (attributes).  `DataArray` objects are very important to understand because they are container objects that containing the actual numerical arrays for the different ECCO variables.  We'll investigate these objects in more detail after finishing with the `Dataset` object.\n",
    "\n",
    "A subset of all `Data variables` in `ds` are shown above to demonstrate that in this NetCDF grid file there are variables with three different dimension combinations: 3D with  dimensions (**i1**, **i2**, **i3**), 2D with dimensions (**i2**, **i3**), and 1D with  dimensions (**i1**)\n",
    "  \n",
    "Here, the 1D variables only have values in the **i1** (vertical) dimension, the 2D variables only have values in the **i2** and **i3** (horizontal) dimensions, and the 3D variables have values in all three dimensions.  All of these variables are of type 64 bit float.\n",
    "  \n",
    "> **Note:** All ECCO v4 NetCDF grid files include a number of grid parameters.  Of these, 3 are 3D, 13 are 2D, and 4 are 1D.  The 3D grid parameters vary with horizontal location and depth (e.g., **hFacC**, the vertical fraction of a grid cell of the Arakawa-C grid tracer 'c' point).  The 2D grid parameters only vary with horizontal location and are therefore independent of depth (e.g., **XC** the longitude of the tracer 'c' point).  The 1D grid parameters only vary with depth and are therefore independent of horizontal location (e.g., **RF** the height of a tracer 'c' grid cell).  The meaning of all MITgcm grid parameters is described in section [2.10.5 of the MITgcm documentation](http://mitgcm.org/sealion/online_documents/node47.html).\n",
    "\n",
    "#### 5. Attributes\n",
    "```\n",
    "Attributes:\n",
    "    description:    C-grid parameters (see MITgcm documentation for details)....\n",
    "    A:              :Format      = native grid (nctiles w. 13 tiles)\n",
    "    B:              :source      = ECCO consortium (http://ecco-group.org/)\n",
    "    C:              :institution = JPL/UT/MIT/AER\n",
    "    D:              :history     = files revision history :\n",
    "    E:                                 04/20/2017: fill in geometry info for ...\n",
    "    F:                                 11/06/2016: third release of ECCO v4 (...\n",
    "    ...\n",
    "    W:              file created using gcmfaces_IO/write2nctiles.m\n",
    "    date:           21-Apr-2017\n",
    "    Conventions:    CF-1.6\n",
    "    _FillValue:     nan\n",
    "    missing_value:  nan\n",
    "```\n",
    "  \n",
    "The `attrs` variable is a Python [dictionary object](https://www.python-course.eu/dictionaries.php) containing metadata or any auxilliary information.\n",
    "  \n",
    "Metadata is presented as a set of dictionary `key-value` pairs.  Here the `keys` are *description, A, B,  ... missing_value.* while the `values` are the corresponding text and non-text values.  \n",
    "  \n",
    "To see the metadata `value` associated with the metadata \"Conventions\" `key` we type:"
   ]
  },
  {
   "cell_type": "code",
   "execution_count": 6,
   "metadata": {},
   "outputs": [
    {
     "name": "stdout",
     "output_type": "stream",
     "text": [
      "CF-1.6\n"
     ]
    }
   ],
   "source": [
    "print ds.attrs['Conventions']"
   ]
  },
  {
   "cell_type": "markdown",
   "metadata": {},
   "source": [
    "  The resulting \"CF-1.6\" tells us that ECCO NetCDF output conforms to the [**Climate and Forecast Conventions version 1.6**](http://cfconventions.org/).\n",
    "  "
   ]
  },
  {
   "cell_type": "markdown",
   "metadata": {},
   "source": [
    "### Map of the `Dataset` object\n",
    "\n",
    "Taking a big step back we can now imagine the `Dataset` object using the following diagram:\n",
    "\n",
    "We see that a `Dataset` is a really *container* comprised of (actually pointing to) a set of other objects.  \n",
    "\n",
    "+ dims: A `dict` that maps dimension names with dimension lengths\n",
    "+ coords: A `dict` that maps dimension names (e.g,. **i1**, **i2**, **i3**) with arrays that label each point in the dimension \n",
    "+ One or more `Data Variables` that are pointers to `DataArray` objects \n",
    "+ attrs A `dict` that maps different attribute names with the attributes themselves.\n",
    "\n",
    "![DataArray-diagram](../figures/Dataset-diagram.png)"
   ]
  },
  {
   "cell_type": "markdown",
   "metadata": {},
   "source": [
    "## The DataArray Object\n",
    "\n",
    "It is worth looking at the `DataArray` object in more detail because these containers actually store the arrays that we will be using when analyzing ECCO output.  Please see the [xarray documentation on the DataArray object](http://xarray.pydata.org/en/stable/data-structures.html#dataarray) for more information.\n",
    "\n",
    "`DataArray` objects are actually very similar to `Dataset` objects.  Like `Dataset` objects they also contain dimensions, coordinates, and attributes.  The biggest difference is that they have a **name**, a string that identifies the name of the variable, and an array of **values**.  The **values** array is a [numpy array](https://docs.scipy.org/doc/numpy-1.13.0/reference/generated/numpy.array.html).\n",
    "\n",
    "### Examining the `DataArray Object` contents\n",
    "\n",
    "Let's examine the contents of one `DataArray` found in `ds`, `XC`:"
   ]
  },
  {
   "cell_type": "code",
   "execution_count": 7,
   "metadata": {},
   "outputs": [
    {
     "data": {
      "text/plain": [
       "<xarray.DataArray 'XC' (i2: 90, i3: 90)>\n",
       "array([[-37.5     , -36.5     , -35.5     , ...,  49.5     ,  50.5     ,  51.5     ],\n",
       "       [-37.5     , -36.5     , -35.5     , ...,  49.5     ,  50.5     ,  51.5     ],\n",
       "       [-37.5     , -36.5     , -35.5     , ...,  49.5     ,  50.5     ,  51.5     ],\n",
       "       ..., \n",
       "       [-37.730072, -37.178291, -36.597565, ...,  50.597565,  51.178291,\n",
       "         51.730072],\n",
       "       [-37.771988, -37.291943, -36.764027, ...,  50.764027,  51.291943,\n",
       "         51.771988],\n",
       "       [-37.837925, -37.44421 , -36.968143, ...,  50.968143,  51.44421 ,\n",
       "         51.837925]])\n",
       "Coordinates:\n",
       "  * i2       (i2) float64 1.0 2.0 3.0 4.0 5.0 6.0 7.0 8.0 9.0 10.0 11.0 12.0 ...\n",
       "  * i3       (i3) float64 1.0 2.0 3.0 4.0 5.0 6.0 7.0 8.0 9.0 10.0 11.0 12.0 ...\n",
       "Attributes:\n",
       "    long_name:  longitude\n",
       "    units:      degrees_east"
      ]
     },
     "execution_count": 7,
     "metadata": {},
     "output_type": "execute_result"
    }
   ],
   "source": [
    "ds.XC"
   ]
  },
  {
   "cell_type": "markdown",
   "metadata": {},
   "source": [
    "### Examining the `DataArray`\n",
    "\n",
    "Fortunately, the layout of `DataArrays` is similar to that of `Datasets`.  Let's take acloser look at each element of `ds.XC`, starting from the top.\n",
    "\n",
    "#### 1. Object type\n",
    "`<xarray.DataArray>`\n",
    "\n",
    "This is indeed a `DataArray` object from the `xarray` package.\n",
    "\n",
    "> Note: You can also find the type of an object with the `type` command: `print type(ds.XC)`"
   ]
  },
  {
   "cell_type": "markdown",
   "metadata": {},
   "source": [
    "#### 2. Object Name\n",
    "`XC`\n",
    "\n",
    "The top line also tells the name of this `DataArray`, `XC`.\n",
    "\n",
    "#### 3. Dimensions\n",
    "`Dimensions:  (i2: 90, i3: 90)`  \n",
    "\n",
    "Unlike `ds`, `XC` only has two dimensions, **i2** and **i3**.  This makes sense since the longitude of the grid cell centers only vary with horizontal location and not depth.\n",
    "\n",
    "#### 4. Array\n",
    "````\n",
    "array([[-37.5     , -36.5     , -35.5     , ...,  49.5     ,  50.5     ,  51.5     ],\n",
    "       [-37.5     , -36.5     , -35.5     , ...,  49.5     ,  50.5     ,  51.5     ],\n",
    "       [-37.5     , -36.5     , -35.5     , ...,  49.5     ,  50.5     ,  51.5     ],\n",
    "       ..., \n",
    "       [-37.730072, -37.178291, -36.597565, ...,  50.597565,  51.178291,\n",
    "         51.730072],\n",
    "       [-37.771988, -37.291943, -36.764027, ...,  50.764027,  51.291943,\n",
    "         51.771988],\n",
    "       [-37.837925, -37.44421 , -36.968143, ...,  50.968143,  51.44421 ,\n",
    "         51.837925]])\n",
    "````\n",
    "\n",
    "Unlike the `Dataset` object there are no *Data variables*.   Instead, we find an **array** of values.  Python prints out a small subset of the entire array.\n",
    "\n",
    "`DataArrays`  store **only one** array while `DataSets` store one or more `DataArrays`.\n",
    "\n",
    "#### 4. Coordinates\n",
    "```\n",
    "Coordinates:\n",
    "  i2       (i2) float64 1.0 2.0 3.0 4.0 5.0 6.0 7.0 8.0 9.0 10.0 11.0 12.0 ...\n",
    "  i3       (i3) float64 1.0 2.0 3.0 4.0 5.0 6.0 7.0 8.0 9.0 10.0 11.0 12.0 ...\n",
    "```\n",
    "\n",
    "We find two 1D arrays with coordinate labels for **i2** and **i3**.\n",
    "\n",
    "#### 5. Attributes\n",
    "```\n",
    "Attributes:\n",
    "    long_name:  longitude\n",
    "    units:      degrees_east\n",
    "```\n",
    "\n",
    "The `XC` variable has a `long_name` (longitude) and units (degrees_east).  This metadata was loaded from the NetCDF file."
   ]
  },
  {
   "cell_type": "markdown",
   "metadata": {},
   "source": [
    "### Accessing the numpy array stored in `DataArrays`\n",
    "\n",
    "To access the `numpy` array storing the values of the variable in the `DataArray` object we access its `values` field as follows,"
   ]
  },
  {
   "cell_type": "code",
   "execution_count": 8,
   "metadata": {},
   "outputs": [
    {
     "data": {
      "text/plain": [
       "array([[-37.5       , -36.5       , -35.5       , ...,  49.5       ,\n",
       "         50.5       ,  51.5       ],\n",
       "       [-37.5       , -36.5       , -35.5       , ...,  49.5       ,\n",
       "         50.5       ,  51.5       ],\n",
       "       [-37.5       , -36.5       , -35.5       , ...,  49.5       ,\n",
       "         50.5       ,  51.5       ],\n",
       "       ..., \n",
       "       [-37.73007202, -37.17829132, -36.5975647 , ...,  50.5975647 ,\n",
       "         51.17829132,  51.73007202],\n",
       "       [-37.77198792, -37.2919426 , -36.76402664, ...,  50.76402664,\n",
       "         51.2919426 ,  51.77198792],\n",
       "       [-37.83792496, -37.44421005, -36.96814346, ...,  50.96814346,\n",
       "         51.44421005,  51.83792496]])"
      ]
     },
     "execution_count": 8,
     "metadata": {},
     "output_type": "execute_result"
    }
   ],
   "source": [
    "ds.XC.values"
   ]
  },
  {
   "cell_type": "markdown",
   "metadata": {},
   "source": [
    "The array that is returned is a numpy n-dimensional array:"
   ]
  },
  {
   "cell_type": "code",
   "execution_count": 9,
   "metadata": {},
   "outputs": [
    {
     "data": {
      "text/plain": [
       "numpy.ndarray"
      ]
     },
     "execution_count": 9,
     "metadata": {},
     "output_type": "execute_result"
    }
   ],
   "source": [
    "type(ds.XC.values)"
   ]
  },
  {
   "cell_type": "markdown",
   "metadata": {},
   "source": [
    "Being a numpy array, one can use all of the numerical operations provided by the numpy module on it.\n",
    "> ** Note: ** You may find it useful to learn about the operations that can be made on numpy arrays. Here is a quickstart guide: \n",
    "https://docs.scipy.org/doc/numpy-dev/user/quickstart.html\n",
    "\n",
    "We'll learn more about how to access the values of this array in a later tutorial.  For now it is sufficient to know where to find the arrays!\n",
    "\n",
    "### Map of the `DataArray` Object\n",
    "\n",
    "The layout of `DataArray` objects can be visualized as follows:\n",
    "\n",
    "![DataArray-diagram](../figures/DataArray-diagram.png)"
   ]
  },
  {
   "cell_type": "markdown",
   "metadata": {},
   "source": [
    "## Conclusion\n",
    "\n",
    "Now you know the basics of the `Datasets` and `DataArrays` that will store the ECCO v4 model grid parameters and state estimate output variables.  Now that you are oriented, go back and take another look at the contents of the grid `ds` object that we originally loaded.  It should make a lot more sense now!"
   ]
  }
 ],
 "metadata": {
  "kernelspec": {
   "display_name": "Python 2",
   "language": "python",
   "name": "python2"
  },
  "language_info": {
   "codemirror_mode": {
    "name": "ipython",
    "version": 2
   },
   "file_extension": ".py",
   "mimetype": "text/x-python",
   "name": "python",
   "nbconvert_exporter": "python",
   "pygments_lexer": "ipython2",
   "version": "2.7.14"
  }
 },
 "nbformat": 4,
 "nbformat_minor": 2
}
