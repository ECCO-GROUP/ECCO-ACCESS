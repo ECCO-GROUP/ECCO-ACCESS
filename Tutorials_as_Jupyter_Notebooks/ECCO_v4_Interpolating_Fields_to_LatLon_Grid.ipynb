{
 "cells": [
  {
   "cell_type": "markdown",
   "metadata": {},
   "source": [
    "# Interpolating fields from the model llc grid to a regular lat lon grid"
   ]
  },
  {
   "cell_type": "markdown",
   "metadata": {},
   "source": [
    "\n",
    "## Objectives\n",
    "\n",
    "1. Learn how to interpolate scalar and vector fields from ECCOv4's lat-lon-cap 90 (llc90) model grid to the more common regular latitude-longitude grid.  \n",
    "\n",
    "2. Learn how to save these interpolated fields as netCDF for later analysis \n",
    "\n",
    "## Introduction\n",
    "\n",
    "Recall the orientations of the 13 tiles of the ECCOv4 native llc90 model grid.\n",
    "\n",
    "![llc90 tile layout](../figures/llc90_0.png)\n",
    "\n",
    "Tiles 7-12 are rotated 90 degrees counter-clockwise relative to tiles 0-5.\n",
    "\n",
    "In this tutorial we demonstrate two methods for mapping scalar and vector fields from the llc90 model grid to \"regular\" latitude-longitude grids of arbitrary resolution.  \n",
    "\n",
    "> **Note:**  *There are many methods on can use to map between the grids (e.g., nearest neighbor, bilinear interpolation, bin-averaging, etc.), each with its own advantages.)*\n",
    "\n",
    "In this tutorial we'll use the ECCO grid file and monthly SSH and wind stress from the year 2000. The `ecco_access` library used in the notebook will handle download or retrieval of the necessary data, if you have set the library up [in your Python path](https://ecco-v4-python-tutorial.readthedocs.io/ECCO_access_intro.html#Setting-up-ecco_access). The ShortNames of the datasets are:\n",
    "\n",
    "- **ECCO_L4_GEOMETRY_LLC0090GRID_V4R4**\n",
    "- **ECCO_L4_SSH_LLC0090GRID_MONTHLY_V4R4**\n",
    "- **ECCO_L4_STRESS_LLC0090GRID_MONTHLY_V4R4**\n",
    "\n",
    "\n",
    "## How to interpolate scalar ECCO fields to a lat-lon grid\n",
    "\n",
    "Scalar fields are the most straightforward fields to interpolate.\n",
    "\n",
    "### Preliminaries: Load fields\n",
    "\n",
    "First, let's load the all 13 tiles for sea surface height and the model grid parameters."
   ]
  },
  {
   "cell_type": "code",
   "execution_count": 1,
   "metadata": {},
   "outputs": [],
   "source": [
    "import numpy as np\n",
    "import sys\n",
    "import xarray as xr\n",
    "import matplotlib.pyplot as plt\n",
    "%matplotlib inline\n",
    "import glob\n",
    "import warnings\n",
    "warnings.filterwarnings('ignore')\n",
    "from pprint import pprint\n",
    "import importlib\n",
    "\n",
    "import ecco_access as ea\n",
    "\n",
    "# indicate mode of access\n",
    "# options are:\n",
    "# 'download': direct download from internet to your local machine\n",
    "# 'download_ifspace': like download, but only proceeds \n",
    "#                     if your machine have sufficient storage\n",
    "# 's3_open': access datasets in-cloud from an AWS instance\n",
    "# 's3_open_fsspec': use jsons generated with fsspec and \n",
    "#                   kerchunk libraries to speed up in-cloud access\n",
    "# 's3_get': direct download from S3 in-cloud to an AWS instance\n",
    "# 's3_get_ifspace': like s3_get, but only proceeds if your instance \n",
    "#                   has sufficient storage\n",
    "access_mode = 'download_ifspace'"
   ]
  },
  {
   "cell_type": "code",
   "execution_count": 2,
   "metadata": {},
   "outputs": [],
   "source": [
    "## Import the ecco_v4_py library into Python\n",
    "## =========================================\n",
    "##    If ecco_v4_py is not installed in your local Python library, \n",
    "##    tell Python where to find it.  The example below adds\n",
    "##    ecco_v4_py to the user's path if it is stored in the folder\n",
    "##    ECCOv4-py under the user's home directory\n",
    "\n",
    "from os.path import join,expanduser\n",
    "user_home_dir = expanduser('~')\n",
    "\n",
    "sys.path.append(join(user_home_dir,'ECCOv4-py'))\n",
    "\n",
    "import ecco_v4_py as ecco"
   ]
  },
  {
   "cell_type": "code",
   "execution_count": 3,
   "metadata": {},
   "outputs": [],
   "source": [
    "## Set top-level file directory for the ECCO NetCDF files\n",
    "## =================================================================\n",
    "\n",
    "## currently set to /Downloads/ECCO_V4r4_PODAAC\n",
    "ECCO_dir = join(user_home_dir,'Downloads','ECCO_V4r4_PODAAC')\n",
    "\n",
    "# # for access_mode = 's3_open_fsspec', need to specify the root directory \n",
    "# # containing the jsons\n",
    "# jsons_root_dir = join('/efs_ecco','mzz-jsons')"
   ]
  },
  {
   "cell_type": "code",
   "execution_count": 4,
   "metadata": {},
   "outputs": [
    {
     "name": "stdout",
     "output_type": "stream",
     "text": [
      "Size of files to be downloaded to instance is 0.14100000000000001 GB,\n",
      "which is 0.1% of the 141.75900000000001 GB available storage.\n",
      "Proceeding with file downloads via NASA Earthdata URLs\n",
      "DL Progress: 100%|###########################| 1/1 [00:02<00:00,  2.02s/it]\n",
      "\n",
      "=====================================\n",
      "total downloaded: 8.57 Mb\n",
      "avg download speed: 4.24 Mb/s\n",
      "Time spent = 2.0199971199035645 seconds\n",
      "\n",
      "\n",
      "DL Progress: 100%|#########################| 12/12 [00:04<00:00,  2.69it/s]\n",
      "\n",
      "=====================================\n",
      "total downloaded: 71.01 Mb\n",
      "avg download speed: 15.85 Mb/s\n",
      "Time spent = 4.47935152053833 seconds\n",
      "\n",
      "\n",
      "DL Progress: 100%|#########################| 12/12 [00:06<00:00,  1.99it/s]\n",
      "\n",
      "=====================================\n",
      "total downloaded: 71.55 Mb\n",
      "avg download speed: 11.83 Mb/s\n",
      "Time spent = 6.0458807945251465 seconds\n",
      "\n",
      "\n"
     ]
    }
   ],
   "source": [
    "## Access datasets needed for this tutorial\n",
    "\n",
    "ShortNames_list = [\"ECCO_L4_GEOMETRY_LLC0090GRID_V4R4\",\\\n",
    "                   \"ECCO_L4_SSH_LLC0090GRID_MONTHLY_V4R4\",\\\n",
    "                   \"ECCO_L4_STRESS_LLC0090GRID_MONTHLY_V4R4\"]\n",
    "\n",
    "ds_dict = ea.ecco_podaac_access(ShortNames_list,\\\n",
    "                                              StartDate='2000-01',EndDate='2000-12',\\\n",
    "                                              download_root_dir=ECCO_dir,\\\n",
    "                                              max_avail_frac=0.5)"
   ]
  },
  {
   "cell_type": "code",
   "execution_count": 5,
   "metadata": {
    "scrolled": true
   },
   "outputs": [],
   "source": [
    "## Load the model grid\n",
    "ecco_grid = ds_dict[ShortNames_list[0]].compute()"
   ]
  },
  {
   "cell_type": "code",
   "execution_count": 6,
   "metadata": {
    "scrolled": true
   },
   "outputs": [
    {
     "name": "stdout",
     "output_type": "stream",
     "text": [
      "Data variables:\n",
      "    CS        (tile, j, i) float32 421kB 0.06158 0.06675 ... -0.9854 -0.9984\n",
      "    SN        (tile, j, i) float32 421kB -0.9981 -0.9978 ... -0.1705 -0.05718\n",
      "    rA        (tile, j, i) float32 421kB 3.623e+08 3.633e+08 ... 3.611e+08\n",
      "    dxG       (tile, j_g, i) float32 421kB 1.558e+04 1.559e+04 ... 2.314e+04\n",
      "    dyG       (tile, j, i_g) float32 421kB 2.321e+04 2.327e+04 ... 1.558e+04\n",
      "    Depth     (tile, j, i) float32 421kB 0.0 0.0 0.0 0.0 0.0 ... 0.0 0.0 0.0 0.0\n",
      "    rAz       (tile, j_g, i_g) float32 421kB 1.799e+08 1.805e+08 ... 3.642e+08\n",
      "    dxC       (tile, j, i_g) float32 421kB 1.558e+04 1.559e+04 ... 2.341e+04\n",
      "    dyC       (tile, j_g, i) float32 421kB 1.156e+04 1.159e+04 ... 1.558e+04\n",
      "    rAw       (tile, j, i_g) float32 421kB 3.617e+08 3.628e+08 ... 3.648e+08\n",
      "    rAs       (tile, j_g, i) float32 421kB 1.802e+08 1.807e+08 ... 3.605e+08\n",
      "    drC       (k_p1) float32 204B 5.0 10.0 10.0 10.0 ... 399.0 422.0 445.0 228.2\n",
      "    drF       (k) float32 200B 10.0 10.0 10.0 10.0 ... 387.5 410.5 433.5 456.5\n",
      "    PHrefC    (k) float32 200B 49.05 147.1 245.2 ... 5.357e+04 5.794e+04\n",
      "    PHrefF    (k_p1) float32 204B 0.0 98.1 196.2 ... 5.57e+04 6.018e+04\n",
      "    hFacC     (k, tile, j, i) float32 21MB 0.0 0.0 0.0 0.0 ... 0.0 0.0 0.0 0.0\n",
      "    hFacW     (k, tile, j, i_g) float32 21MB 0.0 0.0 0.0 0.0 ... 0.0 0.0 0.0 0.0\n",
      "    hFacS     (k, tile, j_g, i) float32 21MB 0.0 0.0 0.0 0.0 ... 0.0 0.0 0.0 0.0\n",
      "    maskC     (k, tile, j, i) bool 5MB False False False ... False False False\n",
      "    maskW     (k, tile, j, i_g) bool 5MB False False False ... False False False\n",
      "    maskS     (k, tile, j_g, i) bool 5MB False False False ... False False False\n",
      "    SSH       (time, tile, j, i) float32 421kB nan nan nan nan ... nan nan nan\n",
      "    SSHIBC    (time, tile, j, i) float32 421kB nan nan nan nan ... nan nan nan\n",
      "    SSHNOIBC  (time, tile, j, i) float32 421kB nan nan nan nan ... nan nan nan\n",
      "    ETAN      (time, tile, j, i) float32 421kB nan nan nan nan ... nan nan nan\n"
     ]
    }
   ],
   "source": [
    "## Load monthly SSH from 2000\n",
    "\n",
    "ecco_vars = ds_dict[ShortNames_list[1]]\n",
    "\n",
    "## Merge the ecco_grid with the ecco_vars to make the ecco_ds\n",
    "ecco_ds = xr.merge((ecco_grid , ecco_vars)).compute()\n",
    "\n",
    "pprint(ecco_ds.data_vars)"
   ]
  },
  {
   "cell_type": "markdown",
   "metadata": {},
   "source": [
    "### Plotting the dataset\n",
    "\n",
    "Plotting the ECCOv4 fields was covered in an earlier tutorial.  Before demonstrating interpolation, we will first plot one of our SSH fields. Take a closer look at the arguments of ``plot_proj_to_latlon_grid``, ``dx=2`` and ``dy=2``."
   ]
  },
  {
   "cell_type": "code",
   "execution_count": 7,
   "metadata": {},
   "outputs": [
    {
     "ename": "IndexError",
     "evalue": "index 1 is out of bounds for axis 0 with size 1",
     "output_type": "error",
     "traceback": [
      "\u001b[0;31m---------------------------------------------------------------------------\u001b[0m",
      "\u001b[0;31mIndexError\u001b[0m                                Traceback (most recent call last)",
      "Cell \u001b[0;32mIn[7], line 3\u001b[0m\n\u001b[1;32m      1\u001b[0m plt\u001b[38;5;241m.\u001b[39mfigure(figsize\u001b[38;5;241m=\u001b[39m(\u001b[38;5;241m12\u001b[39m,\u001b[38;5;241m6\u001b[39m), dpi\u001b[38;5;241m=\u001b[39m \u001b[38;5;241m90\u001b[39m)\n\u001b[0;32m----> 3\u001b[0m tmp_plt \u001b[38;5;241m=\u001b[39m \u001b[43mecco_ds\u001b[49m\u001b[38;5;241;43m.\u001b[39;49m\u001b[43mSSH\u001b[49m\u001b[38;5;241;43m.\u001b[39;49m\u001b[43misel\u001b[49m\u001b[43m(\u001b[49m\u001b[43mtime\u001b[49m\u001b[38;5;241;43m=\u001b[39;49m\u001b[38;5;241;43m1\u001b[39;49m\u001b[43m)\u001b[49m\n\u001b[1;32m      4\u001b[0m tmp_plt \u001b[38;5;241m=\u001b[39m tmp_plt\u001b[38;5;241m.\u001b[39mwhere(ecco_ds\u001b[38;5;241m.\u001b[39mhFacC\u001b[38;5;241m.\u001b[39misel(k\u001b[38;5;241m=\u001b[39m\u001b[38;5;241m0\u001b[39m) \u001b[38;5;241m!=\u001b[39m\u001b[38;5;241m0\u001b[39m)\n\u001b[1;32m      6\u001b[0m ecco\u001b[38;5;241m.\u001b[39mplot_proj_to_latlon_grid(ecco_ds\u001b[38;5;241m.\u001b[39mXC, \\\n\u001b[1;32m      7\u001b[0m                               ecco_ds\u001b[38;5;241m.\u001b[39mYC, \\\n\u001b[1;32m      8\u001b[0m                               tmp_plt, \\\n\u001b[0;32m   (...)\u001b[0m\n\u001b[1;32m     12\u001b[0m                               projection_type \u001b[38;5;241m=\u001b[39m \u001b[38;5;124m'\u001b[39m\u001b[38;5;124mrobin\u001b[39m\u001b[38;5;124m'\u001b[39m,\\\n\u001b[1;32m     13\u001b[0m                               less_output \u001b[38;5;241m=\u001b[39m \u001b[38;5;28;01mTrue\u001b[39;00m);\n",
      "File \u001b[0;32m/srv/conda/envs/notebook/lib/python3.11/site-packages/xarray/core/dataarray.py:1509\u001b[0m, in \u001b[0;36mDataArray.isel\u001b[0;34m(self, indexers, drop, missing_dims, **indexers_kwargs)\u001b[0m\n\u001b[1;32m   1504\u001b[0m     \u001b[38;5;28;01mreturn\u001b[39;00m \u001b[38;5;28mself\u001b[39m\u001b[38;5;241m.\u001b[39m_from_temp_dataset(ds)\n\u001b[1;32m   1506\u001b[0m \u001b[38;5;66;03m# Much faster algorithm for when all indexers are ints, slices, one-dimensional\u001b[39;00m\n\u001b[1;32m   1507\u001b[0m \u001b[38;5;66;03m# lists, or zero or one-dimensional np.ndarray's\u001b[39;00m\n\u001b[0;32m-> 1509\u001b[0m variable \u001b[38;5;241m=\u001b[39m \u001b[38;5;28;43mself\u001b[39;49m\u001b[38;5;241;43m.\u001b[39;49m\u001b[43m_variable\u001b[49m\u001b[38;5;241;43m.\u001b[39;49m\u001b[43misel\u001b[49m\u001b[43m(\u001b[49m\u001b[43mindexers\u001b[49m\u001b[43m,\u001b[49m\u001b[43m \u001b[49m\u001b[43mmissing_dims\u001b[49m\u001b[38;5;241;43m=\u001b[39;49m\u001b[43mmissing_dims\u001b[49m\u001b[43m)\u001b[49m\n\u001b[1;32m   1510\u001b[0m indexes, index_variables \u001b[38;5;241m=\u001b[39m isel_indexes(\u001b[38;5;28mself\u001b[39m\u001b[38;5;241m.\u001b[39mxindexes, indexers)\n\u001b[1;32m   1512\u001b[0m coords \u001b[38;5;241m=\u001b[39m {}\n",
      "File \u001b[0;32m/srv/conda/envs/notebook/lib/python3.11/site-packages/xarray/core/variable.py:1033\u001b[0m, in \u001b[0;36mVariable.isel\u001b[0;34m(self, indexers, missing_dims, **indexers_kwargs)\u001b[0m\n\u001b[1;32m   1030\u001b[0m indexers \u001b[38;5;241m=\u001b[39m drop_dims_from_indexers(indexers, \u001b[38;5;28mself\u001b[39m\u001b[38;5;241m.\u001b[39mdims, missing_dims)\n\u001b[1;32m   1032\u001b[0m key \u001b[38;5;241m=\u001b[39m \u001b[38;5;28mtuple\u001b[39m(indexers\u001b[38;5;241m.\u001b[39mget(dim, \u001b[38;5;28mslice\u001b[39m(\u001b[38;5;28;01mNone\u001b[39;00m)) \u001b[38;5;28;01mfor\u001b[39;00m dim \u001b[38;5;129;01min\u001b[39;00m \u001b[38;5;28mself\u001b[39m\u001b[38;5;241m.\u001b[39mdims)\n\u001b[0;32m-> 1033\u001b[0m \u001b[38;5;28;01mreturn\u001b[39;00m \u001b[38;5;28;43mself\u001b[39;49m\u001b[43m[\u001b[49m\u001b[43mkey\u001b[49m\u001b[43m]\u001b[49m\n",
      "File \u001b[0;32m/srv/conda/envs/notebook/lib/python3.11/site-packages/xarray/core/variable.py:800\u001b[0m, in \u001b[0;36mVariable.__getitem__\u001b[0;34m(self, key)\u001b[0m\n\u001b[1;32m    797\u001b[0m dims, indexer, new_order \u001b[38;5;241m=\u001b[39m \u001b[38;5;28mself\u001b[39m\u001b[38;5;241m.\u001b[39m_broadcast_indexes(key)\n\u001b[1;32m    798\u001b[0m indexable \u001b[38;5;241m=\u001b[39m as_indexable(\u001b[38;5;28mself\u001b[39m\u001b[38;5;241m.\u001b[39m_data)\n\u001b[0;32m--> 800\u001b[0m data \u001b[38;5;241m=\u001b[39m \u001b[43mindexing\u001b[49m\u001b[38;5;241;43m.\u001b[39;49m\u001b[43mapply_indexer\u001b[49m\u001b[43m(\u001b[49m\u001b[43mindexable\u001b[49m\u001b[43m,\u001b[49m\u001b[43m \u001b[49m\u001b[43mindexer\u001b[49m\u001b[43m)\u001b[49m\n\u001b[1;32m    802\u001b[0m \u001b[38;5;28;01mif\u001b[39;00m new_order:\n\u001b[1;32m    803\u001b[0m     data \u001b[38;5;241m=\u001b[39m np\u001b[38;5;241m.\u001b[39mmoveaxis(data, \u001b[38;5;28mrange\u001b[39m(\u001b[38;5;28mlen\u001b[39m(new_order)), new_order)\n",
      "File \u001b[0;32m/srv/conda/envs/notebook/lib/python3.11/site-packages/xarray/core/indexing.py:1029\u001b[0m, in \u001b[0;36mapply_indexer\u001b[0;34m(indexable, indexer)\u001b[0m\n\u001b[1;32m   1027\u001b[0m     \u001b[38;5;28;01mreturn\u001b[39;00m indexable\u001b[38;5;241m.\u001b[39moindex[indexer]\n\u001b[1;32m   1028\u001b[0m \u001b[38;5;28;01melse\u001b[39;00m:\n\u001b[0;32m-> 1029\u001b[0m     \u001b[38;5;28;01mreturn\u001b[39;00m \u001b[43mindexable\u001b[49m\u001b[43m[\u001b[49m\u001b[43mindexer\u001b[49m\u001b[43m]\u001b[49m\n",
      "File \u001b[0;32m/srv/conda/envs/notebook/lib/python3.11/site-packages/xarray/core/indexing.py:1518\u001b[0m, in \u001b[0;36mNumpyIndexingAdapter.__getitem__\u001b[0;34m(self, indexer)\u001b[0m\n\u001b[1;32m   1514\u001b[0m \u001b[38;5;66;03m# We want 0d slices rather than scalars. This is achieved by\u001b[39;00m\n\u001b[1;32m   1515\u001b[0m \u001b[38;5;66;03m# appending an ellipsis (see\u001b[39;00m\n\u001b[1;32m   1516\u001b[0m \u001b[38;5;66;03m# https://numpy.org/doc/stable/reference/arrays.indexing.html#detailed-notes).\u001b[39;00m\n\u001b[1;32m   1517\u001b[0m key \u001b[38;5;241m=\u001b[39m indexer\u001b[38;5;241m.\u001b[39mtuple \u001b[38;5;241m+\u001b[39m (\u001b[38;5;28mEllipsis\u001b[39m,)\n\u001b[0;32m-> 1518\u001b[0m \u001b[38;5;28;01mreturn\u001b[39;00m \u001b[43marray\u001b[49m\u001b[43m[\u001b[49m\u001b[43mkey\u001b[49m\u001b[43m]\u001b[49m\n",
      "\u001b[0;31mIndexError\u001b[0m: index 1 is out of bounds for axis 0 with size 1"
     ]
    },
    {
     "data": {
      "text/plain": [
       "<Figure size 1080x540 with 0 Axes>"
      ]
     },
     "metadata": {},
     "output_type": "display_data"
    }
   ],
   "source": [
    "plt.figure(figsize=(12,6), dpi= 90)\n",
    "\n",
    "tmp_plt = ecco_ds.SSH.isel(time=1)\n",
    "tmp_plt = tmp_plt.where(ecco_ds.hFacC.isel(k=0) !=0)\n",
    "\n",
    "ecco.plot_proj_to_latlon_grid(ecco_ds.XC, \\\n",
    "                              ecco_ds.YC, \\\n",
    "                              tmp_plt, \\\n",
    "                              plot_type = 'pcolormesh', \\\n",
    "                              dx=2,\\\n",
    "                              dy=2, \\\n",
    "                              projection_type = 'robin',\\\n",
    "                              less_output = True);\n"
   ]
  },
  {
   "cell_type": "markdown",
   "metadata": {},
   "source": [
    "These ``dx`` and ``dy`` arguments tell the plotting function to interpolate the native grid tiles onto a lat-lon grid with spacing of ``dx`` degrees longitude and ``dy`` degrees latitude.  If we reduced ``dx`` and ``dy`` the resulting map would have finer features: Compare with the map when ``dx``=``dy``=0.25 degrees:"
   ]
  },
  {
   "cell_type": "code",
   "execution_count": null,
   "metadata": {},
   "outputs": [],
   "source": [
    "plt.figure(figsize=(12,6), dpi= 90)\n",
    "\n",
    "tmp_plt = ecco_ds.SSH.isel(time=1)\n",
    "tmp_plt = tmp_plt.where(ecco_ds.hFacC.isel(k=0) !=0)\n",
    "\n",
    "ecco.plot_proj_to_latlon_grid(ecco_ds.XC, \\\n",
    "                              ecco_ds.YC, \\\n",
    "                              tmp_plt, \\\n",
    "                              plot_type = 'pcolormesh', \\\n",
    "                              dx=0.25,\\\n",
    "                              dy=0.25, \\\n",
    "                              projection_type = 'robin',\\\n",
    "                              less_output = True);\n"
   ]
  },
  {
   "cell_type": "markdown",
   "metadata": {},
   "source": [
    "Of course you can interpolate to arbitrarily high resolution lat-lon grids, the model resolution will ultimately determine the smallest resolvable features. \n",
    "\n",
    "Under the hood of ``plot_proj_to_lat_longrid`` is a call to the very useful routine ``resample_to_latlon`` which is the now described in more detail\n",
    "\n",
    "## resample_to_latlon\n",
    "\n",
    "``resample_to_latlon`` takes a field with a cooresponding set of lat lon coordinates (the *source* grid) and interpolates to a new lat-lon *target* grid.  The arrangement of coordinates in the *source* grid is arbitrary. One also provides the $bounds$ of the new lat lon grid.  The example shown above uses -90..90N and -180..180E by default.  In addition, one specifies which interpolation scheme to use (*mapping method*) and the *radius of influence*, the radius around the *target* grid cells within which to search for values from the *source* grid.   "
   ]
  },
  {
   "cell_type": "code",
   "execution_count": null,
   "metadata": {},
   "outputs": [],
   "source": [
    "help(ecco.resample_to_latlon)"
   ]
  },
  {
   "cell_type": "markdown",
   "metadata": {},
   "source": [
    "## Demonstrations of  ``resample_to_latlon``\n",
    "\n",
    "### Global\n",
    "First we will map to a global lat-lon grid at 1degree using nearest neighbor"
   ]
  },
  {
   "cell_type": "code",
   "execution_count": null,
   "metadata": {},
   "outputs": [],
   "source": [
    "new_grid_delta_lat = 1\n",
    "new_grid_delta_lon = 1\n",
    "\n",
    "new_grid_min_lat = -90\n",
    "new_grid_max_lat = 90\n",
    "\n",
    "new_grid_min_lon = -180\n",
    "new_grid_max_lon = 180\n",
    "\n",
    "new_grid_lon_centers, new_grid_lat_centers,\\\n",
    "new_grid_lon_edges, new_grid_lat_edges,\\\n",
    "field_nearest_1deg =\\\n",
    "        ecco.resample_to_latlon(ecco_ds.XC, \\\n",
    "                                ecco_ds.YC, \\\n",
    "                                ecco_ds.SSH.isel(time=0),\\\n",
    "                                new_grid_min_lat, new_grid_max_lat, new_grid_delta_lat,\\\n",
    "                                new_grid_min_lon, new_grid_max_lon, new_grid_delta_lon,\\\n",
    "                                fill_value = np.NaN, \\\n",
    "                                mapping_method = 'nearest_neighbor',\n",
    "                                radius_of_influence = 120000)"
   ]
  },
  {
   "cell_type": "code",
   "execution_count": null,
   "metadata": {},
   "outputs": [],
   "source": [
    "# Dimensions of the new grid:\n",
    "pprint(new_grid_lat_centers.shape)\n",
    "pprint(new_grid_lon_centers.shape)"
   ]
  },
  {
   "cell_type": "code",
   "execution_count": null,
   "metadata": {
    "scrolled": true
   },
   "outputs": [],
   "source": [
    "pprint(new_grid_lon_centers)\n",
    "\n",
    "# the second dimension of new_grid_lon has the center longitude of the new grid cells\n",
    "pprint(new_grid_lon_centers[0,0:10])"
   ]
  },
  {
   "cell_type": "code",
   "execution_count": null,
   "metadata": {
    "scrolled": true
   },
   "outputs": [],
   "source": [
    "# The set of lat points\n",
    "pprint(new_grid_lat_centers)\n",
    "\n",
    "# or as a 1D vector\n",
    "# the first dimension of new_grid_lat has the center latitude of the new grid cells\n",
    "pprint(new_grid_lat_centers[0:10,0])"
   ]
  },
  {
   "cell_type": "code",
   "execution_count": null,
   "metadata": {},
   "outputs": [],
   "source": [
    "# plot the whole field\n",
    "plt.figure(figsize=(12,6), dpi= 90)\n",
    "plt.imshow(field_nearest_1deg,origin='lower')"
   ]
  },
  {
   "cell_type": "markdown",
   "metadata": {},
   "source": [
    "\n",
    "### Regional\n",
    "\n",
    "#### 1 degree, nearest neighbor\n",
    "\n",
    "First we'll interpolate only to a subset of the N. Atlantic at 1 degree."
   ]
  },
  {
   "cell_type": "code",
   "execution_count": null,
   "metadata": {},
   "outputs": [],
   "source": [
    "new_grid_delta_lat = 1\n",
    "new_grid_delta_lon = 1\n",
    "\n",
    "new_grid_min_lat = 30\n",
    "new_grid_max_lat = 82\n",
    "\n",
    "new_grid_min_lon = -90\n",
    "new_grid_max_lon = 10\n",
    "\n",
    "new_grid_lon_centers, new_grid_lat_centers,\\\n",
    "new_grid_lon_edges, new_grid_lat_edges,\\\n",
    "field_nearest_1deg =\\\n",
    "        ecco.resample_to_latlon(ecco_ds.XC, \\\n",
    "                                ecco_ds.YC, \\\n",
    "                                ecco_ds.SSH.isel(time=0),\\\n",
    "                                new_grid_min_lat, new_grid_max_lat, new_grid_delta_lat,\\\n",
    "                                new_grid_min_lon, new_grid_max_lon, new_grid_delta_lon,\\\n",
    "                                fill_value = np.NaN, \\\n",
    "                                mapping_method = 'nearest_neighbor',\n",
    "                                radius_of_influence = 120000)\n",
    "\n",
    "# plot the whole field, this time land values are nans.\n",
    "plt.figure(figsize=(8,6), dpi= 90)\n",
    "plt.imshow(field_nearest_1deg,origin='lower',cmap='jet')"
   ]
  },
  {
   "cell_type": "markdown",
   "metadata": {},
   "source": [
    "#### 0.05 degree, nearest neighbor\n",
    "\n",
    "Next we'll interpolate the same domain at a much higher resolution, 0.05 degree:"
   ]
  },
  {
   "cell_type": "code",
   "execution_count": null,
   "metadata": {},
   "outputs": [],
   "source": [
    "new_grid_delta_lat = 0.05\n",
    "new_grid_delta_lon = 0.05\n",
    "\n",
    "new_grid_min_lat = 30\n",
    "new_grid_max_lat = 82\n",
    "\n",
    "new_grid_min_lon = -90\n",
    "new_grid_max_lon = 10\n",
    "\n",
    "\n",
    "new_grid_lon_centers, new_grid_lat_centers,\\\n",
    "new_grid_lon_edges, new_grid_lat_edges,\\\n",
    "field_nearest_1deg =\\\n",
    "        ecco.resample_to_latlon(ecco_ds.XC, \\\n",
    "                                ecco_ds.YC, \\\n",
    "                                ecco_ds.SSH.isel(time=0),\\\n",
    "                                new_grid_min_lat, new_grid_max_lat, new_grid_delta_lat,\\\n",
    "                                new_grid_min_lon, new_grid_max_lon, new_grid_delta_lon,\\\n",
    "                                fill_value = np.NaN, \\\n",
    "                                mapping_method = 'nearest_neighbor',\n",
    "                                radius_of_influence = 120000)\n",
    "\n",
    "# plot the whole field, this time land values are nans.\n",
    "plt.figure(figsize=(8,6), dpi= 90)\n",
    "plt.imshow(field_nearest_1deg,origin='lower',cmap='jet');"
   ]
  },
  {
   "cell_type": "markdown",
   "metadata": {},
   "source": [
    "The new grid is much finer than the llc90 grid.  Because we are using the nearest neighbor method, you can make out the approximate size and location of the llc90 model grid cells (think about it: nearest neighbor).\n",
    "\n",
    "#### 0.05 degree, bin average\n",
    "\n",
    "With bin averaging many values from the source grid are 'binned' together and then averaged to determine the value in the new grid.  The numer of grid cells from the source grid depends on the source grid resolution and the radius of influence.  If we were to choose a radius of influence of 120000 m (a little longer than 1 degree longitude at the equator) the interpolated lat-lon map would be smoother than if we were to choose a smaller radius.  To demonstrate:"
   ]
  },
  {
   "cell_type": "markdown",
   "metadata": {},
   "source": [
    "bin average with 120000 m radius"
   ]
  },
  {
   "cell_type": "code",
   "execution_count": null,
   "metadata": {},
   "outputs": [],
   "source": [
    "new_grid_lon_centers, new_grid_lat_centers,\\\n",
    "new_grid_lon_edges, new_grid_lat_edges,\\\n",
    "field_nearest_1deg =\\\n",
    "        ecco.resample_to_latlon(ecco_ds.XC, \\\n",
    "                                ecco_ds.YC, \\\n",
    "                                ecco_ds.SSH.isel(time=0),\\\n",
    "                                new_grid_min_lat, new_grid_max_lat, new_grid_delta_lat,\\\n",
    "                                new_grid_min_lon, new_grid_max_lon, new_grid_delta_lon,\\\n",
    "                                fill_value = np.NaN, \\\n",
    "                                mapping_method = 'bin_average',\n",
    "                                radius_of_influence = 120000)\n",
    "\n",
    "# plot the whole field, this time land values are nans.\n",
    "plt.figure(figsize=(8,6), dpi= 90)\n",
    "plt.imshow(field_nearest_1deg,origin='lower',cmap='jet');"
   ]
  },
  {
   "cell_type": "markdown",
   "metadata": {},
   "source": [
    "bin average with 40000m radius"
   ]
  },
  {
   "cell_type": "code",
   "execution_count": null,
   "metadata": {},
   "outputs": [],
   "source": [
    "new_grid_lon_centers, new_grid_lat_centers,\\\n",
    "new_grid_lon_edges, new_grid_lat_edges,\\\n",
    "field_nearest_1deg =\\\n",
    "        ecco.resample_to_latlon(ecco_ds.XC, \\\n",
    "                                ecco_ds.YC, \\\n",
    "                                ecco_ds.SSH.isel(time=0),\\\n",
    "                                new_grid_min_lat, new_grid_max_lat, new_grid_delta_lat,\\\n",
    "                                new_grid_min_lon, new_grid_max_lon, new_grid_delta_lon,\\\n",
    "                                fill_value = np.NaN, \\\n",
    "                                mapping_method = 'bin_average',\n",
    "                                radius_of_influence = 40000)\n",
    "\n",
    "# plot the whole field, this time land values are nans.\n",
    "plt.figure(figsize=(8,6), dpi= 90)\n",
    "plt.imshow(field_nearest_1deg,origin='lower',cmap='jet');"
   ]
  },
  {
   "cell_type": "markdown",
   "metadata": {},
   "source": [
    "You may wonder why there are missing (white) values in the resulting map.  It's because there are some lat-lon grid cells whose center is more than 40km away from the center of any grid cell on the source grid. There are ways to get around this problem by specifying spatially-varying radii of influence, but that will have to wait for another tutorial.  \n",
    "\n",
    "If you want to explore on your own, explore some of the low-level routines of the pyresample package: https://pyresample.readthedocs.io/en/latest/"
   ]
  },
  {
   "cell_type": "markdown",
   "metadata": {
    "collapsed": true,
    "jupyter": {
     "outputs_hidden": true
    }
   },
   "source": [
    "## Interpolating ECCO vectors fields to lat-lon grids\n",
    "\n",
    "Vector fields require a few more steps to interpolate to the lat-lon grid. At least if what you want are the zonal and meridional vector components.  Why? Because in the llc90 grid, vector fields like ``UVEL`` and ``VVEL``  are defined with positive in the +x and +y directions of the local coordinate system, respectively. A term like ``oceTAUX`` correponds to ocean wind stress in the +x direction and does not correspond to *zonal* wind stress.  To calculate zonal wind stress we need to rotate the vector from the llc90 x-y grid system to the lat-lon grid.\n",
    "\n",
    "To demonstrate why rotation is necessary, consider the model field ``oceTAUX`` "
   ]
  },
  {
   "cell_type": "code",
   "execution_count": null,
   "metadata": {},
   "outputs": [],
   "source": [
    "## Load vector fields\n",
    "\n",
    "ecco_vars = ds_dict[ShortNames_list[2]]\n",
    "\n",
    "## Merge the ecco_grid with the ecco_vars to make the ecco_ds\n",
    "ecco_ds = xr.merge((ecco_grid , ecco_vars)).compute()\n",
    "\n",
    "pprint(ecco_ds.data_vars)"
   ]
  },
  {
   "cell_type": "code",
   "execution_count": null,
   "metadata": {},
   "outputs": [],
   "source": [
    "tmp = ecco_ds.oceTAUX.isel(time=0)\n",
    "ecco.plot_tiles(tmp,cmap='coolwarm');"
   ]
  },
  {
   "cell_type": "markdown",
   "metadata": {},
   "source": [
    "We can sees the expected positive zonal wind stress in tiles 0-5 because the x-y coordinates of tiles 0-5 happen to approximately line up with the meridians and parallels of the lat-lon grid.  Importantly,  for tiles 7-12 wind stress in the +x direction corresponds to mainly wind stress in the SOUTH direction.  To see the zonal wind stress in tiles 7-12 one has to plot ``oceTAUY`` and recognize that for those tiles positive values correspond with wind stress in the tile's +y direction, which is approximately east-west.  To wit,"
   ]
  },
  {
   "cell_type": "code",
   "execution_count": null,
   "metadata": {},
   "outputs": [],
   "source": [
    "tmp = ecco_ds.oceTAUY.isel(time=0)\n",
    "ecco.plot_tiles(tmp,cmap='coolwarm');"
   ]
  },
  {
   "cell_type": "markdown",
   "metadata": {},
   "source": [
    "Great, but if you want zonal and meridional wind stress, we need to determine the zonal and meridional components of these vectors.  "
   ]
  },
  {
   "cell_type": "markdown",
   "metadata": {},
   "source": [
    "### Vector rotation\n",
    "\n",
    "For vector rotation we leverage the very useful XGCM package (https://xgcm.readthedocs.io/en/latest/).\n",
    "\n",
    "> **Note:**  *The XGCM documentation contains an MITgcm ECCOv4 Example Page: https://xgcm.readthedocs.io/en/latest/example_eccov4.html.  In that example the dimension 'tile' is called 'face' and the fields were loaded from the binary output of the MITgcm, not the netCDF files that we produce for the official ECCOv4r4 product.  Differences are largely cosmetic.)*\n",
    "\n",
    "\n",
    "We use XGCM to map the +x and +y vector components to the grid cell centers from the `u` and `v` grid points of the Arakawa C grid.  The ecco-v4-py routine ``get_llc_grid`` creates the XGCM grid object using a DataSet object containing the following information about the model grid:\n",
    "\n",
    "```\n",
    "    i,j,i_g,j_g,k,k_l,k_u,k_p1 .  \n",
    "\n",
    "```\n",
    "\n",
    "Our ``ecco_ds`` DataSet does have these fields, they come from the grid file:"
   ]
  },
  {
   "cell_type": "code",
   "execution_count": null,
   "metadata": {},
   "outputs": [],
   "source": [
    "# dimensions of the ecco_ds DataSet\n",
    "ecco_ds.dims"
   ]
  },
  {
   "cell_type": "code",
   "execution_count": null,
   "metadata": {},
   "outputs": [],
   "source": [
    "# Make the XGCM object\n",
    "XGCM_grid = ecco.get_llc_grid(ecco_ds)\n",
    "\n",
    "# look at the XGCM object.\n",
    "XGCM_grid\n",
    "\n",
    "# Depending on how much you want to geek out, you can learn about this fancy XGCM_grid object here:\n",
    "# https://xgcm.readthedocs.io/en/latest/grid_topology.html\n"
   ]
  },
  {
   "cell_type": "markdown",
   "metadata": {},
   "source": [
    "Once we have the XGCM_grid object, we can use built-in routines of XGCM to interpolate the x and y components of a vector field to the cell centers."
   ]
  },
  {
   "cell_type": "code",
   "execution_count": null,
   "metadata": {},
   "outputs": [],
   "source": [
    "import xgcm\n",
    "xfld = ecco_ds.oceTAUX.isel(time=0)\n",
    "yfld = ecco_ds.oceTAUY.isel(time=0)\n",
    "\n",
    "velc = XGCM_grid.interp_2d_vector({'X': xfld, 'Y': yfld},boundary='fill')"
   ]
  },
  {
   "cell_type": "markdown",
   "metadata": {},
   "source": [
    "velc is a dictionary of the x and y vector components taken to the model grid cell centers. At this point they are not yet rotated!"
   ]
  },
  {
   "cell_type": "code",
   "execution_count": null,
   "metadata": {
    "scrolled": true
   },
   "outputs": [],
   "source": [
    "velc.keys()"
   ]
  },
  {
   "cell_type": "markdown",
   "metadata": {},
   "source": [
    "The magic comes here, with the use of the grid cosine 'cs' and grid  sine 'cs' values from the ECCO grid file:"
   ]
  },
  {
   "cell_type": "code",
   "execution_count": null,
   "metadata": {},
   "outputs": [],
   "source": [
    "# Compute the zonal and meridional vector components of oceTAUX and oceTAUY\n",
    "oceTAU_E  = velc['X']*ecco_ds['CS'] - velc['Y']*ecco_ds['SN']\n",
    "oceTAU_N  = velc['X']*ecco_ds['SN'] + velc['Y']*ecco_ds['CS']"
   ]
  },
  {
   "cell_type": "markdown",
   "metadata": {},
   "source": [
    "Now we have the zonal and meridional components of the vectors, albeit still on the llc90 grid."
   ]
  },
  {
   "cell_type": "code",
   "execution_count": null,
   "metadata": {},
   "outputs": [],
   "source": [
    "ecco.plot_tiles(oceTAU_E,cmap='coolwarm');"
   ]
  },
  {
   "cell_type": "markdown",
   "metadata": {},
   "source": [
    "So let's resample ``oceTAU_E`` to a lat-lon grid (that's why you're here, right?) and plot"
   ]
  },
  {
   "cell_type": "code",
   "execution_count": null,
   "metadata": {},
   "outputs": [],
   "source": [
    "new_grid_delta_lat = .5\n",
    "new_grid_delta_lon = .5\n",
    "\n",
    "new_grid_min_lat = -90\n",
    "new_grid_max_lat = 90\n",
    "\n",
    "new_grid_min_lon = -180\n",
    "new_grid_max_lon = 180\n",
    "\n",
    "new_grid_lon_centers, new_grid_lat_centers,\\\n",
    "new_grid_lon_edges, new_grid_lat_edges,\\\n",
    "oceTAU_E_latlon =\\\n",
    "        ecco.resample_to_latlon(ecco_ds.XC, \\\n",
    "                                ecco_ds.YC, \\\n",
    "                                oceTAU_E,\\\n",
    "                                new_grid_min_lat, new_grid_max_lat, new_grid_delta_lat,\\\n",
    "                                new_grid_min_lon, new_grid_max_lon, new_grid_delta_lon,\\\n",
    "                                fill_value = np.NaN, \\\n",
    "                                mapping_method = 'nearest_neighbor',\n",
    "                                radius_of_influence = 120000)\n",
    "\n",
    "# plot the resampled field\n",
    "plt.figure(figsize=(12,8), dpi= 90);\n",
    "plt.imshow(oceTAU_E_latlon,origin='lower',vmin=-.25,vmax=.25,cmap='coolwarm');\n",
    "plt.title('ECCOv4 Jan 2000 Zonal Wind Stress (N/m^2)');\n",
    "plt.colorbar(orientation='horizontal');"
   ]
  },
  {
   "cell_type": "markdown",
   "metadata": {},
   "source": [
    "Or with extra fanciness:"
   ]
  },
  {
   "cell_type": "code",
   "execution_count": null,
   "metadata": {},
   "outputs": [],
   "source": [
    "plt.figure(figsize=(12,6), dpi= 90)\n",
    "\n",
    "ecco.plot_proj_to_latlon_grid(ecco_ds.XC, ecco_ds.YC, \\\n",
    "                              oceTAU_E, \\\n",
    "                              user_lon_0=180,\\\n",
    "                              projection_type='PlateCarree',\\\n",
    "                              plot_type = 'pcolormesh', \\\n",
    "                              dx=1,dy=1,show_colorbar=True,cmin=-.25, cmax=.25);"
   ]
  },
  {
   "cell_type": "markdown",
   "metadata": {},
   "source": [
    "Compare vs \"The Scatterometer Climatology of Ocean Winds (SCOW)\",\n",
    "\n",
    "https://nanoos.ceoas.oregonstate.edu/scow/index.html\n",
    "\n",
    "Risien, C.M., and D.B. Chelton, 2008: A Global Climatology of Surface Wind and Wind Stress Fields from Eight Years of QuikSCAT Scatterometer Data. J. Phys. Oceanogr., 38, 2379-2413."
   ]
  },
  {
   "attachments": {},
   "cell_type": "markdown",
   "metadata": {},
   "source": [
    "![](https://nanoos.ceoas.oregonstate.edu/scow/figures/January_SCOW_Zonal_Wind_Stress.png)"
   ]
  },
  {
   "cell_type": "markdown",
   "metadata": {},
   "source": [
    "And of course we can't forget about our meridional wind stress:"
   ]
  },
  {
   "cell_type": "code",
   "execution_count": null,
   "metadata": {},
   "outputs": [],
   "source": [
    "plt.figure(figsize=(12,6), dpi= 90)\n",
    "ecco.plot_proj_to_latlon_grid(ecco_ds.XC, ecco_ds.YC, \\\n",
    "                              oceTAU_N, \\\n",
    "                              user_lon_0=180,\\\n",
    "                              projection_type='PlateCarree',\\\n",
    "                              plot_type = 'pcolormesh', \\\n",
    "                              dx=1,dy=1,cmin=-.25, cmax=.25,show_colorbar=True);"
   ]
  },
  {
   "cell_type": "markdown",
   "metadata": {},
   "source": [
    "Which we also compare against SCOW:"
   ]
  },
  {
   "cell_type": "markdown",
   "metadata": {},
   "source": [
    "![](https://nanoos.ceoas.oregonstate.edu/scow/figures/January_SCOW_Meridional_Wind_Stress.png)"
   ]
  },
  {
   "cell_type": "markdown",
   "metadata": {},
   "source": [
    "### ``UEVNfromUXVY``\n",
    "\n",
    "The ecco-v4-py library includes a routine, ``UEVNfromUXVY`` which does the interpolation to the grid cell centers and the rotation in one call:"
   ]
  },
  {
   "cell_type": "code",
   "execution_count": null,
   "metadata": {},
   "outputs": [],
   "source": [
    "xfld = ecco_ds.oceTAUX.isel(time=0)\n",
    "yfld = ecco_ds.oceTAUY.isel(time=0)\n",
    "\n",
    "# Compute the zonal and meridional vector components of oceTAUX and oceTAUY\n",
    "oceTAU_E, oceTAU_N  = ecco.vector_calc.UEVNfromUXVY(xfld, yfld, ecco_ds)"
   ]
  },
  {
   "cell_type": "markdown",
   "metadata": {},
   "source": [
    "Now plot to verify"
   ]
  },
  {
   "cell_type": "code",
   "execution_count": null,
   "metadata": {},
   "outputs": [],
   "source": [
    "# interpolate to lat-lon\n",
    "new_grid_lon_centers, new_grid_lat_centers,\\\n",
    "new_grid_lon_edges, new_grid_lat_edges,\\\n",
    "oceTAU_E_latlon =\\\n",
    "        ecco.resample_to_latlon(ecco_ds.XC, \\\n",
    "                                ecco_ds.YC, \\\n",
    "                                oceTAU_E,\\\n",
    "                                new_grid_min_lat, new_grid_max_lat, new_grid_delta_lat,\\\n",
    "                                new_grid_min_lon, new_grid_max_lon, new_grid_delta_lon,\\\n",
    "                                fill_value = np.NaN, \\\n",
    "                                mapping_method = 'nearest_neighbor',\n",
    "                                radius_of_influence = 120000)\n",
    "\n",
    "# plot the whole field, this time land values are nans.\n",
    "plt.figure(figsize=(12,8), dpi= 90);\n",
    "plt.imshow(oceTAU_E_latlon,origin='lower',vmin=-.25,vmax=.25,cmap='coolwarm');\n",
    "plt.title('ECCOv4 Jan 2000 Zonal Wind Stress (N/m^2)');\n",
    "plt.colorbar(orientation='horizontal');"
   ]
  },
  {
   "cell_type": "markdown",
   "metadata": {},
   "source": [
    "## Saving interpolated fields to netCDF\n",
    "\n",
    "For this demonstration we will rotate the 12 monthly-mean records of oceTAUX and oceTAUY to their zonal and meridional components, interpolate to a lat-lon grids, and then save the output as netCDF format.\n"
   ]
  },
  {
   "cell_type": "code",
   "execution_count": null,
   "metadata": {},
   "outputs": [],
   "source": [
    "pprint(ecco_ds.oceTAUX.time)"
   ]
  },
  {
   "cell_type": "markdown",
   "metadata": {},
   "source": [
    "We will loop through each month, use ``UEVNfromUXVY`` to determine the zonal and meridional components of the ocean wind stress vectors, and then interpolate to a 0.5 degree lat-lon grid."
   ]
  },
  {
   "cell_type": "code",
   "execution_count": null,
   "metadata": {},
   "outputs": [],
   "source": [
    "oceTAUE = np.zeros((12,360,720))\n",
    "oceTAUN = np.zeros((12,360,720))\n",
    "\n",
    "new_grid_delta_lat = .5\n",
    "new_grid_delta_lon = .5\n",
    "\n",
    "new_grid_min_lat = -90\n",
    "new_grid_max_lat = 90\n",
    "\n",
    "new_grid_min_lon = -180\n",
    "new_grid_max_lon = 180\n",
    "\n",
    "\n",
    "for m in range(12):\n",
    "    cur_oceTAUX = ecco_ds.oceTAUX.isel(time=m)\n",
    "    cur_oceTAUY = ecco_ds.oceTAUY.isel(time=m)\n",
    "\n",
    "    # Compute the zonal and meridional vector components of oceTAUX and oceTAUY\n",
    "    tmp_e, tmp_n  = ecco.vector_calc.UEVNfromUXVY(cur_oceTAUX, cur_oceTAUY, ecco_ds)\n",
    "\n",
    "    # zonal component\n",
    "    new_grid_lon_centers, new_grid_lat_centers,\\\n",
    "    new_grid_lon_edges, new_grid_lat_edges,\\\n",
    "    tmp_e_latlon =\\\n",
    "        ecco.resample_to_latlon(ecco_ds.XC, \\\n",
    "                                ecco_ds.YC, \\\n",
    "                                tmp_e,\\\n",
    "                                new_grid_min_lat, new_grid_max_lat, new_grid_delta_lat,\\\n",
    "                                new_grid_min_lon, new_grid_max_lon, new_grid_delta_lon,\\\n",
    "                                fill_value = np.NaN, \\\n",
    "                                mapping_method = 'nearest_neighbor',\n",
    "                                radius_of_influence = 120000)\n",
    "    \n",
    "    # meridional component\n",
    "    new_grid_lon_centers, new_grid_lat_centers,\\\n",
    "    new_grid_lon_edges, new_grid_lat_edges,\\\n",
    "    tmp_n_latlon =\\\n",
    "        ecco.resample_to_latlon(ecco_ds.XC, \\\n",
    "                                ecco_ds.YC, \\\n",
    "                                tmp_n,\\\n",
    "                                new_grid_min_lat, new_grid_max_lat, new_grid_delta_lat,\\\n",
    "                                new_grid_min_lon, new_grid_max_lon, new_grid_delta_lon,\\\n",
    "                                fill_value = np.NaN, \\\n",
    "                                mapping_method = 'nearest_neighbor',\n",
    "                                radius_of_influence = 120000)\n",
    "\n",
    "    oceTAUE[m,:] = tmp_e_latlon\n",
    "    oceTAUN[m,:] = tmp_n_latlon"
   ]
  },
  {
   "cell_type": "code",
   "execution_count": null,
   "metadata": {},
   "outputs": [],
   "source": [
    "# make the new data array structures for the zonal and meridional wind stress fields\n",
    "oceTAUE_DA = xr.DataArray(oceTAUE,  name = 'oceTAUE', \n",
    "                      dims = ['time','latitude','longitude'], \n",
    "                      coords = {'latitude': new_grid_lat_centers[:,0],\n",
    "                                'longitude': new_grid_lon_centers[0,:],\n",
    "                                'time': ecco_ds.time})\n",
    "\n",
    "# make the new data array structures for the zonal and meridional wind stress fields\n",
    "oceTAUN_DA = xr.DataArray(oceTAUN,  name = 'oceTAUN', \n",
    "                      dims = ['time','latitude','longitude'], \n",
    "                      coords = {'latitude': new_grid_lat_centers[:,0],\n",
    "                                'longitude': new_grid_lon_centers[0,:],\n",
    "                                'time': ecco_ds.time})"
   ]
  },
  {
   "cell_type": "markdown",
   "metadata": {},
   "source": [
    "Plot the zonal and meridional wind stresses in these new DataArray objects:"
   ]
  },
  {
   "cell_type": "code",
   "execution_count": null,
   "metadata": {},
   "outputs": [],
   "source": [
    "oceTAUE_DA.dims     "
   ]
  },
  {
   "cell_type": "code",
   "execution_count": null,
   "metadata": {},
   "outputs": [],
   "source": [
    "oceTAUE_DA.isel(time=0).plot(cmap='RdYlBu_r')"
   ]
  },
  {
   "cell_type": "code",
   "execution_count": null,
   "metadata": {
    "scrolled": true
   },
   "outputs": [],
   "source": [
    "oceTAUN_DA.isel(time=0).plot(cmap='RdYlBu_r')"
   ]
  },
  {
   "cell_type": "markdown",
   "metadata": {},
   "source": [
    "### Saving is easy with xarray\n"
   ]
  },
  {
   "cell_type": "code",
   "execution_count": null,
   "metadata": {},
   "outputs": [],
   "source": [
    "# meridional component\n",
    "output_path = join(user_home_dir,'Downloads','oceTAUN_latlon_2000.nc')\n",
    "oceTAUN_DA.to_netcdf(output_path)\n",
    "\n",
    "# zonal component\n",
    "output_path = join(user_home_dir,'Downloads','oceTAUE_latlon_2000.nc')\n",
    "oceTAUE_DA.to_netcdf(output_path)"
   ]
  },
  {
   "cell_type": "markdown",
   "metadata": {},
   "source": [
    "... done!"
   ]
  }
 ],
 "metadata": {
  "kernelspec": {
   "display_name": "Python 3 (ipykernel)",
   "language": "python",
   "name": "python3"
  },
  "language_info": {
   "codemirror_mode": {
    "name": "ipython",
    "version": 3
   },
   "file_extension": ".py",
   "mimetype": "text/x-python",
   "name": "python",
   "nbconvert_exporter": "python",
   "pygments_lexer": "ipython3",
   "version": "3.11.9"
  }
 },
 "nbformat": 4,
 "nbformat_minor": 4
}
