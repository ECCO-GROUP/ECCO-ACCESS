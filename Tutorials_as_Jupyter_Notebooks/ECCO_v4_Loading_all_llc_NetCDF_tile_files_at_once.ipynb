{
 "cells": [
  {
   "cell_type": "markdown",
   "metadata": {},
   "source": [
    "# Loading all 13 lat-lon-cap NetCDF tile files at once\n",
    "\n",
    "## Objectives\n",
    "\n",
    "Introduce an easy method for loading all 13 llc NetCDF tile files at once.  \n",
    "\n",
    "## Loading all 13 lat-lon-cap NetCDF grid tile files using  `load_all_tiles_from_netcdf`\n",
    "\n",
    "So far we've loaded NetCDF tile files one tile at a time.  The `load_all_tiles_from_netcdf` method automates the loading of all 13 tiles.\n",
    "\n",
    "Let's jump right in and use `load_all_tiles_from_netcdf` to load all 13 GRID tile files.  Call the new `Dataset` object `grid_all_tiles`.   Because we are loading GRID tile files, we specify 'grid' as the *var_type*."
   ]
  },
  {
   "cell_type": "code",
   "execution_count": 1,
   "metadata": {},
   "outputs": [
    {
     "name": "stdout",
     "output_type": "stream",
     "text": [
      "\n",
      ">>> LOADING TILES FROM NETCDF\n",
      "\n",
      "loading /Users/ifenty/ECCOv4/R3/nctiles_grid/GRID.0001.nc\n",
      "loading /Users/ifenty/ECCOv4/R3/nctiles_grid/GRID.0002.nc\n",
      "loading /Users/ifenty/ECCOv4/R3/nctiles_grid/GRID.0003.nc\n",
      "loading /Users/ifenty/ECCOv4/R3/nctiles_grid/GRID.0004.nc\n",
      "loading /Users/ifenty/ECCOv4/R3/nctiles_grid/GRID.0005.nc\n",
      "loading /Users/ifenty/ECCOv4/R3/nctiles_grid/GRID.0006.nc\n",
      "loading /Users/ifenty/ECCOv4/R3/nctiles_grid/GRID.0007.nc\n",
      "loading /Users/ifenty/ECCOv4/R3/nctiles_grid/GRID.0008.nc\n",
      "loading /Users/ifenty/ECCOv4/R3/nctiles_grid/GRID.0009.nc\n",
      "loading /Users/ifenty/ECCOv4/R3/nctiles_grid/GRID.0010.nc\n",
      "loading /Users/ifenty/ECCOv4/R3/nctiles_grid/GRID.0011.nc\n",
      "loading /Users/ifenty/ECCOv4/R3/nctiles_grid/GRID.0012.nc\n",
      "loading /Users/ifenty/ECCOv4/R3/nctiles_grid/GRID.0013.nc\n",
      "total file load time  0.734987974167 s\n",
      "concatenated all tiles.  this can take a few minutes....\n",
      "finished concatenating.  time = 0.689743995667 s\n",
      "Finished loading all 13 tiles of GRID\n",
      "Removing Dataset Attributes A-Z\n",
      "\n"
     ]
    }
   ],
   "source": [
    "import matplotlib.pylab as plt\n",
    "import numpy as np\n",
    "import xarray as xr\n",
    "import ecco_v4_py as ecco\n",
    "\n",
    "# Set this to be the directory for your fields\n",
    "ECCO_dir = '/Users/ifenty/ECCOv4/R3'\n",
    "\n",
    "# Load all tiles of the LLC90 Grid    \n",
    "grid_dir= ECCO_dir + '/nctiles_grid/'  \n",
    "var = 'GRID'\n",
    "var_type = 'grid'\n",
    "grid_all_tiles = ecco.load_all_tiles_from_netcdf(grid_dir, var, var_type)\n",
    "\n",
    "# minimize the metadata (optional)\n",
    "ecco.minimal_metadata(grid_all_tiles)"
   ]
  },
  {
   "cell_type": "markdown",
   "metadata": {},
   "source": [
    "Let's look at `grid_all_tiles`:"
   ]
  },
  {
   "cell_type": "code",
   "execution_count": 2,
   "metadata": {},
   "outputs": [
    {
     "data": {
      "text/plain": [
       "<xarray.Dataset>\n",
       "Dimensions:  (i: 90, i_g: 90, j: 90, j_g: 90, k: 50, k_g: 50, tile: 13)\n",
       "Coordinates:\n",
       "  * k        (k) float64 1.0 2.0 3.0 4.0 5.0 6.0 7.0 8.0 9.0 10.0 11.0 12.0 ...\n",
       "  * i        (i) float64 1.0 2.0 3.0 4.0 5.0 6.0 7.0 8.0 9.0 10.0 11.0 12.0 ...\n",
       "  * j        (j) float64 1.0 2.0 3.0 4.0 5.0 6.0 7.0 8.0 9.0 10.0 11.0 12.0 ...\n",
       "  * i_g      (i_g) float64 1.0 2.0 3.0 4.0 5.0 6.0 7.0 8.0 9.0 10.0 11.0 ...\n",
       "  * j_g      (j_g) float64 1.0 2.0 3.0 4.0 5.0 6.0 7.0 8.0 9.0 10.0 11.0 ...\n",
       "  * k_g      (k_g) float64 1.0 2.0 3.0 4.0 5.0 6.0 7.0 8.0 9.0 10.0 11.0 ...\n",
       "  * tile     (tile) int64 1 2 3 4 5 6 7 8 9 10 11 12 13\n",
       "Data variables:\n",
       "    XC       (tile, j, i) float64 -111.6 -111.3 -110.9 -110.5 -110.0 -109.3 ...\n",
       "    YC       (tile, j, i) float64 -88.24 -88.38 -88.52 -88.66 -88.8 -88.94 ...\n",
       "    RAC      (tile, j, i) float64 3.623e+08 3.633e+08 3.643e+08 3.651e+08 ...\n",
       "    Depth    (tile, j, i) float64 0.0 0.0 0.0 0.0 0.0 0.0 0.0 0.0 0.0 0.0 ...\n",
       "    AngleCS  (tile, j, i) float64 0.06158 0.06675 0.07293 0.08042 0.0897 ...\n",
       "    AngleSN  (tile, j, i) float64 -0.9981 -0.9978 -0.9973 -0.9968 -0.996 ...\n",
       "    hFacC    (tile, k, j, i) float64 0.0 0.0 0.0 0.0 0.0 0.0 0.0 0.0 0.0 0.0 ...\n",
       "    land_c   (tile, k, j, i) float64 0.0 0.0 0.0 0.0 0.0 0.0 0.0 0.0 0.0 0.0 ...\n",
       "    XG       (tile, j_g, i_g) float64 -115.0 -115.0 -115.0 -115.0 -115.0 ...\n",
       "    YG       (tile, j_g, i_g) float64 -88.18 -88.32 -88.46 -88.6 -88.74 ...\n",
       "    RAZ      (tile, j_g, i_g) float64 1.799e+08 1.805e+08 1.81e+08 1.814e+08 ...\n",
       "    DXC      (tile, j, i_g) float64 1.558e+04 1.559e+04 1.559e+04 1.56e+04 ...\n",
       "    DYG      (tile, j, i_g) float64 2.321e+04 2.327e+04 2.333e+04 2.338e+04 ...\n",
       "    hFacW    (tile, k, j, i_g) float64 0.0 0.0 0.0 0.0 0.0 0.0 0.0 0.0 0.0 ...\n",
       "    land_u   (tile, k, j, i_g) float64 0.0 0.0 0.0 0.0 0.0 0.0 0.0 0.0 0.0 ...\n",
       "    DYC      (tile, j_g, i) float64 1.156e+04 1.159e+04 1.162e+04 1.165e+04 ...\n",
       "    DXG      (tile, j_g, i) float64 1.558e+04 1.559e+04 1.559e+04 1.56e+04 ...\n",
       "    hFacS    (tile, k, j_g, i) float64 0.0 0.0 0.0 0.0 0.0 0.0 0.0 0.0 0.0 ...\n",
       "    land_v   (tile, k, j_g, i) float64 0.0 0.0 0.0 0.0 0.0 0.0 0.0 0.0 0.0 ...\n",
       "    RC       (k) float64 -5.0 -15.0 -25.0 -35.0 -45.0 -55.0 -65.0 -75.0 ...\n",
       "    RF       (k_g) float64 0.0 -10.0 -20.0 -30.0 -40.0 -50.0 -60.0 -70.0 ...\n",
       "    DRC      (k_g) float64 5.0 10.0 10.0 10.0 10.0 10.0 10.0 10.01 10.02 ...\n",
       "    DRF      (k) float64 10.0 10.0 10.0 10.0 10.0 10.0 10.0 10.01 10.03 ...\n",
       "Attributes:\n",
       "    description:    C-grid parameters (see MITgcm documentation for details)....\n",
       "    date:           21-Apr-2017\n",
       "    Conventions:    CF-1.6\n",
       "    _FillValue:     nan\n",
       "    missing_value:  nan"
      ]
     },
     "execution_count": 2,
     "metadata": {},
     "output_type": "execute_result"
    }
   ],
   "source": [
    "grid_all_tiles"
   ]
  },
  {
   "cell_type": "markdown",
   "metadata": {},
   "source": [
    "### Examining the Dataset object contents\n",
    "\n",
    "#### 1. Dimensions\n",
    "`Dimensions:  (i: 90, i_g: 90, j: 90, j_g: 90, k: 50, k_g: 50, tile: 13)`\n",
    "\n",
    "The *Dimensions* list now inculdes a new **tile** dimension.\n",
    "\n",
    "#### 2. Coordinates\n",
    "```\n",
    "Coordinates:\n",
    "  * k        (k) float64 1.0 2.0 3.0 4.0 5.0 6.0 7.0 8.0 9.0 10.0 11.0 12.0 ...\n",
    "  * i        (i) float64 1.0 2.0 3.0 4.0 5.0 6.0 7.0 8.0 9.0 10.0 11.0 12.0 ...\n",
    "  * j        (j) float64 1.0 2.0 3.0 4.0 5.0 6.0 7.0 8.0 9.0 10.0 11.0 12.0 ...\n",
    "  * i_g      (i_g) float64 1.0 2.0 3.0 4.0 5.0 6.0 7.0 8.0 9.0 10.0 11.0 ...\n",
    "  * j_g      (j_g) float64 1.0 2.0 3.0 4.0 5.0 6.0 7.0 8.0 9.0 10.0 11.0 ...\n",
    "  * k_g      (k_g) float64 1.0 2.0 3.0 4.0 5.0 6.0 7.0 8.0 9.0 10.0 11.0 ...\n",
    "  * tile     (tile) int64 1 2 3 4 5 6 7 8 9 10 11 12 13\n",
    "``` \n",
    "\n",
    "The **tile** coordinate now appears as an array: 1 .. 13\n",
    "\n",
    "\n",
    "#### 3. Data Variables\n",
    "```\n",
    "Data variables:\n",
    "    XC       (tile, j, i) float64 -111.6 -111.3 -110.9 -110.5 -110.0 -109.3 ...\n",
    "    hFacC    (tile, k, j, i) float64 0.0 0.0 0.0 0.0 0.0 0.0 0.0 0.0 0.0 0.0 ...\n",
    "    XG       (tile, j_g, i_g) float64 -115.0 -115.0 -115.0 -115.0 -115.0 ...\n",
    "    DXC      (tile, j, i_g) float64 1.558e+04 1.559e+04 1.559e+04 1.56e+04 ...\n",
    "    hFacW    (tile, k, j, i_g) float64 0.0 0.0 0.0 0.0 0.0 0.0 0.0 0.0 0.0 ...\n",
    "    DYC      (tile, j_g, i) float64 1.156e+04 1.159e+04 1.162e+04 1.165e+04 ...\n",
    "    hFacS    (tile, k, j_g, i) float64 0.0 0.0 0.0 0.0 0.0 0.0 0.0 0.0 0.0 ...\n",
    "    RC       (k) float64 -5.0 -15.0 -25.0 -35.0 -45.0 -55.0 -65.0 -75.0 ...\n",
    "    RF       (k_g) float64 0.0 -10.0 -20.0 -30.0 -40.0 -50.0 -60.0 -70.0 ...\n",
    "```\n",
    "\n",
    "Each *Data variable* that varies in the horizontal now has a new dimension, **tile**. \n",
    "\n",
    "> **Note:** The ordering of the arrays is (tile, k, j, i)"
   ]
  },
  {
   "cell_type": "markdown",
   "metadata": {},
   "source": [
    "### A closer look at the DataArray after loading with `load_all_tiles_from_netcdf`\n",
    "\n",
    "Let's look at one of the grid variables loaded with the `load_all_tiles_from_netcdf` routine:"
   ]
  },
  {
   "cell_type": "code",
   "execution_count": 3,
   "metadata": {},
   "outputs": [
    {
     "data": {
      "text/plain": [
       "<xarray.DataArray 'XC' (tile: 13, j: 90, i: 90)>\n",
       "array([[[-111.606468, -111.303001, ...,   64.805206,   64.819168],\n",
       "        [-104.819603, -103.928444, ...,   64.410118,   64.4524  ],\n",
       "        ...,\n",
       "        [ -37.5     ,  -36.5     , ...,   50.5     ,   51.5     ],\n",
       "        [ -37.5     ,  -36.5     , ...,   50.5     ,   51.5     ]],\n",
       "\n",
       "       [[ -37.5     ,  -36.5     , ...,   50.5     ,   51.5     ],\n",
       "        [ -37.5     ,  -36.5     , ...,   50.5     ,   51.5     ],\n",
       "        ...,\n",
       "        [ -37.5     ,  -36.5     , ...,   50.5     ,   51.5     ],\n",
       "        [ -37.5     ,  -36.5     , ...,   50.5     ,   51.5     ]],\n",
       "\n",
       "       ...,\n",
       "\n",
       "       [[-127.5     , -127.5     , ..., -127.5     , -127.5     ],\n",
       "        [-126.5     , -126.5     , ..., -126.5     , -126.5     ],\n",
       "        ...,\n",
       "        [ -39.5     ,  -39.5     , ...,  -39.5     ,  -39.5     ],\n",
       "        [ -38.5     ,  -38.5     , ...,  -38.5     ,  -38.5     ]],\n",
       "\n",
       "       [[-127.5     , -127.5     , ..., -115.505669, -115.166985],\n",
       "        [-126.5     , -126.5     , ..., -115.464066, -115.153244],\n",
       "        ...,\n",
       "        [ -39.5     ,  -39.5     , ..., -106.248741, -112.090065],\n",
       "        [ -38.5     ,  -38.5     , ..., -105.584648, -111.865791]]])\n",
       "Coordinates:\n",
       "  * i        (i) float64 1.0 2.0 3.0 4.0 5.0 6.0 7.0 8.0 9.0 10.0 11.0 12.0 ...\n",
       "  * j        (j) float64 1.0 2.0 3.0 4.0 5.0 6.0 7.0 8.0 9.0 10.0 11.0 12.0 ...\n",
       "  * tile     (tile) int64 1 2 3 4 5 6 7 8 9 10 11 12 13\n",
       "Attributes:\n",
       "    long_name:    longitude\n",
       "    units:        degrees_east\n",
       "    grid_layout:  original llc"
      ]
     },
     "execution_count": 3,
     "metadata": {},
     "output_type": "execute_result"
    }
   ],
   "source": [
    "grid_all_tiles.XC"
   ]
  },
  {
   "cell_type": "markdown",
   "metadata": {},
   "source": [
    "The $XC$ `DataArray` object now has a **tile** dimension of length 13."
   ]
  },
  {
   "cell_type": "markdown",
   "metadata": {},
   "source": [
    "## Loading non-grid variables using `load_all_tiles_from_netcdf`\n",
    "\n",
    "As with `load_tile_from_netcdf` we can use `load_all_tiles_from_netcdf` to give variables better coordinate labels by specifying their c-grid point category.\n",
    "\n",
    "We'll demonstrate by loading the ``SSH`` variable that is on c-grid $c$ points.  Loading variables on $u$, $v$, or $g$ points only requires changing the argument of **var_type**.\n",
    "\n",
    "### A *c* point variable: SSH\n",
    "\n",
    "Let's load all tiles of sea surface height (SSH), a $c$ point variable.  "
   ]
  },
  {
   "cell_type": "code",
   "execution_count": 4,
   "metadata": {},
   "outputs": [
    {
     "name": "stdout",
     "output_type": "stream",
     "text": [
      "\n",
      ">>> LOADING TILES FROM NETCDF\n",
      "\n",
      "loading /Users/ifenty/ECCOv4/R3/nctiles_monthly/SSH/SSH.0001.nc\n",
      "loading /Users/ifenty/ECCOv4/R3/nctiles_monthly/SSH/SSH.0002.nc\n",
      "loading /Users/ifenty/ECCOv4/R3/nctiles_monthly/SSH/SSH.0003.nc\n",
      "loading /Users/ifenty/ECCOv4/R3/nctiles_monthly/SSH/SSH.0004.nc\n",
      "loading /Users/ifenty/ECCOv4/R3/nctiles_monthly/SSH/SSH.0005.nc\n",
      "loading /Users/ifenty/ECCOv4/R3/nctiles_monthly/SSH/SSH.0006.nc\n",
      "loading /Users/ifenty/ECCOv4/R3/nctiles_monthly/SSH/SSH.0007.nc\n",
      "loading /Users/ifenty/ECCOv4/R3/nctiles_monthly/SSH/SSH.0008.nc\n",
      "loading /Users/ifenty/ECCOv4/R3/nctiles_monthly/SSH/SSH.0009.nc\n",
      "loading /Users/ifenty/ECCOv4/R3/nctiles_monthly/SSH/SSH.0010.nc\n",
      "loading /Users/ifenty/ECCOv4/R3/nctiles_monthly/SSH/SSH.0011.nc\n",
      "loading /Users/ifenty/ECCOv4/R3/nctiles_monthly/SSH/SSH.0012.nc\n",
      "loading /Users/ifenty/ECCOv4/R3/nctiles_monthly/SSH/SSH.0013.nc\n",
      "total file load time  0.687794923782 s\n",
      "concatenated all tiles.  this can take a few minutes....\n",
      "finished concatenating.  time = 0.348370075226 s\n",
      "Finished loading all 13 tiles of SSH\n",
      "Removing Dataset Attributes A-Z\n",
      "\n"
     ]
    }
   ],
   "source": [
    "# Load all tiles of the LLC90 Grid    \n",
    "data_dir= ECCO_dir + '/nctiles_monthly/SSH/'\n",
    "\n",
    "var = 'SSH'\n",
    "var_type = 'c'\n",
    "ssh_all_tiles = ecco.load_all_tiles_from_netcdf(data_dir, var, var_type)\n",
    "ecco.minimal_metadata(ssh_all_tiles)"
   ]
  },
  {
   "cell_type": "markdown",
   "metadata": {},
   "source": [
    "### Examining the Dataset object contents\n",
    "\n",
    "Let's examine $ssh_all_tiles$ since this is first time we're loading all 13 tiles of an output variable."
   ]
  },
  {
   "cell_type": "code",
   "execution_count": 5,
   "metadata": {},
   "outputs": [
    {
     "data": {
      "text/plain": [
       "<xarray.Dataset>\n",
       "Dimensions:   (i: 90, j: 90, tile: 13, time: 288)\n",
       "Coordinates:\n",
       "  * time      (time) float64 1.0 2.0 3.0 4.0 5.0 6.0 7.0 8.0 9.0 10.0 11.0 ...\n",
       "  * j         (j) float64 1.0 2.0 3.0 4.0 5.0 6.0 7.0 8.0 9.0 10.0 11.0 12.0 ...\n",
       "  * i         (i) float64 1.0 2.0 3.0 4.0 5.0 6.0 7.0 8.0 9.0 10.0 11.0 12.0 ...\n",
       "    tim       (time) datetime64[ns] 1992-01-16 1992-02-16 1992-03-16 ...\n",
       "    timestep  (time) float64 732.0 1.428e+03 2.172e+03 2.892e+03 3.636e+03 ...\n",
       "    lon_c     (tile, j, i) float64 -111.6 -111.3 -110.9 -110.5 -110.0 -109.3 ...\n",
       "    lat_c     (tile, j, i) float64 -88.24 -88.38 -88.52 -88.66 -88.8 -88.94 ...\n",
       "  * tile      (tile) int64 1 2 3 4 5 6 7 8 9 10 11 12 13\n",
       "Data variables:\n",
       "    SSH       (time, tile, j, i) float64 nan nan nan nan nan nan nan nan nan ...\n",
       "Attributes:\n",
       "    description:    SSH -- ECCO v4 ocean state estimate, release 3 -- 1992-2015\n",
       "    date:           02-May-2017\n",
       "    Conventions:    CF-1.6\n",
       "    _FillValue:     nan\n",
       "    missing_value:  nan"
      ]
     },
     "execution_count": 5,
     "metadata": {},
     "output_type": "execute_result"
    }
   ],
   "source": [
    "ssh_all_tiles"
   ]
  },
  {
   "cell_type": "markdown",
   "metadata": {},
   "source": [
    "#### 1. Dimensions\n",
    "`Dimensions:   (i: 90, j: 90, tile: 13, time: 288)`\n",
    "\n",
    "The *Dimensions* list now inculdes a new **tile** dimension of 13.\n",
    "\n",
    "#### 2. Coordinates\n",
    "```\n",
    "Coordinates:\n",
    "    lon_c     (tile, j, i) float64 -111.6 -111.3 -110.9 -110.5 -110.0 -109.3 ...\n",
    "    lat_c     (tile, j, i) float64 -88.24 -88.38 -88.52 -88.66 -88.8 -88.94 ...\n",
    "  * tile      (tile) int64 1 2 3 4 5 6 7 8 9 10 11 12 13\n",
    "``` \n",
    "\n",
    "The **tile** coordinate now appears as an array: 1 .. 13 and **lon_c** and **lat_c** have a new **tile** dimension.\n",
    "\n",
    "\n",
    "#### 3. Data Variables\n",
    "```\n",
    "Data variables:\n",
    "    SSH       (time, tile, j, i) float64 nan nan nan nan nan nan nan nan nan ...\n",
    "```\n",
    "\n",
    "The $SSH$ *Data variable* now has a new **tile** dimension."
   ]
  },
  {
   "cell_type": "markdown",
   "metadata": {},
   "source": [
    "## Summary\n",
    "\n",
    "Now you know how to load all 13 NetCDF tile files for both grid parameters and state estimate output variables using `load_all_tiles_from_netcdf`.  All one needs to do is specify whether the file is a grid parameter file or from a $c$, $u$, $v$, or $g$ point and the correct coordinates and dimensional labels will be applied automatically."
   ]
  }
 ],
 "metadata": {
  "kernelspec": {
   "display_name": "Python 2",
   "language": "python",
   "name": "python2"
  },
  "language_info": {
   "codemirror_mode": {
    "name": "ipython",
    "version": 2
   },
   "file_extension": ".py",
   "mimetype": "text/x-python",
   "name": "python",
   "nbconvert_exporter": "python",
   "pygments_lexer": "ipython2",
   "version": "2.7.14"
  }
 },
 "nbformat": 4,
 "nbformat_minor": 2
}
