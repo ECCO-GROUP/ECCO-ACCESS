{
 "cells": [
  {
   "cell_type": "markdown",
   "metadata": {},
   "source": [
    "# Operating on Numpy arrays\n",
    "\n",
    "## Objectives\n",
    "\n",
    "Introduce numpy's **pass-by-reference** approach handling numpy arrays and methods for avoiding pitfalls when operating on numpy arrays.\n",
    "\n",
    "## Introduction\n",
    "\n",
    "From: http://span.ece.utah.edu/common-mistakes-in-moving-from-matlab-to-python:\n",
    "\n",
    "\"Whenever you reference an array in Python, the computer will provide the memory address for the thing you are accessing, not the actual value. This is called **pass-by-reference**. This saves memory and makes your programs faster, but it is also harder to keep straight.\"  \n",
    "\n",
    "From: https://docs.python.org/2/library/copy.html\n",
    "\n",
    "\"Assignment statements in Python do not copy objects, they create bindings [pointers] between a target and an object.\" \"... a copy is sometimes needed so one can change one copy without changing the other. The 'copy' module provides generic ... copy operations.\"\n",
    "\n",
    "If you are not familiar with the **pass-by-reference** aspect of Python then I strongly suggest you read this short, informative essay on \"Python Names and Values\": https://nedbatchelder.com/text/names.html\n",
    "\n",
    "We've briefly touched on this important subject in earlier tutorials.  Now we'll go into a bit more detail."
   ]
  },
  {
   "cell_type": "markdown",
   "metadata": {},
   "source": [
    "## Variable assignments\n",
    "\n",
    "Unlike some other languages, creating a new variable with an assignment statement in Python such as\n",
    "`\n",
    "x = some_numpy_array\n",
    "`\n",
    "\n",
    "does not make a copy of ``some_numpy_array``.  Instead, the assignment statement makes ``x`` and ``some_numpy_array`` both point to the same `numpy` array in memory.  Because ``x`` and ``some_numpy_array`` are both refer (or pointer) to the same `numpy` array in memory, the `numpy` array can be changed by operations on either ``x`` or ``some_numpy_array``.  If you aren't aware of this behavior then you may run into very difficult to identify bugs in your calculations!\n",
    "\n",
    "### A simple demonstration\n",
    "\n",
    "Let's demonstrate this issue with a very simple `numpy` array"
   ]
  },
  {
   "cell_type": "code",
   "execution_count": 1,
   "metadata": {},
   "outputs": [
    {
     "ename": "ImportError",
     "evalue": "No module named py",
     "output_type": "error",
     "traceback": [
      "\u001b[0;31m---------------------------------------------------------------------------\u001b[0m",
      "\u001b[0;31mImportError\u001b[0m                               Traceback (most recent call last)",
      "\u001b[0;32m<ipython-input-1-964af5727a1a>\u001b[0m in \u001b[0;36m<module>\u001b[0;34m()\u001b[0m\n\u001b[1;32m      1\u001b[0m \u001b[0;32mimport\u001b[0m \u001b[0mnumpy\u001b[0m \u001b[0;32mas\u001b[0m \u001b[0mnp\u001b[0m\u001b[0;34m\u001b[0m\u001b[0m\n\u001b[1;32m      2\u001b[0m \u001b[0;32mfrom\u001b[0m \u001b[0mcopy\u001b[0m \u001b[0;32mimport\u001b[0m \u001b[0mdeepcopy\u001b[0m\u001b[0;34m\u001b[0m\u001b[0m\n\u001b[0;32m----> 3\u001b[0;31m \u001b[0;32mimport\u001b[0m \u001b[0mecco_v4_py\u001b[0m \u001b[0;32mas\u001b[0m \u001b[0mecco\u001b[0m\u001b[0;34m\u001b[0m\u001b[0m\n\u001b[0m\u001b[1;32m      4\u001b[0m \u001b[0;32mimport\u001b[0m \u001b[0mxarray\u001b[0m \u001b[0;32mas\u001b[0m \u001b[0mxr\u001b[0m\u001b[0;34m\u001b[0m\u001b[0m\n",
      "\u001b[0;32m/Users/ifenty/anaconda2/lib/python2.7/site-packages/ecco_v4_py/__init__.py\u001b[0m in \u001b[0;36m<module>\u001b[0;34m()\u001b[0m\n\u001b[1;32m     22\u001b[0m \u001b[0;32mfrom\u001b[0m \u001b[0mmds_io\u001b[0m \u001b[0;32mimport\u001b[0m \u001b[0mload_llc_mds\u001b[0m\u001b[0;34m\u001b[0m\u001b[0m\n\u001b[1;32m     23\u001b[0m \u001b[0;34m\u001b[0m\u001b[0m\n\u001b[0;32m---> 24\u001b[0;31m \u001b[0;32mfrom\u001b[0m \u001b[0minterp_latlon_plot\u001b[0m\u001b[0;34m.\u001b[0m\u001b[0mpy\u001b[0m \u001b[0;32mimport\u001b[0m \u001b[0mplot_latlon_interp_proj\u001b[0m\u001b[0;34m\u001b[0m\u001b[0m\n\u001b[0m\u001b[1;32m     25\u001b[0m \u001b[0;32mfrom\u001b[0m \u001b[0minterp_latlon_plot\u001b[0m\u001b[0;34m.\u001b[0m\u001b[0mpy\u001b[0m \u001b[0;32mimport\u001b[0m \u001b[0mplot_latlon_interp\u001b[0m\u001b[0;34m\u001b[0m\u001b[0m\n\u001b[1;32m     26\u001b[0m \u001b[0;34m\u001b[0m\u001b[0m\n",
      "\u001b[0;31mImportError\u001b[0m: No module named py"
     ]
    }
   ],
   "source": [
    "import numpy as np\n",
    "from copy import deepcopy \n",
    "import ecco_v4_py as ecco\n",
    "import xarray as xr"
   ]
  },
  {
   "cell_type": "code",
   "execution_count": null,
   "metadata": {},
   "outputs": [],
   "source": [
    "# Create a simple numpy array\n",
    "a=np.array([1, 2, 3, 4, 5])\n",
    "\n",
    "# Assign 'b' to point to the same numpy array\n",
    "b=a\n",
    "\n",
    "# Test to see if b and a point to the same thing\n",
    "b is a"
   ]
  },
  {
   "cell_type": "markdown",
   "metadata": {},
   "source": [
    "Now change the fourth element of ``b`` and print both ``a`` and ``b``"
   ]
  },
  {
   "cell_type": "code",
   "execution_count": null,
   "metadata": {},
   "outputs": [],
   "source": [
    "b[3] = 10\n",
    "print a\n",
    "print b"
   ]
  },
  {
   "cell_type": "markdown",
   "metadata": {},
   "source": [
    "### A fancier demonstration\n",
    "\n",
    "Let's now demonstrate with a `numpy` array that stores ``SSH`` output."
   ]
  },
  {
   "cell_type": "code",
   "execution_count": null,
   "metadata": {},
   "outputs": [],
   "source": [
    "# specify the location of your nctiles_monthly directory\n",
    "data_dir='/Volumes/ECCO_BASE/ECCO_v4r3/nctiles_monthly/SSH/'    \n",
    "var = 'SSH'\n",
    "var_type = 'c'\n",
    "ssh_all_tiles = ecco.load_all_tiles_from_netcdf(data_dir, var, var_type)\n",
    "ecco.minimal_metadata(ssh_all_tiles)\n",
    "\n",
    "# specify the location of your nctiles_grid directory\n",
    "grid_dir='/Volumes/ECCO_BASE/ECCO_v4r3/nctiles_grid/'\n",
    "var = 'GRID'\n",
    "var_type = 'grid'\n",
    "grid_all_tiles = ecco.load_all_tiles_from_netcdf(grid_dir, var, var_type)\n",
    "ecco.minimal_metadata(grid_all_tiles)\n",
    "\n",
    "# Merge these datasets\n",
    "output_all = xr.merge([ssh_all_tiles, grid_all_tiles])"
   ]
  },
  {
   "cell_type": "markdown",
   "metadata": {},
   "source": [
    "Recall the dimensions of our ``SSH`` `DataArray`:"
   ]
  },
  {
   "cell_type": "code",
   "execution_count": null,
   "metadata": {},
   "outputs": [],
   "source": [
    "output_all.SSH.dims"
   ]
  },
  {
   "cell_type": "markdown",
   "metadata": {},
   "source": [
    "Show the first four SSH values in **j** and **i** for the fifth month (May 1992) and second tile:"
   ]
  },
  {
   "cell_type": "code",
   "execution_count": null,
   "metadata": {},
   "outputs": [],
   "source": [
    "output_all.SSH[4,1,0:4,0:4].values"
   ]
  },
  {
   "cell_type": "markdown",
   "metadata": {},
   "source": [
    "Assign the variable `ssh_tmp` to this *subset* of the `numpy` array that ``SSH`` points to:"
   ]
  },
  {
   "cell_type": "code",
   "execution_count": null,
   "metadata": {},
   "outputs": [],
   "source": [
    "ssh_tmp = output_all.SSH[4,1,0:2,0:2].values\n",
    "ssh_tmp"
   ]
  },
  {
   "cell_type": "markdown",
   "metadata": {},
   "source": [
    "Now change the values of all elements of ``ssh_tmp`` to 10"
   ]
  },
  {
   "cell_type": "code",
   "execution_count": null,
   "metadata": {},
   "outputs": [],
   "source": [
    "ssh_tmp[:] = 10\n",
    "ssh_tmp"
   ]
  },
  {
   "cell_type": "markdown",
   "metadata": {},
   "source": [
    "And see that yes, in fact, this change is reflected in our ``SSH`` `DataArray`:"
   ]
  },
  {
   "cell_type": "code",
   "execution_count": null,
   "metadata": {},
   "outputs": [],
   "source": [
    "output_all.SSH[4,1,0:4,0:4].values"
   ]
  },
  {
   "cell_type": "markdown",
   "metadata": {},
   "source": [
    "## Dealing with *pass-by-reference*: right hand side operations\n",
    "\n",
    "One way to have a new variable assignment not point to the original variable is to *perform an operation on the right hand side of the assignment statement*.  \n",
    "\n",
    "\"Python evaluates expressions from left to right. Notice that while evaluating an assignment, the right-hand side is evaluated before the left-hand side.\"\n",
    "https://docs.python.org/2/reference/expressions.html#evaluation-order\n",
    "\n",
    "Performing an operation on the right hand side creates new values in memory.  The new variable assignment will then point to these new values, leaving the original untouched.\n",
    "\n",
    "### Simple demonstration 1\n",
    "Operate on ``a`` by adding 1 before the assigment statement"
   ]
  },
  {
   "cell_type": "code",
   "execution_count": null,
   "metadata": {},
   "outputs": [],
   "source": [
    "# Create a simple numpy array\n",
    "a=np.array([1, 2, 3, 4, 5])\n",
    "\n",
    "b = a + 1\n",
    "\n",
    "print a\n",
    "print b"
   ]
  },
  {
   "cell_type": "markdown",
   "metadata": {},
   "source": [
    "Now change the fourth element of ``b`` and print both ``a`` and ``b``"
   ]
  },
  {
   "cell_type": "code",
   "execution_count": null,
   "metadata": {
    "scrolled": true
   },
   "outputs": [],
   "source": [
    "b[3] = 10\n",
    "print a\n",
    "print b"
   ]
  },
  {
   "cell_type": "markdown",
   "metadata": {},
   "source": [
    "``a`` and ``b`` do indeed point to different values in memory."
   ]
  },
  {
   "cell_type": "markdown",
   "metadata": {},
   "source": [
    "### Simple demonstration 2\n",
    "\n",
    "Operate on ``a`` by adding 0 before the assigment statement.  This is a kind of dummy operation."
   ]
  },
  {
   "cell_type": "code",
   "execution_count": null,
   "metadata": {},
   "outputs": [],
   "source": [
    "# Create a simple numpy array\n",
    "a=np.array([1, 2, 3, 4, 5])\n",
    "\n",
    "# Add 0 to `a`:\n",
    "b = a + 0\n",
    "\n",
    "print a\n",
    "print b"
   ]
  },
  {
   "cell_type": "code",
   "execution_count": null,
   "metadata": {},
   "outputs": [],
   "source": [
    "# Test to see if b and a point to the same thing\n",
    "b is a"
   ]
  },
  {
   "cell_type": "markdown",
   "metadata": {},
   "source": [
    "Now change the fourth element of ``b`` and print both ``a`` and ``b``"
   ]
  },
  {
   "cell_type": "code",
   "execution_count": null,
   "metadata": {
    "scrolled": true
   },
   "outputs": [],
   "source": [
    "b[3] = 10\n",
    "print a\n",
    "print b"
   ]
  },
  {
   "cell_type": "markdown",
   "metadata": {},
   "source": [
    "Once again we see that ``a`` and ``b`` do indeed point to different values in memory."
   ]
  },
  {
   "cell_type": "markdown",
   "metadata": {},
   "source": [
    "### A fancier demonstration\n",
    "\n",
    "Let's now demonstrate with a `numpy` array that stores ``SSH`` output."
   ]
  },
  {
   "cell_type": "code",
   "execution_count": null,
   "metadata": {},
   "outputs": [],
   "source": [
    "output_all.SSH[4,1,5:9,5:9].values"
   ]
  },
  {
   "cell_type": "code",
   "execution_count": null,
   "metadata": {},
   "outputs": [],
   "source": [
    "ssh_tmp = output_all.SSH[4,1,5:9,5:9].values * output_all.RAC[1,5:9,5:9].values\n",
    "ssh_tmp[:] = 10\n",
    "ssh_tmp"
   ]
  },
  {
   "cell_type": "code",
   "execution_count": null,
   "metadata": {},
   "outputs": [],
   "source": [
    "output_all.SSH[4,1,5:9,5:9].values"
   ]
  },
  {
   "cell_type": "markdown",
   "metadata": {},
   "source": [
    "Operating on the right hand side of the assignment does indeed new arrays in memory leaving the original SSH `numpy` array untouched."
   ]
  },
  {
   "cell_type": "markdown",
   "metadata": {},
   "source": [
    "## Dealing with *pass-by-reference*: copy and deepcopy\n",
    "\n",
    "A second way to have a new variable assignment not point to the original variable is to *use the copy or deepcopy command*.\n",
    "\n",
    "### Simple demonstration\n",
    "Use the `numpy` command."
   ]
  },
  {
   "cell_type": "code",
   "execution_count": null,
   "metadata": {},
   "outputs": [],
   "source": [
    "# Create a simple numpy array\n",
    "a=np.array([1, 2, 3, 4, 5])\n",
    "b=np.copy(a)\n",
    "\n",
    "print a\n",
    "print b"
   ]
  },
  {
   "cell_type": "markdown",
   "metadata": {},
   "source": [
    "Now change the fourth element of ``b`` and print both ``a`` and ``b``"
   ]
  },
  {
   "cell_type": "code",
   "execution_count": null,
   "metadata": {
    "scrolled": true
   },
   "outputs": [],
   "source": [
    "b[3] = 10\n",
    "print a\n",
    "print b"
   ]
  },
  {
   "cell_type": "code",
   "execution_count": null,
   "metadata": {},
   "outputs": [],
   "source": [
    "output_all.SSH"
   ]
  },
  {
   "cell_type": "markdown",
   "metadata": {},
   "source": [
    "### Fancier demonstration\n",
    "\n",
    "`Dataset` and `DataArray` objects are too complicated for `numpy`'s `copy` command.  For complex objects such as these use the `deepcopy` command."
   ]
  },
  {
   "cell_type": "code",
   "execution_count": null,
   "metadata": {},
   "outputs": [],
   "source": [
    "ssh_tmp = deepcopy(output_all.SSH)\n",
    "ssh_tmp[:] = 10\n",
    "ssh_tmp[4,1,5:9,5:9].values"
   ]
  },
  {
   "cell_type": "code",
   "execution_count": null,
   "metadata": {},
   "outputs": [],
   "source": [
    "output_all.SSH[4,1,5:9,5:9].values"
   ]
  },
  {
   "cell_type": "markdown",
   "metadata": {},
   "source": [
    "Using `deepcopy` gives us an entirely new array in memory.  Operations on ``ssh_tmp`` do not affect the original fields that we found in the `output_all_SSH` `DataArray`.\n",
    "\n",
    "#### alternative to `deepcopy`\n",
    "`xarray` give us another way to deepcopy `DataArrays` and `Datasets`:\n",
    "\n",
    "``\n",
    "ssh_tmp = output_all.copy(deep=True)\n",
    "``"
   ]
  },
  {
   "cell_type": "markdown",
   "metadata": {},
   "source": [
    "## Conclusion\n",
    "\n",
    "You now know about the possible pitfalls for dealing with Python's **pass-by-reference** way of handling assignment statements and different methods for making copies of `numpy` arrays and `Datasets` and `DataArrays`.  "
   ]
  }
 ],
 "metadata": {
  "kernelspec": {
   "display_name": "Python 2",
   "language": "python",
   "name": "python2"
  },
  "language_info": {
   "codemirror_mode": {
    "name": "ipython",
    "version": 2
   },
   "file_extension": ".py",
   "mimetype": "text/x-python",
   "name": "python",
   "nbconvert_exporter": "python",
   "pygments_lexer": "ipython2",
   "version": "2.7.14"
  }
 },
 "nbformat": 4,
 "nbformat_minor": 2
}
