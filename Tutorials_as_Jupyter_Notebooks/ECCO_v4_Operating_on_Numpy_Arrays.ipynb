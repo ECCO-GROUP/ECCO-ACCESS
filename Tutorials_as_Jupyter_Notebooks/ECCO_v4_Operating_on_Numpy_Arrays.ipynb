{
 "cells": [
  {
   "cell_type": "markdown",
   "metadata": {},
   "source": [
    "# Operating on Numpy arrays\n",
    "\n",
    "## Objectives\n",
    "\n",
    "Introduce numpy's **pass-by-reference** approach handling numpy arrays and methods for avoiding pitfalls when operating on numpy arrays.\n",
    "\n",
    "## Introduction\n",
    "\n",
    "From: http://span.ece.utah.edu/common-mistakes-in-moving-from-matlab-to-python:\n",
    "\n",
    "\"Whenever you reference an array in Python, the computer will provide the memory address for the thing you are accessing, not the actual value. This is called **pass-by-reference**. This saves memory and makes your programs faster, but it is also harder to keep straight.\"  \n",
    "\n",
    "From: https://docs.python.org/2/library/copy.html\n",
    "\n",
    "\"Assignment statements in Python do not copy objects, they create bindings [pointers] between a target and an object.\" \"... a copy is sometimes needed so one can change one copy without changing the other. The 'copy' module provides generic ... copy operations.\"\n",
    "\n",
    "If you are not familiar with the **pass-by-reference** aspect of Python then I strongly suggest you read this short, informative essay on \"Python Names and Values\": https://nedbatchelder.com/text/names.html\n",
    "\n",
    "We've briefly touched on this important subject in earlier tutorials.  Now we'll go into a bit more detail."
   ]
  },
  {
   "cell_type": "markdown",
   "metadata": {},
   "source": [
    "## Variable assignments\n",
    "\n",
    "Unlike some other languages, creating a new variable with an assignment statement in Python such as\n",
    "`\n",
    "x = some_numpy_array\n",
    "`\n",
    "\n",
    "does not make a copy of ``some_numpy_array``.  Instead, the assignment statement makes ``x`` and ``some_numpy_array`` both point to the same `numpy` array in memory.  Because ``x`` and ``some_numpy_array`` are both refer (or pointer) to the same `numpy` array in memory, the `numpy` array can be changed by operations on either ``x`` or ``some_numpy_array``.  If you aren't aware of this behavior then you may run into very difficult to identify bugs in your calculations!\n",
    "\n",
    "### A simple demonstration\n",
    "\n",
    "Let's demonstrate this issue with a very simple `numpy` array"
   ]
  },
  {
   "cell_type": "code",
   "execution_count": 25,
   "metadata": {},
   "outputs": [],
   "source": [
    "import numpy as np\n",
    "import xarray as xr\n",
    "import sys\n",
    "import matplotlib.pyplot as plt\n",
    "%matplotlib inline\n",
    "import json\n",
    "from copy import deepcopy \n",
    "import warnings\n",
    "warnings.filterwarnings('ignore')"
   ]
  },
  {
   "cell_type": "code",
   "execution_count": 2,
   "metadata": {},
   "outputs": [],
   "source": [
    "## Import the ecco_v4_py library into Python\n",
    "## =========================================\n",
    "\n",
    "## -- For the ECCO Summer School, use \n",
    "import ecco_v4_py as ecco\n",
    "\n",
    "## -- If ecco_v4_py is not installed in your local Python library, \n",
    "##    tell Python where to find it.  For example, if your ecco_v4_py\n",
    "##    files are in /Users/ifenty/ECCOv4-py/ecco_v4_py, then use:\n",
    "\n",
    "# sys.path.append('/Users/ifenty/ECCOv4-py')\n",
    "# import ecco_v4_py as ecco"
   ]
  },
  {
   "cell_type": "code",
   "execution_count": 3,
   "metadata": {},
   "outputs": [],
   "source": [
    "## Tell Python where to find some ECCO NetCDF \n",
    "## yearly-aggregated fields (Format 1)\n",
    "## ===================================\n",
    "\n",
    "## -- For the ECCO Summer School, use\n",
    "base_dir = '/work/projects/aci/ECCO/community/ECCO/ECCOv4/Release3p1'\n",
    "\n",
    "## -- If files are on a local machine, use something like \n",
    "# base_dir = '/Users/ifenty/'\n",
    "\n",
    "ECCO_dir = base_dir + '/eccov4r3_native_grid_netcdf/'"
   ]
  },
  {
   "cell_type": "markdown",
   "metadata": {},
   "source": [
    "Create a simple numpy array"
   ]
  },
  {
   "cell_type": "code",
   "execution_count": 4,
   "metadata": {},
   "outputs": [
    {
     "data": {
      "text/plain": [
       "True"
      ]
     },
     "execution_count": 4,
     "metadata": {},
     "output_type": "execute_result"
    }
   ],
   "source": [
    "a=np.array([1, 2, 3, 4, 5])\n",
    "\n",
    "# Assign 'b' to point to the same numpy array\n",
    "b=a\n",
    "\n",
    "# Test to see if b and a point to the same thing\n",
    "b is a"
   ]
  },
  {
   "cell_type": "markdown",
   "metadata": {},
   "source": [
    "Now change the fourth element of ``b`` and print both ``a`` and ``b``"
   ]
  },
  {
   "cell_type": "code",
   "execution_count": 5,
   "metadata": {},
   "outputs": [
    {
     "name": "stdout",
     "output_type": "stream",
     "text": [
      "[ 1  2  3 10  5]\n",
      "[ 1  2  3 10  5]\n"
     ]
    }
   ],
   "source": [
    "b[3] = 10\n",
    "print (a)\n",
    "print (b)"
   ]
  },
  {
   "cell_type": "markdown",
   "metadata": {},
   "source": [
    "### A fancier demonstration\n",
    "\n",
    "Let's now demonstrate with a `numpy` array that stores ``SSH`` output."
   ]
  },
  {
   "cell_type": "code",
   "execution_count": 6,
   "metadata": {},
   "outputs": [],
   "source": [
    "## LOAD NETCDF SSH FILE\n",
    "\n",
    "# directory of the file\n",
    "data_dir= ECCO_dir + '/mon_mean/SSH/'\n",
    "# filename\n",
    "fname = 'SSH_2010.nc'\n",
    "# load the dataset file\n",
    "ssh_dataset = xr.open_dataset(data_dir + fname).load()\n",
    "\n",
    "## LOAD NETCDF GRID FILE\n",
    "data_dir= ECCO_dir + '/grid/'\n",
    "# filename\n",
    "fname = 'ECCOv4r3_grid.nc'\n",
    "# load the dataset file\n",
    "grid_dataset = xr.open_dataset(data_dir + fname).load()\n",
    "\n",
    "## Merge SSH and GRID\n",
    "output_all = xr.merge((ssh_dataset, grid_dataset))"
   ]
  },
  {
   "cell_type": "markdown",
   "metadata": {},
   "source": [
    "Recall the dimensions of our ``SSH`` `DataArray`:"
   ]
  },
  {
   "cell_type": "code",
   "execution_count": 7,
   "metadata": {},
   "outputs": [
    {
     "data": {
      "text/plain": [
       "('time', 'tile', 'j', 'i')"
      ]
     },
     "execution_count": 7,
     "metadata": {},
     "output_type": "execute_result"
    }
   ],
   "source": [
    "output_all.SSH.dims"
   ]
  },
  {
   "cell_type": "markdown",
   "metadata": {},
   "source": [
    "Show the first four SSH values in **j** and **i** for the fifth month (May 1992) and second tile:"
   ]
  },
  {
   "cell_type": "code",
   "execution_count": 8,
   "metadata": {},
   "outputs": [
    {
     "data": {
      "text/plain": [
       "array([[-1.4365957, -1.436502 , -1.4301504, -1.434309 ],\n",
       "       [-1.3933921, -1.3902488, -1.3870735, -1.401771 ],\n",
       "       [-1.3574185, -1.3534354, -1.3570538, -1.3828031],\n",
       "       [-1.3392653, -1.3360693, -1.3463365, -1.378602 ]], dtype=float32)"
      ]
     },
     "execution_count": 8,
     "metadata": {},
     "output_type": "execute_result"
    }
   ],
   "source": [
    "output_all.SSH[4,1,0:4,0:4].values"
   ]
  },
  {
   "cell_type": "markdown",
   "metadata": {},
   "source": [
    "Assign the variable `ssh_tmp` to this *subset* of the `numpy` array that ``SSH`` points to:"
   ]
  },
  {
   "cell_type": "code",
   "execution_count": 9,
   "metadata": {},
   "outputs": [
    {
     "data": {
      "text/plain": [
       "array([[-1.4365957, -1.436502 ],\n",
       "       [-1.3933921, -1.3902488]], dtype=float32)"
      ]
     },
     "execution_count": 9,
     "metadata": {},
     "output_type": "execute_result"
    }
   ],
   "source": [
    "ssh_tmp = output_all.SSH[4,1,0:2,0:2].values\n",
    "ssh_tmp"
   ]
  },
  {
   "cell_type": "markdown",
   "metadata": {},
   "source": [
    "Now change the values of all elements of ``ssh_tmp`` to 10"
   ]
  },
  {
   "cell_type": "code",
   "execution_count": 10,
   "metadata": {},
   "outputs": [
    {
     "data": {
      "text/plain": [
       "array([[10., 10.],\n",
       "       [10., 10.]], dtype=float32)"
      ]
     },
     "execution_count": 10,
     "metadata": {},
     "output_type": "execute_result"
    }
   ],
   "source": [
    "ssh_tmp[:] = 10\n",
    "ssh_tmp"
   ]
  },
  {
   "cell_type": "markdown",
   "metadata": {},
   "source": [
    "And see that yes, in fact, this change is reflected in our ``SSH`` `DataArray`:"
   ]
  },
  {
   "cell_type": "code",
   "execution_count": 11,
   "metadata": {},
   "outputs": [
    {
     "data": {
      "text/plain": [
       "array([[10.       , 10.       , -1.4301504, -1.434309 ],\n",
       "       [10.       , 10.       , -1.3870735, -1.401771 ],\n",
       "       [-1.3574185, -1.3534354, -1.3570538, -1.3828031],\n",
       "       [-1.3392653, -1.3360693, -1.3463365, -1.378602 ]], dtype=float32)"
      ]
     },
     "execution_count": 11,
     "metadata": {},
     "output_type": "execute_result"
    }
   ],
   "source": [
    "output_all.SSH[4,1,0:4,0:4].values"
   ]
  },
  {
   "cell_type": "markdown",
   "metadata": {},
   "source": [
    "## Dealing with *pass-by-reference*: right hand side operations\n",
    "\n",
    "One way to have a new variable assignment not point to the original variable is to *perform an operation on the right hand side of the assignment statement*.  \n",
    "\n",
    "\"Python evaluates expressions from left to right. Notice that while evaluating an assignment, the right-hand side is evaluated before the left-hand side.\"\n",
    "https://docs.python.org/2/reference/expressions.html#evaluation-order\n",
    "\n",
    "Performing an operation on the right hand side creates new values in memory.  The new variable assignment will then point to these new values, leaving the original untouched.\n",
    "\n",
    "### Simple demonstration 1\n",
    "Operate on ``a`` by adding 1 before the assigment statement"
   ]
  },
  {
   "cell_type": "code",
   "execution_count": 12,
   "metadata": {},
   "outputs": [
    {
     "name": "stdout",
     "output_type": "stream",
     "text": [
      "[1 2 3 4 5]\n",
      "[2 3 4 5 6]\n"
     ]
    }
   ],
   "source": [
    "# Create a simple numpy array\n",
    "a=np.array([1, 2, 3, 4, 5])\n",
    "\n",
    "b = a + 1\n",
    "\n",
    "print (a)\n",
    "print (b)"
   ]
  },
  {
   "cell_type": "markdown",
   "metadata": {},
   "source": [
    "Now change the fourth element of ``b`` and print both ``a`` and ``b``"
   ]
  },
  {
   "cell_type": "code",
   "execution_count": 13,
   "metadata": {
    "scrolled": true
   },
   "outputs": [
    {
     "name": "stdout",
     "output_type": "stream",
     "text": [
      "[1 2 3 4 5]\n",
      "[ 2  3  4 10  6]\n"
     ]
    }
   ],
   "source": [
    "b[3] = 10\n",
    "print (a)\n",
    "print (b)"
   ]
  },
  {
   "cell_type": "markdown",
   "metadata": {},
   "source": [
    "``a`` and ``b`` do indeed point to different values in memory."
   ]
  },
  {
   "cell_type": "markdown",
   "metadata": {},
   "source": [
    "### Simple demonstration 2\n",
    "\n",
    "Operate on ``a`` by adding 0 before the assigment statement.  This is a kind of dummy operation."
   ]
  },
  {
   "cell_type": "code",
   "execution_count": 14,
   "metadata": {},
   "outputs": [
    {
     "name": "stdout",
     "output_type": "stream",
     "text": [
      "[1 2 3 4 5]\n",
      "[1 2 3 4 5]\n"
     ]
    }
   ],
   "source": [
    "# Create a simple numpy array\n",
    "a=np.array([1, 2, 3, 4, 5])\n",
    "\n",
    "# Add 0 to `a`:\n",
    "b = a + 0\n",
    "\n",
    "print (a)\n",
    "print (b)"
   ]
  },
  {
   "cell_type": "code",
   "execution_count": 15,
   "metadata": {},
   "outputs": [
    {
     "data": {
      "text/plain": [
       "False"
      ]
     },
     "execution_count": 15,
     "metadata": {},
     "output_type": "execute_result"
    }
   ],
   "source": [
    "# Test to see if b and a point to the same thing\n",
    "b is a"
   ]
  },
  {
   "cell_type": "markdown",
   "metadata": {},
   "source": [
    "Now change the fourth element of ``b`` and print both ``a`` and ``b``"
   ]
  },
  {
   "cell_type": "code",
   "execution_count": 16,
   "metadata": {
    "scrolled": true
   },
   "outputs": [
    {
     "name": "stdout",
     "output_type": "stream",
     "text": [
      "[1 2 3 4 5]\n",
      "[ 1  2  3 10  5]\n"
     ]
    }
   ],
   "source": [
    "b[3] = 10\n",
    "print (a)\n",
    "print (b)"
   ]
  },
  {
   "cell_type": "markdown",
   "metadata": {},
   "source": [
    "Once again we see that ``a`` and ``b`` do indeed point to different values in memory."
   ]
  },
  {
   "cell_type": "markdown",
   "metadata": {},
   "source": [
    "### A fancier demonstration\n",
    "\n",
    "Let's now demonstrate with a `numpy` array that stores ``SSH`` output."
   ]
  },
  {
   "cell_type": "code",
   "execution_count": 17,
   "metadata": {},
   "outputs": [
    {
     "data": {
      "text/plain": [
       "array([[-1.4406753, -1.4481026, -1.4435667, -1.4330329],\n",
       "       [-1.4137946, -1.4145803, -1.4049884, -1.3896267],\n",
       "       [-1.3741281, -1.3701942, -1.3568683, -1.3380871],\n",
       "       [-1.3235712, -1.316149 , -1.2999685, -1.2789109]], dtype=float32)"
      ]
     },
     "execution_count": 17,
     "metadata": {},
     "output_type": "execute_result"
    }
   ],
   "source": [
    "output_all.SSH[4,1,5:9,5:9].values"
   ]
  },
  {
   "cell_type": "code",
   "execution_count": 18,
   "metadata": {},
   "outputs": [
    {
     "data": {
      "text/plain": [
       "array([[10., 10., 10., 10.],\n",
       "       [10., 10., 10., 10.],\n",
       "       [10., 10., 10., 10.],\n",
       "       [10., 10., 10., 10.]], dtype=float32)"
      ]
     },
     "execution_count": 18,
     "metadata": {},
     "output_type": "execute_result"
    }
   ],
   "source": [
    "ssh_tmp = output_all.SSH[4,1,5:9,5:9].values * output_all.rA[1,5:9,5:9].values\n",
    "ssh_tmp[:] = 10\n",
    "ssh_tmp"
   ]
  },
  {
   "cell_type": "code",
   "execution_count": 19,
   "metadata": {},
   "outputs": [
    {
     "data": {
      "text/plain": [
       "array([[-1.4406753, -1.4481026, -1.4435667, -1.4330329],\n",
       "       [-1.4137946, -1.4145803, -1.4049884, -1.3896267],\n",
       "       [-1.3741281, -1.3701942, -1.3568683, -1.3380871],\n",
       "       [-1.3235712, -1.316149 , -1.2999685, -1.2789109]], dtype=float32)"
      ]
     },
     "execution_count": 19,
     "metadata": {},
     "output_type": "execute_result"
    }
   ],
   "source": [
    "output_all.SSH[4,1,5:9,5:9].values"
   ]
  },
  {
   "cell_type": "markdown",
   "metadata": {},
   "source": [
    "Operating on the right hand side of the assignment does indeed new arrays in memory leaving the original SSH `numpy` array untouched."
   ]
  },
  {
   "cell_type": "markdown",
   "metadata": {},
   "source": [
    "## Dealing with *pass-by-reference*: copy and deepcopy\n",
    "\n",
    "A second way to have a new variable assignment not point to the original variable is to *use the copy or deepcopy command*.\n",
    "\n",
    "### Simple demonstration\n",
    "Use the `numpy` command."
   ]
  },
  {
   "cell_type": "code",
   "execution_count": 20,
   "metadata": {},
   "outputs": [
    {
     "name": "stdout",
     "output_type": "stream",
     "text": [
      "[1 2 3 4 5]\n",
      "[1 2 3 4 5]\n"
     ]
    }
   ],
   "source": [
    "# Create a simple numpy array\n",
    "a=np.array([1, 2, 3, 4, 5])\n",
    "b=np.copy(a)\n",
    "\n",
    "print (a)\n",
    "print (b)"
   ]
  },
  {
   "cell_type": "markdown",
   "metadata": {},
   "source": [
    "Now change the fourth element of ``b`` and print both ``a`` and ``b``"
   ]
  },
  {
   "cell_type": "code",
   "execution_count": 21,
   "metadata": {
    "scrolled": true
   },
   "outputs": [
    {
     "name": "stdout",
     "output_type": "stream",
     "text": [
      "[1 2 3 4 5]\n",
      "[ 1  2  3 10  5]\n"
     ]
    }
   ],
   "source": [
    "b[3] = 10\n",
    "print (a)\n",
    "print (b)"
   ]
  },
  {
   "cell_type": "code",
   "execution_count": 22,
   "metadata": {},
   "outputs": [
    {
     "data": {
      "text/plain": [
       "<xarray.DataArray 'SSH' (time: 12, tile: 13, j: 90, i: 90)>\n",
       "array([[[[ 0.      , ...,  0.      ],\n",
       "         ...,\n",
       "         [-1.436315, ..., -1.328266]],\n",
       "\n",
       "        ...,\n",
       "\n",
       "        [[-0.596484, ...,  0.      ],\n",
       "         ...,\n",
       "         [-1.419143, ...,  0.      ]]],\n",
       "\n",
       "\n",
       "       ...,\n",
       "\n",
       "\n",
       "       [[[ 0.      , ...,  0.      ],\n",
       "         ...,\n",
       "         [-1.409487, ..., -1.277352]],\n",
       "\n",
       "        ...,\n",
       "\n",
       "        [[-0.714531, ...,  0.      ],\n",
       "         ...,\n",
       "         [-1.394759, ...,  0.      ]]]], dtype=float32)\n",
       "Coordinates:\n",
       "  * j        (j) int32 0 1 2 3 4 5 6 7 8 9 10 ... 80 81 82 83 84 85 86 87 88 89\n",
       "  * i        (i) int32 0 1 2 3 4 5 6 7 8 9 10 ... 80 81 82 83 84 85 86 87 88 89\n",
       "    XC       (tile, j, i) float32 -111.60647 -111.303 ... -105.58465 -111.86579\n",
       "    YC       (tile, j, i) float32 -88.24259 -88.382515 ... -88.07871 -88.10267\n",
       "    rA       (tile, j, i) float32 362256450.0 363300960.0 ... 361119100.0\n",
       "  * tile     (tile) int32 0 1 2 3 4 5 6 7 8 9 10 11 12\n",
       "    iter     (time) int32 158532 159204 159948 160668 ... 165084 165804 166548\n",
       "  * time     (time) datetime64[ns] 2010-01-16T12:00:00 ... 2010-12-16T12:00:00\n",
       "    CS       (tile, j, i) float32 0.06157813 0.06675376 ... -0.9983638\n",
       "    SN       (tile, j, i) float32 -0.99810225 -0.9977695 ... -0.057182025\n",
       "    Depth    (tile, j, i) float32 0.0 0.0 0.0 0.0 0.0 ... 0.0 0.0 0.0 0.0 0.0\n",
       "Attributes:\n",
       "    units:          m\n",
       "    long_name:      Surface Height Anomaly adjusted with global steric height...\n",
       "    standard_name:  sea_surface_height"
      ]
     },
     "execution_count": 22,
     "metadata": {},
     "output_type": "execute_result"
    }
   ],
   "source": [
    "output_all.SSH"
   ]
  },
  {
   "cell_type": "markdown",
   "metadata": {},
   "source": [
    "### Fancier demonstration\n",
    "\n",
    "`Dataset` and `DataArray` objects are too complicated for `numpy`'s `copy` command.  For complex objects such as these use the `deepcopy` command."
   ]
  },
  {
   "cell_type": "code",
   "execution_count": 23,
   "metadata": {},
   "outputs": [
    {
     "data": {
      "text/plain": [
       "array([[10., 10., 10., 10.],\n",
       "       [10., 10., 10., 10.],\n",
       "       [10., 10., 10., 10.],\n",
       "       [10., 10., 10., 10.]], dtype=float32)"
      ]
     },
     "execution_count": 23,
     "metadata": {},
     "output_type": "execute_result"
    }
   ],
   "source": [
    "ssh_tmp = deepcopy(output_all.SSH)\n",
    "ssh_tmp[:] = 10\n",
    "ssh_tmp[4,1,5:9,5:9].values"
   ]
  },
  {
   "cell_type": "code",
   "execution_count": 24,
   "metadata": {},
   "outputs": [
    {
     "data": {
      "text/plain": [
       "array([[-1.4406753, -1.4481026, -1.4435667, -1.4330329],\n",
       "       [-1.4137946, -1.4145803, -1.4049884, -1.3896267],\n",
       "       [-1.3741281, -1.3701942, -1.3568683, -1.3380871],\n",
       "       [-1.3235712, -1.316149 , -1.2999685, -1.2789109]], dtype=float32)"
      ]
     },
     "execution_count": 24,
     "metadata": {},
     "output_type": "execute_result"
    }
   ],
   "source": [
    "output_all.SSH[4,1,5:9,5:9].values"
   ]
  },
  {
   "cell_type": "markdown",
   "metadata": {},
   "source": [
    "Using `deepcopy` gives us an entirely new array in memory.  Operations on ``ssh_tmp`` do not affect the original fields that we found in the `output_all_SSH` `DataArray`.\n",
    "\n",
    "#### alternative to `deepcopy`\n",
    "`xarray` give us another way to deepcopy `DataArrays` and `Datasets`:\n",
    "\n",
    "``\n",
    "ssh_tmp = output_all.copy(deep=True)\n",
    "``"
   ]
  },
  {
   "cell_type": "markdown",
   "metadata": {},
   "source": [
    "## Conclusion\n",
    "\n",
    "You now know about the possible pitfalls for dealing with Python's **pass-by-reference** way of handling assignment statements and different methods for making copies of `numpy` arrays and `Datasets` and `DataArrays`.  "
   ]
  }
 ],
 "metadata": {
  "kernelspec": {
   "display_name": "Python 3",
   "language": "python",
   "name": "python3"
  },
  "language_info": {
   "codemirror_mode": {
    "name": "ipython",
    "version": 3
   },
   "file_extension": ".py",
   "mimetype": "text/x-python",
   "name": "python",
   "nbconvert_exporter": "python",
   "pygments_lexer": "ipython3",
   "version": "3.6.6"
  }
 },
 "nbformat": 4,
 "nbformat_minor": 2
}
