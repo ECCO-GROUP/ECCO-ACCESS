{
 "cells": [
  {
   "cell_type": "markdown",
   "metadata": {},
   "source": [
    "# The Dataset and DataArray objects used in the ECCOv4 Python package.\n",
    "\n",
    "## Objectives\n",
    "\n",
    "To introduce the two high-level data structures, `Dataset` and `DataArray`, that are used in by the `ecco_v4_py` Python package to load and store the ECCO v4 model grid parameters and state estimate variables.\n",
    "\n",
    "## Introduction \n",
    "\n",
    "In this first tutorial we will start slowly, providing detail at every step.  Later tutorials will be assume knowledge of some basic operations introduced here.\n",
    "\n",
    "Let's get started.\n",
    "\n",
    "## Import external packages and modules\n",
    "\n",
    "Before using Python libraries we must import them.  Usually this is done at the beginning of every Python program or interactive Juypter notebook instance but one can import a library at any point in the code.  Python libraries, called **packages**, contain subroutines and/or define data structures that provide useful functionality.\n",
    "\n",
    "Before we go further, let's import some packages needed for this tutorial:"
   ]
  },
  {
   "cell_type": "code",
   "execution_count": 1,
   "metadata": {
    "collapsed": true
   },
   "outputs": [],
   "source": [
    "# NumPy is the fundamental package for scientific computing with Python. \n",
    "# It contains among other things:\n",
    "#    a powerful N-dimensional array object\n",
    "#    sophisticated (broadcasting) functions\n",
    "#    tools for integrating C/C++ and Fortran code\n",
    "#    useful linear algebra, Fourier transform, and random number capabilities\n",
    "# http://www.numpy.org/\n",
    "#\n",
    "# make all functions from the 'numpy' module available with the prefix 'np'\n",
    "import numpy as np\n",
    "\n",
    "# xarray is an open source project and Python package that aims to bring the \n",
    "# labeled data power of pandas to the physical sciences, by providing\n",
    "# N-dimensional variants of the core pandas data structures.\n",
    "# Our approach adopts the Common Data Model for self- describing scientific \n",
    "# data in widespread use in the Earth sciences: xarray.Dataset is an in-memory\n",
    "# representation of a netCDF file.\n",
    "# http://xarray.pydata.org/en/stable/\n",
    "#\n",
    "# import all function from the 'xarray' module available with the prefix 'xr'\n",
    "import xarray as xr"
   ]
  },
  {
   "cell_type": "markdown",
   "metadata": {},
   "source": [
    "### Load the ECCO Version 4 Python package\n",
    "\n",
    "The *ecco_v4_py* is a Python package written specifically for working with the NetCDF output provided in the [nctiles_monthly](ftp://ecco.jpl.nasa.gov/Version4/Release3/nctiles_monthly/) directory of the [ECCO v4 release](ftp://ecco.jpl.nasa.gov/Version4/Release3/)\n",
    "\n",
    "See the \"Getting Started\" page in the tutorial for instructions about installing the *ecco_v4_py* module on your machine."
   ]
  },
  {
   "cell_type": "code",
   "execution_count": 2,
   "metadata": {
    "collapsed": true
   },
   "outputs": [],
   "source": [
    "import ecco_v4_py as ecco"
   ]
  },
  {
   "cell_type": "markdown",
   "metadata": {},
   "source": [
    "The syntax \n",
    "\n",
    "```Python\n",
    "  import XYZ package as ABC\n",
    "```\n",
    "\n",
    "allows you to access all of the subroutines and/or objects in a package with perhaps a long complicated name with a shorter, easier name.\n",
    "\n",
    "Here, we import `ecco_v4_py` as `ecco` because typing `ecco` is easier than `ecco_v4_py` every time.  Also, `ecco_v4_py` is actually comprised of multiple python modules and by importing just `ecco_v4_py` we can actually access all of the subroutines in those modules as well.  Fancy."
   ]
  },
  {
   "cell_type": "markdown",
   "metadata": {},
   "source": [
    "## Load a single NetCDF grid tile file\n",
    "\n",
    "To load ECCO v4's NetCDF files we will use the *open_dataset* command from the Python package [xarray](http://xarray.pydata.org/en/stable/index.html). The *open_dataset* routine creates a `Dataset` object and loads the contents of the NetCDF file, including its metadata, into a data structure.    \n",
    "\n",
    "Let's open the model model grid parameter file associated with *tile 3* (the North East Atlantic Ocean)."
   ]
  },
  {
   "cell_type": "code",
   "execution_count": 3,
   "metadata": {
    "collapsed": true
   },
   "outputs": [],
   "source": [
    "# Set this to be the directory for your fields\n",
    "ECCO_dir = '/Users/ifenty/ECCOv4/R3'\n",
    "\n",
    "# Load all tiles of the LLC90 Grid    \n",
    "grid_dir= ECCO_dir + '/nctiles_grid/' \n",
    "\n",
    "fname = 'GRID.0003.nc'\n",
    "ds = xr.open_dataset(grid_dir + fname)"
   ]
  },
  {
   "cell_type": "markdown",
   "metadata": {},
   "source": [
    "What is *ds*?  It is a `Dataset` object which is defined somewhere deep in the `xarray` package:"
   ]
  },
  {
   "cell_type": "code",
   "execution_count": 4,
   "metadata": {},
   "outputs": [
    {
     "data": {
      "text/plain": [
       "xarray.core.dataset.Dataset"
      ]
     },
     "execution_count": 4,
     "metadata": {},
     "output_type": "execute_result"
    }
   ],
   "source": [
    "type(ds)"
   ]
  },
  {
   "cell_type": "markdown",
   "metadata": {},
   "source": [
    "## The Dataset object \n",
    "\n",
    "According to the xarray documentation, a [Dataset](http://xarray.pydata.org/en/stable/generated/xarray.Dataset.html) is a Python object designed as an \"in-memory representation of the data model from the NetCDF file format.\"\n",
    "\n",
    "What does that mean?  NetCDF files are *self-describing* in the sense that they [include information about the data they contain](https://www.unidata.ucar.edu/software/netcdf/docs/faq.html).  When `Datasets` are created by loading a NetCDF file they load all of the same data and metadata.\n",
    "\n",
    "Just as a NetCDF file can contain many variables, a `Dataset` can contain many variables.  These variables are referred to as `Data Variables` in the `xarray` nomenclature.\n",
    "\n",
    "`Datasets` contain three main classes of field:\n",
    "\n",
    "1. **Coordinates**   : indices and labels for all of the coordinates used by all data variables \n",
    "2. **Data Variables**: `DataArray` objects which contain numerical arrays, their coordinates, coordinate labels, and variable-specific metadata\n",
    "3. **Attributes**    : metadata \n",
    "\n",
    "Now that we've loaded `GRID.0003.nc` as the *ds* `Dataset` object let's examine its contents.  \n",
    "\n",
    "> **Note:** *You can get information about objects and their contents by typing the name of the variable and hitting **enter** in an interactive session of an IDE such as Spyder or by executing the cell of a Jupyter notebook.*"
   ]
  },
  {
   "cell_type": "code",
   "execution_count": 5,
   "metadata": {},
   "outputs": [
    {
     "data": {
      "text/plain": [
       "<xarray.Dataset>\n",
       "Dimensions:  (i1: 50, i2: 90, i3: 90)\n",
       "Coordinates:\n",
       "  * i1       (i1) float64 1.0 2.0 3.0 4.0 5.0 6.0 7.0 8.0 9.0 10.0 11.0 12.0 ...\n",
       "  * i2       (i2) float64 1.0 2.0 3.0 4.0 5.0 6.0 7.0 8.0 9.0 10.0 11.0 12.0 ...\n",
       "  * i3       (i3) float64 1.0 2.0 3.0 4.0 5.0 6.0 7.0 8.0 9.0 10.0 11.0 12.0 ...\n",
       "Data variables:\n",
       "    hFacC    (i1, i2, i3) float64 ...\n",
       "    hFacW    (i1, i2, i3) float64 ...\n",
       "    hFacS    (i1, i2, i3) float64 ...\n",
       "    XC       (i2, i3) float64 ...\n",
       "    YC       (i2, i3) float64 ...\n",
       "    XG       (i2, i3) float64 ...\n",
       "    YG       (i2, i3) float64 ...\n",
       "    RAC      (i2, i3) float64 ...\n",
       "    RAZ      (i2, i3) float64 ...\n",
       "    DXC      (i2, i3) float64 ...\n",
       "    DYC      (i2, i3) float64 ...\n",
       "    DXG      (i2, i3) float64 ...\n",
       "    DYG      (i2, i3) float64 ...\n",
       "    Depth    (i2, i3) float64 ...\n",
       "    AngleCS  (i2, i3) float64 ...\n",
       "    AngleSN  (i2, i3) float64 ...\n",
       "    RC       (i1) float64 ...\n",
       "    RF       (i1) float64 ...\n",
       "    DRC      (i1) float64 ...\n",
       "    DRF      (i1) float64 ...\n",
       "Attributes:\n",
       "    description:    C-grid parameters (see MITgcm documentation for details)....\n",
       "    A:              :Format      = native grid (nctiles w. 13 tiles)\n",
       "    B:              :source      = ECCO consortium (http://ecco-group.org/)\n",
       "    C:              :institution = JPL/UT/MIT/AER\n",
       "    D:              :history     = files revision history :\n",
       "    E:                                 04/20/2017: fill in geometry info for ...\n",
       "    F:                                 11/06/2016: third release of ECCO v4 (...\n",
       "    G:                             estimates revision history (from second re...\n",
       "    H:                                 employs bi-harmonic viscosity (enhance...\n",
       "    I:                                 sea-ice parameters, updated or novel o...\n",
       "    J:                                 GRACE OBP, Aquarius SSS, global mean s...\n",
       "    K:                                 time-series, extended and/or expanded ...\n",
       "    L:                                 revised weights including data and con...\n",
       "    M:                                 to account for grid-size variation and...\n",
       "    N:                                 separate time-mean and time-variable d...\n",
       "    O:                                 and controls, sea-ice costs, and initi...\n",
       "    P:                                 additional controls.\\n \n",
       "    Q:              :references  = Forget, G., J.-M. Campin, P. Heimbach, C. ...\n",
       "    R:                              and C. Wunsch, 2015: ECCO version 4: an i...\n",
       "    S:                              non-linear inverse modeling and global oc...\n",
       "    T:                              Geoscientific Model Development, 8, 3071-...\n",
       "    U:                             Forget, G., J.-M. Campin, P. Heimbach, C. ...\n",
       "    V:                              ECCO version 4: Second Release, 2016, htt...\n",
       "    W:              file created using gcmfaces_IO/write2nctiles.m\n",
       "    date:           21-Apr-2017\n",
       "    Conventions:    CF-1.6\n",
       "    _FillValue:     nan\n",
       "    missing_value:  nan"
      ]
     },
     "execution_count": 5,
     "metadata": {},
     "output_type": "execute_result"
    }
   ],
   "source": [
    "ds"
   ]
  },
  {
   "cell_type": "markdown",
   "metadata": {},
   "source": [
    "### Examining the Dataset object contents\n",
    "\n",
    "Let's go through *ds* piece by piece, starting from the top.\n",
    "\n",
    "#### 1. Object type\n",
    "`<xarray.Dataset>`\n",
    "\n",
    "The top line tells us what type of object the variable is.  *ds* is an instance of a`Dataset` defined in `xarray`.\n",
    "\n",
    "#### 2. Dimensions\n",
    "```Dimensions:  (i1: 50, i2: 90, i3: 90)```\n",
    "\n",
    "The *Dimensions* list shows all of the different dimensions used by all of the different arrays stored in the NetCDF file (and now loaded in the `Dataset` object.)\n",
    "  \n",
    "Arrays may use any combination of these dimensions.  We find 1D, 2D, and 3D arrays in the loaded NetCDF ECCO grid tile file.\n",
    "  \n",
    "The names and lengths of the three dimensions is given by: `(i1: 50, i2: 90, i3: 90)`.  There are 50 vertical levels in the ECCO v4 model grid so the `i1` obviously corresponds to the vertical dimension while `i2` and `i3` correspond to the horizontal dimensions.\n",
    "\n",
    "> **Note:** Each tile in the llc90 grid used by ECCO v4 has 90x90 horizontal grid points.  That's where the 90 in llc**90** comes from!  \n",
    "\n",
    "#### 3. Coordinates\n",
    "```\n",
    "Coordinates:\n",
    "    i1       (i1) float64 1.0 2.0 3.0 4.0 5.0 6.0 7.0 8.0 9.0 10.0 11.0 12.0 ...\n",
    "    i2       (i2) float64 1.0 2.0 3.0 4.0 5.0 6.0 7.0 8.0 9.0 10.0 11.0 12.0 ...\n",
    "    i3       (i3) float64 1.0 2.0 3.0 4.0 5.0 6.0 7.0 8.0 9.0 10.0 11.0 12.0 ... \n",
    "``` \n",
    "  \n",
    "**i1**, **i2**, and **i3** are the [coordinates](http://xarray.pydata.org/en/stable/data-structures.html#coordinates), which are Python dictionaries of arrays whose values *label* each point.  They are used for label-based indexing and alignment.\n",
    "\n",
    "In this case, the *coordinates* of each dimension consist of labels $[1, 2, ... n]$, where $n$ is the length of the dimension:\n",
    "  \n",
    "  + Dim **i1**: `array([  1.,   2., ..., 50.])`\n",
    "  + Dim **i2** and **i3**: `array([  1.,   2., ..., 90.])`\n",
    "  \n",
    "> **Note:** Actually these coordinates are so-called *Dimension coordinates*, one-dimensional arrays (marked by an asterix **\"\\*\"** when printing a dataset or data array) from $1..n$ where $n$ is the length of the array in a given dimension.\n",
    "\n",
    "#### 4. Data Variables\n",
    "```\n",
    "Data variables:\n",
    "    hFacC    (i1, i2, i3) float64 ...\n",
    "    hFacW    (i1, i2, i3) float64 ...\n",
    "    hFacS    (i1, i2, i3) float64 ...\n",
    "    ...\n",
    "    XC       (i2, i3) float64 ...\n",
    "    YC       (i2, i3) float64 ...\n",
    "    ...\n",
    "    RC       (i1) float64 ...\n",
    "    RF       (i1) float64 ...\n",
    "```\n",
    "\n",
    "The *Data Variables* are one or more `xarray.DataArray` objects.  `DataArray` objects are labeled, multi-dimensional arrays that may also contain metadata (attributes).  `DataArray` objects are very important to understand because they are container objects which store the  numerical arrays of the state estimate fields.  We'll investigate these objects in more detail after completing our survey of this `Dataset`.\n",
    "\n",
    "A subset of all *Data variables* in *ds* are shown above to demonstrate that in this NetCDF grid file there are variables with three different dimension combinations: 3D with  dimensions (**i1**, **i2**, **i3**), 2D with dimensions (**i2**, **i3**), and 1D with  dimensions (**i1**)\n",
    "  \n",
    "The 1D variables have values along the single **i1** (vertical) dimension, the 2D variables  have values in the **i2** and **i3** (horizontal) dimensions, and the 3D variables have values in all three dimensions.  All of these particular variables are 64 bit floating point numbers.\n",
    "  \n",
    "> **Note:** ECCO v4 NetCDF grid files include a number of grid parameters.  Of these, 3 are 3D, 13 are 2D, and 4 are 1D.  The 3D grid parameters vary with horizontal location and depth,  2D grid parameters only vary with horizontal location and are therefore independent of depth, and the 1D grid parameters only vary with depth and are therefore independent of horizontal location. The meaning of all MITgcm grid parameters can be found in section [2.10.5 of the MITgcm documentation](http://mitgcm.org/sealion/online_documents/node47.html).\n",
    "\n",
    "#### 5. Attributes\n",
    "```\n",
    "Attributes:\n",
    "    description:    C-grid parameters (see MITgcm documentation for details)....\n",
    "    A:              :Format      = native grid (nctiles w. 13 tiles)\n",
    "    B:              :source      = ECCO consortium (http://ecco-group.org/)\n",
    "    C:              :institution = JPL/UT/MIT/AER\n",
    "    D:              :history     = files revision history :\n",
    "    E:                                 04/20/2017: fill in geometry info for ...\n",
    "    F:                                 11/06/2016: third release of ECCO v4 (...\n",
    "    ...\n",
    "    W:              file created using gcmfaces_IO/write2nctiles.m\n",
    "    date:           21-Apr-2017\n",
    "    Conventions:    CF-1.6\n",
    "    _FillValue:     nan\n",
    "    missing_value:  nan\n",
    "```\n",
    "  \n",
    "The `attrs` variable is a Python [dictionary object](https://www.python-course.eu/dictionaries.php) containing metadata or any auxilliary information.\n",
    "  \n",
    "Metadata is presented as a set of dictionary `key-value` pairs.  Here the `keys` are *description, A, B,  ... missing_value.* while the `values` are the corresponding text and non-text values.  \n",
    "  \n",
    "To see the metadata `value` associated with the metadata `key` called \"Conventions\" we can print the value as follows:"
   ]
  },
  {
   "cell_type": "code",
   "execution_count": 6,
   "metadata": {},
   "outputs": [
    {
     "name": "stdout",
     "output_type": "stream",
     "text": [
      "CF-1.6\n"
     ]
    }
   ],
   "source": [
    "print ds.attrs['Conventions']"
   ]
  },
  {
   "cell_type": "markdown",
   "metadata": {},
   "source": [
    "\"CF-1.6\" tells us that ECCO NetCDF output conforms to the [**Climate and Forecast Conventions version 1.6**](http://cfconventions.org/).  How convenient.  "
   ]
  },
  {
   "cell_type": "markdown",
   "metadata": {},
   "source": [
    "### Map of the `Dataset` object\n",
    "\n",
    "Now that we've completed our survey, we see that a `Dataset` is a really a kind of *container* comprised of (actually pointing to) many other objects.  \n",
    "\n",
    "+ dims: A `dict` that maps dimension names (keys) with dimension lengths (values)\n",
    "+ coords: A `dict` that maps dimension names (keys such as **i1**, **i2**, **i3**) with arrays that label each point in the dimension (values) \n",
    "+ One or more *Data Variables* that are pointers to `DataArray` objects \n",
    "+ attrs A `dict` that maps different attribute names (keys) with the attributes themselves (values).\n",
    "\n",
    "![Dataset-diagram](../figures/Dataset-diagram.png)"
   ]
  },
  {
   "cell_type": "markdown",
   "metadata": {},
   "source": [
    "## The `DataArray` Object\n",
    "\n",
    "It is worth looking at the `DataArray` object in more detail because `DataArrays` store the arrays that store the ECCO output.  Please see the [xarray documentation on the DataArray object](http://xarray.pydata.org/en/stable/data-structures.html#dataarray) for more information.\n",
    "\n",
    "`DataArrays` are actually very similar to `Datasets`.  They also contain dimensions, coordinates, and attributes.  The two main differences between `Datasets` and `DataArrays` is that `DataArrays` have a **name** (a string) and an array of **values**.  The **values** array is a [numpy n-dimensional array](https://docs.scipy.org/doc/numpy-1.13.0/reference/generated/numpy.array.html), an `ndarray`.\n",
    "\n",
    "### Examining the contents of a `DataArray` \n",
    "\n",
    "Let's examine the contents of one of the `DataArrays` found in *ds*, *XC*:"
   ]
  },
  {
   "cell_type": "code",
   "execution_count": 7,
   "metadata": {},
   "outputs": [
    {
     "data": {
      "text/plain": [
       "<xarray.DataArray 'XC' (i2: 90, i3: 90)>\n",
       "array([[-37.5     , -36.5     , -35.5     , ...,  49.5     ,  50.5     ,\n",
       "         51.5     ],\n",
       "       [-37.5     , -36.5     , -35.5     , ...,  49.5     ,  50.5     ,\n",
       "         51.5     ],\n",
       "       [-37.5     , -36.5     , -35.5     , ...,  49.5     ,  50.5     ,\n",
       "         51.5     ],\n",
       "       ...,\n",
       "       [-37.730072, -37.178291, -36.597565, ...,  50.597565,  51.178291,\n",
       "         51.730072],\n",
       "       [-37.771988, -37.291943, -36.764027, ...,  50.764027,  51.291943,\n",
       "         51.771988],\n",
       "       [-37.837925, -37.44421 , -36.968143, ...,  50.968143,  51.44421 ,\n",
       "         51.837925]])\n",
       "Coordinates:\n",
       "  * i2       (i2) float64 1.0 2.0 3.0 4.0 5.0 6.0 7.0 8.0 9.0 10.0 11.0 12.0 ...\n",
       "  * i3       (i3) float64 1.0 2.0 3.0 4.0 5.0 6.0 7.0 8.0 9.0 10.0 11.0 12.0 ...\n",
       "Attributes:\n",
       "    long_name:  longitude\n",
       "    units:      degrees_east"
      ]
     },
     "execution_count": 7,
     "metadata": {},
     "output_type": "execute_result"
    }
   ],
   "source": [
    "ds.XC"
   ]
  },
  {
   "cell_type": "markdown",
   "metadata": {},
   "source": [
    "### Examining the `DataArray`\n",
    "\n",
    "The layout of `DataArrays` is very similar to those of `Datasets`.  Let's examine each part of *ds.XC*, starting from the top.\n",
    "\n",
    "#### 1. Object type\n",
    "`<xarray.DataArray>`\n",
    "\n",
    "This is indeed a `DataArray` object from the `xarray` package.\n",
    "\n",
    "> Note: You can also find the type of an object with the `type` command: `print type(ds.XC)`"
   ]
  },
  {
   "cell_type": "code",
   "execution_count": 8,
   "metadata": {},
   "outputs": [
    {
     "name": "stdout",
     "output_type": "stream",
     "text": [
      "<class 'xarray.core.dataarray.DataArray'>\n"
     ]
    }
   ],
   "source": [
    "print type(ds.XC)"
   ]
  },
  {
   "cell_type": "markdown",
   "metadata": {},
   "source": [
    "#### 2. Object Name\n",
    "`XC`\n",
    "\n",
    "The top line also tells the name of this `DataArray`, `XC`."
   ]
  },
  {
   "cell_type": "code",
   "execution_count": 9,
   "metadata": {
    "scrolled": true
   },
   "outputs": [
    {
     "name": "stdout",
     "output_type": "stream",
     "text": [
      "XC\n"
     ]
    }
   ],
   "source": [
    "print ds.XC.name"
   ]
  },
  {
   "cell_type": "markdown",
   "metadata": {},
   "source": [
    "#### 3. Dimensions\n",
    "`Dimensions:  (i2: 90, i3: 90)`  \n",
    "\n",
    "Unlike $ds$, $XC$ only has two dimensions, **i2** and **i3**.  This makes sense since the longitude of the grid cell centers only vary with horizontal location and not depth."
   ]
  },
  {
   "cell_type": "code",
   "execution_count": 10,
   "metadata": {
    "scrolled": true
   },
   "outputs": [
    {
     "name": "stdout",
     "output_type": "stream",
     "text": [
      "(u'i2', u'i3')\n"
     ]
    }
   ],
   "source": [
    "print(ds.XC.dims)"
   ]
  },
  {
   "cell_type": "markdown",
   "metadata": {},
   "source": [
    "#### 4. The `numpy` Array\n",
    "````\n",
    "array([[-37.5     , -36.5     , -35.5     , ...,  49.5     ,  50.5     ,  51.5     ],\n",
    "       [-37.5     , -36.5     , -35.5     , ...,  49.5     ,  50.5     ,  51.5     ],\n",
    "       [-37.5     , -36.5     , -35.5     , ...,  49.5     ,  50.5     ,  51.5     ],\n",
    "       ..., \n",
    "       [-37.730072, -37.178291, -36.597565, ...,  50.597565,  51.178291,\n",
    "         51.730072],\n",
    "       [-37.771988, -37.291943, -36.764027, ...,  50.764027,  51.291943,\n",
    "         51.771988],\n",
    "       [-37.837925, -37.44421 , -36.968143, ...,  50.968143,  51.44421 ,\n",
    "         51.837925]])\n",
    "````\n",
    "\n",
    "Unlike the `Dataset` object there are no *Data variables*.   Instead, we find an **array** of values.  Python prints out a small subset of the entire array.  \n",
    "\n",
    "> **Note**: `DataArrays` store **only one** array while `DataSets` can store **one or more** `DataArrays`.\n",
    "\n",
    "We access the `numpy` array by invoking the `.values` command on the `DataArray`."
   ]
  },
  {
   "cell_type": "code",
   "execution_count": 11,
   "metadata": {
    "scrolled": true
   },
   "outputs": [
    {
     "data": {
      "text/plain": [
       "array([[-37.5       , -36.5       , -35.5       , ...,  49.5       ,\n",
       "         50.5       ,  51.5       ],\n",
       "       [-37.5       , -36.5       , -35.5       , ...,  49.5       ,\n",
       "         50.5       ,  51.5       ],\n",
       "       [-37.5       , -36.5       , -35.5       , ...,  49.5       ,\n",
       "         50.5       ,  51.5       ],\n",
       "       ...,\n",
       "       [-37.73007202, -37.17829132, -36.5975647 , ...,  50.5975647 ,\n",
       "         51.17829132,  51.73007202],\n",
       "       [-37.77198792, -37.2919426 , -36.76402664, ...,  50.76402664,\n",
       "         51.2919426 ,  51.77198792],\n",
       "       [-37.83792496, -37.44421005, -36.96814346, ...,  50.96814346,\n",
       "         51.44421005,  51.83792496]])"
      ]
     },
     "execution_count": 11,
     "metadata": {},
     "output_type": "execute_result"
    }
   ],
   "source": [
    "ds.XC.values"
   ]
  },
  {
   "cell_type": "markdown",
   "metadata": {},
   "source": [
    "The array that is returned is a numpy n-dimensional array:"
   ]
  },
  {
   "cell_type": "code",
   "execution_count": 12,
   "metadata": {
    "scrolled": true
   },
   "outputs": [
    {
     "data": {
      "text/plain": [
       "numpy.ndarray"
      ]
     },
     "execution_count": 12,
     "metadata": {},
     "output_type": "execute_result"
    }
   ],
   "source": [
    "type(ds.XC.values)"
   ]
  },
  {
   "cell_type": "markdown",
   "metadata": {},
   "source": [
    "Being a numpy array, one can use all of the numerical operations provided by the numpy module on it.\n",
    "> ** Note: ** You may find it useful to learn about the operations that can be made on numpy arrays. Here is a quickstart guide: \n",
    "https://docs.scipy.org/doc/numpy-dev/user/quickstart.html\n",
    "\n",
    "We'll learn more about how to access the values of this array in a later tutorial.  For now it is sufficient to know how to access the arrays!"
   ]
  },
  {
   "cell_type": "markdown",
   "metadata": {},
   "source": [
    "#### 4. Coordinates\n",
    "```\n",
    "Coordinates:\n",
    "  i2       (i2) float64 1.0 2.0 3.0 4.0 5.0 6.0 7.0 8.0 9.0 10.0 11.0 12.0 ...\n",
    "  i3       (i3) float64 1.0 2.0 3.0 4.0 5.0 6.0 7.0 8.0 9.0 10.0 11.0 12.0 ...\n",
    "```\n",
    "\n",
    "We find two 1D arrays with coordinate labels for **i2** and **i3**."
   ]
  },
  {
   "cell_type": "code",
   "execution_count": 13,
   "metadata": {},
   "outputs": [
    {
     "data": {
      "text/plain": [
       "Coordinates:\n",
       "  * i2       (i2) float64 1.0 2.0 3.0 4.0 5.0 6.0 7.0 8.0 9.0 10.0 11.0 12.0 ...\n",
       "  * i3       (i3) float64 1.0 2.0 3.0 4.0 5.0 6.0 7.0 8.0 9.0 10.0 11.0 12.0 ..."
      ]
     },
     "execution_count": 13,
     "metadata": {},
     "output_type": "execute_result"
    }
   ],
   "source": [
    "ds.XC.coords"
   ]
  },
  {
   "cell_type": "markdown",
   "metadata": {},
   "source": [
    "#### 5. Attributes\n",
    "```\n",
    "Attributes:\n",
    "    long_name:  longitude\n",
    "    units:      degrees_east\n",
    "```\n",
    "\n",
    "The `XC` variable has a `long_name` (longitude) and units (degrees_east).  This metadata was loaded from the NetCDF file.  The entire attribute dictoinary is accessed using `.attrs`."
   ]
  },
  {
   "cell_type": "code",
   "execution_count": 14,
   "metadata": {
    "scrolled": false
   },
   "outputs": [
    {
     "data": {
      "text/plain": [
       "OrderedDict([(u'long_name', u'longitude'), (u'units', u'degrees_east')])"
      ]
     },
     "execution_count": 14,
     "metadata": {},
     "output_type": "execute_result"
    }
   ],
   "source": [
    "ds.XC.attrs"
   ]
  },
  {
   "cell_type": "code",
   "execution_count": 15,
   "metadata": {},
   "outputs": [
    {
     "name": "stdout",
     "output_type": "stream",
     "text": [
      "longitude\n"
     ]
    }
   ],
   "source": [
    "print ds.XC.attrs['long_name']"
   ]
  },
  {
   "cell_type": "markdown",
   "metadata": {},
   "source": [
    "### Map of the `DataArray` Object\n",
    "\n",
    "The `DataArray` can be mapped out with the following diagram:\n",
    "\n",
    "![DataArray-diagram](../figures/DataArray-diagram.png)"
   ]
  },
  {
   "cell_type": "markdown",
   "metadata": {},
   "source": [
    "## Summary\n",
    "\n",
    "Now you know the basics of the `Dataset` and `DataArray` objects that will store the ECCO v4 model grid parameters and state estimate output variables.  Go back and take a look athe grid $ds$ object that we originally loaded.  It should make a lot more sense now!"
   ]
  }
 ],
 "metadata": {
  "kernelspec": {
   "display_name": "Python 2",
   "language": "python",
   "name": "python2"
  },
  "language_info": {
   "codemirror_mode": {
    "name": "ipython",
    "version": 2
   },
   "file_extension": ".py",
   "mimetype": "text/x-python",
   "name": "python",
   "nbconvert_exporter": "python",
   "pygments_lexer": "ipython2",
   "version": "2.7.14"
  }
 },
 "nbformat": 4,
 "nbformat_minor": 2
}
