{
 "cells": [
  {
   "cell_type": "code",
   "execution_count": 1,
   "id": "e67a3e9a-2fd2-4cc4-a234-02fb63a509a8",
   "metadata": {},
   "outputs": [],
   "source": [
    "def ecco_podaac_s3_get(ShortName,StartDate,EndDate,download_root_dir=None,n_workers=6,force_redownload=False):\n",
    "\n",
    "    \n",
    "    ## Initalize Python libraries\n",
    "    import numpy as np\n",
    "    import pandas as pd\n",
    "    import requests\n",
    "    import shutil\n",
    "    import time as time\n",
    "    from concurrent.futures import ThreadPoolExecutor\n",
    "    from platform import system\n",
    "    from pathlib import Path\n",
    "    from netrc import netrc\n",
    "    from os.path import basename, isfile, isdir, join, expanduser\n",
    "    from urllib import request\n",
    "    from http.cookiejar import CookieJar\n",
    "    \n",
    "\n",
    "    # Predict the path of the netrc file depending on os/platform type.\n",
    "    _netrc = join(expanduser('~'), \"_netrc\" if system()==\"Windows\" else \".netrc\")\n",
    "    \n",
    "\n",
    "    ## Define Helper Subroutines\n",
    "    \n",
    "    ### Helper subroutine to log into NASA EarthData\n",
    "    \n",
    "    # not pretty but it works\n",
    "    def setup_earthdata_login_auth(url: str='urs.earthdata.nasa.gov'):\n",
    "        # look for the netrc file and use the login/password\n",
    "        try:\n",
    "            username, _, password = netrc(file=_netrc).authenticators(url)\n",
    "    \n",
    "        # if the file is not found, prompt the user for the login/password\n",
    "        except (FileNotFoundError, TypeError):\n",
    "            print('Please provide Earthdata Login credentials for access.')\n",
    "            username, password = input('Username: '), getpass('Password: ')\n",
    "        \n",
    "        manager = request.HTTPPasswordMgrWithDefaultRealm()\n",
    "        manager.add_password(None, url, username, password)\n",
    "        auth = request.HTTPBasicAuthHandler(manager)\n",
    "        jar = CookieJar()\n",
    "        processor = request.HTTPCookieProcessor(jar)\n",
    "        opener = request.build_opener(auth, processor)\n",
    "        request.install_opener(opener)\n",
    "\n",
    "    def init_S3FileSystem():\n",
    "        \"\"\"\n",
    "        This routine automatically pulls your EDL crediential from .netrc file and use it to obtain an AWS S3 credential \n",
    "        through a PO.DAAC service accessible at https://archive.podaac.earthdata.nasa.gov/s3credentials.\n",
    "        From the PO.DAAC Github (https://podaac.github.io/tutorials/external/July_2022_Earthdata_Webinar.html).\n",
    "        \n",
    "        Returns:\n",
    "        =======\n",
    "        \n",
    "        s3: an AWS S3 filesystem\n",
    "        \"\"\"\n",
    "        \n",
    "        import requests,s3fs\n",
    "        creds = requests.get('https://archive.podaac.earthdata.nasa.gov/s3credentials').json()\n",
    "        s3 = s3fs.S3FileSystem(anon=False,\n",
    "                               key=creds['accessKeyId'],\n",
    "                               secret=creds['secretAccessKey'], \n",
    "                               token=creds['sessionToken'])\n",
    "        return s3\n",
    "    \n",
    "    ### Helper subroutines to make the API calls to search CMR and parse response\n",
    "    def set_params(params: dict):\n",
    "        params.update({'scroll': \"true\", 'page_size': 2000})\n",
    "        return {par: val for par, val in params.items() if val is not None}\n",
    "    \n",
    "    def get_results(params: dict, headers: dict=None):\n",
    "        response = requests.get(url=\"https://cmr.earthdata.nasa.gov/search/granules.json\", \n",
    "                                params=set_params(params),\n",
    "                                headers=headers).json()\n",
    "        return response    \n",
    "    \n",
    "    def get_granules(params: dict):\n",
    "        response = get_results(params=params)\n",
    "        if 'feed' in response.keys():\n",
    "            s3_files_list = []\n",
    "            for curr_entry in response['feed']['entry']:\n",
    "                for curr_link in curr_entry['links']:\n",
    "                    if \"direct download access via S3\" in curr_link['title']:\n",
    "                        s3_files_list.append(curr_link['href'])\n",
    "                        break\n",
    "        elif 'errors' in response.keys():\n",
    "            raise Exception(response['errors'][0])\n",
    "\n",
    "        return s3_files_list\n",
    "\n",
    "\n",
    "    ### Helper subroutine to gracefully download single files and avoids re-downloading if file already exists.\n",
    "    # To force redownload of the file, pass **True** to the boolean argument *force* (default **False**)\\n,\n",
    "    def download_file(s3, url, output_dir, force):\n",
    "        \"\"\"url (str): the HTTPS url from which the file will download\n",
    "        output_dir (str): the local path into which the file will download\n",
    "        force (bool): download even if the file exists locally already\n",
    "        \"\"\"\n",
    "        if not isdir(output_dir):\n",
    "            raise Exception(f\"Output directory doesnt exist! ({output_dir})\")\n",
    "        \n",
    "        target_file = join(output_dir, basename(url))\n",
    "        \n",
    "        # if the file has already been downloaded, skip    \n",
    "        if isfile(target_file) and force is False:\n",
    "            print(f'\\n{basename(url)} already exists, and force=False, not re-downloading')\n",
    "            return 0\n",
    "\n",
    "        # download file to local (output) file directory\n",
    "        s3.get_file(url, target_file)\n",
    "    \n",
    "    \n",
    "    ### Helper subroutine to download all urls in the list `dls`\n",
    "    def download_files_concurrently(s3, dls, download_dir, n_workers, force=False):\n",
    "        start_time = time.time()\n",
    "    \n",
    "        # use 3 threads for concurrent downloads\n",
    "        with ThreadPoolExecutor(max_workers=n_workers) as executor:\n",
    "    \n",
    "            # tqdm makes a cool progress bar\n",
    "            list(tqdm(executor.map(download_file, repeat(s3), dls, repeat(download_dir), repeat(force)),\\\n",
    "                                total=len(dls), desc='DL Progress',\\\n",
    "                                ascii=True, ncols=75, file=sys.stdout))\n",
    "        \n",
    "            # calculate total time spent in the download\n",
    "            total_time_download = time.time() - start_time\n",
    "    \n",
    "            print('\\n=====================================')\n",
    "            print('Time spent = ' + str(total_time_download) + ' seconds')        \n",
    "    \n",
    "\n",
    "    # set default download parent directory\n",
    "    if download_root_dir==None:\n",
    "        download_root_dir = join(expanduser('~'),'Downloads','ECCO_V4r4_PODAAC')\n",
    "\n",
    "    # define the directory where the downloaded files will be saved\n",
    "    download_dir = Path(download_root_dir) / ShortName\n",
    "    \n",
    "    # create the download directory\n",
    "    download_dir.mkdir(exist_ok = True, parents=True)\n",
    "    \n",
    "    print(f'created download directory {download_dir}')\n",
    "    \n",
    "\n",
    "    # # Adjust StartDate and EndDate to CMR query values\n",
    "    \n",
    "    if StartDate=='yesterday':\n",
    "        StartDate = yesterday()\n",
    "    if EndDate==-1:\n",
    "        EndDate = StartDate\n",
    "    elif StartDate=='yesterday':\n",
    "        StartDate = yesterday()\n",
    "    elif EndDate=='today':\n",
    "        EndDate = today()\n",
    "    \n",
    "    if len(StartDate) == 4:\n",
    "        StartDate += '-01-01'\n",
    "    elif len(StartDate) == 7:\n",
    "        StartDate += '-01'\n",
    "    elif len(StartDate) != 10:\n",
    "        sys.exit('\\nStart date should be in format ''YYYY'', ''YYYY-MM'', or ''YYYY-MM-DD''!\\n'\\\n",
    "                 +'Program will exit now !\\n')\n",
    "    \n",
    "    if len(EndDate) == 4:\n",
    "        EndDate += '-12-31'\n",
    "    elif len(EndDate) == 7:\n",
    "        EndDate = str(np.datetime64(str(np.datetime64(EndDate,'M')+np.timedelta64(1,'M'))+'-01','D')\\\n",
    "                      -np.timedelta64(1,'D'))\n",
    "    elif len(EndDate) != 10:\n",
    "        sys.exit('\\nEnd date should be in format ''YYYY'', ''YYYY-MM'', or ''YYYY-MM-DD''!\\n'\\\n",
    "                 +'Program will exit now !\\n')\n",
    "    \n",
    "    \n",
    "    # for monthly and daily datasets, do not include the month or day before\n",
    "    if (('MONTHLY' in ShortName) or ('DAILY' in ShortName)):\n",
    "        if np.datetime64(EndDate,'D') - np.datetime64(StartDate,'D') \\\n",
    "          > np.timedelta64(1,'D'):\n",
    "            StartDate = str(np.datetime64(StartDate,'D') + np.timedelta64(1,'D'))\n",
    "            SingleDay_flag = False\n",
    "        else:\n",
    "            # for single day ranges we need to make the adjustment\n",
    "            # after the CMR request\n",
    "            SingleDay_flag = True\n",
    "    # for snapshot datasets, move EndDate one day later\n",
    "    if 'SNAPSHOT' in ShortName:\n",
    "        EndDate = str(np.datetime64(EndDate,'D') + np.timedelta64(1,'D'))\n",
    "\n",
    "    \n",
    "    ## Log into Earthdata using your username and password\n",
    "    \n",
    "    # actually log in with this command:\n",
    "    setup_earthdata_login_auth()\n",
    "    \n",
    "    # Query the NASA Common Metadata Repository to find the URL of every granule associated with the desired ECCO Dataset and date range of interest.\n",
    "    \n",
    "    # create a Python dictionary with our search criteria:  `ShortName` and `temporal`\n",
    "    input_search_params = {'ShortName': ShortName,\n",
    "                           'temporal': \",\".join([StartDate, EndDate])}\n",
    "    \n",
    "    print(input_search_params)\n",
    "    \n",
    "    ### Query CMR for the desired ECCO Dataset\n",
    "    \n",
    "    # grans means 'granules', PO.DAAC's term for individual files in a dataset\n",
    "    s3_files_list = get_granules(input_search_params)\n",
    "    \n",
    "    num_grans = len(s3_files_list)\n",
    "    print (f'\\nTotal number of matching granules: {num_grans}')\n",
    "\n",
    "    # initiate S3 access\n",
    "    s3 = init_S3FileSystem()\n",
    "    \n",
    "    try:\n",
    "        # Attempt concurrent downloads, but if error arises switch to sequential downloads\n",
    "        ### Method 1: Concurrent downloads\n",
    "        \n",
    "        \n",
    "        # Force redownload (or not) depending on value of force_redownload\n",
    "        download_files_concurrently(s3, s3_files_list, download_dir, n_workers, force_redownload)\n",
    "        \n",
    "    except:\n",
    "        ### Method 2: Sequential Downloads\n",
    "        \n",
    "        start_time = time.time()\n",
    "        \n",
    "        # Download each URL sequentially in a for loop.\n",
    "        total_download_size_in_bytes = 0\n",
    "        \n",
    "        # loop through all files\n",
    "        for u in s3_files_list:\n",
    "            u_name = u.split('/')[-1]\n",
    "            print(f'downloading {u_name}')\n",
    "            download_file(s3, url=u, output_dir=download_dir, force=force_redownload)\n",
    "        \n",
    "        # calculate total time spent in the download\n",
    "        total_time_download = time.time() - start_time\n",
    "        \n",
    "        print('\\n=====================================')\n",
    "        print('Time spent = ' + str(total_time_download) + ' seconds')\n"
   ]
  },
  {
   "cell_type": "code",
   "execution_count": 4,
   "id": "d365eb84-2045-4b12-bb38-c10c58e9ada4",
   "metadata": {},
   "outputs": [
    {
     "name": "stdout",
     "output_type": "stream",
     "text": [
      "created download directory /tmp/ECCO_L4_TEMP_SALINITY_LLC0090GRID_MONTHLY_V4R4\n",
      "{'ShortName': 'ECCO_L4_TEMP_SALINITY_LLC0090GRID_MONTHLY_V4R4', 'temporal': '2010-01-02,2010-12-31'}\n",
      "\n",
      "Total number of matching granules: 12\n",
      "downloading OCEAN_TEMPERATURE_SALINITY_mon_mean_2010-01_ECCO_V4r4_native_llc0090.nc\n",
      "downloading OCEAN_TEMPERATURE_SALINITY_mon_mean_2010-02_ECCO_V4r4_native_llc0090.nc\n",
      "downloading OCEAN_TEMPERATURE_SALINITY_mon_mean_2010-03_ECCO_V4r4_native_llc0090.nc\n",
      "downloading OCEAN_TEMPERATURE_SALINITY_mon_mean_2010-04_ECCO_V4r4_native_llc0090.nc\n",
      "downloading OCEAN_TEMPERATURE_SALINITY_mon_mean_2010-05_ECCO_V4r4_native_llc0090.nc\n",
      "downloading OCEAN_TEMPERATURE_SALINITY_mon_mean_2010-06_ECCO_V4r4_native_llc0090.nc\n",
      "downloading OCEAN_TEMPERATURE_SALINITY_mon_mean_2010-07_ECCO_V4r4_native_llc0090.nc\n",
      "downloading OCEAN_TEMPERATURE_SALINITY_mon_mean_2010-08_ECCO_V4r4_native_llc0090.nc\n",
      "downloading OCEAN_TEMPERATURE_SALINITY_mon_mean_2010-09_ECCO_V4r4_native_llc0090.nc\n",
      "downloading OCEAN_TEMPERATURE_SALINITY_mon_mean_2010-10_ECCO_V4r4_native_llc0090.nc\n",
      "downloading OCEAN_TEMPERATURE_SALINITY_mon_mean_2010-11_ECCO_V4r4_native_llc0090.nc\n",
      "downloading OCEAN_TEMPERATURE_SALINITY_mon_mean_2010-12_ECCO_V4r4_native_llc0090.nc\n",
      "\n",
      "=====================================\n",
      "Time spent = 5.0091588497161865 seconds\n",
      "CPU times: user 910 ms, sys: 1.02 s, total: 1.93 s\n",
      "Wall time: 7.17 s\n"
     ]
    }
   ],
   "source": [
    "%%time\n",
    "ecco_podaac_s3_get(ShortName=\"ECCO_L4_TEMP_SALINITY_LLC0090GRID_MONTHLY_V4R4\",\\\n",
    "                   StartDate=\"2010-01\",EndDate=\"2010-12\",\\\n",
    "                   download_root_dir='/tmp',n_workers=1)"
   ]
  },
  {
   "cell_type": "code",
   "execution_count": 2,
   "id": "870b5bc6-84c2-428b-9aed-d54cbcd791ae",
   "metadata": {},
   "outputs": [
    {
     "name": "stdout",
     "output_type": "stream",
     "text": [
      "created download directory /tmp/ECCO_L4_TEMP_SALINITY_LLC0090GRID_MONTHLY_V4R4\n",
      "{'ShortName': 'ECCO_L4_TEMP_SALINITY_LLC0090GRID_MONTHLY_V4R4', 'temporal': '2010-01-02,2010-12-31'}\n",
      "\n",
      "Total number of matching granules: 12\n",
      "downloading OCEAN_TEMPERATURE_SALINITY_mon_mean_2010-01_ECCO_V4r4_native_llc0090.nc\n",
      "downloading OCEAN_TEMPERATURE_SALINITY_mon_mean_2010-02_ECCO_V4r4_native_llc0090.nc\n",
      "downloading OCEAN_TEMPERATURE_SALINITY_mon_mean_2010-03_ECCO_V4r4_native_llc0090.nc\n",
      "downloading OCEAN_TEMPERATURE_SALINITY_mon_mean_2010-04_ECCO_V4r4_native_llc0090.nc\n",
      "downloading OCEAN_TEMPERATURE_SALINITY_mon_mean_2010-05_ECCO_V4r4_native_llc0090.nc\n",
      "downloading OCEAN_TEMPERATURE_SALINITY_mon_mean_2010-06_ECCO_V4r4_native_llc0090.nc\n",
      "downloading OCEAN_TEMPERATURE_SALINITY_mon_mean_2010-07_ECCO_V4r4_native_llc0090.nc\n",
      "downloading OCEAN_TEMPERATURE_SALINITY_mon_mean_2010-08_ECCO_V4r4_native_llc0090.nc\n",
      "downloading OCEAN_TEMPERATURE_SALINITY_mon_mean_2010-09_ECCO_V4r4_native_llc0090.nc\n",
      "downloading OCEAN_TEMPERATURE_SALINITY_mon_mean_2010-10_ECCO_V4r4_native_llc0090.nc\n",
      "downloading OCEAN_TEMPERATURE_SALINITY_mon_mean_2010-11_ECCO_V4r4_native_llc0090.nc\n",
      "downloading OCEAN_TEMPERATURE_SALINITY_mon_mean_2010-12_ECCO_V4r4_native_llc0090.nc\n",
      "\n",
      "=====================================\n",
      "Time spent = 4.697536945343018 seconds\n",
      "CPU times: user 1.5 s, sys: 1.14 s, total: 2.63 s\n",
      "Wall time: 7.4 s\n"
     ]
    }
   ],
   "source": [
    "%%time\n",
    "ecco_podaac_s3_get(ShortName=\"ECCO_L4_TEMP_SALINITY_LLC0090GRID_MONTHLY_V4R4\",\\\n",
    "                   StartDate=\"2010-01\",EndDate=\"2010-12\",\\\n",
    "                   download_root_dir='/tmp',n_workers=2)"
   ]
  },
  {
   "cell_type": "code",
   "execution_count": 5,
   "id": "cfb603ae-871f-4cf4-9ab9-701bdacea576",
   "metadata": {},
   "outputs": [],
   "source": [
    "import shutil\n",
    "shutil.rmtree('/tmp/ECCO_L4_TEMP_SALINITY_LLC0090GRID_MONTHLY_V4R4')"
   ]
  },
  {
   "cell_type": "code",
   "execution_count": 6,
   "id": "8366125d-1342-465e-bc5f-23c352399bc9",
   "metadata": {},
   "outputs": [
    {
     "name": "stdout",
     "output_type": "stream",
     "text": [
      "created download directory /tmp/ECCO_L4_TEMP_SALINITY_LLC0090GRID_MONTHLY_V4R4\n",
      "{'ShortName': 'ECCO_L4_TEMP_SALINITY_LLC0090GRID_MONTHLY_V4R4', 'temporal': '2010-01-02,2010-12-31'}\n",
      "\n",
      "Total number of matching granules: 12\n",
      "downloading OCEAN_TEMPERATURE_SALINITY_mon_mean_2010-01_ECCO_V4r4_native_llc0090.nc\n",
      "downloading OCEAN_TEMPERATURE_SALINITY_mon_mean_2010-02_ECCO_V4r4_native_llc0090.nc\n",
      "downloading OCEAN_TEMPERATURE_SALINITY_mon_mean_2010-03_ECCO_V4r4_native_llc0090.nc\n",
      "downloading OCEAN_TEMPERATURE_SALINITY_mon_mean_2010-04_ECCO_V4r4_native_llc0090.nc\n",
      "downloading OCEAN_TEMPERATURE_SALINITY_mon_mean_2010-05_ECCO_V4r4_native_llc0090.nc\n",
      "downloading OCEAN_TEMPERATURE_SALINITY_mon_mean_2010-06_ECCO_V4r4_native_llc0090.nc\n",
      "downloading OCEAN_TEMPERATURE_SALINITY_mon_mean_2010-07_ECCO_V4r4_native_llc0090.nc\n",
      "downloading OCEAN_TEMPERATURE_SALINITY_mon_mean_2010-08_ECCO_V4r4_native_llc0090.nc\n",
      "downloading OCEAN_TEMPERATURE_SALINITY_mon_mean_2010-09_ECCO_V4r4_native_llc0090.nc\n",
      "downloading OCEAN_TEMPERATURE_SALINITY_mon_mean_2010-10_ECCO_V4r4_native_llc0090.nc\n",
      "downloading OCEAN_TEMPERATURE_SALINITY_mon_mean_2010-11_ECCO_V4r4_native_llc0090.nc\n",
      "downloading OCEAN_TEMPERATURE_SALINITY_mon_mean_2010-12_ECCO_V4r4_native_llc0090.nc\n",
      "\n",
      "=====================================\n",
      "Time spent = 2.810600757598877 seconds\n",
      "CPU times: user 842 ms, sys: 889 ms, total: 1.73 s\n",
      "Wall time: 4.75 s\n"
     ]
    }
   ],
   "source": [
    "%%time\n",
    "ecco_podaac_s3_get(ShortName=\"ECCO_L4_TEMP_SALINITY_LLC0090GRID_MONTHLY_V4R4\",\\\n",
    "                   StartDate=\"2010-01\",EndDate=\"2010-12\",\\\n",
    "                   download_root_dir='/tmp',n_workers=6)"
   ]
  },
  {
   "cell_type": "code",
   "execution_count": 8,
   "id": "5f3975e4-124a-4099-8c08-a3203fc9b261",
   "metadata": {},
   "outputs": [],
   "source": [
    "import numpy as np\n",
    "import xarray as xr\n",
    "import matplotlib.pyplot as plt"
   ]
  },
  {
   "cell_type": "code",
   "execution_count": 9,
   "id": "1b622ff7-2575-4a9b-bd1f-63620dde53c9",
   "metadata": {},
   "outputs": [
    {
     "name": "stdout",
     "output_type": "stream",
     "text": [
      "CPU times: user 784 ms, sys: 125 ms, total: 910 ms\n",
      "Wall time: 927 ms\n"
     ]
    }
   ],
   "source": [
    "%%time\n",
    "ds = xr.open_mfdataset(\"/tmp/ECCO_L4_TEMP_SALINITY_LLC0090GRID_MONTHLY_V4R4/*.nc\",\\\n",
    "                       data_vars='minimal',coords='minimal',\\\n",
    "                       compat='override',\\\n",
    "                       chunks={'time':1,'k':50,'tile':13,'j':90,'i':90})"
   ]
  },
  {
   "cell_type": "code",
   "execution_count": 11,
   "id": "6ba707d0-55d2-4ea5-8cfe-490c76ce101b",
   "metadata": {},
   "outputs": [
    {
     "name": "stdout",
     "output_type": "stream",
     "text": [
      "{'ShortName': 'ECCO_L4_GEOMETRY_LLC0090GRID_V4R4', 'temporal': '1992-01-01,2017-12-31'}\n",
      "\n",
      "Total number of matching granules: 1\n"
     ]
    }
   ],
   "source": [
    "from ecco_s3_retrieve import *\n",
    "\n",
    "grid_file = ecco_podaac_s3_retrieve(ShortName=\"ECCO_L4_GEOMETRY_LLC0090GRID_V4R4\",\\\n",
    "                                    StartDate=\"1992-01\",EndDate=\"2017-12\")\n",
    "ds_grid = xr.open_dataset(grid_file)"
   ]
  },
  {
   "cell_type": "code",
   "execution_count": 12,
   "id": "bb3acad1-d1b4-41a7-924e-b5cb86f1dce2",
   "metadata": {},
   "outputs": [
    {
     "name": "stdout",
     "output_type": "stream",
     "text": [
      "<Client: 'tcp://127.0.0.1:43393' processes=2 threads=2, memory=7.50 GiB>\n"
     ]
    }
   ],
   "source": [
    "from distributed import Client\n",
    "client = Client(\"127.0.0.1:43393\")\n",
    "print(client)"
   ]
  },
  {
   "cell_type": "code",
   "execution_count": 13,
   "id": "85d2978d-7e04-4911-ae93-4794c84fdc5a",
   "metadata": {},
   "outputs": [
    {
     "name": "stdout",
     "output_type": "stream",
     "text": [
      "CPU times: user 147 ms, sys: 33.8 ms, total: 181 ms\n",
      "Wall time: 183 ms\n"
     ]
    }
   ],
   "source": [
    "%%time\n",
    "cell_vol = ds_grid.hFacC*ds_grid.rA*ds_grid.drF\n",
    "cell_vol = cell_vol.compute()"
   ]
  },
  {
   "cell_type": "code",
   "execution_count": 14,
   "id": "f37ac8d4-d06d-47e2-92a2-d04a3505f6e3",
   "metadata": {},
   "outputs": [
    {
     "name": "stdout",
     "output_type": "stream",
     "text": [
      "CPU times: user 118 ms, sys: 19.9 ms, total: 138 ms\n",
      "Wall time: 316 ms\n"
     ]
    }
   ],
   "source": [
    "%%time\n",
    "total_vol = cell_vol.sum().compute()\n",
    "theta_global_mean = (cell_vol*ds.THETA).sum(dim=[\"k\",\"tile\",\"j\",\"i\"])/\\\n",
    "                        total_vol"
   ]
  },
  {
   "cell_type": "code",
   "execution_count": 15,
   "id": "1e7ad036-2e84-446f-a06c-df339c01cab8",
   "metadata": {},
   "outputs": [
    {
     "name": "stderr",
     "output_type": "stream",
     "text": [
      "/home/jpluser/miniforge3/envs/pangeo/lib/python3.10/site-packages/distributed/client.py:3162: UserWarning: Sending large graph of size 20.10 MiB.\n",
      "This may cause some slowdown.\n",
      "Consider scattering data ahead of time and using futures.\n",
      "  warnings.warn(\n"
     ]
    },
    {
     "name": "stdout",
     "output_type": "stream",
     "text": [
      "CPU times: user 54 ms, sys: 17.8 ms, total: 71.8 ms\n",
      "Wall time: 1.7 s\n"
     ]
    },
    {
     "data": {
      "text/plain": [
       "[<matplotlib.lines.Line2D at 0x7f98267590c0>]"
      ]
     },
     "execution_count": 15,
     "metadata": {},
     "output_type": "execute_result"
    },
    {
     "data": {
      "image/png": "[encoded data removed]",
      "text/plain": [
       "<Figure size 640x480 with 1 Axes>"
      ]
     },
     "metadata": {},
     "output_type": "display_data"
    }
   ],
   "source": [
    "%%time\n",
    "theta_global_mean = theta_global_mean.compute()\n",
    "theta_global_mean.plot()"
   ]
  }
 ],
 "metadata": {
  "kernelspec": {
   "display_name": "Python 3 (ipykernel)",
   "language": "python",
   "name": "python3"
  },
  "language_info": {
   "codemirror_mode": {
    "name": "ipython",
    "version": 3
   },
   "file_extension": ".py",
   "mimetype": "text/x-python",
   "name": "python",
   "nbconvert_exporter": "python",
   "pygments_lexer": "ipython3",
   "version": "3.10.13"
  }
 },
 "nbformat": 4,
 "nbformat_minor": 5
}
