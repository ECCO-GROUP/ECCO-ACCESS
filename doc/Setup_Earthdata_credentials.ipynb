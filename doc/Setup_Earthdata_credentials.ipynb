{
 "cells": [
  {
   "cell_type": "markdown",
   "id": "2802c35d-27c2-44f6-9b85-2c3dcf5d0184",
   "metadata": {
    "jp-MarkdownHeadingCollapsed": true
   },
   "source": [
    "# Setting up Earthdata login credentials\n",
    "\n",
    "A NASA Earthdata account is required to access data. Please visit [https://urs.earthdata.nasa.gov/home](https://urs.earthdata.nasa.gov/home) to make an account.\n",
    "\n",
    "*The Earthdata Login provides a single mechanism for user registration and profile management for all EOSDIS system components (DAACs, Tools, Services). Your Earthdata login also helps the EOSDIS program better understand the usage of EOSDIS services to improve user experience through customization of tools and improvement of services. EOSDIS data are openly available to all and free of charge except where governed by international agreements.*\n",
    "\n",
    "> **Note:**  _some Earthdata password characters may cause problems depending on your system_. To be safe, do not use any of the following characters in your password: backslash (\\\\), space, hash (#), quotes (single or double), or greater than (>).  Set/change your Earthdata password here: [https://urs.earthdata.nasa.gov/change_password](https://urs.earthdata.nasa.gov/change_password)\n",
    "\n",
    "\n",
    "**To make your Earthdata credentials accessible to `ecco_access` functions:**\n",
    "\n",
    "1. After creating a NASA Earthdata account, create a file called ```.netrc``` in your home directory (linux, Mac):\n",
    "```\n",
    "/home/<username>/.netrc\n",
    "```\n",
    "or ```_netrc``` (Windows):\n",
    "```\n",
    "C:\\Users\\<username>\\_netrc\n",
    "```\n",
    "\n",
    "The ```netrc``` file must have the following structure and must include your Earthdata account login name and password:\n",
    "\n",
    "```\n",
    "machine urs.earthdata.nasa.gov\n",
    "    login <your username>\n",
    "    password <your password>\n",
    "```\n",
    "\n",
    "2. Set permissions on your ```netrc``` file to be readable only by the current user.  If not, you will receive the error \"netrc access too permissive.\" \n",
    "\n",
    "```shell\n",
    "$ chmod 0600 ~/.netrc\n",
    "```"
   ]
  }
 ],
 "metadata": {
  "kernelspec": {
   "display_name": "Python 3 (ipykernel)",
   "language": "python",
   "name": "python3"
  },
  "language_info": {
   "codemirror_mode": {
    "name": "ipython",
    "version": 3
   },
   "file_extension": ".py",
   "mimetype": "text/x-python",
   "name": "python",
   "nbconvert_exporter": "python",
   "pygments_lexer": "ipython3",
   "version": "3.12.3"
  }
 },
 "nbformat": 4,
 "nbformat_minor": 5
}
