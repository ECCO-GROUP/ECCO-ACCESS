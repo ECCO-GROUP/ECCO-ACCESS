{
 "cells": [
  {
   "cell_type": "code",
   "execution_count": 1,
   "metadata": {},
   "outputs": [],
   "source": [
    "import argparse\n",
    "import dask\n",
    "import json\n",
    "import netCDF4 as nc4\n",
    "import numpy as np\n",
    "import pandas as pd\n",
    "from pathlib import Path\n",
    "from pprint import pprint\n",
    "import time\n",
    "import warnings\n",
    "import xarray as xr\n",
    "\n",
    "warnings.filterwarnings('ignore')"
   ]
  },
  {
   "cell_type": "code",
   "execution_count": 2,
   "metadata": {},
   "outputs": [
    {
     "data": {
      "text/html": [
       "<table style=\"border: 2px solid white;\">\n",
       "<tr>\n",
       "<td style=\"vertical-align: top; border: 0px solid white\">\n",
       "<h3 style=\"text-align: left;\">Client</h3>\n",
       "<ul style=\"text-align: left; list-style: none; margin: 0; padding: 0;\">\n",
       "  <li><b>Scheduler: </b>inproc://137.78.251.47/151581/1</li>\n",
       "  <li><b>Dashboard: </b><a href='http://137.78.251.47:8787/status' target='_blank'>http://137.78.251.47:8787/status</a></li>\n",
       "</ul>\n",
       "</td>\n",
       "<td style=\"vertical-align: top; border: 0px solid white\">\n",
       "<h3 style=\"text-align: left;\">Cluster</h3>\n",
       "<ul style=\"text-align: left; list-style:none; margin: 0; padding: 0;\">\n",
       "  <li><b>Workers: </b>1</li>\n",
       "  <li><b>Cores: </b>8</li>\n",
       "  <li><b>Memory: </b>128.00 GB</li>\n",
       "</ul>\n",
       "</td>\n",
       "</tr>\n",
       "</table>"
      ],
      "text/plain": [
       "<Client: 'inproc://137.78.251.47/151581/1' processes=1 threads=8, memory=128.00 GB>"
      ]
     },
     "execution_count": 2,
     "metadata": {},
     "output_type": "execute_result"
    }
   ],
   "source": [
    "import warnings\n",
    "warnings.filterwarnings('ignore')\n",
    "import dask\n",
    "dask.config.set({'temporary_directory': '/mnt/intraid/ian1/ifenty/dask_tmp'})\n",
    "\n",
    "# Works on Ian's Machine, but not necessary\n",
    "from dask.distributed import Client, progress\n",
    "#client = Client(processes=False, threads_per_worker=48)\n",
    "client = Client(processes=False, n_workers=1, threads_per_worker=8,memory_limit='128GB')\n",
    "client"
   ]
  },
  {
   "cell_type": "code",
   "execution_count": 3,
   "metadata": {},
   "outputs": [],
   "source": [
    "def load_ecco_fields(data_dir, glob_name):\n",
    "    time_start=time.time()\n",
    "\n",
    "    ecco_fields = []\n",
    "    # opening 312 monthly mean files takes about 40s using parallel & dask\n",
    "    \n",
    "    ecco_files = list(data_dir.glob(glob_name))\n",
    "    print(ecco_files[0:5])\n",
    "    ecco_fields = xr.open_mfdataset(ecco_files, parallel=True, data_vars='minimal',\\\n",
    "                                  coords='minimal',compat='override')\n",
    "    \n",
    "    tt = time.time() - time_start    \n",
    "    print(tt / len(ecco_fields))\n",
    "    print(time.time() - time_start)\n",
    "    return ecco_fields"
   ]
  },
  {
   "cell_type": "code",
   "execution_count": 4,
   "metadata": {},
   "outputs": [],
   "source": [
    "def get_groupings(base_dir, grid_type, time_type):\n",
    "    groupings = dict()\n",
    "    tmp = Path(f'{base_dir}/{grid_type}/{time_type}')\n",
    "    print(tmp)\n",
    "    if tmp.exists():\n",
    "        for pi, p in enumerate(tmp.iterdir()):\n",
    "            grouping = str(p).split('/')[-1]\n",
    "            groupings[pi] = dict()\n",
    "            groupings[pi]['name'] = grouping\n",
    "            groupings[pi]['grid'] = grid_type\n",
    "            groupings[pi]['time_type'] = time_type\n",
    "            groupings[pi]['directory'] = p\n",
    "            \n",
    "    return groupings\n"
   ]
  },
  {
   "cell_type": "code",
   "execution_count": 5,
   "metadata": {
    "scrolled": true
   },
   "outputs": [],
   "source": [
    "def construct_DA(ecco_fields):\n",
    "    t0 = time.time()\n",
    "    results_da = dict()\n",
    "    for dv in ecco_fields.data_vars:\n",
    "        print(dv)\n",
    "        results_da[dv] = dict()\n",
    "        results_da[dv]['valid_minmax'] = dask.delayed([ecco_fields[dv].min(), ecco_fields[dv].max()])\n",
    "        #results_da[dv]['valid_min'] = dask.delayed()\n",
    "\n",
    "    return results_da   \n",
    "   "
   ]
  },
  {
   "cell_type": "code",
   "execution_count": 6,
   "metadata": {},
   "outputs": [],
   "source": [
    "def construct_DS(results, grouping_info):\n",
    "    DAs = []\n",
    "    for dv in results.keys():\n",
    "        print(dv)\n",
    "        valid_min, valid_max = results[dv]['valid_minmax']\n",
    "        valid_min = valid_min.values\n",
    "        valid_max = valid_max.values\n",
    "        #valid_min = results[dv]['valid_min'].values\n",
    "        print(valid_max, valid_min)\n",
    "        tmp = xr.DataArray([valid_min, valid_max], dims=['valid_min_max'])\n",
    "        tmp.name = dv\n",
    "        DAs.append(tmp)\n",
    "\n",
    "    DS = xr.merge(DAs)\n",
    "    DS.attrs['title']     = ecco_fields.attrs['title']\n",
    "    DS.attrs['name']      = grouping_info['name']\n",
    "    DS.attrs['grid']      = grouping_info['grid']\n",
    "    DS.attrs['time_type'] = grouping_info['time_type']\n",
    "    DS.attrs['id']        = ecco_fields.attrs['id']\n",
    "    DS.attrs['shortname'] = ecco_fields.attrs['id'].split('/')[1]\n",
    "    DS.attrs['directory'] = str(grouping_info['directory'])\n",
    "    \n",
    "  \n",
    "    return DS"
   ]
  },
  {
   "cell_type": "markdown",
   "metadata": {},
   "source": [
    "## Inputs"
   ]
  },
  {
   "cell_type": "code",
   "execution_count": 7,
   "metadata": {},
   "outputs": [],
   "source": [
    "dataset_base_dir = Path('/home/ifenty/ian1/ifenty/ECCOv4/Version4/Release4/podaac/')"
   ]
  },
  {
   "cell_type": "code",
   "execution_count": 8,
   "metadata": {},
   "outputs": [],
   "source": [
    "grids = ['native','latlon']\n",
    "time_avgs = ['day_inst', 'day_mean','mon_mean']"
   ]
  },
  {
   "cell_type": "markdown",
   "metadata": {},
   "source": [
    "## Calc"
   ]
  },
  {
   "cell_type": "code",
   "execution_count": 9,
   "metadata": {
    "scrolled": true
   },
   "outputs": [
    {
     "name": "stdout",
     "output_type": "stream",
     "text": [
      "/home/ifenty/ian1/ifenty/ECCOv4/Version4/Release4/podaac/native/mon_mean\n"
     ]
    },
    {
     "data": {
      "text/plain": [
       "{'name': 'OCEAN_3D_TEMPERATURE_FLUX',\n",
       " 'grid': 'native',\n",
       " 'time_type': 'mon_mean',\n",
       " 'directory': PosixPath('/home/ifenty/ian1/ifenty/ECCOv4/Version4/Release4/podaac/native/mon_mean/OCEAN_3D_TEMPERATURE_FLUX')}"
      ]
     },
     "execution_count": 9,
     "metadata": {},
     "output_type": "execute_result"
    }
   ],
   "source": [
    "gi = 3\n",
    "time_type = time_avgs[2]\n",
    "grid_type = grids[0]\n",
    "\n",
    "groupings = get_groupings(dataset_base_dir, grid_type, time_type)\n",
    "groupings[gi]"
   ]
  },
  {
   "cell_type": "code",
   "execution_count": 10,
   "metadata": {},
   "outputs": [
    {
     "name": "stdout",
     "output_type": "stream",
     "text": [
      "[PosixPath('/home/ifenty/ian1/ifenty/ECCOv4/Version4/Release4/podaac/native/mon_mean/OCEAN_3D_TEMPERATURE_FLUX/OCEAN_3D_TEMPERATURE_FLUX_mon_mean_2002-10_ECCO_V4r4_native_llc0090.nc'), PosixPath('/home/ifenty/ian1/ifenty/ECCOv4/Version4/Release4/podaac/native/mon_mean/OCEAN_3D_TEMPERATURE_FLUX/OCEAN_3D_TEMPERATURE_FLUX_mon_mean_2007-03_ECCO_V4r4_native_llc0090.nc'), PosixPath('/home/ifenty/ian1/ifenty/ECCOv4/Version4/Release4/podaac/native/mon_mean/OCEAN_3D_TEMPERATURE_FLUX/OCEAN_3D_TEMPERATURE_FLUX_mon_mean_1995-03_ECCO_V4r4_native_llc0090.nc'), PosixPath('/home/ifenty/ian1/ifenty/ECCOv4/Version4/Release4/podaac/native/mon_mean/OCEAN_3D_TEMPERATURE_FLUX/OCEAN_3D_TEMPERATURE_FLUX_mon_mean_1992-11_ECCO_V4r4_native_llc0090.nc'), PosixPath('/home/ifenty/ian1/ifenty/ECCOv4/Version4/Release4/podaac/native/mon_mean/OCEAN_3D_TEMPERATURE_FLUX/OCEAN_3D_TEMPERATURE_FLUX_mon_mean_2007-06_ECCO_V4r4_native_llc0090.nc')]\n",
      "5.040842635290963\n",
      "35.28609752655029\n"
     ]
    }
   ],
   "source": [
    "ecco_fields = load_ecco_fields(groupings[gi]['directory'], '*ECCO*nc')"
   ]
  },
  {
   "cell_type": "code",
   "execution_count": 11,
   "metadata": {
    "scrolled": false
   },
   "outputs": [
    {
     "name": "stdout",
     "output_type": "stream",
     "text": [
      "ADVx_TH\n",
      "DFxE_TH\n",
      "ADVy_TH\n",
      "DFyE_TH\n",
      "ADVr_TH\n",
      "DFrE_TH\n",
      "DFrI_TH\n"
     ]
    }
   ],
   "source": [
    "DA = construct_DA(ecco_fields)"
   ]
  },
  {
   "cell_type": "code",
   "execution_count": 12,
   "metadata": {
    "scrolled": true
   },
   "outputs": [
    {
     "name": "stdout",
     "output_type": "stream",
     "text": [
      "261.4717848300934\n"
     ]
    }
   ],
   "source": [
    "start_time = time.time()\n",
    "results_da_compute = dask.compute(DA)[0]\n",
    "delta_time = time.time()-start_time\n",
    "print(delta_time)"
   ]
  },
  {
   "cell_type": "code",
   "execution_count": 15,
   "metadata": {},
   "outputs": [
    {
     "name": "stdout",
     "output_type": "stream",
     "text": [
      "ADVx_TH\n",
      "36523468.0 -28231902.0\n",
      "DFxE_TH\n",
      "574455.7 -348717.34\n",
      "ADVy_TH\n",
      "43466144.0 -31236064.0\n",
      "DFyE_TH\n",
      "921333.6 -414038.94\n",
      "ADVr_TH\n",
      "60402470.0 -106447560.0\n",
      "DFrE_TH\n",
      "2275023.8 -2370699.5\n",
      "DFrI_TH\n",
      "3000093.5 -2385608.8\n"
     ]
    }
   ],
   "source": [
    "DS = construct_DS(results_da_compute, groupings[gi])\n",
    "DS.attrs['calc_time_seconds'] = delta_time"
   ]
  },
  {
   "cell_type": "code",
   "execution_count": 17,
   "metadata": {},
   "outputs": [
    {
     "data": {
      "text/plain": [
       "'valid_minmax_OCEAN_3D_TEMPERATURE_FLUX_native_mon_mean_ECL5M-3TF44.nc'"
      ]
     },
     "execution_count": 17,
     "metadata": {},
     "output_type": "execute_result"
    }
   ],
   "source": [
    "filename = f\"valid_minmax_{DS.attrs['name']}_{DS.attrs['grid']}_{DS.attrs['time_type']}_{DS.attrs['shortname']}.nc\"\n",
    "filename"
   ]
  },
  {
   "cell_type": "code",
   "execution_count": 18,
   "metadata": {},
   "outputs": [],
   "source": [
    "output_dir = Path('/home/ifenty/ian1/ifenty/ECCOv4/Version4/Release4/podaac/valid_minmax_a')\n",
    "if not output_dir.exists():\n",
    "    output_dir.mkdir()"
   ]
  },
  {
   "cell_type": "code",
   "execution_count": 19,
   "metadata": {},
   "outputs": [],
   "source": [
    "DS.to_netcdf(output_dir / filename)"
   ]
  },
  {
   "cell_type": "code",
   "execution_count": null,
   "metadata": {},
   "outputs": [],
   "source": []
  }
 ],
 "metadata": {
  "kernelspec": {
   "display_name": "Python 3",
   "language": "python",
   "name": "python3"
  },
  "language_info": {
   "codemirror_mode": {
    "name": "ipython",
    "version": 3
   },
   "file_extension": ".py",
   "mimetype": "text/x-python",
   "name": "python",
   "nbconvert_exporter": "python",
   "pygments_lexer": "ipython3",
   "version": "3.7.8"
  }
 },
 "nbformat": 4,
 "nbformat_minor": 4
}
