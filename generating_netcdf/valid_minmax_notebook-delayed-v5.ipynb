{
 "cells": [
  {
   "cell_type": "code",
   "execution_count": 1,
   "metadata": {},
   "outputs": [],
   "source": [
    "import argparse\n",
    "import dask\n",
    "import json\n",
    "import netCDF4 as nc4\n",
    "import numpy as np\n",
    "import pandas as pd\n",
    "from pathlib import Path\n",
    "from pprint import pprint\n",
    "import time\n",
    "import warnings\n",
    "import xarray as xr\n",
    "from dask import delayed\n",
    "warnings.filterwarnings('ignore')"
   ]
  },
  {
   "cell_type": "code",
   "execution_count": 2,
   "metadata": {},
   "outputs": [
    {
     "data": {
      "text/html": [
       "<table style=\"border: 2px solid white;\">\n",
       "<tr>\n",
       "<td style=\"vertical-align: top; border: 0px solid white\">\n",
       "<h3 style=\"text-align: left;\">Client</h3>\n",
       "<ul style=\"text-align: left; list-style: none; margin: 0; padding: 0;\">\n",
       "  <li><b>Scheduler: </b>tcp://127.0.0.1:45376</li>\n",
       "  <li><b>Dashboard: </b><a href='http://127.0.0.1:8787/status' target='_blank'>http://127.0.0.1:8787/status</a></li>\n",
       "</ul>\n",
       "</td>\n",
       "<td style=\"vertical-align: top; border: 0px solid white\">\n",
       "<h3 style=\"text-align: left;\">Cluster</h3>\n",
       "<ul style=\"text-align: left; list-style:none; margin: 0; padding: 0;\">\n",
       "  <li><b>Workers: </b>8</li>\n",
       "  <li><b>Cores: </b>64</li>\n",
       "  <li><b>Memory: </b>201.40 GB</li>\n",
       "</ul>\n",
       "</td>\n",
       "</tr>\n",
       "</table>"
      ],
      "text/plain": [
       "<Client: 'tcp://127.0.0.1:45376' processes=8 threads=64, memory=201.40 GB>"
      ]
     },
     "execution_count": 2,
     "metadata": {},
     "output_type": "execute_result"
    }
   ],
   "source": [
    "import warnings\n",
    "warnings.filterwarnings('ignore')\n",
    "import dask\n",
    "dask.config.set({'temporary_directory': '/mnt/intraid/ian1/ifenty/dask_tmp'})\n",
    "\n",
    "# Works on Ian's Machine, but not necessary\n",
    "from dask.distributed import Client, progress\n",
    "#client = Client(processes=False, threads_per_worker=48)\n",
    "#client = Client(processes=False, n_workers=8, threads_per_worker=1,memory_limit='128GB')\n",
    "client = Client()\n",
    "\n",
    "client"
   ]
  },
  {
   "cell_type": "code",
   "execution_count": 3,
   "metadata": {},
   "outputs": [],
   "source": [
    "def get_groupings(base_dir, grid_type, time_type):\n",
    "    groupings = dict()\n",
    "    tmp = Path(f'{base_dir}/{grid_type}/{time_type}')\n",
    "    print(tmp)\n",
    "    if tmp.exists():\n",
    "        g_dirs = np.sort(list(tmp.iterdir()))\n",
    "        for pi, p in enumerate(g_dirs):\n",
    "            grouping = str(p).split('/')[-1]\n",
    "            groupings[pi] = dict()\n",
    "            groupings[pi]['name'] = grouping\n",
    "            groupings[pi]['grid'] = grid_type\n",
    "            groupings[pi]['time_type'] = time_type\n",
    "            groupings[pi]['directory'] = p\n",
    "            \n",
    "    return groupings"
   ]
  },
  {
   "cell_type": "code",
   "execution_count": 4,
   "metadata": {},
   "outputs": [],
   "source": [
    "@delayed\n",
    "def load_ecco_file(filename):\n",
    "    time_start=time.time()\n",
    "    print(filename.name)\n",
    "    ecco_field = xr.open_dataset(filename).load()\n",
    "    return ecco_field"
   ]
  },
  {
   "cell_type": "code",
   "execution_count": 5,
   "metadata": {
    "scrolled": true
   },
   "outputs": [],
   "source": [
    "@delayed\n",
    "def get_minmax(ecco_field):\n",
    "    results = dict()\n",
    "    for dv in ecco_field.data_vars:\n",
    "        results[dv] = dict()\n",
    "        tmp_min = ecco_field[dv].min()\n",
    "        tmp_max = ecco_field[dv].max()\n",
    "        \n",
    "        results[dv]['valid_min'] = tmp_min.values.item()\n",
    "        results[dv]['valid_max'] = tmp_max.values.item()\n",
    "    \n",
    "    return results"
   ]
  },
  {
   "cell_type": "code",
   "execution_count": 6,
   "metadata": {},
   "outputs": [],
   "source": [
    "@delayed\n",
    "def save_DS(DS, filename, output_dir):\n",
    "    filename = ['valid_minmax_' + filename]\n",
    "    DS.to_netcdf(output_dir / filename)"
   ]
  },
  {
   "cell_type": "code",
   "execution_count": 7,
   "metadata": {},
   "outputs": [],
   "source": [
    "@delayed\n",
    "def construct_DS(ecco_field, results, grouping_info, ds_title, ds_id, delta_time, filename):\n",
    "    DAs = []\n",
    "\n",
    "    # loop through all data varaibles\n",
    "    for dv in ecco_field.data_vars:\n",
    "        valid_min = results[dv]['valid_min']\n",
    "        valid_max = results[dv]['valid_max']\n",
    "\n",
    "        # construct data array with valid min and max\n",
    "        tmp = xr.DataArray([valid_min, valid_max], dims=['valid_min_max'])\n",
    "        tmp.name = dv\n",
    "        DAs.append(tmp)\n",
    "       \n",
    "    DS = xr.merge(DAs)\n",
    "    DS.attrs['title']     = ds_title\n",
    "    DS.attrs['name']      = grouping_info['name']\n",
    "    DS.attrs['grid']      = grouping_info['grid']\n",
    "    DS.attrs['time_type'] = grouping_info['time_type']\n",
    "    DS.attrs['id']        = ds_id\n",
    "    DS.attrs['shortname'] = ds_id.split('/')[1]\n",
    "    DS.attrs['directory'] = str(grouping_info['directory'])\n",
    "    DS.attrs['filename'] = filename\n",
    "    DS.attrs['delta_time'] = delta_time\n",
    "\n",
    "    return DS"
   ]
  },
  {
   "cell_type": "code",
   "execution_count": 8,
   "metadata": {},
   "outputs": [],
   "source": [
    "def f1(ecco_files, grouping_info, ds_title, ds_id, output_dir):\n",
    "    results = []\n",
    "    start_time= time.time()\n",
    "    for file in ecco_files:\n",
    "        ecco_field = load_ecco_file(file)\n",
    "        result = get_minmax(ecco_field)\n",
    "        #results.append(result)\n",
    "        delta_time = time.time() - start_time\n",
    "        DS = construct_DS(ecco_field, result, grouping_info, ds_title, ds_id, delta_time, file.name)\n",
    "        save_DS(DS, file.name, output_dir)\n",
    "        results.append(DS)\n",
    "    return results"
   ]
  },
  {
   "cell_type": "markdown",
   "metadata": {},
   "source": [
    "## Inputs"
   ]
  },
  {
   "cell_type": "code",
   "execution_count": 9,
   "metadata": {},
   "outputs": [],
   "source": [
    "output_dir = Path('/home/ifenty/ian1/ifenty/ECCOv4/Version4/Release4/podaac/valid_minmax_20210312')"
   ]
  },
  {
   "cell_type": "code",
   "execution_count": 10,
   "metadata": {},
   "outputs": [],
   "source": [
    "dataset_base_dir = Path('/home/ifenty/ian1/ifenty/ECCOv4/Version4/Release4/podaac/')"
   ]
  },
  {
   "cell_type": "code",
   "execution_count": 11,
   "metadata": {},
   "outputs": [],
   "source": [
    "grids = ['native','latlon']\n",
    "time_avgs = ['day_inst', 'day_mean','mon_mean']"
   ]
  },
  {
   "cell_type": "markdown",
   "metadata": {},
   "source": [
    "## Calc"
   ]
  },
  {
   "cell_type": "code",
   "execution_count": 12,
   "metadata": {
    "scrolled": true
   },
   "outputs": [
    {
     "name": "stdout",
     "output_type": "stream",
     "text": [
      "/home/ifenty/ian1/ifenty/ECCOv4/Version4/Release4/podaac/native/mon_mean\n"
     ]
    }
   ],
   "source": [
    "time_type = time_avgs[2]\n",
    "grid_type = grids[0]\n",
    "\n",
    "groupings = get_groupings(dataset_base_dir, grid_type, time_type)"
   ]
  },
  {
   "cell_type": "code",
   "execution_count": 13,
   "metadata": {
    "scrolled": false
   },
   "outputs": [
    {
     "name": "stdout",
     "output_type": "stream",
     "text": [
      "0 ATM_SURFACE_TEMP_HUM_WIND_PRES\n",
      "1 OCEAN_3D_MOMENTUM_TEND\n",
      "2 OCEAN_3D_SALINITY_FLUX\n",
      "3 OCEAN_3D_TEMPERATURE_FLUX\n",
      "4 OCEAN_3D_VOLUME_FLUX\n",
      "5 OCEAN_AND_ICE_SURFACE_FW_FLUX\n",
      "6 OCEAN_AND_ICE_SURFACE_HEAT_FLUX\n",
      "7 OCEAN_AND_ICE_SURFACE_STRESS\n",
      "8 OCEAN_BOLUS_STREAMFUNCTION\n",
      "9 OCEAN_BOLUS_VELOCITY\n",
      "10 OCEAN_BOTTOM_PRESSURE\n",
      "11 OCEAN_DENS_STRAT_PRESS\n",
      "12 OCEAN_MIXED_LAYER_DEPTH\n",
      "13 OCEAN_TEMPERATURE_SALINITY\n",
      "14 OCEAN_VELOCITY\n",
      "15 SEA_ICE_CONC_THICKNESS\n",
      "16 SEA_ICE_HORIZ_VOLUME_FLUX\n",
      "17 SEA_ICE_SALT_PLUME_FLUX\n",
      "18 SEA_ICE_VELOCITY\n",
      "19 SEA_SURFACE_HEIGHT\n"
     ]
    }
   ],
   "source": [
    "for gi in groupings:\n",
    "    print(gi, groupings[gi]['name'])"
   ]
  },
  {
   "cell_type": "code",
   "execution_count": 19,
   "metadata": {},
   "outputs": [
    {
     "name": "stdout",
     "output_type": "stream",
     "text": [
      "{'name': 'OCEAN_3D_TEMPERATURE_FLUX', 'grid': 'native', 'time_type': 'mon_mean', 'directory': PosixPath('/home/ifenty/ian1/ifenty/ECCOv4/Version4/Release4/podaac/native/mon_mean/OCEAN_3D_TEMPERATURE_FLUX')}\n"
     ]
    }
   ],
   "source": [
    "gi = 3\n",
    "print(groupings[gi])\n",
    "grouping_info = groupings[gi]"
   ]
  },
  {
   "cell_type": "code",
   "execution_count": 22,
   "metadata": {},
   "outputs": [],
   "source": [
    "data_dir = groupings[gi]['directory']\n",
    "glob_name = '*ECCO*nc'\n",
    "ecco_files = np.sort(list(data_dir.glob(glob_name)))"
   ]
  },
  {
   "cell_type": "code",
   "execution_count": 21,
   "metadata": {},
   "outputs": [
    {
     "data": {
      "text/plain": [
       "array([PosixPath('/home/ifenty/ian1/ifenty/ECCOv4/Version4/Release4/podaac/native/mon_mean/OCEAN_3D_TEMPERATURE_FLUX/OCEAN_3D_TEMPERATURE_FLUX_mon_mean_1992-01_ECCO_V4r4_native_llc0090.nc'),\n",
       "       PosixPath('/home/ifenty/ian1/ifenty/ECCOv4/Version4/Release4/podaac/native/mon_mean/OCEAN_3D_TEMPERATURE_FLUX/OCEAN_3D_TEMPERATURE_FLUX_mon_mean_1992-02_ECCO_V4r4_native_llc0090.nc')],\n",
       "      dtype=object)"
      ]
     },
     "execution_count": 21,
     "metadata": {},
     "output_type": "execute_result"
    }
   ],
   "source": [
    "ecco_files = ecco_files[0:2]\n",
    "ecco_files"
   ]
  },
  {
   "cell_type": "code",
   "execution_count": 23,
   "metadata": {},
   "outputs": [],
   "source": [
    "tmp_file = xr.open_dataset(ecco_files[0])\n",
    "ds_title = tmp_file.attrs['title']\n",
    "ds_id = tmp_file.attrs['id']"
   ]
  },
  {
   "cell_type": "code",
   "execution_count": 24,
   "metadata": {
    "scrolled": true
   },
   "outputs": [],
   "source": [
    "start_time = time.time()\n",
    "f1_out = dask.compute(f1(ecco_files, grouping_info, ds_title, ds_id, output_dir))[0]\n",
    "delta_time = time.time() - start_time"
   ]
  },
  {
   "cell_type": "code",
   "execution_count": 26,
   "metadata": {
    "scrolled": true
   },
   "outputs": [
    {
     "data": {
      "text/plain": [
       "1247.4147605895996"
      ]
     },
     "execution_count": 26,
     "metadata": {},
     "output_type": "execute_result"
    }
   ],
   "source": [
    "delta_time*30"
   ]
  },
  {
   "cell_type": "code",
   "execution_count": 33,
   "metadata": {},
   "outputs": [],
   "source": [
    "output_dir = Path('/home/ifenty/ian1/ifenty/ECCOv4/Version4/Release4/podaac/valid_minmax_20210311c')\n",
    "if not output_dir.exists():\n",
    "    output_dir.mkdir()"
   ]
  },
  {
   "cell_type": "code",
   "execution_count": null,
   "metadata": {},
   "outputs": [],
   "source": []
  }
 ],
 "metadata": {
  "kernelspec": {
   "display_name": "Python 3",
   "language": "python",
   "name": "python3"
  },
  "language_info": {
   "codemirror_mode": {
    "name": "ipython",
    "version": 3
   },
   "file_extension": ".py",
   "mimetype": "text/x-python",
   "name": "python",
   "nbconvert_exporter": "python",
   "pygments_lexer": "ipython3",
   "version": "3.7.8"
  }
 },
 "nbformat": 4,
 "nbformat_minor": 4
}
