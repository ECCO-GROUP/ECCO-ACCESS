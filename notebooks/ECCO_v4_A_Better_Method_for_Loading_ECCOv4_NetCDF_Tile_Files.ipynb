{
 "cells": [
  {
   "cell_type": "markdown",
   "metadata": {},
   "source": [
    "# A Better Method for Loading ECCOv4 NetCDF Tile Files\n",
    "\n",
    "## Objectives:\n",
    "\n",
    "Introduce an alternative method for loading ECCO v4 NetCDF tile files that returns `Dataset` and `DataArray` objects with better labelling of variable coordinates with respect to *where* they are situated on the Arakawa-C grid.\n",
    "\n",
    "\n",
    "## Introduction\n",
    "\n",
    "As we showed in the first tutorial, we can use the `open_dataset` method from `xarray` to load a NetCDF tile file into Python as a `Dataset` object.  `open_dataset` is very convienent because it automatically parses the NetCDF file and constructs a `Dataset` object using all of the  dimensions, coordinates, variables, and metadata information.  However, by default the names of the coordinates are pretty generic: **i1, i2, i3**, etc. We can do a lot better. \n",
    "\n",
    "In the last tutorial we loaded a single ECCOv4 grid tile file and examined its contents.  Let's load it up again and take another look at its coordinates.  This time we'll name the new `Dataset` object  `grid_3_od` since we are loading the file using `open_dataset`."
   ]
  },
  {
   "cell_type": "code",
   "execution_count": 86,
   "metadata": {
    "collapsed": true
   },
   "outputs": [],
   "source": [
    "import matplotlib.pylab as plt\n",
    "import numpy as np\n",
    "import sys\n",
    "import xarray as xr\n",
    "from copy import deepcopy \n",
    "import ecco_v4_py as ecco"
   ]
  },
  {
   "cell_type": "code",
   "execution_count": 87,
   "metadata": {
    "collapsed": true
   },
   "outputs": [],
   "source": [
    "# point to your local directory holding the nctiles_grid files\n",
    "grid_dir='/Volumes/ECCO_BASE/ECCO_v4r3/nctiles_grid/'\n",
    "fname = 'GRID.0003.nc'\n",
    "grid_3_od = xr.open_dataset(grid_dir + fname)"
   ]
  },
  {
   "cell_type": "code",
   "execution_count": 88,
   "metadata": {},
   "outputs": [
    {
     "data": {
      "text/plain": [
       "<xarray.Dataset>\n",
       "Dimensions:  (i1: 50, i2: 90, i3: 90)\n",
       "Coordinates:\n",
       "  * i1       (i1) float64 1.0 2.0 3.0 4.0 5.0 6.0 7.0 8.0 9.0 10.0 11.0 12.0 ...\n",
       "  * i2       (i2) float64 1.0 2.0 3.0 4.0 5.0 6.0 7.0 8.0 9.0 10.0 11.0 12.0 ...\n",
       "  * i3       (i3) float64 1.0 2.0 3.0 4.0 5.0 6.0 7.0 8.0 9.0 10.0 11.0 12.0 ...\n",
       "Data variables:\n",
       "    hFacC    (i1, i2, i3) float64 ...\n",
       "    hFacW    (i1, i2, i3) float64 ...\n",
       "    hFacS    (i1, i2, i3) float64 ...\n",
       "    XC       (i2, i3) float64 ...\n",
       "    YC       (i2, i3) float64 ...\n",
       "    XG       (i2, i3) float64 ...\n",
       "    YG       (i2, i3) float64 ...\n",
       "    RAC      (i2, i3) float64 ...\n",
       "    RAZ      (i2, i3) float64 ...\n",
       "    DXC      (i2, i3) float64 ...\n",
       "    DYC      (i2, i3) float64 ...\n",
       "    DXG      (i2, i3) float64 ...\n",
       "    DYG      (i2, i3) float64 ...\n",
       "    Depth    (i2, i3) float64 ...\n",
       "    AngleCS  (i2, i3) float64 ...\n",
       "    AngleSN  (i2, i3) float64 ...\n",
       "    RC       (i1) float64 ...\n",
       "    RF       (i1) float64 ...\n",
       "    DRC      (i1) float64 ...\n",
       "    DRF      (i1) float64 ...\n",
       "Attributes:\n",
       "    description:    C-grid parameters (see MITgcm documentation for details)....\n",
       "    A:              :Format      = native grid (nctiles w. 13 tiles)\n",
       "    B:              :source      = ECCO consortium (http://ecco-group.org/)\n",
       "    C:              :institution = JPL/UT/MIT/AER\n",
       "    D:              :history     = files revision history :\n",
       "    E:                                 04/20/2017: fill in geometry info for ...\n",
       "    F:                                 11/06/2016: third release of ECCO v4 (...\n",
       "    G:                             estimates revision history (from second re...\n",
       "    H:                                 employs bi-harmonic viscosity (enhance...\n",
       "    I:                                 sea-ice parameters, updated or novel o...\n",
       "    J:                                 GRACE OBP, Aquarius SSS, global mean s...\n",
       "    K:                                 time-series, extended and/or expanded ...\n",
       "    L:                                 revised weights including data and con...\n",
       "    M:                                 to account for grid-size variation and...\n",
       "    N:                                 separate time-mean and time-variable d...\n",
       "    O:                                 and controls, sea-ice costs, and initi...\n",
       "    P:                                 additional controls.\\n \n",
       "    Q:              :references  = Forget, G., J.-M. Campin, P. Heimbach, C. ...\n",
       "    R:                              and C. Wunsch, 2015: ECCO version 4: an i...\n",
       "    S:                              non-linear inverse modeling and global oc...\n",
       "    T:                              Geoscientific Model Development, 8, 3071-...\n",
       "    U:                             Forget, G., J.-M. Campin, P. Heimbach, C. ...\n",
       "    V:                              ECCO version 4: Second Release, 2016, htt...\n",
       "    W:              file created using gcmfaces_IO/write2nctiles.m\n",
       "    date:           21-Apr-2017\n",
       "    Conventions:    CF-1.6\n",
       "    _FillValue:     nan\n",
       "    missing_value:  nan"
      ]
     },
     "execution_count": 88,
     "metadata": {},
     "output_type": "execute_result"
    }
   ],
   "source": [
    "grid_3_od"
   ]
  },
  {
   "cell_type": "markdown",
   "metadata": {},
   "source": [
    "### Examining the Dataset object contents\n",
    "\n",
    "We see that all of the Data variables in `grid_3_od` use one of three dimensions, **i1**, **i2**, and **i3**.  As we saw before, some variables are 3D, $hFacC(i1,i2,i3)$; others are 2D, $XC(i2,i3)$; and others are 1D, $RF(i1)$.\n",
    "    \n",
    "While this `Dataset` object is useful, its coordinate names are somewhat ambiguous.  The MITgcm uses the staggered Arakawa-C grid (hereafter c-grid) to discretize the model equations.  Model variables are not co-located in c-grid models; they can fall on one of four different categories of point.  From the above, one cannot distinguish *where* on the *c-grid* these different variables are situated.  \n",
    "\n",
    "To understand this issue better, let's review the c-grid coordinate system.\n",
    "\n",
    "## The four horizontal points of the c-grid\n",
    "\n",
    "![C-grid-points.png](../figures/C-grid-points.png)\n",
    "**The four different categories of point used in the staggered Arakawa-C grid (C-grid)**\n",
    "\n",
    "### *c* points\n",
    "\n",
    "Scalar variables (e.g., $T, S, SSH, OBP, SIarea$) and variables associated with vertical velocity (e.g., $WVEL$) are situated at the center of the tracer grid cell in the horizontal plane.  These are $c$ points\n",
    "\n",
    "Define the coordinates $(i,j)$ for the discrete indices of $c$ points in the $x$ and $y$ directions, respectively.\n",
    "\n",
    "In the ECCO v4 NetCDF files, $c(0,0)$ is the $-x$ most and $-y$ most tracer grid cell.\n",
    "\n",
    "* In the +$y$ direction, the next $c$ point is $c(0,1)$.\n",
    "* In the +$x$ direction, the next $c$ point is $c(1,0)$ \n",
    "\n",
    "### *u* points\n",
    "\n",
    "Vector variables related to horizontal velocity in the $x$ direction are  staggered along the edges of tracer cells between $c$ points in the horizontal plane. Examples include horizontal velocity in the $x$ direction ($UVEL$) and horizontal advective flux of snow in the $x$ direction ($ADVxSNOW$).  They are situated along the edges (if 2D) or faces (if 3D) of the tracer grid cells in the $x$ direction.     \n",
    "\n",
    "Define the coordinates $(i_g,j)$ for the discrete indices of $u$ points in the $x$ and $y$ directions, respectively.\n",
    "\n",
    "We use $i_g$ as the coordinate in the $x$ direction because $u$ points are situated along the tracer grid cell ed***G***es.  We use $j$ for its $y$ coordinate because $u$ points and $c$ points fall along the same lines in $y$.\n",
    "\n",
    "In the ECCO v4 netCDF files, $u(0,0)$ is the $-x$ most and $-y$ most $u$ point.\n",
    "\n",
    "### *v* points\n",
    "\n",
    "Vector variables related to horizontal velocity in the $y$ direction are  staggered along the edges of tracer cells between $c$ points in the horizontal plane. Examples include horizontal velocity in the $y$ direction ($VVEL$) and horizontal advective flux of snow in the $y$ direction ($ADVySNOW$).  They are situated along the edges (if 2D) or faces (if 3D) of the tracer grid cells in the $y$ direction.     \n",
    "\n",
    "Define the coordinates $(i,j_g)$ for the discrete indices of $v$ points in the $x$ and $y$ directions, respectively.\n",
    "\n",
    "We use $j_g$ as the coordinate in the $y$ direction because $v$ points are situated along the tracer grid cell ed***G***es.  We use $i$ for its $x$ coordinate because $v$ points and $c$ points fall along the same lines in $x$.  \n",
    "\n",
    "In the ECCO v4 NetCDF files, $v(0,0)$ is the $-x$ most and $-y$ most $v$ point.\n",
    "\n",
    "### *g* points\n",
    "\n",
    "Variables that are explictly related to horizontal velocities in the model in both the $x$ and $y$ direction are situated at $g$ points in the horizontal plane.  $g$ points are situated at the corners of tracer grid cells.  \n",
    "\n",
    "Define the coordinates $(i_g,j_g)$ for the discrete indices of $g$ points in the $x$ and $y$ directions, respectively.  \n",
    "\n",
    "We use $i_g$ and $j_g$ because $g$ points are on the ed***G***es (corners) of tracer grid cells.\n",
    "\n",
    "In the ECCO v4 NetCDF files, $g(0,0)$ is the $-x$ most and $-y$ most $g$ point.\n",
    "\n",
    "## The two vertical points of the c-grid\n",
    "\n",
    "There are two different coordinates in the vertical $z$ dimension:\n",
    "\n",
    "### *w* points\n",
    "\n",
    "Variables related to vertical velocity or vertical fluxes are situated at $w$ points in the vertical direction.  These variables are situated on the upper and lower faces of the tracer grid cell.   \n",
    "\n",
    "Define the coordinate $k_g$ for $w$ points using the same reasoning as above: $w$ points fall along the the ed***G***es of tracer grid cells in the $z$ direction (top and bottom of the grid cells).\n",
    "\n",
    "In the ECCO v4 NetCDF files, $k_g(0)$ is the sea surface.\n",
    "\n",
    "### *k* points\n",
    "\n",
    "Variables that are not related to vertical velocity or vertical fluxes are situated at $k$ points in the vertical direction.  These variables are situated on the upper and lower faces of the tracer grid cell.   \n",
    "\n",
    "Define the coordinate $k$ for points situated in the center of the grid cells.\n",
    "\n",
    "In the ECCO v4 NetCDF files, $k(0)$ is the middle of the uppermost tracer grid cell.\n",
    "\n",
    "\n",
    "## Applying the C-grid coordinates to the variables\n",
    "\n",
    "The default coordinate names in the ECCO v4 netcdf tile files do not distinguish distinguish between the four horizontal coordinates, $i, i_g, j, j_g$ and the two vertical coordinates, $k_g$ and $k$, used by our  c-grid model.\n",
    "\n",
    "To apply these more descriptive coordinates to the `Dataset` objects that are created when we load netCDF files, we provide a special routine, `load_tile_from_netcdf`.\n",
    "\n",
    "### `load_tile_from_netcdf`\n",
    "\n",
    "This routine takes four arguments,\n",
    "1. *data_dir*: the directory of the netCDF file\n",
    "2. *var*: the name of the variable stored in the netCDF file (without the tile number).  Examples include *THETA*, *VVEL*, *DFxEHFF*\n",
    "3. *var_type*: one of 'c','g','u','v', or 'grid' corresponding with the variable's c-grid point type.  'grid' is a special case because unlike every other variable NetCDF file, grid files actually contain several variables that are on different c-grid points.\n",
    "4. *tile_index*: the tile number [1 .. 13]"
   ]
  },
  {
   "cell_type": "markdown",
   "metadata": {},
   "source": [
    "### Loading an ECCO v4 netCDF grid tile file using  `load_tile_from_netcdf`\n",
    "\n",
    "Let's use `load_tile_from_netcdf` to load grid tile 3 again. This time we'll call the new `Dataset` object `grid_3_new`"
   ]
  },
  {
   "cell_type": "code",
   "execution_count": 89,
   "metadata": {},
   "outputs": [
    {
     "name": "stdout",
     "output_type": "stream",
     "text": [
      "loading /Volumes/ECCO_BASE/ECCO_v4r3/nctiles_grid/GRID.0003.nc\n"
     ]
    }
   ],
   "source": [
    "var = 'GRID'\n",
    "var_type = 'grid'\n",
    "tile_index = 3\n",
    "grid_3_new = ecco.load_tile_from_netcdf(grid_dir, var, var_type, tile_index)"
   ]
  },
  {
   "cell_type": "code",
   "execution_count": 90,
   "metadata": {},
   "outputs": [
    {
     "data": {
      "text/plain": [
       "<xarray.Dataset>\n",
       "Dimensions:  (i: 90, i_g: 90, j: 90, j_g: 90, k: 50, k_g: 50)\n",
       "Coordinates:\n",
       "    tile     int64 3\n",
       "  * k        (k) float64 1.0 2.0 3.0 4.0 5.0 6.0 7.0 8.0 9.0 10.0 11.0 12.0 ...\n",
       "  * i        (i) float64 1.0 2.0 3.0 4.0 5.0 6.0 7.0 8.0 9.0 10.0 11.0 12.0 ...\n",
       "  * j        (j) float64 1.0 2.0 3.0 4.0 5.0 6.0 7.0 8.0 9.0 10.0 11.0 12.0 ...\n",
       "  * i_g      (i_g) float64 1.0 2.0 3.0 4.0 5.0 6.0 7.0 8.0 9.0 10.0 11.0 ...\n",
       "  * j_g      (j_g) float64 1.0 2.0 3.0 4.0 5.0 6.0 7.0 8.0 9.0 10.0 11.0 ...\n",
       "  * k_g      (k_g) float64 1.0 2.0 3.0 4.0 5.0 6.0 7.0 8.0 9.0 10.0 11.0 ...\n",
       "Data variables:\n",
       "    XC       (j, i) float64 ...\n",
       "    YC       (j, i) float64 ...\n",
       "    RAC      (j, i) float64 ...\n",
       "    Depth    (j, i) float64 ...\n",
       "    AngleCS  (j, i) float64 ...\n",
       "    AngleSN  (j, i) float64 ...\n",
       "    hFacC    (k, j, i) float64 ...\n",
       "    land_c   (k, j, i) float64 1.0 1.0 1.0 1.0 1.0 1.0 1.0 1.0 1.0 1.0 1.0 ...\n",
       "    XG       (j_g, i_g) float64 ...\n",
       "    YG       (j_g, i_g) float64 ...\n",
       "    RAZ      (j_g, i_g) float64 ...\n",
       "    DXC      (j, i_g) float64 ...\n",
       "    DYG      (j, i_g) float64 ...\n",
       "    hFacW    (k, j, i_g) float64 ...\n",
       "    land_u   (k, j, i_g) float64 1.0 1.0 1.0 1.0 1.0 1.0 1.0 1.0 1.0 1.0 1.0 ...\n",
       "    DYC      (j_g, i) float64 ...\n",
       "    DXG      (j_g, i) float64 ...\n",
       "    hFacS    (k, j_g, i) float64 ...\n",
       "    land_v   (k, j_g, i) float64 1.0 1.0 1.0 1.0 1.0 1.0 1.0 1.0 1.0 1.0 1.0 ...\n",
       "    RF       (k_g) float64 ...\n",
       "    DRC      (k_g) float64 ...\n",
       "    RC       (k) float64 ...\n",
       "    DRF      (k) float64 ...\n",
       "Attributes:\n",
       "    description:    C-grid parameters (see MITgcm documentation for details)....\n",
       "    A:              :Format      = native grid (nctiles w. 13 tiles)\n",
       "    B:              :source      = ECCO consortium (http://ecco-group.org/)\n",
       "    C:              :institution = JPL/UT/MIT/AER\n",
       "    D:              :history     = files revision history :\n",
       "    E:                                 04/20/2017: fill in geometry info for ...\n",
       "    F:                                 11/06/2016: third release of ECCO v4 (...\n",
       "    G:                             estimates revision history (from second re...\n",
       "    H:                                 employs bi-harmonic viscosity (enhance...\n",
       "    I:                                 sea-ice parameters, updated or novel o...\n",
       "    J:                                 GRACE OBP, Aquarius SSS, global mean s...\n",
       "    K:                                 time-series, extended and/or expanded ...\n",
       "    L:                                 revised weights including data and con...\n",
       "    M:                                 to account for grid-size variation and...\n",
       "    N:                                 separate time-mean and time-variable d...\n",
       "    O:                                 and controls, sea-ice costs, and initi...\n",
       "    P:                                 additional controls.\\n \n",
       "    Q:              :references  = Forget, G., J.-M. Campin, P. Heimbach, C. ...\n",
       "    R:                              and C. Wunsch, 2015: ECCO version 4: an i...\n",
       "    S:                              non-linear inverse modeling and global oc...\n",
       "    T:                              Geoscientific Model Development, 8, 3071-...\n",
       "    U:                             Forget, G., J.-M. Campin, P. Heimbach, C. ...\n",
       "    V:                              ECCO version 4: Second Release, 2016, htt...\n",
       "    W:              file created using gcmfaces_IO/write2nctiles.m\n",
       "    date:           21-Apr-2017\n",
       "    Conventions:    CF-1.6\n",
       "    _FillValue:     nan\n",
       "    missing_value:  nan"
      ]
     },
     "execution_count": 90,
     "metadata": {},
     "output_type": "execute_result"
    }
   ],
   "source": [
    "grid_3_new"
   ]
  },
  {
   "cell_type": "markdown",
   "metadata": {},
   "source": [
    "### Examining the Dataset object contents\n",
    "\n",
    "\n",
    "#### 1. Dimensions\n",
    "`Dimensions:  (i: 90, i_g: 90, j: 90, j_g: 90, k: 50, k_g: 50)`\n",
    "\n",
    "The *Dimensions* list now lists the six different coordinates and their dimension used by variables stored in this new grid tile `Dataset` object.  \n",
    "\n",
    "#### 2. Coordinates\n",
    "```\n",
    "Coordinates:\n",
    "    tile     int64 3\n",
    "  * k        (k) float64 1.0 2.0 3.0 4.0 5.0 6.0 7.0 8.0 9.0 10.0 11.0 12.0 ...\n",
    "  * i        (i) float64 1.0 2.0 3.0 4.0 5.0 6.0 7.0 8.0 9.0 10.0 11.0 12.0 ...\n",
    "  * j        (j) float64 1.0 2.0 3.0 4.0 5.0 6.0 7.0 8.0 9.0 10.0 11.0 12.0 ...\n",
    "  * i_g      (i_g) float64 1.0 2.0 3.0 4.0 5.0 6.0 7.0 8.0 9.0 10.0 11.0 ...\n",
    "  * j_g      (j_g) float64 1.0 2.0 3.0 4.0 5.0 6.0 7.0 8.0 9.0 10.0 11.0 ...\n",
    "  * k_g      (k_g) float64 1.0 2.0 3.0 4.0 5.0 6.0 7.0 8.0 9.0 10.0 11.0 ...\n",
    "``` \n",
    "\n",
    "Each of the 6 dimensions has a corresponding set of coordinate labels.\n",
    "\n",
    "\n",
    "#### 3. Data Variables\n",
    "```\n",
    "Data variables:\n",
    "    XC       (j, i) float64 ...\n",
    "    hFacC    (k, j, i) float64 ...\n",
    "    XG       (j_g, i_g) float64 ...\n",
    "    DXC      (j, i_g) float64 ...\n",
    "    hFacW    (k, j, i_g) float64 ...\n",
    "    DYC      (j_g, i) float64 ...\n",
    "    hFacS    (k, j_g, i) float64 ...\n",
    "    RF       (k_g) float64 ...\n",
    "    RC       (k) float64 ...\n",
    "```\n",
    "\n",
    "We now see that each *data variable* is now described with its proper coordinates.\n",
    "For example, XC, the longitude of the tracer grid cell center uses $i,j$ coordiantes while   XG, the longitude grid cell corners, now has $i_g, j_g$ coordinates.  DXC, the distance between adjacent cell centers, uses $i_g, j$ coordiantes: consistent with the notion that distances between cell centers in $x$ are situated halfway between cell centers.\n",
    "\n",
    "> **Note:** The ordering of arrays is not (x,y,z) but (z,y,x).  \n",
    "\n",
    "In addition to the variables now having more descriptive coordinates, the `load_tile_from_netcdf` routine also adds 3 new three-dimensional land masks, one each for grid cell at the 'u' (land_u), 'c' (land_c), and 'v' (land_v) points."
   ]
  },
  {
   "cell_type": "markdown",
   "metadata": {},
   "source": [
    "## A closer look at the DataArray after loading with `load_tile_from_netcdf`\n",
    "\n",
    "Let's take a quick look at one of the variables loaded using the `load_tile_from_netcdf` routine:"
   ]
  },
  {
   "cell_type": "code",
   "execution_count": 91,
   "metadata": {},
   "outputs": [
    {
     "data": {
      "text/plain": [
       "<xarray.DataArray 'XC' (j: 90, i: 90)>\n",
       "array([[-37.5     , -36.5     , -35.5     , ...,  49.5     ,  50.5     ,  51.5     ],\n",
       "       [-37.5     , -36.5     , -35.5     , ...,  49.5     ,  50.5     ,  51.5     ],\n",
       "       [-37.5     , -36.5     , -35.5     , ...,  49.5     ,  50.5     ,  51.5     ],\n",
       "       ..., \n",
       "       [-37.730072, -37.178291, -36.597565, ...,  50.597565,  51.178291,\n",
       "         51.730072],\n",
       "       [-37.771988, -37.291943, -36.764027, ...,  50.764027,  51.291943,\n",
       "         51.771988],\n",
       "       [-37.837925, -37.44421 , -36.968143, ...,  50.968143,  51.44421 ,\n",
       "         51.837925]])\n",
       "Coordinates:\n",
       "    tile     int64 3\n",
       "  * i        (i) float64 1.0 2.0 3.0 4.0 5.0 6.0 7.0 8.0 9.0 10.0 11.0 12.0 ...\n",
       "  * j        (j) float64 1.0 2.0 3.0 4.0 5.0 6.0 7.0 8.0 9.0 10.0 11.0 12.0 ...\n",
       "Attributes:\n",
       "    long_name:          longitude\n",
       "    units:              degrees_east\n",
       "    rotated_to_latlon:  False"
      ]
     },
     "execution_count": 91,
     "metadata": {},
     "output_type": "execute_result"
    }
   ],
   "source": [
    "grid_3_new.XC"
   ]
  },
  {
   "cell_type": "markdown",
   "metadata": {},
   "source": [
    "The `load_tile_from_netcdf` routine adds a new coordinate to the variables, *tile*.   This will be helpful when loading and combining multiple tiles.\n",
    "\n",
    "Finally, we see a new attribute: *rotated_to_latlon*.  This attribute is a flag telling us that the arrays are in the original lat-lon-cap tile layout.  We'll discuss this later."
   ]
  },
  {
   "cell_type": "markdown",
   "metadata": {},
   "source": [
    "## Loading non-grid ECCO variables using `load_tile_from_netcdf`\n",
    "\n",
    "So far we've only looked at ECCO v4 grid tile files.  With the `load_tile_from_netcdf` routine you can assign the proper coordinates to any variable by specifying its c-grid point category.  \n",
    "\n",
    "We'll demonstrate by loading three variables, one each that are on 'c','u', and 'v' points \n",
    "\n",
    "### A 'c' point variable: SSH\n",
    "\n",
    "Let's load tile 3 of the 'c' point sea surface height (SSH) variable.  "
   ]
  },
  {
   "cell_type": "code",
   "execution_count": 92,
   "metadata": {},
   "outputs": [
    {
     "name": "stdout",
     "output_type": "stream",
     "text": [
      "loading /Volumes/ECCO_BASE/ECCO_v4r3/nctiles_monthly/SSH/SSH.0003.nc\n"
     ]
    }
   ],
   "source": [
    "data_dir='/Volumes/ECCO_BASE/ECCO_v4r3/nctiles_monthly/SSH/'    \n",
    "var = 'SSH'\n",
    "var_type = 'c'\n",
    "tile_index = 3\n",
    "ssh_tile_3 = ecco.load_tile_from_netcdf(data_dir, var, var_type, tile_index)"
   ]
  },
  {
   "cell_type": "markdown",
   "metadata": {},
   "source": [
    "Since this is the first time we're loading an output variable from the state estimate let's closely examine `ssh_tile_3`."
   ]
  },
  {
   "cell_type": "code",
   "execution_count": 93,
   "metadata": {},
   "outputs": [
    {
     "data": {
      "text/plain": [
       "<xarray.Dataset>\n",
       "Dimensions:   (i: 90, j: 90, tile: 1, time: 288)\n",
       "Coordinates:\n",
       "  * time      (time) float64 1.0 2.0 3.0 4.0 5.0 6.0 7.0 8.0 9.0 10.0 11.0 ...\n",
       "  * j         (j) float64 1.0 2.0 3.0 4.0 5.0 6.0 7.0 8.0 9.0 10.0 11.0 12.0 ...\n",
       "  * i         (i) float64 1.0 2.0 3.0 4.0 5.0 6.0 7.0 8.0 9.0 10.0 11.0 12.0 ...\n",
       "    lon_c     (j, i) float64 -37.5 -36.5 -35.5 -34.5 -33.5 -32.5 -31.5 -30.5 ...\n",
       "    lat_c     (j, i) float64 10.46 10.46 10.46 10.46 10.46 10.46 10.46 10.46 ...\n",
       "    tim       (time) datetime64[ns] ...\n",
       "  * tile      (tile) int64 3\n",
       "    timestep  (time) float64 732.0 1.428e+03 2.172e+03 2.892e+03 3.636e+03 ...\n",
       "Data variables:\n",
       "    SSH       (time, tile, j, i) float64 0.0576 0.05474 0.05277 0.05157 ...\n",
       "Attributes:\n",
       "    description:    SSH -- ECCO v4 ocean state estimate, release 3 -- 1992-2015\n",
       "    A:              :Format      = native grid (nctiles w. 13 tiles)\n",
       "    B:              :source      = ECCO consortium (http://ecco-group.org/)\n",
       "    C:              :institution = JPL/UT/MIT/AER\n",
       "    D:              :history     = files revision history :\n",
       "    E:                                 05/02/2017: adjust SSH and OBP with gl...\n",
       "    F:                                 05/02/2017: adjust SSH with sea-ice lo...\n",
       "    G:                                 04/20/2017: fill in geometry info for ...\n",
       "    H:                                 11/06/2016: third release of ECCO v4 (...\n",
       "    I:                             estimates revision history (from second re...\n",
       "    J:                                 employs bi-harmonic viscosity (enhance...\n",
       "    K:                                 sea-ice parameters, updated or novel o...\n",
       "    L:                                 GRACE OBP, Aquarius SSS, global mean s...\n",
       "    M:                                 time-series, extended and/or expanded ...\n",
       "    N:                                 revised weights including data and con...\n",
       "    O:                                 to account for grid-size variation and...\n",
       "    P:                                 separate time-mean and time-variable d...\n",
       "    Q:                                 and controls, sea-ice costs, and initi...\n",
       "    R:                                 additional controls.\\n \n",
       "    S:              :references  = Forget, G., J.-M. Campin, P. Heimbach, C. ...\n",
       "    T:                              and C. Wunsch, 2015: ECCO version 4: an i...\n",
       "    U:                              non-linear inverse modeling and global oc...\n",
       "    V:                              Geoscientific Model Development, 8, 3071-...\n",
       "    W:                             Forget, G., J.-M. Campin, P. Heimbach, C. ...\n",
       "    X:                              ECCO version 4: Second Release, 2016, htt...\n",
       "    Y:              file created using gcmfaces_IO/write2nctiles.m\n",
       "    date:           02-May-2017\n",
       "    Conventions:    CF-1.6\n",
       "    _FillValue:     nan\n",
       "    missing_value:  nan"
      ]
     },
     "execution_count": 93,
     "metadata": {},
     "output_type": "execute_result"
    }
   ],
   "source": [
    "ssh_tile_3"
   ]
  },
  {
   "cell_type": "markdown",
   "metadata": {},
   "source": [
    "Notice that unlike the grid files that we've loaded up until now, the `ssh_tile_3` `Dataset` object only has one *Data variable*, $SSH$.  Non-grid ECCO v4 NetCDF tile files only ever store *one* physical variable. Consequently, the *dimensions* of the `Dataset` will be the same as the *dimensions* of the single *data variable*.    Let's take a look at the $SSH$ `DataArary`:"
   ]
  },
  {
   "cell_type": "code",
   "execution_count": 94,
   "metadata": {},
   "outputs": [
    {
     "data": {
      "text/plain": [
       "<xarray.DataArray 'SSH' (time: 288, tile: 1, j: 90, i: 90)>\n",
       "array([[[[ 0.0576  , ...,  0.383994],\n",
       "         ..., \n",
       "         [      nan, ...,       nan]]],\n",
       "\n",
       "\n",
       "       ..., \n",
       "       [[[ 0.075663, ...,  0.458817],\n",
       "         ..., \n",
       "         [      nan, ...,       nan]]]])\n",
       "Coordinates:\n",
       "  * time      (time) float64 1.0 2.0 3.0 4.0 5.0 6.0 7.0 8.0 9.0 10.0 11.0 ...\n",
       "  * j         (j) float64 1.0 2.0 3.0 4.0 5.0 6.0 7.0 8.0 9.0 10.0 11.0 12.0 ...\n",
       "  * i         (i) float64 1.0 2.0 3.0 4.0 5.0 6.0 7.0 8.0 9.0 10.0 11.0 12.0 ...\n",
       "    lon_c     (j, i) float64 -37.5 -36.5 -35.5 -34.5 -33.5 -32.5 -31.5 -30.5 ...\n",
       "    lat_c     (j, i) float64 10.46 10.46 10.46 10.46 10.46 10.46 10.46 10.46 ...\n",
       "    tim       (time) datetime64[ns] ...\n",
       "  * tile      (tile) int64 3\n",
       "    timestep  (time) float64 732.0 1.428e+03 2.172e+03 2.892e+03 3.636e+03 ...\n",
       "Attributes:\n",
       "    long_name:          Surface Height Anomaly adjusted with global steric he...\n",
       "    units:              m\n",
       "    rotated_to_latlon:  False"
      ]
     },
     "execution_count": 94,
     "metadata": {},
     "output_type": "execute_result"
    }
   ],
   "source": [
    "ssh_tile_3.SSH"
   ]
  },
  {
   "cell_type": "markdown",
   "metadata": {},
   "source": [
    "#### Dimensional coordinates\n",
    "As expected, the `SSH` `DataArray` uses **i, j** coordinates for its horizontal dimensions.  We also see a **tile** and **time** coordinates.  The ordering of the $SSH$ dimensions is **time, tile, j, i** with the logic being that **tile** is a kind of space coordinate.\n",
    "\n",
    "We find 288 records in the **time** dimensions.  One for each month of the 1992-2015 state estimate.  There is one record in the **tile** dimensions because we have only loaded a single tile file so far.\n",
    "\n",
    "#### Non-dimensional coordinates\n",
    "\n",
    "Notice the four *Coordinates* that do not have an \"\\*\" in front of their names.  These are so-called [non-dimensional coordinates](http://xarray.pydata.org/en/stable/data-structures.html#coordinates).  Think of non-dimensional coordinates as helpful extra coordinate labels.  Here, the non-dimensional coordinates include two for the **time** dimension: **tim** and **timestep**, and two for the space dimensions: **lon_c, lat_c**.  \n",
    "\n",
    "##### The time non-dimensional coordinates"
   ]
  },
  {
   "cell_type": "code",
   "execution_count": 95,
   "metadata": {},
   "outputs": [
    {
     "data": {
      "text/plain": [
       "<xarray.DataArray 'time' (time: 288)>\n",
       "array([   1.,    2.,    3., ...,  286.,  287.,  288.])\n",
       "Coordinates:\n",
       "  * time      (time) float64 1.0 2.0 3.0 4.0 5.0 6.0 7.0 8.0 9.0 10.0 11.0 ...\n",
       "    tim       (time) datetime64[ns] ...\n",
       "    timestep  (time) float64 732.0 1.428e+03 2.172e+03 2.892e+03 3.636e+03 ...\n",
       "Attributes:\n",
       "    long_name:  array index 1\n",
       "    units:      1"
      ]
     },
     "execution_count": 95,
     "metadata": {},
     "output_type": "execute_result"
    }
   ],
   "source": [
    "ssh_tile_3.time"
   ]
  },
  {
   "cell_type": "markdown",
   "metadata": {},
   "source": [
    "The **tim** non-dimensional coordinate provides the calendar date (centered in the month) for the **time** monthly index and the **timestep** non-dimensional coordinate provides the the timestep number corresponding to each month (the ECCO v4 simulation uses 1-hourly timesteps).\n",
    "\n",
    "##### The space non-dimensional coordinates\n",
    "**lon_c** and **lat_c** non-dimensional coordinates provide the longitude and latitude for each of the 'c' points of $SSH$."
   ]
  },
  {
   "cell_type": "code",
   "execution_count": 96,
   "metadata": {},
   "outputs": [
    {
     "data": {
      "text/plain": [
       "<xarray.DataArray 'lon_c' (j: 90, i: 90)>\n",
       "array([[-37.5     , -36.5     , -35.5     , ...,  49.5     ,  50.5     ,  51.5     ],\n",
       "       [-37.5     , -36.5     , -35.5     , ...,  49.5     ,  50.5     ,  51.5     ],\n",
       "       [-37.5     , -36.5     , -35.5     , ...,  49.5     ,  50.5     ,  51.5     ],\n",
       "       ..., \n",
       "       [-37.730072, -37.178291, -36.597565, ...,  50.597565,  51.178291,\n",
       "         51.730072],\n",
       "       [-37.771988, -37.291943, -36.764027, ...,  50.764027,  51.291943,\n",
       "         51.771988],\n",
       "       [-37.837925, -37.44421 , -36.968143, ...,  50.968143,  51.44421 ,\n",
       "         51.837925]])\n",
       "Coordinates:\n",
       "  * j        (j) float64 1.0 2.0 3.0 4.0 5.0 6.0 7.0 8.0 9.0 10.0 11.0 12.0 ...\n",
       "  * i        (i) float64 1.0 2.0 3.0 4.0 5.0 6.0 7.0 8.0 9.0 10.0 11.0 12.0 ...\n",
       "    lon_c    (j, i) float64 -37.5 -36.5 -35.5 -34.5 -33.5 -32.5 -31.5 -30.5 ...\n",
       "    lat_c    (j, i) float64 10.46 10.46 10.46 10.46 10.46 10.46 10.46 10.46 ...\n",
       "Attributes:\n",
       "    units:          degrees_east\n",
       "    standard_name:  longitude"
      ]
     },
     "execution_count": 96,
     "metadata": {},
     "output_type": "execute_result"
    }
   ],
   "source": [
    "ssh_tile_3.lon_c"
   ]
  },
  {
   "cell_type": "markdown",
   "metadata": {},
   "source": [
    "### A 'u' point variable: UVEL\n",
    "\n",
    "Let's load tile 3 of the 'u' point horizontal velocity in the local $x$ direction variable, $UVEL$."
   ]
  },
  {
   "cell_type": "code",
   "execution_count": 97,
   "metadata": {},
   "outputs": [
    {
     "name": "stdout",
     "output_type": "stream",
     "text": [
      "loading /Volumes/ECCO_BASE/ECCO_v4r3/nctiles_monthly/UVEL/UVEL.0003.nc\n"
     ]
    }
   ],
   "source": [
    "data_dir='/Volumes/ECCO_BASE/ECCO_v4r3/nctiles_monthly/UVEL/'    \n",
    "var = 'UVEL'\n",
    "var_type = 'u'\n",
    "tile_index = 3\n",
    "uvel_tile_3 = ecco.load_tile_from_netcdf(data_dir, var, var_type, tile_index)"
   ]
  },
  {
   "cell_type": "markdown",
   "metadata": {},
   "source": [
    "Let's look at `uvel_tile_3`.  This time let's also remove some of the descriptive NetCDF file *Attributes* using a little routine called `minimal_metadata`.  We've already seen these attributes a number of times."
   ]
  },
  {
   "cell_type": "code",
   "execution_count": 98,
   "metadata": {},
   "outputs": [
    {
     "name": "stdout",
     "output_type": "stream",
     "text": [
      "Removing Dataset Attributes A-Z\n",
      "\n"
     ]
    }
   ],
   "source": [
    "ecco.minimal_metadata(uvel_tile_3)"
   ]
  },
  {
   "cell_type": "code",
   "execution_count": 99,
   "metadata": {},
   "outputs": [
    {
     "data": {
      "text/plain": [
       "<xarray.Dataset>\n",
       "Dimensions:   (i_g: 90, j: 90, k: 50, tile: 1, time: 288)\n",
       "Coordinates:\n",
       "  * time      (time) float64 1.0 2.0 3.0 4.0 5.0 6.0 7.0 8.0 9.0 10.0 11.0 ...\n",
       "  * k         (k) float64 1.0 2.0 3.0 4.0 5.0 6.0 7.0 8.0 9.0 10.0 11.0 12.0 ...\n",
       "  * j         (j) float64 1.0 2.0 3.0 4.0 5.0 6.0 7.0 8.0 9.0 10.0 11.0 12.0 ...\n",
       "  * i_g       (i_g) float64 1.0 2.0 3.0 4.0 5.0 6.0 7.0 8.0 9.0 10.0 11.0 ...\n",
       "    lon_u     (j, i_g) float64 -38.0 -37.0 -36.0 -35.0 -34.0 -33.0 -32.0 ...\n",
       "    lat_u     (j, i_g) float64 10.46 10.46 10.46 10.46 10.46 10.46 10.46 ...\n",
       "    dep       (k) float64 ...\n",
       "    tim       (time) datetime64[ns] ...\n",
       "  * tile      (tile) int64 3\n",
       "    timestep  (time) float64 732.0 1.428e+03 2.172e+03 2.892e+03 3.636e+03 ...\n",
       "Data variables:\n",
       "    UVEL      (time, tile, k, j, i_g) float64 -0.02911 -0.02432 -0.02008 ...\n",
       "Attributes:\n",
       "    description:    UVEL -- ECCO v4 ocean state estimate, release 3 -- 1992-2015\n",
       "    date:           03-Nov-2017\n",
       "    Conventions:    CF-1.6\n",
       "    _FillValue:     nan\n",
       "    missing_value:  nan"
      ]
     },
     "execution_count": 99,
     "metadata": {},
     "output_type": "execute_result"
    }
   ],
   "source": [
    "uvel_tile_3"
   ]
  },
  {
   "cell_type": "markdown",
   "metadata": {},
   "source": [
    "`uvel_tile_3` has one *Data variable*, $UVEL$.  Let's take a look at the $UVEL$ `DataArary`:"
   ]
  },
  {
   "cell_type": "code",
   "execution_count": 100,
   "metadata": {},
   "outputs": [
    {
     "data": {
      "text/plain": [
       "<xarray.DataArray 'UVEL' (time: 288, tile: 1, k: 50, j: 90, i_g: 90)>\n",
       "array([[[[[-0.029109, ...,       nan],\n",
       "          ..., \n",
       "          [      nan, ...,       nan]],\n",
       "\n",
       "         ..., \n",
       "         [[      nan, ...,       nan],\n",
       "          ..., \n",
       "          [      nan, ...,       nan]]]],\n",
       "\n",
       "\n",
       "\n",
       "       ..., \n",
       "       [[[[-0.050949, ...,       nan],\n",
       "          ..., \n",
       "          [      nan, ...,       nan]],\n",
       "\n",
       "         ..., \n",
       "         [[      nan, ...,       nan],\n",
       "          ..., \n",
       "          [      nan, ...,       nan]]]]])\n",
       "Coordinates:\n",
       "  * time      (time) float64 1.0 2.0 3.0 4.0 5.0 6.0 7.0 8.0 9.0 10.0 11.0 ...\n",
       "  * k         (k) float64 1.0 2.0 3.0 4.0 5.0 6.0 7.0 8.0 9.0 10.0 11.0 12.0 ...\n",
       "  * j         (j) float64 1.0 2.0 3.0 4.0 5.0 6.0 7.0 8.0 9.0 10.0 11.0 12.0 ...\n",
       "  * i_g       (i_g) float64 1.0 2.0 3.0 4.0 5.0 6.0 7.0 8.0 9.0 10.0 11.0 ...\n",
       "    lon_u     (j, i_g) float64 -38.0 -37.0 -36.0 -35.0 -34.0 -33.0 -32.0 ...\n",
       "    lat_u     (j, i_g) float64 10.46 10.46 10.46 10.46 10.46 10.46 10.46 ...\n",
       "    dep       (k) float64 ...\n",
       "    tim       (time) datetime64[ns] ...\n",
       "  * tile      (tile) int64 3\n",
       "    timestep  (time) float64 732.0 1.428e+03 2.172e+03 2.892e+03 3.636e+03 ...\n",
       "Attributes:\n",
       "    long_name:          Zonal Component of Velocity (m/s)\n",
       "    units:              m/s\n",
       "    rotated_to_latlon:  False"
      ]
     },
     "execution_count": 100,
     "metadata": {},
     "output_type": "execute_result"
    }
   ],
   "source": [
    "uvel_tile_3.UVEL"
   ]
  },
  {
   "cell_type": "markdown",
   "metadata": {},
   "source": [
    "#### Dimensional coordinates\n",
    "As expected, $UVEL$ uses the **i_g, j** coordinates for its horizontal dimensions. Unlike $SSH$, $UVEL$ has three-dimensions in space so we find a **k** coordinate.  The ordering of the three-dimensional ECCO v4 output is **time, tile, k, j, i**.\n",
    "\n",
    "#### Non-dimensional coordinates\n",
    "\n",
    "$UVEL$ has one new non-dimensional coordinate for **k**: **dep** and two new non-dimensional coordinates for space: **lon_u, lat_u**\n",
    "\n",
    "##### The **dep** non-dimensional coordinates\n",
    "\n",
    "**dep** is the depth of the center of the tracer grid cell in meters:"
   ]
  },
  {
   "cell_type": "code",
   "execution_count": 101,
   "metadata": {},
   "outputs": [
    {
     "data": {
      "text/plain": [
       "<xarray.DataArray 'dep' (k: 50)>\n",
       "array([  5.000000e+00,   1.500000e+01,   2.500000e+01,   3.500000e+01,\n",
       "         4.500000e+01,   5.500000e+01,   6.500000e+01,   7.500500e+01,\n",
       "         8.502500e+01,   9.509500e+01,   1.053100e+02,   1.158700e+02,\n",
       "         1.271500e+02,   1.397400e+02,   1.544700e+02,   1.724000e+02,\n",
       "         1.947350e+02,   2.227100e+02,   2.574700e+02,   2.999300e+02,\n",
       "         3.506800e+02,   4.099300e+02,   4.774700e+02,   5.527100e+02,\n",
       "         6.347350e+02,   7.224000e+02,   8.144700e+02,   9.097400e+02,\n",
       "         1.007155e+03,   1.105905e+03,   1.205535e+03,   1.306205e+03,\n",
       "         1.409150e+03,   1.517095e+03,   1.634175e+03,   1.765135e+03,\n",
       "         1.914150e+03,   2.084035e+03,   2.276225e+03,   2.491250e+03,\n",
       "         2.729250e+03,   2.990250e+03,   3.274250e+03,   3.581250e+03,\n",
       "         3.911250e+03,   4.264250e+03,   4.640250e+03,   5.039250e+03,\n",
       "         5.461250e+03,   5.906250e+03])\n",
       "Coordinates:\n",
       "  * k        (k) float64 1.0 2.0 3.0 4.0 5.0 6.0 7.0 8.0 9.0 10.0 11.0 12.0 ...\n",
       "    dep      (k) float64 5.0 15.0 25.0 35.0 45.0 55.0 65.0 75.0 85.03 95.1 ...\n",
       "Attributes:\n",
       "    units:          m\n",
       "    standard_name:  depth"
      ]
     },
     "execution_count": 101,
     "metadata": {},
     "output_type": "execute_result"
    }
   ],
   "source": [
    "uvel_tile_3.dep"
   ]
  },
  {
   "cell_type": "markdown",
   "metadata": {},
   "source": [
    "##### The space non-dimensional coordinates\n",
    "**lon_u** and **lat_u** provide the longitude and latitude for each **i_g,j** point.\n",
    "\n",
    "### A 'v' point variable: VVEL\n",
    "\n",
    "Let's load tile 3 of the 'v' point horizontal velocity in the local $x$ direction variable, $VVEL$."
   ]
  },
  {
   "cell_type": "code",
   "execution_count": 102,
   "metadata": {},
   "outputs": [
    {
     "name": "stdout",
     "output_type": "stream",
     "text": [
      "loading /Volumes/ECCO_BASE/ECCO_v4r3/nctiles_monthly/VVEL/VVEL.0003.nc\n",
      "Removing Dataset Attributes A-Z\n",
      "\n"
     ]
    }
   ],
   "source": [
    "data_dir='/Volumes/ECCO_BASE/ECCO_v4r3/nctiles_monthly/VVEL/'    \n",
    "var = 'VVEL'\n",
    "var_type = 'v'\n",
    "tile_index = 3\n",
    "vvel_tile_3 = ecco.load_tile_from_netcdf(data_dir, var, var_type, tile_index)\n",
    "ecco.minimal_metadata(vvel_tile_3)"
   ]
  },
  {
   "cell_type": "markdown",
   "metadata": {},
   "source": [
    "Let's look at the *Coordinates* of $VVEL$."
   ]
  },
  {
   "cell_type": "code",
   "execution_count": 103,
   "metadata": {},
   "outputs": [
    {
     "data": {
      "text/plain": [
       "Coordinates:\n",
       "  * time      (time) float64 1.0 2.0 3.0 4.0 5.0 6.0 7.0 8.0 9.0 10.0 11.0 ...\n",
       "  * k         (k) float64 1.0 2.0 3.0 4.0 5.0 6.0 7.0 8.0 9.0 10.0 11.0 12.0 ...\n",
       "  * j_g       (j_g) float64 1.0 2.0 3.0 4.0 5.0 6.0 7.0 8.0 9.0 10.0 11.0 ...\n",
       "  * i         (i) float64 1.0 2.0 3.0 4.0 5.0 6.0 7.0 8.0 9.0 10.0 11.0 12.0 ...\n",
       "    lon_v     (j_g, i) float64 -37.5 -36.5 -35.5 -34.5 -33.5 -32.5 -31.5 ...\n",
       "    lat_v     (j_g, i) float64 9.97 9.97 9.97 9.97 9.97 9.97 9.97 9.97 9.97 ...\n",
       "    dep       (k) float64 ...\n",
       "    tim       (time) datetime64[ns] ...\n",
       "  * tile      (tile) int64 3\n",
       "    timestep  (time) float64 732.0 1.428e+03 2.172e+03 2.892e+03 3.636e+03 ..."
      ]
     },
     "execution_count": 103,
     "metadata": {},
     "output_type": "execute_result"
    }
   ],
   "source": [
    "vvel_tile_3.coords"
   ]
  },
  {
   "cell_type": "markdown",
   "metadata": {},
   "source": [
    "#### Dimensional coordinates\n",
    "As expected, `vvel_tile_3` uses the **i, j_g** coordinates for its horizontal dimensions. \n",
    "\n",
    "#### Non-dimensional coordinates\n",
    "\n",
    "$VVEL$ has two new non-dimensional coordinates for space: **lon_v, lat_v**.  As you might expect, these are the longitude and latitude of this v-point variable."
   ]
  },
  {
   "cell_type": "markdown",
   "metadata": {},
   "source": [
    "## Conclusion\n",
    "\n",
    "Now you know how to load variables so that their coordinates correspond with their location on the c-grid."
   ]
  },
  {
   "cell_type": "code",
   "execution_count": 109,
   "metadata": {},
   "outputs": [
    {
     "data": {
      "text/plain": [
       "<xarray.DataArray 'RF' (k_g: 50)>\n",
       "array([    0.      ,   -10.      ,   -20.      ,   -30.      ,   -40.      ,\n",
       "         -50.      ,   -60.      ,   -70.      ,   -80.010002,   -90.040001,\n",
       "        -100.150002,  -110.470001,  -121.269997,  -133.029999,  -146.449997,\n",
       "        -162.490005,  -182.309998,  -207.160004,  -238.259995,  -276.679993,\n",
       "        -323.179993,  -378.179993,  -441.679993,  -513.26001 ,  -592.159973,\n",
       "        -677.309998,  -767.48999 ,  -861.450012,  -958.030029, -1056.280029,\n",
       "       -1155.530029, -1255.540039, -1356.869995, -1461.430054, -1572.76001 ,\n",
       "       -1695.589966, -1834.680054, -1993.619995, -2174.449951, -2378.      ,\n",
       "       -2604.5     , -2854.      , -3126.5     , -3422.      , -3740.5     ,\n",
       "       -4082.      , -4446.5     , -4834.      , -5244.5     , -5678.      ])\n",
       "Coordinates:\n",
       "    tile     int64 3\n",
       "  * k_g      (k_g) float64 1.0 2.0 3.0 4.0 5.0 6.0 7.0 8.0 9.0 10.0 11.0 ...\n",
       "Attributes:\n",
       "    long_name:  depth of grid cell top\n",
       "    units:      m"
      ]
     },
     "execution_count": 109,
     "metadata": {},
     "output_type": "execute_result"
    }
   ],
   "source": [
    "grid_3_new.RF"
   ]
  },
  {
   "cell_type": "code",
   "execution_count": null,
   "metadata": {
    "collapsed": true
   },
   "outputs": [],
   "source": []
  }
 ],
 "metadata": {
  "kernelspec": {
   "display_name": "Python 2",
   "language": "python",
   "name": "python2"
  },
  "language_info": {
   "codemirror_mode": {
    "name": "ipython",
    "version": 2
   },
   "file_extension": ".py",
   "mimetype": "text/x-python",
   "name": "python",
   "nbconvert_exporter": "python",
   "pygments_lexer": "ipython2",
   "version": "2.7.14"
  }
 },
 "nbformat": 4,
 "nbformat_minor": 2
}
