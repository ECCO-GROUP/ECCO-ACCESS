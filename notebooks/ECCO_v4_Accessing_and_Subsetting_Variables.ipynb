{
 "cells": [
  {
   "cell_type": "markdown",
   "metadata": {},
   "source": [
    "# Accessing and Subsetting Variables\n",
    "\n",
    "## Objectives\n",
    "\n",
    "Introduce several alternative methods for accessing and subsetting the variables stored in the `Datasets` and `DataArrays` that store the ECCO v4 state estimate variables and grid parameters.\n",
    "\n",
    "## Accessing variables inside `Dataset` and `DataArray` objects\n",
    "\n",
    "There are two methods for accessing variables stored in `DataArray` and `Dataset` objects, the \"dot\" method and the \"dictionary\" method.  The syntax of these methods is as follows:\n",
    "\n",
    "1. The \"dot\" method: e.g. ,`X.Y`\n",
    "2. The \"dictionary\" method: e.g., `Y['Y']`\n",
    "\n",
    "Both methods work identically to access *Dimensions*, *Coordinates*, and *Data variables*. Accessing *Attribute* variables requires a slightly different approach as we will see.\n",
    "\n",
    "### Accessing *Data variables*, *Coordinates*, and *Data variables*\n",
    "\n",
    "Let's demonstrate both methods by accessing the a *Data variable* from a `Dataset`.  First create the `Dataset`."
   ]
  },
  {
   "cell_type": "code",
   "execution_count": 1,
   "metadata": {},
   "outputs": [
    {
     "name": "stdout",
     "output_type": "stream",
     "text": [
      "Populating the interactive namespace from numpy and matplotlib\n"
     ]
    }
   ],
   "source": [
    "import matplotlib.pylab as plt\n",
    "import numpy as np\n",
    "import sys\n",
    "import xarray as xr\n",
    "from copy import deepcopy \n",
    "import ecco_v4_py as ecco\n",
    "import warnings\n",
    "warnings.filterwarnings('ignore')\n",
    "%pylab inline\n",
    "pylab.rcParams['figure.figsize'] = (10, 6)"
   ]
  },
  {
   "cell_type": "code",
   "execution_count": 2,
   "metadata": {},
   "outputs": [
    {
     "name": "stdout",
     "output_type": "stream",
     "text": [
      "\n",
      ">>> LOADING TILES FROM NETCDF\n",
      "\n",
      "loading /Volumes/ECCO_BASE/ECCO_v4r3/nctiles_monthly/SSH/SSH.0001.nc\n",
      "loading /Volumes/ECCO_BASE/ECCO_v4r3/nctiles_monthly/SSH/SSH.0002.nc\n",
      "loading /Volumes/ECCO_BASE/ECCO_v4r3/nctiles_monthly/SSH/SSH.0003.nc\n",
      "loading /Volumes/ECCO_BASE/ECCO_v4r3/nctiles_monthly/SSH/SSH.0004.nc\n",
      "loading /Volumes/ECCO_BASE/ECCO_v4r3/nctiles_monthly/SSH/SSH.0005.nc\n",
      "loading /Volumes/ECCO_BASE/ECCO_v4r3/nctiles_monthly/SSH/SSH.0006.nc\n",
      "loading /Volumes/ECCO_BASE/ECCO_v4r3/nctiles_monthly/SSH/SSH.0007.nc\n",
      "loading /Volumes/ECCO_BASE/ECCO_v4r3/nctiles_monthly/SSH/SSH.0008.nc\n",
      "loading /Volumes/ECCO_BASE/ECCO_v4r3/nctiles_monthly/SSH/SSH.0009.nc\n",
      "loading /Volumes/ECCO_BASE/ECCO_v4r3/nctiles_monthly/SSH/SSH.0010.nc\n",
      "loading /Volumes/ECCO_BASE/ECCO_v4r3/nctiles_monthly/SSH/SSH.0011.nc\n",
      "loading /Volumes/ECCO_BASE/ECCO_v4r3/nctiles_monthly/SSH/SSH.0012.nc\n",
      "loading /Volumes/ECCO_BASE/ECCO_v4r3/nctiles_monthly/SSH/SSH.0013.nc\n",
      "total file load time  0.547993898392 s\n",
      "concatenated all tiles.  this can take a few minutes....\n",
      "finished concatenating.  time = 0.22093296051 s\n",
      "Removing Dataset Attributes A-Z\n",
      "\n"
     ]
    }
   ],
   "source": [
    "data_dir='/Volumes/ECCO_BASE/ECCO_v4r3/nctiles_monthly/SSH/'\n",
    "var = 'SSH'\n",
    "var_type = 'c'\n",
    "\n",
    "ssh_all_tiles = ecco.load_all_tiles_from_netcdf(data_dir, var, var_type)\n",
    "ecco.minimal_metadata(ssh_all_tiles)"
   ]
  },
  {
   "cell_type": "code",
   "execution_count": 3,
   "metadata": {},
   "outputs": [
    {
     "data": {
      "text/plain": [
       "<xarray.Dataset>\n",
       "Dimensions:   (i: 90, j: 90, tile: 13, time: 288)\n",
       "Coordinates:\n",
       "  * time      (time) float64 1.0 2.0 3.0 4.0 5.0 6.0 7.0 8.0 9.0 10.0 11.0 ...\n",
       "  * j         (j) float64 1.0 2.0 3.0 4.0 5.0 6.0 7.0 8.0 9.0 10.0 11.0 12.0 ...\n",
       "  * i         (i) float64 1.0 2.0 3.0 4.0 5.0 6.0 7.0 8.0 9.0 10.0 11.0 12.0 ...\n",
       "    tim       (time) datetime64[ns] 1992-01-16 1992-02-16 1992-03-16 ...\n",
       "    timestep  (time) float64 732.0 1.428e+03 2.172e+03 2.892e+03 3.636e+03 ...\n",
       "    lon_c     (tile, j, i) float64 -111.6 -111.3 -110.9 -110.5 -110.0 -109.3 ...\n",
       "    lat_c     (tile, j, i) float64 -88.24 -88.38 -88.52 -88.66 -88.8 -88.94 ...\n",
       "  * tile      (tile) int64 1 2 3 4 5 6 7 8 9 10 11 12 13\n",
       "Data variables:\n",
       "    SSH       (time, tile, j, i) float64 nan nan nan nan nan nan nan nan nan ...\n",
       "Attributes:\n",
       "    description:    SSH -- ECCO v4 ocean state estimate, release 3 -- 1992-2015\n",
       "    date:           02-May-2017\n",
       "    Conventions:    CF-1.6\n",
       "    _FillValue:     nan\n",
       "    missing_value:  nan"
      ]
     },
     "execution_count": 3,
     "metadata": {},
     "output_type": "execute_result"
    }
   ],
   "source": [
    "ssh_all_tiles"
   ]
  },
  {
   "cell_type": "markdown",
   "metadata": {},
   "source": [
    "Now we'll use the two methods to access the ``SSH`` `DataArray`,"
   ]
  },
  {
   "cell_type": "code",
   "execution_count": 4,
   "metadata": {
    "collapsed": true
   },
   "outputs": [],
   "source": [
    "ssh_A = ssh_all_tiles.SSH\n",
    "ssh_B = ssh_all_tiles['SSH']"
   ]
  },
  {
   "cell_type": "code",
   "execution_count": 5,
   "metadata": {},
   "outputs": [
    {
     "name": "stdout",
     "output_type": "stream",
     "text": [
      "<class 'xarray.core.dataarray.DataArray'>\n",
      "<class 'xarray.core.dataarray.DataArray'>\n"
     ]
    }
   ],
   "source": [
    "print type(ssh_A)\n",
    "print type(ssh_B)"
   ]
  },
  {
   "cell_type": "markdown",
   "metadata": {},
   "source": [
    "We access the `numpy` arrays stored in these `DataArrays` by invoking their `.values`."
   ]
  },
  {
   "cell_type": "code",
   "execution_count": 6,
   "metadata": {},
   "outputs": [
    {
     "name": "stdout",
     "output_type": "stream",
     "text": [
      "<type 'numpy.ndarray'>\n"
     ]
    }
   ],
   "source": [
    "ssh_arr = ssh_A.values\n",
    "print type(ssh_arr)"
   ]
  },
  {
   "cell_type": "markdown",
   "metadata": {},
   "source": [
    "The shape of the `numpy` array can be found by invoking its `.shape`"
   ]
  },
  {
   "cell_type": "code",
   "execution_count": 7,
   "metadata": {},
   "outputs": [
    {
     "data": {
      "text/plain": [
       "(288, 13, 90, 90)"
      ]
     },
     "execution_count": 7,
     "metadata": {},
     "output_type": "execute_result"
    }
   ],
   "source": [
    "ssh_arr.shape"
   ]
  },
  {
   "cell_type": "markdown",
   "metadata": {},
   "source": [
    "The order of these four dimensions is consistent with their ordering in the original `DataArray`,"
   ]
  },
  {
   "cell_type": "code",
   "execution_count": 8,
   "metadata": {
    "scrolled": true
   },
   "outputs": [
    {
     "data": {
      "text/plain": [
       "('time', 'tile', 'j', 'i')"
      ]
     },
     "execution_count": 8,
     "metadata": {},
     "output_type": "execute_result"
    }
   ],
   "source": [
    "ssh_A.dims"
   ]
  },
  {
   "cell_type": "markdown",
   "metadata": {},
   "source": [
    "``ssh_A`` and ``ssh_B`` are new variables but they are not **copies** of the original  ``SSH`` `DataArray` object, they both point to the original `numpy` array.  \n",
    "\n",
    "We can confirm that ``ssh_A`` and ``ssh_B`` both refer to the same array in memory using the Python `is` command: "
   ]
  },
  {
   "cell_type": "code",
   "execution_count": 9,
   "metadata": {},
   "outputs": [
    {
     "data": {
      "text/plain": [
       "True"
      ]
     },
     "execution_count": 9,
     "metadata": {},
     "output_type": "execute_result"
    }
   ],
   "source": [
    "ssh_A.values is ssh_B.values"
   ]
  },
  {
   "cell_type": "markdown",
   "metadata": {},
   "source": [
    "### Accessing *Attribute* fields\n",
    "\n",
    "Accessing *Attribute* variables using the dictionary method requires using the ``attrs`` variable field:"
   ]
  },
  {
   "cell_type": "code",
   "execution_count": 10,
   "metadata": {},
   "outputs": [
    {
     "name": "stdout",
     "output_type": "stream",
     "text": [
      "02-May-2017\n"
     ]
    }
   ],
   "source": [
    "print ssh_all_tiles.date"
   ]
  },
  {
   "cell_type": "code",
   "execution_count": 11,
   "metadata": {},
   "outputs": [
    {
     "name": "stdout",
     "output_type": "stream",
     "text": [
      "02-May-2017\n"
     ]
    }
   ],
   "source": [
    "print ssh_all_tiles.attrs['date']"
   ]
  },
  {
   "cell_type": "markdown",
   "metadata": {},
   "source": [
    "## Subsetting variables using the [], .sel, and .isel syntaxes\n",
    "\n",
    "So far, a considerable amount of attention has been placed on the *Coordinates* of `Dataset` and `DataArray` objects.  Why?  Labeled coordinates are certainly not necessary for calculations on the basic numerical arrays that store the ECCO state estimate fields.  The reason so much attention has been placed on coordinates is because the `xarray` offers several very useful methods for selecting (or indexing) subsets of data.\n",
    "\n",
    "We'll introduce these indexing techniques  with `DataArray` objects first.  To begin let's make a new variable for the ``SSH`` `DataArray`."
   ]
  },
  {
   "cell_type": "code",
   "execution_count": 12,
   "metadata": {},
   "outputs": [
    {
     "data": {
      "text/plain": [
       "xarray.core.dataarray.DataArray"
      ]
     },
     "execution_count": 12,
     "metadata": {},
     "output_type": "execute_result"
    }
   ],
   "source": [
    "ssh_da = ssh_all_tiles.SSH\n",
    "type(ssh_da)"
   ]
  },
  {
   "cell_type": "markdown",
   "metadata": {},
   "source": [
    "### Subsetting `numpy` arrays using the **[ ]** syntax\n",
    "\n",
    "Subsetting `numpy` arrays is simple with the standard Python **[ ]** syntax.  To demonstrate, subset the first month and second tile of SSH.  \n",
    "\n",
    "  > **Note:** *Note `numpy` array indexing starts with 0*"
   ]
  },
  {
   "cell_type": "code",
   "execution_count": 13,
   "metadata": {},
   "outputs": [
    {
     "data": {
      "text/plain": [
       "array([[-1.43670821, -1.43574917, -1.43013549, ..., -1.35865545,\n",
       "        -1.35119259, -1.34083176],\n",
       "       [-1.3872236 , -1.38397408, -1.38146996, ..., -1.34370792,\n",
       "        -1.3379215 , -1.32769942],\n",
       "       [-1.34707379, -1.34317148, -1.34668505, ..., -1.32745349,\n",
       "        -1.32351482, -1.31364846],\n",
       "       ..., \n",
       "       [ 0.11865608,  0.11621492,  0.11381827, ...,         nan,\n",
       "         0.39557076,  0.37189311],\n",
       "       [ 0.09782931,  0.09542886,  0.09339471, ...,         nan,\n",
       "         0.3994962 ,  0.38364425],\n",
       "       [ 0.07686317,  0.07441767,  0.07261896, ...,         nan,\n",
       "                nan,  0.38732299]])"
      ]
     },
     "execution_count": 13,
     "metadata": {},
     "output_type": "execute_result"
    }
   ],
   "source": [
    "ssh_jan92_tile2 = ssh_arr[0,1,:,:]\n",
    "ssh_jan92_tile2"
   ]
  },
  {
   "cell_type": "markdown",
   "metadata": {},
   "source": [
    "The resulting subset is itself a `numpy` array,"
   ]
  },
  {
   "cell_type": "code",
   "execution_count": 14,
   "metadata": {},
   "outputs": [
    {
     "data": {
      "text/plain": [
       "numpy.ndarray"
      ]
     },
     "execution_count": 14,
     "metadata": {},
     "output_type": "execute_result"
    }
   ],
   "source": [
    "type(ssh_jan92_tile2)"
   ]
  },
  {
   "cell_type": "markdown",
   "metadata": {},
   "source": [
    "of shape 90x90, as expected."
   ]
  },
  {
   "cell_type": "code",
   "execution_count": 15,
   "metadata": {},
   "outputs": [
    {
     "data": {
      "text/plain": [
       "(90, 90)"
      ]
     },
     "execution_count": 15,
     "metadata": {},
     "output_type": "execute_result"
    }
   ],
   "source": [
    "ssh_jan92_tile2.shape"
   ]
  },
  {
   "cell_type": "markdown",
   "metadata": {},
   "source": [
    "We can always use **[ ]** method to subset our `numpy` arrays.  It is a simple, direct method for accessing our fields.  Just for fun let's plot this SSH subset:"
   ]
  },
  {
   "cell_type": "code",
   "execution_count": 16,
   "metadata": {},
   "outputs": [
    {
     "data": {
      "image/png": "[encoded data removed]",
      "text/plain": [
       "<matplotlib.figure.Figure at 0x31b64c950>"
      ]
     },
     "metadata": {},
     "output_type": "display_data"
    }
   ],
   "source": [
    "## origin='lower' is required so that y increases from bottom to top.\n",
    "plt.imshow(ssh_jan92_tile2, origin='lower')\n",
    "plt.colorbar()\n",
    "plt.title('Jan 1992 SSH [m]')\n",
    "plt.show()"
   ]
  },
  {
   "cell_type": "markdown",
   "metadata": {},
   "source": [
    "### Subsetting `DataArrays` using the **[ ]** syntax\n",
    "\n",
    "An interesting and useful alternative to subsetting `numpy` arrays with the **[ ]** method is to subset `DataArray` instead:"
   ]
  },
  {
   "cell_type": "code",
   "execution_count": 17,
   "metadata": {},
   "outputs": [
    {
     "data": {
      "text/plain": [
       "<xarray.DataArray 'SSH' (j: 90, i: 90)>\n",
       "array([[-1.436708, -1.435749, -1.430135, ..., -1.358655, -1.351193, -1.340832],\n",
       "       [-1.387224, -1.383974, -1.38147 , ..., -1.343708, -1.337922, -1.327699],\n",
       "       [-1.347074, -1.343171, -1.346685, ..., -1.327453, -1.323515, -1.313648],\n",
       "       ..., \n",
       "       [ 0.118656,  0.116215,  0.113818, ...,       nan,  0.395571,  0.371893],\n",
       "       [ 0.097829,  0.095429,  0.093395, ...,       nan,  0.399496,  0.383644],\n",
       "       [ 0.076863,  0.074418,  0.072619, ...,       nan,       nan,  0.387323]])\n",
       "Coordinates:\n",
       "    time      float64 1.0\n",
       "  * j         (j) float64 1.0 2.0 3.0 4.0 5.0 6.0 7.0 8.0 9.0 10.0 11.0 12.0 ...\n",
       "  * i         (i) float64 1.0 2.0 3.0 4.0 5.0 6.0 7.0 8.0 9.0 10.0 11.0 12.0 ...\n",
       "    tim       datetime64[ns] 1992-01-16\n",
       "    timestep  float64 732.0\n",
       "    lon_c     (j, i) float64 -37.5 -36.5 -35.5 -34.5 -33.5 -32.5 -31.5 -30.5 ...\n",
       "    lat_c     (j, i) float64 -56.74 -56.74 -56.74 -56.74 -56.74 -56.74 ...\n",
       "    tile      int64 2\n",
       "Attributes:\n",
       "    long_name:          Surface Height Anomaly adjusted with global steric he...\n",
       "    units:              m\n",
       "    rotated_to_latlon:  False"
      ]
     },
     "execution_count": 17,
     "metadata": {},
     "output_type": "execute_result"
    }
   ],
   "source": [
    "ssh_jan92_tile2_da = ssh_da[0,1,:,:]\n",
    "ssh_jan92_tile2_da"
   ]
  },
  {
   "cell_type": "markdown",
   "metadata": {},
   "source": [
    "The resulting `DataArray` is a subset of the original `DataArray`.  The subset has two fewer dimensions (**tile** and **time** have been eliminated). The horizontal dimensions **j** and **i** are unchanged.\n",
    "\n",
    "Even though the **tile** and **time** dimensions have been eliminated, the dimensional and non-dimensional coordinates associated with **time** and **tile** remain.  In fact, these coordinates *tell us when in time and which tile our subset comes from*:\n",
    "\n",
    "``\n",
    "Coordinates:\n",
    "    time      float64 1.0\n",
    "    tim       datetime64[ns] 1992-01-16\n",
    "    timestep  float64 732.0\n",
    "    tile      int64 2\n",
    "``\n",
    "\n",
    "  > **Note:** *The **tile** coordinate is $2$ because coordinates are labels."
   ]
  },
  {
   "cell_type": "markdown",
   "metadata": {},
   "source": [
    "### Subsetting `DataArrays` using the **.sel( )** syntax\n",
    "\n",
    "Another useful method for subsetting `DataArrays` is the **.sel( )** syntax.  The **.sel( )** syntax takes advantage of the fact that coordinates are labels.  We **sel**ect subsets of the `DataArray` by providing a subset of coordinate labels.\n",
    "\n",
    "Let's select tile 2 and time (month) 1:"
   ]
  },
  {
   "cell_type": "code",
   "execution_count": 18,
   "metadata": {
    "scrolled": true
   },
   "outputs": [
    {
     "data": {
      "text/plain": [
       "<xarray.DataArray 'SSH' (j: 90, i: 90)>\n",
       "array([[-1.436708, -1.435749, -1.430135, ..., -1.358655, -1.351193, -1.340832],\n",
       "       [-1.387224, -1.383974, -1.38147 , ..., -1.343708, -1.337922, -1.327699],\n",
       "       [-1.347074, -1.343171, -1.346685, ..., -1.327453, -1.323515, -1.313648],\n",
       "       ..., \n",
       "       [ 0.118656,  0.116215,  0.113818, ...,       nan,  0.395571,  0.371893],\n",
       "       [ 0.097829,  0.095429,  0.093395, ...,       nan,  0.399496,  0.383644],\n",
       "       [ 0.076863,  0.074418,  0.072619, ...,       nan,       nan,  0.387323]])\n",
       "Coordinates:\n",
       "    time      float64 1.0\n",
       "  * j         (j) float64 1.0 2.0 3.0 4.0 5.0 6.0 7.0 8.0 9.0 10.0 11.0 12.0 ...\n",
       "  * i         (i) float64 1.0 2.0 3.0 4.0 5.0 6.0 7.0 8.0 9.0 10.0 11.0 12.0 ...\n",
       "    tim       datetime64[ns] 1992-01-16\n",
       "    timestep  float64 732.0\n",
       "    lon_c     (j, i) float64 -37.5 -36.5 -35.5 -34.5 -33.5 -32.5 -31.5 -30.5 ...\n",
       "    lat_c     (j, i) float64 -56.74 -56.74 -56.74 -56.74 -56.74 -56.74 ...\n",
       "    tile      int64 2\n",
       "Attributes:\n",
       "    long_name:          Surface Height Anomaly adjusted with global steric he...\n",
       "    units:              m\n",
       "    rotated_to_latlon:  False"
      ]
     },
     "execution_count": 18,
     "metadata": {},
     "output_type": "execute_result"
    }
   ],
   "source": [
    "ssh_jan92_tile2_sel = ssh_da.sel(tile=2, time=1)\n",
    "ssh_jan92_tile2_sel"
   ]
  },
  {
   "cell_type": "markdown",
   "metadata": {},
   "source": [
    "### Subsetting `DataArrays` using the **.isel( )** syntax\n",
    "\n",
    "The last subsetting method is **.isel( )** syntax.  **.isel( )** uses the numerical **index** of coordinates instead of their label.  Subsets are extraccted by providing a set of coordinate indices.\n",
    "\n",
    "The equivalent syntax for subsetting tile 2 and month 1 with the **.isel( )** syntax is,"
   ]
  },
  {
   "cell_type": "code",
   "execution_count": 19,
   "metadata": {
    "scrolled": true
   },
   "outputs": [
    {
     "data": {
      "text/plain": [
       "<xarray.DataArray 'SSH' (j: 90, i: 90)>\n",
       "array([[-1.436708, -1.435749, -1.430135, ..., -1.358655, -1.351193, -1.340832],\n",
       "       [-1.387224, -1.383974, -1.38147 , ..., -1.343708, -1.337922, -1.327699],\n",
       "       [-1.347074, -1.343171, -1.346685, ..., -1.327453, -1.323515, -1.313648],\n",
       "       ..., \n",
       "       [ 0.118656,  0.116215,  0.113818, ...,       nan,  0.395571,  0.371893],\n",
       "       [ 0.097829,  0.095429,  0.093395, ...,       nan,  0.399496,  0.383644],\n",
       "       [ 0.076863,  0.074418,  0.072619, ...,       nan,       nan,  0.387323]])\n",
       "Coordinates:\n",
       "    time      float64 1.0\n",
       "  * j         (j) float64 1.0 2.0 3.0 4.0 5.0 6.0 7.0 8.0 9.0 10.0 11.0 12.0 ...\n",
       "  * i         (i) float64 1.0 2.0 3.0 4.0 5.0 6.0 7.0 8.0 9.0 10.0 11.0 12.0 ...\n",
       "    tim       datetime64[ns] 1992-01-16\n",
       "    timestep  float64 732.0\n",
       "    lon_c     (j, i) float64 -37.5 -36.5 -35.5 -34.5 -33.5 -32.5 -31.5 -30.5 ...\n",
       "    lat_c     (j, i) float64 -56.74 -56.74 -56.74 -56.74 -56.74 -56.74 ...\n",
       "    tile      int64 2\n",
       "Attributes:\n",
       "    long_name:          Surface Height Anomaly adjusted with global steric he...\n",
       "    units:              m\n",
       "    rotated_to_latlon:  False"
      ]
     },
     "execution_count": 19,
     "metadata": {},
     "output_type": "execute_result"
    }
   ],
   "source": [
    "ssh_jan92_tile2_isel = ssh_da.isel(tile=1, time=0)\n",
    "ssh_jan92_tile2_isel"
   ]
  },
  {
   "cell_type": "markdown",
   "metadata": {},
   "source": [
    "### More examples of subsetting using the **[ ]**, **.sel( )** and **.isel( )** syntaxes\n",
    "\n",
    "In the examples above we only subsetted a single month (Jan 1992) and a single tile (tile 2).  More complex subsetting is possible.  Here are some three examples that yield equivalent, more complex, subsets:\n",
    "\n",
    "  > **Note:** Python array indexing goes up to but not including the final number in a range.  Because array indexing starts from 0, array index 41 corresponds to the 42nd element."
   ]
  },
  {
   "cell_type": "code",
   "execution_count": 20,
   "metadata": {},
   "outputs": [
    {
     "name": "stdout",
     "output_type": "stream",
     "text": [
      "(4, 10, 17)\n",
      "(4, 10, 17)\n",
      "(4, 10, 17)\n"
     ]
    }
   ],
   "source": [
    "ssh_sub_bracket  = ssh_da[range(0,4), 1, 31:41, 5:22]\n",
    "ssh_sub_isel     = ssh_da.isel(tile=1, time=[0,1,2,3], i=range(5,22), j=range(31,41))\n",
    "ssh_sub_sel      = ssh_da.sel(tile=2, time=[1,2,3,4], i=range(6,23), j=range(32,42))\n",
    "\n",
    "print ssh_sub_bracket.shape\n",
    "print ssh_sub_isel.shape\n",
    "print ssh_sub_sel.shape"
   ]
  },
  {
   "cell_type": "code",
   "execution_count": 21,
   "metadata": {},
   "outputs": [
    {
     "name": "stdout",
     "output_type": "stream",
     "text": [
      "Coordinates:\n",
      "  * time      (time) float64 1.0 2.0 3.0 4.0\n",
      "  * j         (j) float64 32.0 33.0 34.0 35.0 36.0 37.0 38.0 39.0 40.0 41.0\n",
      "  * i         (i) float64 6.0 7.0 8.0 9.0 10.0 11.0 12.0 13.0 14.0 15.0 16.0 ...\n",
      "    tim       (time) datetime64[ns] 1992-01-16 1992-02-16 1992-03-16 1992-04-16\n",
      "    timestep  (time) float64 732.0 1.428e+03 2.172e+03 2.892e+03\n",
      "    lon_c     (j, i) float64 -32.5 -31.5 -30.5 -29.5 -28.5 -27.5 -26.5 -25.5 ...\n",
      "    lat_c     (j, i) float64 -35.99 -35.99 -35.99 -35.99 -35.99 -35.99 ...\n",
      "    tile      int64 2\n"
     ]
    }
   ],
   "source": [
    "print ssh_sub_bracket.coords"
   ]
  },
  {
   "cell_type": "code",
   "execution_count": 22,
   "metadata": {},
   "outputs": [
    {
     "name": "stdout",
     "output_type": "stream",
     "text": [
      "Coordinates:\n",
      "  * time      (time) float64 1.0 2.0 3.0 4.0\n",
      "  * j         (j) float64 32.0 33.0 34.0 35.0 36.0 37.0 38.0 39.0 40.0 41.0\n",
      "  * i         (i) float64 6.0 7.0 8.0 9.0 10.0 11.0 12.0 13.0 14.0 15.0 16.0 ...\n",
      "    tim       (time) datetime64[ns] 1992-01-16 1992-02-16 1992-03-16 1992-04-16\n",
      "    timestep  (time) float64 732.0 1.428e+03 2.172e+03 2.892e+03\n",
      "    lon_c     (j, i) float64 -32.5 -31.5 -30.5 -29.5 -28.5 -27.5 -26.5 -25.5 ...\n",
      "    lat_c     (j, i) float64 -35.99 -35.99 -35.99 -35.99 -35.99 -35.99 ...\n",
      "    tile      int64 2\n"
     ]
    }
   ],
   "source": [
    "print ssh_sub_isel.coords"
   ]
  },
  {
   "cell_type": "code",
   "execution_count": 23,
   "metadata": {},
   "outputs": [
    {
     "name": "stdout",
     "output_type": "stream",
     "text": [
      "Coordinates:\n",
      "  * time      (time) float64 1.0 2.0 3.0 4.0\n",
      "  * j         (j) float64 32.0 33.0 34.0 35.0 36.0 37.0 38.0 39.0 40.0 41.0\n",
      "  * i         (i) float64 6.0 7.0 8.0 9.0 10.0 11.0 12.0 13.0 14.0 15.0 16.0 ...\n",
      "    tim       (time) datetime64[ns] 1992-01-16 1992-02-16 1992-03-16 1992-04-16\n",
      "    timestep  (time) float64 732.0 1.428e+03 2.172e+03 2.892e+03\n",
      "    lon_c     (j, i) float64 -32.5 -31.5 -30.5 -29.5 -28.5 -27.5 -26.5 -25.5 ...\n",
      "    lat_c     (j, i) float64 -35.99 -35.99 -35.99 -35.99 -35.99 -35.99 ...\n",
      "    tile      int64 2\n"
     ]
    }
   ],
   "source": [
    "print ssh_sub_sel.coords"
   ]
  },
  {
   "cell_type": "markdown",
   "metadata": {},
   "source": [
    "### Subsetting `Datasets` using the **.sel( )**, and **.isel( )** syntaxes\n",
    "\n",
    "Amazingly, we can use the **.sel** and **.isel** methods to simultaneously subset multiple `DataArrays` stored within an single `Dataset`.  Let's make an interesting `Dataset` to subset and then test out the **.sel( )** and **.isel( )** subsetting methods."
   ]
  },
  {
   "cell_type": "code",
   "execution_count": 24,
   "metadata": {},
   "outputs": [
    {
     "name": "stdout",
     "output_type": "stream",
     "text": [
      "\n",
      ">>> LOADING TILES FROM NETCDF\n",
      "\n",
      "loading /Volumes/ECCO_BASE/ECCO_v4r3/nctiles_monthly/SSH/SSH.0001.nc\n",
      "loading /Volumes/ECCO_BASE/ECCO_v4r3/nctiles_monthly/SSH/SSH.0002.nc\n",
      "loading /Volumes/ECCO_BASE/ECCO_v4r3/nctiles_monthly/SSH/SSH.0003.nc\n",
      "loading /Volumes/ECCO_BASE/ECCO_v4r3/nctiles_monthly/SSH/SSH.0004.nc\n",
      "loading /Volumes/ECCO_BASE/ECCO_v4r3/nctiles_monthly/SSH/SSH.0005.nc\n",
      "loading /Volumes/ECCO_BASE/ECCO_v4r3/nctiles_monthly/SSH/SSH.0006.nc\n",
      "loading /Volumes/ECCO_BASE/ECCO_v4r3/nctiles_monthly/SSH/SSH.0007.nc\n",
      "loading /Volumes/ECCO_BASE/ECCO_v4r3/nctiles_monthly/SSH/SSH.0008.nc\n",
      "loading /Volumes/ECCO_BASE/ECCO_v4r3/nctiles_monthly/SSH/SSH.0009.nc\n",
      "loading /Volumes/ECCO_BASE/ECCO_v4r3/nctiles_monthly/SSH/SSH.0010.nc\n",
      "loading /Volumes/ECCO_BASE/ECCO_v4r3/nctiles_monthly/SSH/SSH.0011.nc\n",
      "loading /Volumes/ECCO_BASE/ECCO_v4r3/nctiles_monthly/SSH/SSH.0012.nc\n",
      "loading /Volumes/ECCO_BASE/ECCO_v4r3/nctiles_monthly/SSH/SSH.0013.nc\n",
      "total file load time  0.46448302269 s\n",
      "concatenated all tiles.  this can take a few minutes....\n",
      "finished concatenating.  time = 0.218497991562 s\n",
      "Removing Dataset Attributes A-Z\n",
      "\n",
      "\n",
      ">>> LOADING TILES FROM NETCDF\n",
      "\n",
      "loading /Volumes/ECCO_BASE/ECCO_v4r3/nctiles_grid/GRID.0001.nc\n",
      "loading /Volumes/ECCO_BASE/ECCO_v4r3/nctiles_grid/GRID.0002.nc\n",
      "loading /Volumes/ECCO_BASE/ECCO_v4r3/nctiles_grid/GRID.0003.nc\n",
      "loading /Volumes/ECCO_BASE/ECCO_v4r3/nctiles_grid/GRID.0004.nc\n",
      "loading /Volumes/ECCO_BASE/ECCO_v4r3/nctiles_grid/GRID.0005.nc\n",
      "loading /Volumes/ECCO_BASE/ECCO_v4r3/nctiles_grid/GRID.0006.nc\n",
      "loading /Volumes/ECCO_BASE/ECCO_v4r3/nctiles_grid/GRID.0007.nc\n",
      "loading /Volumes/ECCO_BASE/ECCO_v4r3/nctiles_grid/GRID.0008.nc\n",
      "loading /Volumes/ECCO_BASE/ECCO_v4r3/nctiles_grid/GRID.0009.nc\n",
      "loading /Volumes/ECCO_BASE/ECCO_v4r3/nctiles_grid/GRID.0010.nc\n",
      "loading /Volumes/ECCO_BASE/ECCO_v4r3/nctiles_grid/GRID.0011.nc\n",
      "loading /Volumes/ECCO_BASE/ECCO_v4r3/nctiles_grid/GRID.0012.nc\n",
      "loading /Volumes/ECCO_BASE/ECCO_v4r3/nctiles_grid/GRID.0013.nc\n",
      "total file load time  0.722207784653 s\n",
      "concatenated all tiles.  this can take a few minutes....\n",
      "finished concatenating.  time = 0.566910028458 s\n",
      "Removing Dataset Attributes A-Z\n",
      "\n"
     ]
    }
   ],
   "source": [
    "# specify the location of your nctiles_monthly directory\n",
    "data_dir='/Volumes/ECCO_BASE/ECCO_v4r3/nctiles_monthly/SSH/'    \n",
    "var = 'SSH'\n",
    "var_type = 'c'\n",
    "ssh_all_tiles = ecco.load_all_tiles_from_netcdf(data_dir, var, var_type)\n",
    "ecco.minimal_metadata(ssh_all_tiles)\n",
    "\n",
    "# specify the location of your nctiles_grid directory\n",
    "grid_dir='/Volumes/ECCO_BASE/ECCO_v4r3/nctiles_grid/'\n",
    "var = 'GRID'\n",
    "var_type = 'grid'\n",
    "grid_all_tiles = ecco.load_all_tiles_from_netcdf(grid_dir, var, var_type)\n",
    "ecco.minimal_metadata(grid_all_tiles)\n",
    "\n",
    "# Merge these datasets\n",
    "output_all = xr.merge([ssh_all_tiles, grid_all_tiles])"
   ]
  },
  {
   "cell_type": "markdown",
   "metadata": {},
   "source": [
    "Subset tile 2, j = 50 (a single row through the array), and time = 10 (October 1992)"
   ]
  },
  {
   "cell_type": "code",
   "execution_count": 25,
   "metadata": {},
   "outputs": [
    {
     "data": {
      "text/plain": [
       "<xarray.Dataset>\n",
       "Dimensions:   (i: 90, i_g: 90, j_g: 90, k: 50, k_g: 50)\n",
       "Coordinates:\n",
       "    time      float64 10.0\n",
       "    j         float64 50.0\n",
       "  * i         (i) float64 1.0 2.0 3.0 4.0 5.0 6.0 7.0 8.0 9.0 10.0 11.0 12.0 ...\n",
       "    tim       datetime64[ns] 1992-10-16\n",
       "    timestep  float64 7.308e+03\n",
       "    lon_c     (i) float64 -37.5 -36.5 -35.5 -34.5 -33.5 -32.5 -31.5 -30.5 ...\n",
       "    lat_c     (i) float64 -20.12 -20.12 -20.12 -20.12 -20.12 -20.12 -20.12 ...\n",
       "    tile      int64 2\n",
       "  * k         (k) float64 1.0 2.0 3.0 4.0 5.0 6.0 7.0 8.0 9.0 10.0 11.0 12.0 ...\n",
       "  * i_g       (i_g) float64 1.0 2.0 3.0 4.0 5.0 6.0 7.0 8.0 9.0 10.0 11.0 ...\n",
       "  * j_g       (j_g) float64 1.0 2.0 3.0 4.0 5.0 6.0 7.0 8.0 9.0 10.0 11.0 ...\n",
       "  * k_g       (k_g) float64 1.0 2.0 3.0 4.0 5.0 6.0 7.0 8.0 9.0 10.0 11.0 ...\n",
       "Data variables:\n",
       "    SSH       (i) float64 0.24 0.2457 0.2384 0.2285 0.2218 0.2173 0.2133 ...\n",
       "    XC        (i) float64 -37.5 -36.5 -35.5 -34.5 -33.5 -32.5 -31.5 -30.5 ...\n",
       "    YC        (i) float64 -20.12 -20.12 -20.12 -20.12 -20.12 -20.12 -20.12 ...\n",
       "    RAC       (i) float64 1.095e+10 1.095e+10 1.095e+10 1.095e+10 1.095e+10 ...\n",
       "    Depth     (i) float64 1.88e+03 3.267e+03 3.697e+03 3.915e+03 4.155e+03 ...\n",
       "    AngleCS   (i) float64 1.0 1.0 1.0 1.0 1.0 1.0 1.0 1.0 1.0 1.0 1.0 1.0 ...\n",
       "    AngleSN   (i) float64 3.795e-15 -0.0 -5.682e-15 3.795e-15 -3.795e-15 ...\n",
       "    hFacC     (k, i) float64 1.0 1.0 1.0 1.0 1.0 1.0 1.0 1.0 1.0 1.0 1.0 1.0 ...\n",
       "    land_c    (k, i) float64 1.0 1.0 1.0 1.0 1.0 1.0 1.0 1.0 1.0 1.0 1.0 1.0 ...\n",
       "    XG        (j_g, i_g) float64 -38.0 -37.0 -36.0 -35.0 -34.0 -33.0 -32.0 ...\n",
       "    YG        (j_g, i_g) float64 -57.01 -57.01 -57.01 -57.01 -57.01 -57.01 ...\n",
       "    RAZ       (j_g, i_g) float64 3.584e+09 3.584e+09 3.584e+09 3.584e+09 ...\n",
       "    DXC       (i_g) float64 1.044e+05 1.044e+05 1.044e+05 1.044e+05 ...\n",
       "    DYG       (i_g) float64 1.049e+05 1.049e+05 1.049e+05 1.049e+05 ...\n",
       "    hFacW     (k, i_g) float64 1.0 1.0 1.0 1.0 1.0 1.0 1.0 1.0 1.0 1.0 1.0 ...\n",
       "    land_u    (k, i_g) float64 1.0 1.0 1.0 1.0 1.0 1.0 1.0 1.0 1.0 1.0 1.0 ...\n",
       "    DYC       (j_g, i) float64 5.92e+04 5.92e+04 5.92e+04 5.92e+04 5.92e+04 ...\n",
       "    DXG       (j_g, i) float64 6.054e+04 6.054e+04 6.054e+04 6.054e+04 ...\n",
       "    hFacS     (k, j_g, i) float64 1.0 1.0 1.0 1.0 1.0 1.0 1.0 1.0 1.0 1.0 ...\n",
       "    land_v    (k, j_g, i) float64 1.0 1.0 1.0 1.0 1.0 1.0 1.0 1.0 1.0 1.0 ...\n",
       "    RC        (k) float64 -5.0 -15.0 -25.0 -35.0 -45.0 -55.0 -65.0 -75.0 ...\n",
       "    RF        (k_g) float64 0.0 -10.0 -20.0 -30.0 -40.0 -50.0 -60.0 -70.0 ...\n",
       "    DRC       (k_g) float64 5.0 10.0 10.0 10.0 10.0 10.0 10.0 10.01 10.02 ...\n",
       "    DRF       (k) float64 10.0 10.0 10.0 10.0 10.0 10.0 10.0 10.01 10.03 ..."
      ]
     },
     "execution_count": 25,
     "metadata": {},
     "output_type": "execute_result"
    }
   ],
   "source": [
    "output_tile2_time10_j50= output_all.sel(tile=2, time=10, j=50)\n",
    "output_tile2_time10_j50"
   ]
  },
  {
   "cell_type": "markdown",
   "metadata": {},
   "source": [
    "All variables that had **tile, time**, or **j** coordinates have been subset while other variables are unchanged.  Let's plot the seafloor depth and sea surface height from west to east along j=50, (see plot at Line 16) which extends across the S. Atlantic, across Africa to Madagascar, and finally into to W. Indian Ocean."
   ]
  },
  {
   "cell_type": "code",
   "execution_count": 26,
   "metadata": {},
   "outputs": [
    {
     "data": {
      "image/png": "[encoded data removed]",
      "text/plain": [
       "<matplotlib.figure.Figure at 0x31b64fd50>"
      ]
     },
     "metadata": {},
     "output_type": "display_data"
    }
   ],
   "source": [
    "f, axarr = plt.subplots(2, sharex=True)\n",
    "(ax1, ax2) = axarr\n",
    "ax1.plot(output_tile2_time10_j50.lon_c, output_tile2_time10_j50.SSH,color='b')\n",
    "ax1.set_ylabel('m')\n",
    "ax1.set_title('SSH (m)')\n",
    "ax2.plot(output_tile2_time10_j50.lon_c, -output_tile2_time10_j50.Depth,color='k')\n",
    "ax2.set_xlabel('longitude')\n",
    "ax2.set_ylabel('m')\n",
    "ax2.set_title('Seafloor Depth (m)')\n",
    "plt.show()"
   ]
  },
  {
   "cell_type": "markdown",
   "metadata": {},
   "source": [
    "### Subsetting using **where( )**\n",
    "\n",
    "The **where( )** method is quite different than other subsetting methods because  subsetting is done by masking out values with *nans* that do not meet some specified criteria.  \n",
    "\n",
    "For more infomation about **where( )** see http://xarray.pydata.org/en/stable/indexing.html#masking-with-where\n",
    "\n",
    "Let's demonstrate **where** by masking out all SSH values that do not fall within a box defined between 20S to 60N and 50W to 10E.\n",
    "\n",
    "First, we'll extract the ``SSH`` `DataArray`"
   ]
  },
  {
   "cell_type": "code",
   "execution_count": 27,
   "metadata": {
    "collapsed": true
   },
   "outputs": [],
   "source": [
    "ssh_da=output_all.SSH"
   ]
  },
  {
   "cell_type": "markdown",
   "metadata": {},
   "source": [
    "Create a matrix that is `True` where latitude is between 20S and 60N and `False` otherwise."
   ]
  },
  {
   "cell_type": "code",
   "execution_count": 28,
   "metadata": {
    "collapsed": true
   },
   "outputs": [],
   "source": [
    "lat_bounds = np.logical_and(ssh_da.lat_c  > -20, ssh_da.lat_c < 60)"
   ]
  },
  {
   "cell_type": "markdown",
   "metadata": {},
   "source": [
    "Create a matrix that is `True` where longitude is between 50W and 10E and `False` otherwise."
   ]
  },
  {
   "cell_type": "code",
   "execution_count": 29,
   "metadata": {
    "collapsed": true
   },
   "outputs": [],
   "source": [
    "lon_bounds = np.logical_and(ssh_da.lon_c  > -50, ssh_da.lon_c < 10)"
   ]
  },
  {
   "cell_type": "markdown",
   "metadata": {},
   "source": [
    "Combine the ``lat_bounds`` and ``lon_bounds`` logical matrices:"
   ]
  },
  {
   "cell_type": "code",
   "execution_count": 30,
   "metadata": {},
   "outputs": [],
   "source": [
    "lat_lon_bounds = np.logical_and(lat_bounds, lon_bounds)"
   ]
  },
  {
   "cell_type": "markdown",
   "metadata": {},
   "source": [
    "Finally, use **where** to mask out all SSH values that do not fall within our  ``lat_lon_bounds``"
   ]
  },
  {
   "cell_type": "code",
   "execution_count": 31,
   "metadata": {},
   "outputs": [],
   "source": [
    "ssh_da_subset_space = ssh_da.where(lat_lon_bounds)"
   ]
  },
  {
   "cell_type": "markdown",
   "metadata": {},
   "source": [
    "To visualize the SSH in our box we'll use one of our ECCO v4 custom plotting routines (which will be the subject of another tutorial).  \n",
    "\n",
    "Notice the use of **.sel( )** to subset a single time slice (time=1) for plotting."
   ]
  },
  {
   "cell_type": "code",
   "execution_count": 32,
   "metadata": {},
   "outputs": [
    {
     "data": {
      "image/png": "[encoded data removed]",
      "text/plain": [
       "<matplotlib.figure.Figure at 0x316e0ad10>"
      ]
     },
     "metadata": {},
     "output_type": "display_data"
    }
   ],
   "source": [
    "ecco.plot_tiles_proj(ssh_da.lon_c, ssh_da.lat_c, \n",
    "                     ssh_da_subset_space.sel(time=1), \n",
    "                     plot_type='contourf', lon_0=180, \n",
    "                     cmin=-.5, cmax=.5, cbar=True);\n",
    "plt.title('SSH [m]')\n",
    "plt.show()"
   ]
  },
  {
   "cell_type": "markdown",
   "metadata": {},
   "source": [
    "## Conclusion\n",
    "\n",
    "You now know several different methods for accessing and subsetting fields in `Dataset` and `DataArray` objects.    \n",
    "\n",
    "To learn a more about indexing/subsetting methods please refer to the `xarray` manual for indexing methods, http://xarray.pydata.org/en/stable/indexing.html.  "
   ]
  }
 ],
 "metadata": {
  "kernelspec": {
   "display_name": "Python 2",
   "language": "python",
   "name": "python2"
  },
  "language_info": {
   "codemirror_mode": {
    "name": "ipython",
    "version": 2
   },
   "file_extension": ".py",
   "mimetype": "text/x-python",
   "name": "python",
   "nbconvert_exporter": "python",
   "pygments_lexer": "ipython2",
   "version": "2.7.14"
  }
 },
 "nbformat": 4,
 "nbformat_minor": 2
}
