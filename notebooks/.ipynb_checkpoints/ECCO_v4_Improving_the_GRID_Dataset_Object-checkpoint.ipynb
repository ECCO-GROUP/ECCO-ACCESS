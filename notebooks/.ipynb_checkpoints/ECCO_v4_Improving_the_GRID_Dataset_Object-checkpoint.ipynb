{
 "cells": [
  {
   "cell_type": "markdown",
   "metadata": {},
   "source": [
    "# An Improved Method for Loading ECCOv4 netCDF files\n",
    "\n",
    "## Objectives:\n",
    "\n",
    "To introduce a method for loading data from the ECCO v4 netCDF tile files that returns `Dataset` and `DataArray` objects that properly distinguish *where* on the Arakawa-C grid the variables are situated.\n",
    "\n",
    "This custom routine written for the *ecco_v4_py* package is: `load_tile_from_netcdf`.\n",
    "\n",
    "\n",
    "## Introduction\n",
    "\n",
    "As we showed in the first tutorial, we can use the `xr.open_dataset(data_dir + fname)` routine from xarray to load a netCDF tile file into Python.  This routine parses the netCDF file and extracts the dimensions, coordinates, variables, and metadata information and uses those to construct the `Dataset` object.\n",
    "\n",
    "In the last tutorial we read in a single GRID netCDF tile file and examined its contents. We found that it listed three dimensions, i1, i2, and i3, for its Data variables. Let's load it up again and take a closer look.  This time we'll name the `Dataset` object as `grid_3_default` since we are loading it with the default method from `xarray`."
   ]
  },
  {
   "cell_type": "code",
   "execution_count": 26,
   "metadata": {
    "collapsed": true
   },
   "outputs": [],
   "source": [
    "import matplotlib.pylab as plt\n",
    "import numpy as np\n",
    "import sys\n",
    "import xarray as xr\n",
    "from copy import deepcopy \n",
    "sys.path.append('/Users/ifenty/git_repo/ECCOv4-py')\n",
    "import ecco_v4_py as ecco"
   ]
  },
  {
   "cell_type": "code",
   "execution_count": 45,
   "metadata": {
    "collapsed": true
   },
   "outputs": [],
   "source": [
    "data_dir='/Volumes/ECCO_BASE/ECCO_v4r3/nctiles_grid/'    \n",
    "fname = 'GRID.0003.nc'\n",
    "grid_3_default = xr.open_dataset(data_dir + fname)"
   ]
  },
  {
   "cell_type": "code",
   "execution_count": 46,
   "metadata": {},
   "outputs": [
    {
     "data": {
      "text/plain": [
       "<xarray.Dataset>\n",
       "Dimensions:  (i1: 50, i2: 90, i3: 90)\n",
       "Coordinates:\n",
       "  * i1       (i1) float64 1.0 2.0 3.0 4.0 5.0 6.0 7.0 8.0 9.0 10.0 11.0 12.0 ...\n",
       "  * i2       (i2) float64 1.0 2.0 3.0 4.0 5.0 6.0 7.0 8.0 9.0 10.0 11.0 12.0 ...\n",
       "  * i3       (i3) float64 1.0 2.0 3.0 4.0 5.0 6.0 7.0 8.0 9.0 10.0 11.0 12.0 ...\n",
       "Data variables:\n",
       "    hFacC    (i1, i2, i3) float64 ...\n",
       "    hFacW    (i1, i2, i3) float64 ...\n",
       "    hFacS    (i1, i2, i3) float64 ...\n",
       "    XC       (i2, i3) float64 ...\n",
       "    YC       (i2, i3) float64 ...\n",
       "    XG       (i2, i3) float64 ...\n",
       "    YG       (i2, i3) float64 ...\n",
       "    RAC      (i2, i3) float64 ...\n",
       "    RAZ      (i2, i3) float64 ...\n",
       "    DXC      (i2, i3) float64 ...\n",
       "    DYC      (i2, i3) float64 ...\n",
       "    DXG      (i2, i3) float64 ...\n",
       "    DYG      (i2, i3) float64 ...\n",
       "    Depth    (i2, i3) float64 ...\n",
       "    AngleCS  (i2, i3) float64 ...\n",
       "    AngleSN  (i2, i3) float64 ...\n",
       "    RC       (i1) float64 ...\n",
       "    RF       (i1) float64 ...\n",
       "    DRC      (i1) float64 ...\n",
       "    DRF      (i1) float64 ...\n",
       "Attributes:\n",
       "    description:    C-grid parameters (see MITgcm documentation for details)....\n",
       "    A:              :Format      = native grid (nctiles w. 13 tiles)\n",
       "    B:              :source      = ECCO consortium (http://ecco-group.org/)\n",
       "    C:              :institution = JPL/UT/MIT/AER\n",
       "    D:              :history     = files revision history :\n",
       "    E:                                 04/20/2017: fill in geometry info for ...\n",
       "    F:                                 11/06/2016: third release of ECCO v4 (...\n",
       "    G:                             estimates revision history (from second re...\n",
       "    H:                                 employs bi-harmonic viscosity (enhance...\n",
       "    I:                                 sea-ice parameters, updated or novel o...\n",
       "    J:                                 GRACE OBP, Aquarius SSS, global mean s...\n",
       "    K:                                 time-series, extended and/or expanded ...\n",
       "    L:                                 revised weights including data and con...\n",
       "    M:                                 to account for grid-size variation and...\n",
       "    N:                                 separate time-mean and time-variable d...\n",
       "    O:                                 and controls, sea-ice costs, and initi...\n",
       "    P:                                 additional controls.\\n \n",
       "    Q:              :references  = Forget, G., J.-M. Campin, P. Heimbach, C. ...\n",
       "    R:                              and C. Wunsch, 2015: ECCO version 4: an i...\n",
       "    S:                              non-linear inverse modeling and global oc...\n",
       "    T:                              Geoscientific Model Development, 8, 3071-...\n",
       "    U:                             Forget, G., J.-M. Campin, P. Heimbach, C. ...\n",
       "    V:                              ECCO version 4: Second Release, 2016, htt...\n",
       "    W:              file created using gcmfaces_IO/write2nctiles.m\n",
       "    date:           21-Apr-2017\n",
       "    Conventions:    CF-1.6\n",
       "    _FillValue:     nan\n",
       "    missing_value:  nan"
      ]
     },
     "execution_count": 46,
     "metadata": {},
     "output_type": "execute_result"
    }
   ],
   "source": [
    "grid_3_default"
   ]
  },
  {
   "attachments": {},
   "cell_type": "markdown",
   "metadata": {},
   "source": [
    "We see that all of the Data variables in `grid_3_default` use one of three dimensions, **i1**, **i2**, and **i3**.  As we saw before, some variables are 3D (e.g., hFacC), others are 2D (e.g., XC), and others are 1D (e.g., RF).  \n",
    "    \n",
    "Now, while the default format of this Dataset object is already quite useful, it falls short of taking full advantage of the 'coordinate' feature afforded by the Dataset object.  \n",
    "\n",
    "\n",
    "## The four horizontal points of the Arakawa-C grid\n",
    "\n",
    "Model variables on Arakawa-C grids are staggered in space.  On the horizontal plane, model variables can be situated at one of four different classes of point.  \n",
    "\n",
    "![C-grid-points.png](../figures/C-grid-points.png)\n",
    "**The four different classes of points used in the staggered Arakawa-C grid (C-grid)**\n",
    "\n",
    "### *c* points\n",
    "\n",
    "Variables that do not have a horizontal velocity component (e.g., T, S, SSH, OBP, sea ice concentration, vertical velocity) are situated at $c$ points in the horizontal plane.  $c$ points are at the center of the *tracer* grid cell in the horizontal plane.\n",
    "\n",
    "Let us define the $(i,j)$ coordinate system for the indices of $c$ points.\n",
    "\n",
    "In the ECCO v4 netCDF tile files, $c(0,0)$ is the -x most and -y most tracer grid cell.\n",
    "\n",
    "* In the +$y$ direction, the next $c$ point is $c(0,1)$.\n",
    "* In the +$x$ direction, the next $c$ point is $c(1,0)$ \n",
    "\n",
    "### *u* points\n",
    "\n",
    "Variables that are explictly related to horizontal velocity or horizontal fluxes in the model's $x$ direction are situated at $u$ points in the horizontal plane.  Examples include horizontal velocity in the $x$ direction ($UVEL$) and horizontal advective flux of snow in the $x$ direction ($ADVxSNOW$).  \n",
    "\n",
    "In the $x$ direction they are situated on the edges or faces of the tracer grid cell.  In the $y$ direction they are at the same locations as the $c$ points.    \n",
    "\n",
    "Let us define the $(i_g, j)$ coordinate system for $u$ points.  We use $i_g$ as the coordinate in the $x$ direction because $u$ points are situated along the tracer grid cell ed***G***es.  We use the $j$ for its $y$ coordinate because it is the same as the $y$ coordinate of the $c$ points. \n",
    "\n",
    "In the ECCO v4 netCDF tile files, $u(0,0)$ is the -x most and -y most $u$ point.\n",
    "\n",
    "### *v* points\n",
    "\n",
    "Variables that are explictly related to horizontal velocity or horizontal fluxes in the model's $y$ direction are situated at $v$ points in the horizontal plane.  Examples include horizontal velocity in the $y$ direction ($VVEL$) and horizontal advective flux of snow in the $y$ direction ($ADVySNOW$).  \n",
    "\n",
    "In the $x$ direction they are at the same locations as the $c$ points.  In the $y$ direction they are situated on the edges (or faces) of the tracer grid cell. \n",
    "\n",
    "Let us define the $(i, j_g)$ coordinate system for $v$ points.  We use the $i$ for its $x$ coordinate because it is the same as the $x$ coordinate of the $c$ points. We use $j_g$ as the coordinate in the $y$ direction because $v$ points are situated along the tracer grid cell ed***G***es.   \n",
    "\n",
    "In the ECCO v4 netCDF tile files, $v(0,0)$ is the -x most and -y most $v$ point.\n",
    "\n",
    "### *g* points\n",
    "\n",
    "Variables that are explictly related to horizontal velocities in the model in both the $x$ and $y$ direction are situated at $g$ points in the horizontal plane.  Vorticity is an example.  \n",
    "\n",
    "$g$ points are situated along the edges of the grid cell in both $x$ and $y$.  In other words, they are at the **corners** of tracer grid cells.\n",
    "\n",
    "Let us define the $(i_g, j_g)$ coordinate system for $g$ points following the same reasoning as described above: in both the $x$ and $y$ directions, $g$ points are on the ed***G***es of tracer grid cells.\n",
    "\n",
    "In the ECCO v4 netCDF tile files, $g(0,0)$ is the -x most and -y most $g$ point.\n",
    "\n",
    "## The two vertical points of the Arakawa-C gird\n",
    "\n",
    "There are two coordinates in the vertical $z$ dimension:\n",
    "\n",
    "### *w* points\n",
    "\n",
    "Variables related to vertical velocity or vertical fluxes are situated at $w$ in the vertical direction.  These variables are situated on the upper and lower faces of the tracer grid cell.   \n",
    "\n",
    "Let us define the $k_g$ coordinate system for $w$ points by following the same reasoning as we used above: $w$ points fall along the the ed***G***es of tracer grid cells in the $z$ direction.\n",
    "\n",
    "Indexing begins at the sea surface, k_g=0.\n",
    "\n",
    "### *k* points\n",
    "\n",
    "Let us define $k$ as the vertical coordinate corresponding with the middle of a tracer grid cell in the $z$ direction.  All tracers are situated at $k$ in the vertical.\n",
    "\n",
    "Indexing begins in the uppermost grid cell surface, k=0.\n",
    "\n",
    "\n",
    "## Applying the C-grid coordinates to the variables\n",
    "\n",
    "The default coordinate names in the ECCO v4 netcdf tile files do not distinguish distinguish between the four horizontal coordinates, $i, i_g, j, j_g$ and the two vertical coordinates, $k_w$ and $k$, used by the C-grid .\n",
    "\n",
    "To apply these more descriptive coordinates to the `Dataset` objects that are created when we load netCDF files, we have written a custom routine, `load_tile_from_netcdf`.\n",
    "\n",
    "### `load_tile_from_netcdf`\n",
    "\n",
    "This routine takes four arguments,\n",
    "1. *data_dir*: the directory of the netCDF file\n",
    "2. *var*: the name of the netCDF file without the tile number.\n",
    "3. *var_type*: one of 'c','g','u','v', or 'grid' corresponding with the variables C-grid point type.  'grid' is a special case because **GRID** ECCO v4 tile files are unique in that they contain a mix of 'c','g','u','v','k', and 'w' points.\n",
    "4. *tile_index*: the tile number [1 .. 13]"
   ]
  },
  {
   "cell_type": "markdown",
   "metadata": {},
   "source": [
    "### Loading an ECCO v4 netCDF tile file using  `load_tile_from_netcdf`\n",
    "\n",
    "Let's once again open the grid file for *tile 3* (North East Atlantic Ocean) using `load_tile_from_netcdf`"
   ]
  },
  {
   "cell_type": "code",
   "execution_count": 47,
   "metadata": {},
   "outputs": [
    {
     "name": "stdout",
     "output_type": "stream",
     "text": [
      "loading /Volumes/ECCO_BASE/ECCO_v4r3/nctiles_grid/GRID.0003.nc\n"
     ]
    }
   ],
   "source": [
    "data_dir='/Volumes/ECCO_BASE/ECCO_v4r3/nctiles_grid/'    \n",
    "var = 'GRID'\n",
    "var_type = 'grid'\n",
    "tile_index = 3\n",
    "grid_3_new = ecco.load_tile_from_netcdf(data_dir, \n",
    "                                         var, \n",
    "                                         var_type, \n",
    "                                         tile_index)"
   ]
  },
  {
   "cell_type": "code",
   "execution_count": 49,
   "metadata": {},
   "outputs": [
    {
     "data": {
      "text/plain": [
       "<xarray.Dataset>\n",
       "Dimensions:  (i: 90, i_g: 90, j: 90, j_g: 90, k: 50, k_l: 50, k_u: 50)\n",
       "Coordinates:\n",
       "    tile     int64 3\n",
       "  * k        (k) float64 1.0 2.0 3.0 4.0 5.0 6.0 7.0 8.0 9.0 10.0 11.0 12.0 ...\n",
       "  * i        (i) float64 1.0 2.0 3.0 4.0 5.0 6.0 7.0 8.0 9.0 10.0 11.0 12.0 ...\n",
       "  * j        (j) float64 1.0 2.0 3.0 4.0 5.0 6.0 7.0 8.0 9.0 10.0 11.0 12.0 ...\n",
       "  * i_g      (i_g) float64 1.0 2.0 3.0 4.0 5.0 6.0 7.0 8.0 9.0 10.0 11.0 ...\n",
       "  * j_g      (j_g) float64 1.0 2.0 3.0 4.0 5.0 6.0 7.0 8.0 9.0 10.0 11.0 ...\n",
       "  * k_u      (k_u) float64 1.0 2.0 3.0 4.0 5.0 6.0 7.0 8.0 9.0 10.0 11.0 ...\n",
       "  * k_l      (k_l) int64 1 2 3 4 5 6 7 8 9 10 11 12 13 14 15 16 17 18 19 20 ...\n",
       "Data variables:\n",
       "    XC       (j, i) float64 ...\n",
       "    YC       (j, i) float64 ...\n",
       "    RAC      (j, i) float64 ...\n",
       "    Depth    (j, i) float64 ...\n",
       "    AngleCS  (j, i) float64 ...\n",
       "    AngleSN  (j, i) float64 ...\n",
       "    hFacC    (k, j, i) float64 ...\n",
       "    land_c   (k, j, i) float64 1.0 1.0 1.0 1.0 1.0 1.0 1.0 1.0 1.0 1.0 1.0 ...\n",
       "    XG       (j_g, i_g) float64 ...\n",
       "    YG       (j_g, i_g) float64 ...\n",
       "    RAZ      (j_g, i_g) float64 ...\n",
       "    DXC      (j, i_g) float64 ...\n",
       "    DYG      (j, i_g) float64 ...\n",
       "    hFacW    (k, j, i_g) float64 ...\n",
       "    land_u   (k, j, i_g) float64 1.0 1.0 1.0 1.0 1.0 1.0 1.0 1.0 1.0 1.0 1.0 ...\n",
       "    DYC      (j_g, i) float64 ...\n",
       "    DXG      (j_g, i) float64 ...\n",
       "    hFacS    (k, j_g, i) float64 ...\n",
       "    land_v   (k, j_g, i) float64 1.0 1.0 1.0 1.0 1.0 1.0 1.0 1.0 1.0 1.0 1.0 ...\n",
       "    RF       (k_u) float64 ...\n",
       "    DRC      (k_u) float64 ...\n",
       "    RC       (k) float64 ...\n",
       "    DRF      (k) float64 ...\n",
       "    RB       (k_l) float64 -10.0 -20.0 -30.0 -40.0 -50.0 -60.0 -70.0 -80.01 ...\n",
       "Attributes:\n",
       "    description:    C-grid parameters (see MITgcm documentation for details)....\n",
       "    A:              :Format      = native grid (nctiles w. 13 tiles)\n",
       "    B:              :source      = ECCO consortium (http://ecco-group.org/)\n",
       "    C:              :institution = JPL/UT/MIT/AER\n",
       "    D:              :history     = files revision history :\n",
       "    E:                                 04/20/2017: fill in geometry info for ...\n",
       "    F:                                 11/06/2016: third release of ECCO v4 (...\n",
       "    G:                             estimates revision history (from second re...\n",
       "    H:                                 employs bi-harmonic viscosity (enhance...\n",
       "    I:                                 sea-ice parameters, updated or novel o...\n",
       "    J:                                 GRACE OBP, Aquarius SSS, global mean s...\n",
       "    K:                                 time-series, extended and/or expanded ...\n",
       "    L:                                 revised weights including data and con...\n",
       "    M:                                 to account for grid-size variation and...\n",
       "    N:                                 separate time-mean and time-variable d...\n",
       "    O:                                 and controls, sea-ice costs, and initi...\n",
       "    P:                                 additional controls.\\n \n",
       "    Q:              :references  = Forget, G., J.-M. Campin, P. Heimbach, C. ...\n",
       "    R:                              and C. Wunsch, 2015: ECCO version 4: an i...\n",
       "    S:                              non-linear inverse modeling and global oc...\n",
       "    T:                              Geoscientific Model Development, 8, 3071-...\n",
       "    U:                             Forget, G., J.-M. Campin, P. Heimbach, C. ...\n",
       "    V:                              ECCO version 4: Second Release, 2016, htt...\n",
       "    W:              file created using gcmfaces_IO/write2nctiles.m\n",
       "    date:           21-Apr-2017\n",
       "    Conventions:    CF-1.6\n",
       "    _FillValue:     nan\n",
       "    missing_value:  nan"
      ]
     },
     "execution_count": 49,
     "metadata": {},
     "output_type": "execute_result"
    }
   ],
   "source": [
    "grid_3_new"
   ]
  },
  {
   "cell_type": "code",
   "execution_count": null,
   "metadata": {
    "collapsed": true
   },
   "outputs": [],
   "source": []
  }
 ],
 "metadata": {
  "kernelspec": {
   "display_name": "Python 2",
   "language": "python",
   "name": "python2"
  },
  "language_info": {
   "codemirror_mode": {
    "name": "ipython",
    "version": 2
   },
   "file_extension": ".py",
   "mimetype": "text/x-python",
   "name": "python",
   "nbconvert_exporter": "python",
   "pygments_lexer": "ipython2",
   "version": "2.7.14"
  }
 },
 "nbformat": 4,
 "nbformat_minor": 2
}
