{
 "cells": [
  {
   "cell_type": "markdown",
   "metadata": {},
   "source": [
    "# Operating on Numpy arrays\n",
    "\n",
    "## Objectives\n",
    "\n",
    "Introduce numpy's **pass-by-reference** approach handling numpy arrays and methods for avoiding pitfalls when operating on numpy arrays.\n",
    "\n",
    "## Introduction\n",
    "\n",
    "From: http://span.ece.utah.edu/common-mistakes-in-moving-from-matlab-to-python:\n",
    "\n",
    "\"Whenever you reference an array in Python, the computer will provide the memory address for the thing you are accessing, not the actual value. This is called **pass-by-reference**. This saves memory and makes your programs faster, but it is also harder to keep straight.\"  \n",
    "\n",
    "From: https://docs.python.org/2/library/copy.html\n",
    "\n",
    "\"Assignment statements in Python do not copy objects, they create bindings [pointers] between a target and an object.\" \"... a copy is sometimes needed so one can change one copy without changing the other. The 'copy' module provides generic ... copy operations.\"\n",
    "\n",
    "If you are not familiar with the **pass-by-reference** aspect of Python then I strongly suggest you read this short, informative essay on \"Python Names and Values\": https://nedbatchelder.com/text/names.html\n",
    "\n",
    "We've briefly touched on this important subject in earlier tutorials.  Now we'll go into a bit more detail."
   ]
  },
  {
   "cell_type": "markdown",
   "metadata": {},
   "source": [
    "## Variable assignments\n",
    "\n",
    "Unlike some other languages, creating a new variable with an assignment statement in Python such as\n",
    "`\n",
    "x = some_numpy_array\n",
    "`\n",
    "\n",
    "does not make a copy of ``some_numpy_array``.  Instead, the assignment statement makes ``x`` and ``some_numpy_array`` both point to the same `numpy` array in memory.  Because ``x`` and ``some_numpy_array`` are both refer (or pointer) to the same `numpy` array in memory, the `numpy` array can be changed by operations on either ``x`` or ``some_numpy_array``.  If you aren't aware of this behavior then you may run into very difficult to identify bugs in your calculations!\n",
    "\n",
    "### A simple demonstration\n",
    "\n",
    "Let's demonstrate this issue with a very simple `numpy` array"
   ]
  },
  {
   "cell_type": "code",
   "execution_count": 1,
   "metadata": {},
   "outputs": [],
   "source": [
    "import numpy as np\n",
    "from copy import deepcopy \n",
    "import ecco_v4_py as ecco\n",
    "import xarray as xr"
   ]
  },
  {
   "cell_type": "code",
   "execution_count": 2,
   "metadata": {},
   "outputs": [
    {
     "data": {
      "text/plain": [
       "True"
      ]
     },
     "execution_count": 2,
     "metadata": {},
     "output_type": "execute_result"
    }
   ],
   "source": [
    "# Create a simple numpy array\n",
    "a=np.array([1, 2, 3, 4, 5])\n",
    "\n",
    "# Assign 'b' to point to the same numpy array\n",
    "b=a\n",
    "\n",
    "# Test to see if b and a point to the same thing\n",
    "b is a"
   ]
  },
  {
   "cell_type": "markdown",
   "metadata": {},
   "source": [
    "Now change the fourth element of ``b`` and print both ``a`` and ``b``"
   ]
  },
  {
   "cell_type": "code",
   "execution_count": 3,
   "metadata": {},
   "outputs": [
    {
     "name": "stdout",
     "output_type": "stream",
     "text": [
      "[ 1  2  3 10  5]\n",
      "[ 1  2  3 10  5]\n"
     ]
    }
   ],
   "source": [
    "b[3] = 10\n",
    "print a\n",
    "print b"
   ]
  },
  {
   "cell_type": "markdown",
   "metadata": {},
   "source": [
    "### A fancier demonstration\n",
    "\n",
    "Let's now demonstrate with a `numpy` array that stores ``SSH`` output."
   ]
  },
  {
   "cell_type": "code",
   "execution_count": 4,
   "metadata": {},
   "outputs": [
    {
     "name": "stdout",
     "output_type": "stream",
     "text": [
      "\n",
      ">>> LOADING TILES FROM NETCDF\n",
      "\n",
      "loading /Volumes/ECCO_BASE/ECCO_v4r3/nctiles_monthly/SSH/SSH.0001.nc\n",
      "loading /Volumes/ECCO_BASE/ECCO_v4r3/nctiles_monthly/SSH/SSH.0002.nc\n",
      "loading /Volumes/ECCO_BASE/ECCO_v4r3/nctiles_monthly/SSH/SSH.0003.nc\n",
      "loading /Volumes/ECCO_BASE/ECCO_v4r3/nctiles_monthly/SSH/SSH.0004.nc\n",
      "loading /Volumes/ECCO_BASE/ECCO_v4r3/nctiles_monthly/SSH/SSH.0005.nc\n",
      "loading /Volumes/ECCO_BASE/ECCO_v4r3/nctiles_monthly/SSH/SSH.0006.nc\n",
      "loading /Volumes/ECCO_BASE/ECCO_v4r3/nctiles_monthly/SSH/SSH.0007.nc\n",
      "loading /Volumes/ECCO_BASE/ECCO_v4r3/nctiles_monthly/SSH/SSH.0008.nc\n",
      "loading /Volumes/ECCO_BASE/ECCO_v4r3/nctiles_monthly/SSH/SSH.0009.nc\n",
      "loading /Volumes/ECCO_BASE/ECCO_v4r3/nctiles_monthly/SSH/SSH.0010.nc\n",
      "loading /Volumes/ECCO_BASE/ECCO_v4r3/nctiles_monthly/SSH/SSH.0011.nc\n",
      "loading /Volumes/ECCO_BASE/ECCO_v4r3/nctiles_monthly/SSH/SSH.0012.nc\n",
      "loading /Volumes/ECCO_BASE/ECCO_v4r3/nctiles_monthly/SSH/SSH.0013.nc\n",
      "total file load time  0.55019903183 s\n",
      "concatenated all tiles.  this can take a few minutes....\n",
      "finished concatenating.  time = 0.215973138809 s\n",
      "Removing Dataset Attributes A-Z\n",
      "\n",
      "\n",
      ">>> LOADING TILES FROM NETCDF\n",
      "\n",
      "loading /Volumes/ECCO_BASE/ECCO_v4r3/nctiles_grid/GRID.0001.nc\n",
      "loading /Volumes/ECCO_BASE/ECCO_v4r3/nctiles_grid/GRID.0002.nc\n",
      "loading /Volumes/ECCO_BASE/ECCO_v4r3/nctiles_grid/GRID.0003.nc\n",
      "loading /Volumes/ECCO_BASE/ECCO_v4r3/nctiles_grid/GRID.0004.nc\n",
      "loading /Volumes/ECCO_BASE/ECCO_v4r3/nctiles_grid/GRID.0005.nc\n",
      "loading /Volumes/ECCO_BASE/ECCO_v4r3/nctiles_grid/GRID.0006.nc\n",
      "loading /Volumes/ECCO_BASE/ECCO_v4r3/nctiles_grid/GRID.0007.nc\n",
      "loading /Volumes/ECCO_BASE/ECCO_v4r3/nctiles_grid/GRID.0008.nc\n",
      "loading /Volumes/ECCO_BASE/ECCO_v4r3/nctiles_grid/GRID.0009.nc\n",
      "loading /Volumes/ECCO_BASE/ECCO_v4r3/nctiles_grid/GRID.0010.nc\n",
      "loading /Volumes/ECCO_BASE/ECCO_v4r3/nctiles_grid/GRID.0011.nc\n",
      "loading /Volumes/ECCO_BASE/ECCO_v4r3/nctiles_grid/GRID.0012.nc\n",
      "loading /Volumes/ECCO_BASE/ECCO_v4r3/nctiles_grid/GRID.0013.nc\n",
      "total file load time  0.761502027512 s\n",
      "concatenated all tiles.  this can take a few minutes....\n",
      "finished concatenating.  time = 0.56454205513 s\n",
      "Removing Dataset Attributes A-Z\n",
      "\n"
     ]
    }
   ],
   "source": [
    "# specify the location of your nctiles_monthly directory\n",
    "data_dir='/Volumes/ECCO_BASE/ECCO_v4r3/nctiles_monthly/SSH/'    \n",
    "var = 'SSH'\n",
    "var_type = 'c'\n",
    "ssh_all_tiles = ecco.load_all_tiles_from_netcdf(data_dir, var, var_type)\n",
    "ecco.minimal_metadata(ssh_all_tiles)\n",
    "\n",
    "# specify the location of your nctiles_grid directory\n",
    "grid_dir='/Volumes/ECCO_BASE/ECCO_v4r3/nctiles_grid/'\n",
    "var = 'GRID'\n",
    "var_type = 'grid'\n",
    "grid_all_tiles = ecco.load_all_tiles_from_netcdf(grid_dir, var, var_type)\n",
    "ecco.minimal_metadata(grid_all_tiles)\n",
    "\n",
    "# Merge these datasets\n",
    "output_all = xr.merge([ssh_all_tiles, grid_all_tiles])"
   ]
  },
  {
   "cell_type": "markdown",
   "metadata": {},
   "source": [
    "Recall the dimensions of our ``SSH`` `DataArray`:"
   ]
  },
  {
   "cell_type": "code",
   "execution_count": 5,
   "metadata": {},
   "outputs": [
    {
     "data": {
      "text/plain": [
       "('time', 'tile', 'j', 'i')"
      ]
     },
     "execution_count": 5,
     "metadata": {},
     "output_type": "execute_result"
    }
   ],
   "source": [
    "output_all.SSH.dims"
   ]
  },
  {
   "cell_type": "markdown",
   "metadata": {},
   "source": [
    "Show the first four SSH values in **j** and **i** for the fifth month (May 1992) and second tile:"
   ]
  },
  {
   "cell_type": "code",
   "execution_count": 6,
   "metadata": {},
   "outputs": [
    {
     "data": {
      "text/plain": [
       "array([[-1.46229744, -1.45909059, -1.45165074, -1.45542085],\n",
       "       [-1.41486502, -1.40930796, -1.40463269, -1.41828668],\n",
       "       [-1.374681  , -1.36917841, -1.3710494 , -1.39537776],\n",
       "       [-1.35166287, -1.34794021, -1.35757709, -1.38864243]])"
      ]
     },
     "execution_count": 6,
     "metadata": {},
     "output_type": "execute_result"
    }
   ],
   "source": [
    "output_all.SSH[4,1,0:4,0:4].values"
   ]
  },
  {
   "cell_type": "markdown",
   "metadata": {},
   "source": [
    "Assign the variable `ssh_tmp` to this *subset* of the `numpy` array that ``SSH`` points to:"
   ]
  },
  {
   "cell_type": "code",
   "execution_count": 7,
   "metadata": {},
   "outputs": [
    {
     "data": {
      "text/plain": [
       "array([[-1.46229744, -1.45909059],\n",
       "       [-1.41486502, -1.40930796]])"
      ]
     },
     "execution_count": 7,
     "metadata": {},
     "output_type": "execute_result"
    }
   ],
   "source": [
    "ssh_tmp = output_all.SSH[4,1,0:2,0:2].values\n",
    "ssh_tmp"
   ]
  },
  {
   "cell_type": "markdown",
   "metadata": {},
   "source": [
    "Now change the values of all elements of ``ssh_tmp`` to 10"
   ]
  },
  {
   "cell_type": "code",
   "execution_count": 8,
   "metadata": {},
   "outputs": [
    {
     "data": {
      "text/plain": [
       "array([[ 10.,  10.],\n",
       "       [ 10.,  10.]])"
      ]
     },
     "execution_count": 8,
     "metadata": {},
     "output_type": "execute_result"
    }
   ],
   "source": [
    "ssh_tmp[:] = 10\n",
    "ssh_tmp"
   ]
  },
  {
   "cell_type": "markdown",
   "metadata": {},
   "source": [
    "And see that yes, in fact, this change is reflected in our ``SSH`` `DataArray`:"
   ]
  },
  {
   "cell_type": "code",
   "execution_count": 9,
   "metadata": {},
   "outputs": [
    {
     "data": {
      "text/plain": [
       "array([[ 10.        ,  10.        ,  -1.45165074,  -1.45542085],\n",
       "       [ 10.        ,  10.        ,  -1.40463269,  -1.41828668],\n",
       "       [ -1.374681  ,  -1.36917841,  -1.3710494 ,  -1.39537776],\n",
       "       [ -1.35166287,  -1.34794021,  -1.35757709,  -1.38864243]])"
      ]
     },
     "execution_count": 9,
     "metadata": {},
     "output_type": "execute_result"
    }
   ],
   "source": [
    "output_all.SSH[4,1,0:4,0:4].values"
   ]
  },
  {
   "cell_type": "markdown",
   "metadata": {},
   "source": [
    "## Dealing with *pass-by-reference*: right hand side operations\n",
    "\n",
    "One way to have a new variable assignment not point to the original variable is to *perform an operation on the right hand side of the assignment statement*.  \n",
    "\n",
    "\"Python evaluates expressions from left to right. Notice that while evaluating an assignment, the right-hand side is evaluated before the left-hand side.\"\n",
    "https://docs.python.org/2/reference/expressions.html#evaluation-order\n",
    "\n",
    "Performing an operation on the right hand side creates new values in memory.  The new variable assignment will then point to these new values, leaving the original untouched.\n",
    "\n",
    "### Simple demonstration 1\n",
    "Operate on ``a`` by adding 1 before the assigment statement"
   ]
  },
  {
   "cell_type": "code",
   "execution_count": 10,
   "metadata": {},
   "outputs": [
    {
     "name": "stdout",
     "output_type": "stream",
     "text": [
      "[1 2 3 4 5]\n",
      "[2 3 4 5 6]\n"
     ]
    }
   ],
   "source": [
    "# Create a simple numpy array\n",
    "a=np.array([1, 2, 3, 4, 5])\n",
    "\n",
    "b = a + 1\n",
    "\n",
    "print a\n",
    "print b"
   ]
  },
  {
   "cell_type": "markdown",
   "metadata": {},
   "source": [
    "Now change the fourth element of ``b`` and print both ``a`` and ``b``"
   ]
  },
  {
   "cell_type": "code",
   "execution_count": 11,
   "metadata": {
    "scrolled": true
   },
   "outputs": [
    {
     "name": "stdout",
     "output_type": "stream",
     "text": [
      "[1 2 3 4 5]\n",
      "[ 2  3  4 10  6]\n"
     ]
    }
   ],
   "source": [
    "b[3] = 10\n",
    "print a\n",
    "print b"
   ]
  },
  {
   "cell_type": "markdown",
   "metadata": {},
   "source": [
    "``a`` and ``b`` do indeed point to different values in memory."
   ]
  },
  {
   "cell_type": "markdown",
   "metadata": {},
   "source": [
    "### Simple demonstration 2\n",
    "\n",
    "Operate on ``a`` by adding 0 before the assigment statement.  This is a kind of dummy operation."
   ]
  },
  {
   "cell_type": "code",
   "execution_count": 12,
   "metadata": {},
   "outputs": [
    {
     "name": "stdout",
     "output_type": "stream",
     "text": [
      "[1 2 3 4 5]\n",
      "[1 2 3 4 5]\n"
     ]
    }
   ],
   "source": [
    "# Create a simple numpy array\n",
    "a=np.array([1, 2, 3, 4, 5])\n",
    "\n",
    "# Add 0 to `a`:\n",
    "b = a + 0\n",
    "\n",
    "print a\n",
    "print b"
   ]
  },
  {
   "cell_type": "code",
   "execution_count": 13,
   "metadata": {},
   "outputs": [
    {
     "data": {
      "text/plain": [
       "False"
      ]
     },
     "execution_count": 13,
     "metadata": {},
     "output_type": "execute_result"
    }
   ],
   "source": [
    "# Test to see if b and a point to the same thing\n",
    "b is a"
   ]
  },
  {
   "cell_type": "markdown",
   "metadata": {},
   "source": [
    "Now change the fourth element of ``b`` and print both ``a`` and ``b``"
   ]
  },
  {
   "cell_type": "code",
   "execution_count": 14,
   "metadata": {
    "scrolled": true
   },
   "outputs": [
    {
     "name": "stdout",
     "output_type": "stream",
     "text": [
      "[1 2 3 4 5]\n",
      "[ 1  2  3 10  5]\n"
     ]
    }
   ],
   "source": [
    "b[3] = 10\n",
    "print a\n",
    "print b"
   ]
  },
  {
   "cell_type": "markdown",
   "metadata": {},
   "source": [
    "Once again we see that ``a`` and ``b`` do indeed point to different values in memory."
   ]
  },
  {
   "cell_type": "markdown",
   "metadata": {},
   "source": [
    "### A fancier demonstration\n",
    "\n",
    "Let's now demonstrate with a `numpy` array that stores ``SSH`` output."
   ]
  },
  {
   "cell_type": "code",
   "execution_count": 15,
   "metadata": {},
   "outputs": [
    {
     "data": {
      "text/plain": [
       "array([[-1.43729115, -1.43942964, -1.42965627, -1.41491973],\n",
       "       [-1.40405977, -1.40120637, -1.38851774, -1.37088501],\n",
       "       [-1.35820544, -1.3533982 , -1.33985138, -1.32088363],\n",
       "       [-1.30428982, -1.29889154, -1.28463423, -1.26418531]])"
      ]
     },
     "execution_count": 15,
     "metadata": {},
     "output_type": "execute_result"
    }
   ],
   "source": [
    "output_all.SSH[4,1,5:9,5:9].values"
   ]
  },
  {
   "cell_type": "code",
   "execution_count": 16,
   "metadata": {},
   "outputs": [
    {
     "data": {
      "text/plain": [
       "array([[ 10.,  10.,  10.,  10.],\n",
       "       [ 10.,  10.,  10.,  10.],\n",
       "       [ 10.,  10.,  10.,  10.],\n",
       "       [ 10.,  10.,  10.,  10.]])"
      ]
     },
     "execution_count": 16,
     "metadata": {},
     "output_type": "execute_result"
    }
   ],
   "source": [
    "ssh_tmp = output_all.SSH[4,1,5:9,5:9].values * output_all.RAC[1,5:9,5:9].values\n",
    "ssh_tmp[:] = 10\n",
    "ssh_tmp"
   ]
  },
  {
   "cell_type": "code",
   "execution_count": 17,
   "metadata": {},
   "outputs": [
    {
     "data": {
      "text/plain": [
       "array([[-1.43729115, -1.43942964, -1.42965627, -1.41491973],\n",
       "       [-1.40405977, -1.40120637, -1.38851774, -1.37088501],\n",
       "       [-1.35820544, -1.3533982 , -1.33985138, -1.32088363],\n",
       "       [-1.30428982, -1.29889154, -1.28463423, -1.26418531]])"
      ]
     },
     "execution_count": 17,
     "metadata": {},
     "output_type": "execute_result"
    }
   ],
   "source": [
    "output_all.SSH[4,1,5:9,5:9].values"
   ]
  },
  {
   "cell_type": "markdown",
   "metadata": {},
   "source": [
    "Operating on the right hand side of the assignment does indeed new arrays in memory leaving the original SSH `numpy` array untouched."
   ]
  },
  {
   "cell_type": "markdown",
   "metadata": {},
   "source": [
    "## Dealing with *pass-by-reference*: copy and deepcopy\n",
    "\n",
    "A second way to have a new variable assignment not point to the original variable is to *use the copy or deepcopy command*.\n",
    "\n",
    "### Simple demonstration\n",
    "Use the `numpy` command."
   ]
  },
  {
   "cell_type": "code",
   "execution_count": 18,
   "metadata": {},
   "outputs": [
    {
     "name": "stdout",
     "output_type": "stream",
     "text": [
      "[1 2 3 4 5]\n",
      "[1 2 3 4 5]\n"
     ]
    }
   ],
   "source": [
    "# Create a simple numpy array\n",
    "a=np.array([1, 2, 3, 4, 5])\n",
    "b=np.copy(a)\n",
    "\n",
    "print a\n",
    "print b"
   ]
  },
  {
   "cell_type": "markdown",
   "metadata": {},
   "source": [
    "Now change the fourth element of ``b`` and print both ``a`` and ``b``"
   ]
  },
  {
   "cell_type": "code",
   "execution_count": 19,
   "metadata": {
    "scrolled": true
   },
   "outputs": [
    {
     "name": "stdout",
     "output_type": "stream",
     "text": [
      "[1 2 3 4 5]\n",
      "[ 1  2  3 10  5]\n"
     ]
    }
   ],
   "source": [
    "b[3] = 10\n",
    "print a\n",
    "print b"
   ]
  },
  {
   "cell_type": "code",
   "execution_count": 20,
   "metadata": {},
   "outputs": [
    {
     "data": {
      "text/plain": [
       "<xarray.DataArray 'SSH' (time: 288, tile: 13, j: 90, i: 90)>\n",
       "array([[[[      nan, ...,       nan],\n",
       "         ..., \n",
       "         [-1.483355, ..., -1.354059]],\n",
       "\n",
       "        ..., \n",
       "        [[-0.713382, ...,       nan],\n",
       "         ..., \n",
       "         [-1.46542 , ...,       nan]]],\n",
       "\n",
       "\n",
       "       ..., \n",
       "       [[[      nan, ...,       nan],\n",
       "         ..., \n",
       "         [-1.408568, ..., -1.319521]],\n",
       "\n",
       "        ..., \n",
       "        [[-0.580478, ...,       nan],\n",
       "         ..., \n",
       "         [-1.390469, ...,       nan]]]])\n",
       "Coordinates:\n",
       "  * time      (time) float64 1.0 2.0 3.0 4.0 5.0 6.0 7.0 8.0 9.0 10.0 11.0 ...\n",
       "  * j         (j) float64 1.0 2.0 3.0 4.0 5.0 6.0 7.0 8.0 9.0 10.0 11.0 12.0 ...\n",
       "  * i         (i) float64 1.0 2.0 3.0 4.0 5.0 6.0 7.0 8.0 9.0 10.0 11.0 12.0 ...\n",
       "    tim       (time) datetime64[ns] 1992-01-16 1992-02-16 1992-03-16 ...\n",
       "    timestep  (time) float64 732.0 1.428e+03 2.172e+03 2.892e+03 3.636e+03 ...\n",
       "    lon_c     (tile, j, i) float64 -111.6 -111.3 -110.9 -110.5 -110.0 -109.3 ...\n",
       "    lat_c     (tile, j, i) float64 -88.24 -88.38 -88.52 -88.66 -88.8 -88.94 ...\n",
       "  * tile      (tile) int64 1 2 3 4 5 6 7 8 9 10 11 12 13\n",
       "Attributes:\n",
       "    long_name:          Surface Height Anomaly adjusted with global steric he...\n",
       "    units:              m\n",
       "    rotated_to_latlon:  False"
      ]
     },
     "execution_count": 20,
     "metadata": {},
     "output_type": "execute_result"
    }
   ],
   "source": [
    "output_all.SSH"
   ]
  },
  {
   "cell_type": "markdown",
   "metadata": {},
   "source": [
    "### Fancier demonstration\n",
    "\n",
    "`Dataset` and `DataArray` objects are too complicated for `numpy`'s `copy` command.  For complex objects such as these use the `deepcopy` command."
   ]
  },
  {
   "cell_type": "code",
   "execution_count": 21,
   "metadata": {},
   "outputs": [
    {
     "data": {
      "text/plain": [
       "array([[ 10.,  10.,  10.,  10.],\n",
       "       [ 10.,  10.,  10.,  10.],\n",
       "       [ 10.,  10.,  10.,  10.],\n",
       "       [ 10.,  10.,  10.,  10.]])"
      ]
     },
     "execution_count": 21,
     "metadata": {},
     "output_type": "execute_result"
    }
   ],
   "source": [
    "ssh_tmp = deepcopy(output_all.SSH)\n",
    "ssh_tmp[:] = 10\n",
    "ssh_tmp[4,1,5:9,5:9].values"
   ]
  },
  {
   "cell_type": "code",
   "execution_count": 22,
   "metadata": {},
   "outputs": [
    {
     "data": {
      "text/plain": [
       "array([[-1.43729115, -1.43942964, -1.42965627, -1.41491973],\n",
       "       [-1.40405977, -1.40120637, -1.38851774, -1.37088501],\n",
       "       [-1.35820544, -1.3533982 , -1.33985138, -1.32088363],\n",
       "       [-1.30428982, -1.29889154, -1.28463423, -1.26418531]])"
      ]
     },
     "execution_count": 22,
     "metadata": {},
     "output_type": "execute_result"
    }
   ],
   "source": [
    "output_all.SSH[4,1,5:9,5:9].values"
   ]
  },
  {
   "cell_type": "markdown",
   "metadata": {},
   "source": [
    "Using `deepcopy` gives us an entirely new array in memory.  Operations on ``ssh_tmp`` do not affect the original fields that we found in the `output_all_SSH` `DataArray`."
   ]
  },
  {
   "cell_type": "markdown",
   "metadata": {},
   "source": [
    "## Conclusion\n",
    "\n",
    "You now know about the possible pitfalls for dealing with Python's **pass-by-reference** way of handling assignment statements and different methods for making copies of `numpy` arrays and `Datasets` and `DataArrays`.  "
   ]
  }
 ],
 "metadata": {
  "kernelspec": {
   "display_name": "Python 2",
   "language": "python",
   "name": "python2"
  },
  "language_info": {
   "codemirror_mode": {
    "name": "ipython",
    "version": 2
   },
   "file_extension": ".py",
   "mimetype": "text/x-python",
   "name": "python",
   "nbconvert_exporter": "python",
   "pygments_lexer": "ipython2",
   "version": "2.7.14"
  }
 },
 "nbformat": 4,
 "nbformat_minor": 2
}
