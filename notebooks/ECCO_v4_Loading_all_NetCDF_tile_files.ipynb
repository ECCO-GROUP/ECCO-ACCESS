{
 "cells": [
  {
   "cell_type": "markdown",
   "metadata": {},
   "source": [
    "# Loading all 13 NetCDF tile files at once\n",
    "\n",
    "## Objectives:\n",
    "\n",
    "Introduce a method for loading all 13 ECCO v4 NetCDF tile files at once.  \n",
    "\n",
    "\n",
    "## Introduction\n",
    "\n",
    "So far we've loaded a single NetCDF tile file at a time.  The `load_all_tiles_from_netcdf` method builds on the `load_tile_from_netcdf` routine, loading all 13 tiles at once.\n",
    "\n",
    "Let's jump right in and load the 13 grid tile files.\n",
    "\n",
    "### Loading an ECCO v4 netCDF grid tile file using  `load_all_tiles_from_netcdf`\n",
    "\n",
    "Let's use `load_all_tiles_from_netcdf` to load all 13 grid tiles at once.  Call the new `Dataset` object `grid_all`"
   ]
  },
  {
   "cell_type": "code",
   "execution_count": 1,
   "metadata": {
    "collapsed": true
   },
   "outputs": [],
   "source": [
    "import matplotlib.pylab as plt\n",
    "import numpy as np\n",
    "import sys\n",
    "import xarray as xr\n",
    "from copy import deepcopy \n",
    "import ecco_v4_py as ecco"
   ]
  },
  {
   "cell_type": "code",
   "execution_count": 2,
   "metadata": {},
   "outputs": [
    {
     "name": "stdout",
     "output_type": "stream",
     "text": [
      "\n",
      ">>> LOADING TILES FROM NETCDF\n",
      "\n",
      "loading /Volumes/ECCO_BASE/ECCO_v4r3/nctiles_grid/GRID.0001.nc\n",
      "loading /Volumes/ECCO_BASE/ECCO_v4r3/nctiles_grid/GRID.0002.nc\n",
      "loading /Volumes/ECCO_BASE/ECCO_v4r3/nctiles_grid/GRID.0003.nc\n",
      "loading /Volumes/ECCO_BASE/ECCO_v4r3/nctiles_grid/GRID.0004.nc\n",
      "loading /Volumes/ECCO_BASE/ECCO_v4r3/nctiles_grid/GRID.0005.nc\n",
      "loading /Volumes/ECCO_BASE/ECCO_v4r3/nctiles_grid/GRID.0006.nc\n",
      "loading /Volumes/ECCO_BASE/ECCO_v4r3/nctiles_grid/GRID.0007.nc\n",
      "loading /Volumes/ECCO_BASE/ECCO_v4r3/nctiles_grid/GRID.0008.nc\n",
      "loading /Volumes/ECCO_BASE/ECCO_v4r3/nctiles_grid/GRID.0009.nc\n",
      "loading /Volumes/ECCO_BASE/ECCO_v4r3/nctiles_grid/GRID.0010.nc\n",
      "loading /Volumes/ECCO_BASE/ECCO_v4r3/nctiles_grid/GRID.0011.nc\n",
      "loading /Volumes/ECCO_BASE/ECCO_v4r3/nctiles_grid/GRID.0012.nc\n",
      "loading /Volumes/ECCO_BASE/ECCO_v4r3/nctiles_grid/GRID.0013.nc\n",
      "total file load time  0.768155097961 s\n",
      "concatenated all tiles.  this can take a few minutes....\n",
      "finished concatenating.  time = 0.53354382515 s\n",
      "Removing Dataset Attributes A-Z\n",
      "\n"
     ]
    }
   ],
   "source": [
    "grid_dir='/Volumes/ECCO_BASE/ECCO_v4r3/nctiles_grid/'\n",
    "var = 'GRID'\n",
    "var_type = 'grid'\n",
    "grid_all = ecco.load_all_tiles_from_netcdf(grid_dir, var, var_type)\n",
    "# minimize the metadata (optional)\n",
    "ecco.minimal_metadata(grid_all)"
   ]
  },
  {
   "cell_type": "code",
   "execution_count": 3,
   "metadata": {},
   "outputs": [
    {
     "data": {
      "text/plain": [
       "<xarray.Dataset>\n",
       "Dimensions:  (i: 90, i_g: 90, j: 90, j_g: 90, k: 50, k_g: 50, tile: 13)\n",
       "Coordinates:\n",
       "  * k        (k) float64 1.0 2.0 3.0 4.0 5.0 6.0 7.0 8.0 9.0 10.0 11.0 12.0 ...\n",
       "  * i        (i) float64 1.0 2.0 3.0 4.0 5.0 6.0 7.0 8.0 9.0 10.0 11.0 12.0 ...\n",
       "  * j        (j) float64 1.0 2.0 3.0 4.0 5.0 6.0 7.0 8.0 9.0 10.0 11.0 12.0 ...\n",
       "  * i_g      (i_g) float64 1.0 2.0 3.0 4.0 5.0 6.0 7.0 8.0 9.0 10.0 11.0 ...\n",
       "  * j_g      (j_g) float64 1.0 2.0 3.0 4.0 5.0 6.0 7.0 8.0 9.0 10.0 11.0 ...\n",
       "  * k_g      (k_g) float64 1.0 2.0 3.0 4.0 5.0 6.0 7.0 8.0 9.0 10.0 11.0 ...\n",
       "  * tile     (tile) int64 1 2 3 4 5 6 7 8 9 10 11 12 13\n",
       "Data variables:\n",
       "    XC       (tile, j, i) float64 -111.6 -111.3 -110.9 -110.5 -110.0 -109.3 ...\n",
       "    YC       (tile, j, i) float64 -88.24 -88.38 -88.52 -88.66 -88.8 -88.94 ...\n",
       "    RAC      (tile, j, i) float64 3.623e+08 3.633e+08 3.643e+08 3.651e+08 ...\n",
       "    Depth    (tile, j, i) float64 0.0 0.0 0.0 0.0 0.0 0.0 0.0 0.0 0.0 0.0 ...\n",
       "    AngleCS  (tile, j, i) float64 0.06158 0.06675 0.07293 0.08042 0.0897 ...\n",
       "    AngleSN  (tile, j, i) float64 -0.9981 -0.9978 -0.9973 -0.9968 -0.996 ...\n",
       "    hFacC    (tile, k, j, i) float64 0.0 0.0 0.0 0.0 0.0 0.0 0.0 0.0 0.0 0.0 ...\n",
       "    land_c   (tile, k, j, i) float64 0.0 0.0 0.0 0.0 0.0 0.0 0.0 0.0 0.0 0.0 ...\n",
       "    XG       (tile, j_g, i_g) float64 -115.0 -115.0 -115.0 -115.0 -115.0 ...\n",
       "    YG       (tile, j_g, i_g) float64 -88.18 -88.32 -88.46 -88.6 -88.74 ...\n",
       "    RAZ      (tile, j_g, i_g) float64 1.799e+08 1.805e+08 1.81e+08 1.814e+08 ...\n",
       "    DXC      (tile, j, i_g) float64 1.558e+04 1.559e+04 1.559e+04 1.56e+04 ...\n",
       "    DYG      (tile, j, i_g) float64 2.321e+04 2.327e+04 2.333e+04 2.338e+04 ...\n",
       "    hFacW    (tile, k, j, i_g) float64 0.0 0.0 0.0 0.0 0.0 0.0 0.0 0.0 0.0 ...\n",
       "    land_u   (tile, k, j, i_g) float64 0.0 0.0 0.0 0.0 0.0 0.0 0.0 0.0 0.0 ...\n",
       "    DYC      (tile, j_g, i) float64 1.156e+04 1.159e+04 1.162e+04 1.165e+04 ...\n",
       "    DXG      (tile, j_g, i) float64 1.558e+04 1.559e+04 1.559e+04 1.56e+04 ...\n",
       "    hFacS    (tile, k, j_g, i) float64 0.0 0.0 0.0 0.0 0.0 0.0 0.0 0.0 0.0 ...\n",
       "    land_v   (tile, k, j_g, i) float64 0.0 0.0 0.0 0.0 0.0 0.0 0.0 0.0 0.0 ...\n",
       "    RC       (k) float64 -5.0 -15.0 -25.0 -35.0 -45.0 -55.0 -65.0 -75.0 ...\n",
       "    RF       (k_g) float64 0.0 -10.0 -20.0 -30.0 -40.0 -50.0 -60.0 -70.0 ...\n",
       "    DRC      (k_g) float64 5.0 10.0 10.0 10.0 10.0 10.0 10.0 10.01 10.02 ...\n",
       "    DRF      (k) float64 10.0 10.0 10.0 10.0 10.0 10.0 10.0 10.01 10.03 ...\n",
       "Attributes:\n",
       "    description:    C-grid parameters (see MITgcm documentation for details)....\n",
       "    date:           21-Apr-2017\n",
       "    Conventions:    CF-1.6\n",
       "    _FillValue:     nan\n",
       "    missing_value:  nan"
      ]
     },
     "execution_count": 3,
     "metadata": {},
     "output_type": "execute_result"
    }
   ],
   "source": [
    "grid_all"
   ]
  },
  {
   "cell_type": "markdown",
   "metadata": {},
   "source": [
    "### Examining the Dataset object contents\n",
    "\n",
    "\n",
    "#### 1. Dimensions\n",
    "`Dimensions:  (i: 90, i_g: 90, j: 90, j_g: 90, k: 50, k_g: 50, tile: 13)`\n",
    "\n",
    "The *Dimensions* list now lists an extra dimension, **tile**.\n",
    "\n",
    "#### 2. Coordinates\n",
    "```\n",
    "Coordinates:\n",
    "  * k        (k) float64 1.0 2.0 3.0 4.0 5.0 6.0 7.0 8.0 9.0 10.0 11.0 12.0 ...\n",
    "  * i        (i) float64 1.0 2.0 3.0 4.0 5.0 6.0 7.0 8.0 9.0 10.0 11.0 12.0 ...\n",
    "  * j        (j) float64 1.0 2.0 3.0 4.0 5.0 6.0 7.0 8.0 9.0 10.0 11.0 12.0 ...\n",
    "  * i_g      (i_g) float64 1.0 2.0 3.0 4.0 5.0 6.0 7.0 8.0 9.0 10.0 11.0 ...\n",
    "  * j_g      (j_g) float64 1.0 2.0 3.0 4.0 5.0 6.0 7.0 8.0 9.0 10.0 11.0 ...\n",
    "  * k_g      (k_g) float64 1.0 2.0 3.0 4.0 5.0 6.0 7.0 8.0 9.0 10.0 11.0 ...\n",
    "  * tile     (tile) int64 1 2 3 4 5 6 7 8 9 10 11 12 13\n",
    "``` \n",
    "\n",
    "The **tile** coordinate is now an array, 1 .. 13\n",
    "\n",
    "\n",
    "#### 3. Data Variables\n",
    "```\n",
    "Data variables:\n",
    "    XC       (tile, j, i) float64 -111.6 -111.3 -110.9 -110.5 -110.0 -109.3 ...\n",
    "    hFacC    (tile, k, j, i) float64 0.0 0.0 0.0 0.0 0.0 0.0 0.0 0.0 0.0 0.0 ...\n",
    "    XG       (tile, j_g, i_g) float64 -115.0 -115.0 -115.0 -115.0 -115.0 ...\n",
    "    DXC      (tile, j, i_g) float64 1.558e+04 1.559e+04 1.559e+04 1.56e+04 ...\n",
    "    hFacW    (tile, k, j, i_g) float64 0.0 0.0 0.0 0.0 0.0 0.0 0.0 0.0 0.0 ...\n",
    "    DYC      (tile, j_g, i) float64 1.156e+04 1.159e+04 1.162e+04 1.165e+04 ...\n",
    "    hFacS    (tile, k, j_g, i) float64 0.0 0.0 0.0 0.0 0.0 0.0 0.0 0.0 0.0 ...\n",
    "    RC       (k) float64 -5.0 -15.0 -25.0 -35.0 -45.0 -55.0 -65.0 -75.0 ...\n",
    "    RF       (k_g) float64 0.0 -10.0 -20.0 -30.0 -40.0 -50.0 -60.0 -70.0 ...\n",
    "```\n",
    "\n",
    "We now see that each *Data variable* that varies in the horizontal now has an extra dimension, **tile**. \n",
    "\n",
    "> **Note:** The ordering of the arrays is (tile, k, j, i)"
   ]
  },
  {
   "cell_type": "markdown",
   "metadata": {},
   "source": [
    "## A closer look at the DataArray after loading with `load_all_tiles_from_netcdf`\n",
    "\n",
    "Let's take a quick look at one of the variables loaded using the `load_all_tiles_from_netcdf` routine:"
   ]
  },
  {
   "cell_type": "code",
   "execution_count": 4,
   "metadata": {},
   "outputs": [
    {
     "data": {
      "text/plain": [
       "<xarray.DataArray 'XC' (tile: 13, j: 90, i: 90)>\n",
       "array([[[-111.606468, -111.303001, ...,   64.805206,   64.819168],\n",
       "        [-104.819603, -103.928444, ...,   64.410118,   64.4524  ],\n",
       "        ..., \n",
       "        [ -37.5     ,  -36.5     , ...,   50.5     ,   51.5     ],\n",
       "        [ -37.5     ,  -36.5     , ...,   50.5     ,   51.5     ]],\n",
       "\n",
       "       [[ -37.5     ,  -36.5     , ...,   50.5     ,   51.5     ],\n",
       "        [ -37.5     ,  -36.5     , ...,   50.5     ,   51.5     ],\n",
       "        ..., \n",
       "        [ -37.5     ,  -36.5     , ...,   50.5     ,   51.5     ],\n",
       "        [ -37.5     ,  -36.5     , ...,   50.5     ,   51.5     ]],\n",
       "\n",
       "       ..., \n",
       "       [[-127.5     , -127.5     , ..., -127.5     , -127.5     ],\n",
       "        [-126.5     , -126.5     , ..., -126.5     , -126.5     ],\n",
       "        ..., \n",
       "        [ -39.5     ,  -39.5     , ...,  -39.5     ,  -39.5     ],\n",
       "        [ -38.5     ,  -38.5     , ...,  -38.5     ,  -38.5     ]],\n",
       "\n",
       "       [[-127.5     , -127.5     , ..., -115.505669, -115.166985],\n",
       "        [-126.5     , -126.5     , ..., -115.464066, -115.153244],\n",
       "        ..., \n",
       "        [ -39.5     ,  -39.5     , ..., -106.248741, -112.090065],\n",
       "        [ -38.5     ,  -38.5     , ..., -105.584648, -111.865791]]])\n",
       "Coordinates:\n",
       "  * i        (i) float64 1.0 2.0 3.0 4.0 5.0 6.0 7.0 8.0 9.0 10.0 11.0 12.0 ...\n",
       "  * j        (j) float64 1.0 2.0 3.0 4.0 5.0 6.0 7.0 8.0 9.0 10.0 11.0 12.0 ...\n",
       "  * tile     (tile) int64 1 2 3 4 5 6 7 8 9 10 11 12 13\n",
       "Attributes:\n",
       "    long_name:          longitude\n",
       "    units:              degrees_east\n",
       "    rotated_to_latlon:  False"
      ]
     },
     "execution_count": 4,
     "metadata": {},
     "output_type": "execute_result"
    }
   ],
   "source": [
    "grid_all.XC"
   ]
  },
  {
   "cell_type": "markdown",
   "metadata": {},
   "source": [
    "The $XC$ `DataArray` object has **tile** has a new dimension of length 13."
   ]
  },
  {
   "cell_type": "markdown",
   "metadata": {},
   "source": [
    "## Loading non-grid ECCO variables using `load_all_tiles_from_netcdf`\n",
    "\n",
    "As with `load_tile_from_netcdf` we can give our variables better labeled coordinates by specifying their c-grid point category.\n",
    "\n",
    "We'll demonstrate by loading three variables, one each that are on 'c','u', and 'v' points \n",
    "\n",
    "### A 'c' point variable: SSH\n",
    "\n",
    "Let's load tile 3 of the 'c' point sea surface height (SSH) variable.  "
   ]
  },
  {
   "cell_type": "code",
   "execution_count": 5,
   "metadata": {},
   "outputs": [
    {
     "name": "stdout",
     "output_type": "stream",
     "text": [
      "\n",
      ">>> LOADING TILES FROM NETCDF\n",
      "\n",
      "loading /Volumes/ECCO_BASE/ECCO_v4r3/nctiles_monthly/SSH/SSH.0001.nc\n",
      "loading /Volumes/ECCO_BASE/ECCO_v4r3/nctiles_monthly/SSH/SSH.0002.nc\n",
      "loading /Volumes/ECCO_BASE/ECCO_v4r3/nctiles_monthly/SSH/SSH.0003.nc\n",
      "loading /Volumes/ECCO_BASE/ECCO_v4r3/nctiles_monthly/SSH/SSH.0004.nc\n",
      "loading /Volumes/ECCO_BASE/ECCO_v4r3/nctiles_monthly/SSH/SSH.0005.nc\n",
      "loading /Volumes/ECCO_BASE/ECCO_v4r3/nctiles_monthly/SSH/SSH.0006.nc\n",
      "loading /Volumes/ECCO_BASE/ECCO_v4r3/nctiles_monthly/SSH/SSH.0007.nc\n",
      "loading /Volumes/ECCO_BASE/ECCO_v4r3/nctiles_monthly/SSH/SSH.0008.nc\n",
      "loading /Volumes/ECCO_BASE/ECCO_v4r3/nctiles_monthly/SSH/SSH.0009.nc\n",
      "loading /Volumes/ECCO_BASE/ECCO_v4r3/nctiles_monthly/SSH/SSH.0010.nc\n",
      "loading /Volumes/ECCO_BASE/ECCO_v4r3/nctiles_monthly/SSH/SSH.0011.nc\n",
      "loading /Volumes/ECCO_BASE/ECCO_v4r3/nctiles_monthly/SSH/SSH.0012.nc\n",
      "loading /Volumes/ECCO_BASE/ECCO_v4r3/nctiles_monthly/SSH/SSH.0013.nc\n",
      "total file load time  0.506529092789 s\n",
      "concatenated all tiles.  this can take a few minutes....\n",
      "finished concatenating.  time = 0.208427906036 s\n",
      "Removing Dataset Attributes A-Z\n",
      "\n"
     ]
    }
   ],
   "source": [
    "data_dir='/Volumes/ECCO_BASE/ECCO_v4r3/nctiles_monthly/SSH/'    \n",
    "var = 'SSH'\n",
    "var_type = 'c'\n",
    "ssh_all = ecco.load_all_tiles_from_netcdf(data_dir, var, var_type)\n",
    "ecco.minimal_metadata(ssh_all)"
   ]
  },
  {
   "cell_type": "markdown",
   "metadata": {},
   "source": [
    "Since this is the first time we're loading an output variable from the state estimate let's closely examine `ssh_tile_3`."
   ]
  },
  {
   "cell_type": "code",
   "execution_count": 6,
   "metadata": {},
   "outputs": [
    {
     "data": {
      "text/plain": [
       "<xarray.Dataset>\n",
       "Dimensions:   (i: 90, j: 90, tile: 13, time: 288)\n",
       "Coordinates:\n",
       "  * time      (time) float64 1.0 2.0 3.0 4.0 5.0 6.0 7.0 8.0 9.0 10.0 11.0 ...\n",
       "  * j         (j) float64 1.0 2.0 3.0 4.0 5.0 6.0 7.0 8.0 9.0 10.0 11.0 12.0 ...\n",
       "  * i         (i) float64 1.0 2.0 3.0 4.0 5.0 6.0 7.0 8.0 9.0 10.0 11.0 12.0 ...\n",
       "    tim       (time) datetime64[ns] 1992-01-16 1992-02-16 1992-03-16 ...\n",
       "    timestep  (time) float64 732.0 1.428e+03 2.172e+03 2.892e+03 3.636e+03 ...\n",
       "    lon_c     (tile, j, i) float64 -111.6 -111.3 -110.9 -110.5 -110.0 -109.3 ...\n",
       "    lat_c     (tile, j, i) float64 -88.24 -88.38 -88.52 -88.66 -88.8 -88.94 ...\n",
       "  * tile      (tile) int64 1 2 3 4 5 6 7 8 9 10 11 12 13\n",
       "Data variables:\n",
       "    SSH       (time, tile, j, i) float64 nan nan nan nan nan nan nan nan nan ...\n",
       "Attributes:\n",
       "    description:    SSH -- ECCO v4 ocean state estimate, release 3 -- 1992-2015\n",
       "    date:           02-May-2017\n",
       "    Conventions:    CF-1.6\n",
       "    _FillValue:     nan\n",
       "    missing_value:  nan"
      ]
     },
     "execution_count": 6,
     "metadata": {},
     "output_type": "execute_result"
    }
   ],
   "source": [
    "ssh_all"
   ]
  },
  {
   "cell_type": "markdown",
   "metadata": {},
   "source": [
    "Notice that unlike the grid files that we've loaded up until now, the `ssh_tile_3` `Dataset` object only has one *Data variable*, $SSH$.  Non-grid ECCO v4 NetCDF tile files only ever store *one* physical variable. Consequently, the *dimensions* of the `Dataset` will be the same as the *dimensions* of the single *data variable*.    Let's take a look at the $SSH$ `DataArary`:"
   ]
  },
  {
   "cell_type": "code",
   "execution_count": 7,
   "metadata": {},
   "outputs": [
    {
     "data": {
      "text/plain": [
       "<xarray.DataArray 'SSH' (time: 288, tile: 13, j: 90, i: 90)>\n",
       "array([[[[      nan, ...,       nan],\n",
       "         ..., \n",
       "         [-1.483355, ..., -1.354059]],\n",
       "\n",
       "        ..., \n",
       "        [[-0.713382, ...,       nan],\n",
       "         ..., \n",
       "         [-1.46542 , ...,       nan]]],\n",
       "\n",
       "\n",
       "       ..., \n",
       "       [[[      nan, ...,       nan],\n",
       "         ..., \n",
       "         [-1.408568, ..., -1.319521]],\n",
       "\n",
       "        ..., \n",
       "        [[-0.580478, ...,       nan],\n",
       "         ..., \n",
       "         [-1.390469, ...,       nan]]]])\n",
       "Coordinates:\n",
       "  * time      (time) float64 1.0 2.0 3.0 4.0 5.0 6.0 7.0 8.0 9.0 10.0 11.0 ...\n",
       "  * j         (j) float64 1.0 2.0 3.0 4.0 5.0 6.0 7.0 8.0 9.0 10.0 11.0 12.0 ...\n",
       "  * i         (i) float64 1.0 2.0 3.0 4.0 5.0 6.0 7.0 8.0 9.0 10.0 11.0 12.0 ...\n",
       "    tim       (time) datetime64[ns] 1992-01-16 1992-02-16 1992-03-16 ...\n",
       "    timestep  (time) float64 732.0 1.428e+03 2.172e+03 2.892e+03 3.636e+03 ...\n",
       "    lon_c     (tile, j, i) float64 -111.6 -111.3 -110.9 -110.5 -110.0 -109.3 ...\n",
       "    lat_c     (tile, j, i) float64 -88.24 -88.38 -88.52 -88.66 -88.8 -88.94 ...\n",
       "  * tile      (tile) int64 1 2 3 4 5 6 7 8 9 10 11 12 13\n",
       "Attributes:\n",
       "    long_name:          Surface Height Anomaly adjusted with global steric he...\n",
       "    units:              m\n",
       "    rotated_to_latlon:  False"
      ]
     },
     "execution_count": 7,
     "metadata": {},
     "output_type": "execute_result"
    }
   ],
   "source": [
    "ssh_all.SSH"
   ]
  },
  {
   "cell_type": "markdown",
   "metadata": {},
   "source": [
    "#### Dimensional coordinates\n",
    "As expected, the `SSH` `DataArray` uses **i, j** coordinates for its horizontal dimensions.  We also see a **tile** and **time** coordinates.  The ordering of the $SSH$ dimensions is **time, tile, j, i** with the logic being that **tile** is a kind of space coordinate.\n",
    "\n",
    "We find 288 records in the **time** dimensions.  One for each month of the 1992-2015 state estimate.  There is one record in the **tile** dimensions because we have only loaded a single tile file so far.\n",
    "\n",
    "#### Non-dimensional coordinates\n",
    "\n",
    "Notice the four *Coordinates* that do not have an \"\\*\" in front of their names.  These are so-called [non-dimensional coordinates](http://xarray.pydata.org/en/stable/data-structures.html#coordinates).  Think of non-dimensional coordinates as helpful extra coordinate labels.  Here, the non-dimensional coordinates include two for the **time** dimension: **tim** and **timestep**, and two for the space dimensions: **lon_c, lat_c**.  \n",
    "\n",
    "##### The time non-dimensional coordinates"
   ]
  },
  {
   "cell_type": "code",
   "execution_count": 8,
   "metadata": {},
   "outputs": [
    {
     "ename": "NameError",
     "evalue": "name 'ssh_tile_3' is not defined",
     "output_type": "error",
     "traceback": [
      "\u001b[0;31m---------------------------------------------------------------------------\u001b[0m",
      "\u001b[0;31mNameError\u001b[0m                                 Traceback (most recent call last)",
      "\u001b[0;32m<ipython-input-8-1089187f114e>\u001b[0m in \u001b[0;36m<module>\u001b[0;34m()\u001b[0m\n\u001b[0;32m----> 1\u001b[0;31m \u001b[0mssh_tile_3\u001b[0m\u001b[0;34m.\u001b[0m\u001b[0mtime\u001b[0m\u001b[0;34m\u001b[0m\u001b[0m\n\u001b[0m",
      "\u001b[0;31mNameError\u001b[0m: name 'ssh_tile_3' is not defined"
     ]
    }
   ],
   "source": [
    "ssh_tile_3.time"
   ]
  },
  {
   "cell_type": "markdown",
   "metadata": {},
   "source": [
    "The **tim** non-dimensional coordinate provides the calendar date (centered in the month) for the **time** monthly index and the **timestep** non-dimensional coordinate provides the the timestep number corresponding to each month (the ECCO v4 simulation uses 1-hourly timesteps).\n",
    "\n",
    "##### The space non-dimensional coordinates\n",
    "**lon_c** and **lat_c** non-dimensional coordinates provide the longitude and latitude for each of the 'c' points of $SSH$."
   ]
  },
  {
   "cell_type": "code",
   "execution_count": null,
   "metadata": {},
   "outputs": [],
   "source": [
    "ssh_tile_3.lon_c"
   ]
  },
  {
   "cell_type": "markdown",
   "metadata": {},
   "source": [
    "### A 'u' point variable: UVEL\n",
    "\n",
    "Let's load tile 3 of the 'u' point horizontal velocity in the local $x$ direction variable, $UVEL$."
   ]
  },
  {
   "cell_type": "code",
   "execution_count": null,
   "metadata": {},
   "outputs": [],
   "source": [
    "data_dir='/Volumes/ECCO_BASE/ECCO_v4r3/nctiles_monthly/UVEL/'    \n",
    "var = 'UVEL'\n",
    "var_type = 'u'\n",
    "tile_index = 3\n",
    "uvel_tile_3 = ecco.load_tile_from_netcdf(data_dir, var, var_type, tile_index)"
   ]
  },
  {
   "cell_type": "markdown",
   "metadata": {},
   "source": [
    "Let's look at `uvel_tile_3`.  This time let's also remove some of the descriptive NetCDF file *Attributes* using a little routine called `minimal_metadata`.  We've already seen these attributes a number of times."
   ]
  },
  {
   "cell_type": "code",
   "execution_count": null,
   "metadata": {},
   "outputs": [],
   "source": [
    "ecco.minimal_metadata(uvel_tile_3)"
   ]
  },
  {
   "cell_type": "code",
   "execution_count": null,
   "metadata": {},
   "outputs": [],
   "source": [
    "uvel_tile_3"
   ]
  },
  {
   "cell_type": "markdown",
   "metadata": {},
   "source": [
    "`uvel_tile_3` has one *Data variable*, $UVEL$.  Let's take a look at the $UVEL$ `DataArary`:"
   ]
  },
  {
   "cell_type": "code",
   "execution_count": null,
   "metadata": {},
   "outputs": [],
   "source": [
    "uvel_tile_3.UVEL"
   ]
  },
  {
   "cell_type": "markdown",
   "metadata": {},
   "source": [
    "#### Dimensional coordinates\n",
    "As expected, $UVEL$ uses the **i_g, j** coordinates for its horizontal dimensions. Unlike $SSH$, $UVEL$ has three-dimensions in space so we find a **k** coordinate.  The ordering of the three-dimensional ECCO v4 output is **time, tile, k, j, i**.\n",
    "\n",
    "#### Non-dimensional coordinates\n",
    "\n",
    "$UVEL$ has one new non-dimensional coordinate for **k**: **dep** and two new non-dimensional coordinates for space: **lon_u, lat_u**\n",
    "\n",
    "##### The **dep** non-dimensional coordinates\n",
    "\n",
    "**dep** is the depth of the center of the tracer grid cell in meters:"
   ]
  },
  {
   "cell_type": "code",
   "execution_count": null,
   "metadata": {},
   "outputs": [],
   "source": [
    "uvel_tile_3.dep"
   ]
  },
  {
   "cell_type": "markdown",
   "metadata": {},
   "source": [
    "##### The space non-dimensional coordinates\n",
    "**lon_u** and **lat_u** provide the longitude and latitude for each **i_g,j** point.\n",
    "\n",
    "### A 'v' point variable: VVEL\n",
    "\n",
    "Let's load tile 3 of the 'v' point horizontal velocity in the local $x$ direction variable, $VVEL$."
   ]
  },
  {
   "cell_type": "code",
   "execution_count": null,
   "metadata": {},
   "outputs": [],
   "source": [
    "data_dir='/Volumes/ECCO_BASE/ECCO_v4r3/nctiles_monthly/VVEL/'    \n",
    "var = 'VVEL'\n",
    "var_type = 'v'\n",
    "tile_index = 3\n",
    "vvel_tile_3 = ecco.load_tile_from_netcdf(data_dir, var, var_type, tile_index)\n",
    "ecco.minimal_metadata(vvel_tile_3)"
   ]
  },
  {
   "cell_type": "markdown",
   "metadata": {},
   "source": [
    "Let's look at the *Coordinates* of $VVEL$."
   ]
  },
  {
   "cell_type": "code",
   "execution_count": null,
   "metadata": {},
   "outputs": [],
   "source": [
    "vvel_tile_3.coords"
   ]
  },
  {
   "cell_type": "markdown",
   "metadata": {},
   "source": [
    "#### Dimensional coordinates\n",
    "As expected, `vvel_tile_3` uses the **i, j_g** coordinates for its horizontal dimensions. \n",
    "\n",
    "#### Non-dimensional coordinates\n",
    "\n",
    "$VVEL$ has two new non-dimensional coordinates for space: **lon_v, lat_v**.  As you might expect, these are the longitude and latitude of this v-point variable."
   ]
  },
  {
   "cell_type": "markdown",
   "metadata": {},
   "source": [
    "## Conclusion\n",
    "\n",
    "Now you know how to load variables so that their coordinates correspond with their location on the c-grid."
   ]
  }
 ],
 "metadata": {
  "kernelspec": {
   "display_name": "Python 2",
   "language": "python",
   "name": "python2"
  },
  "language_info": {
   "codemirror_mode": {
    "name": "ipython",
    "version": 2
   },
   "file_extension": ".py",
   "mimetype": "text/x-python",
   "name": "python",
   "nbconvert_exporter": "python",
   "pygments_lexer": "ipython2",
   "version": "2.7.14"
  }
 },
 "nbformat": 4,
 "nbformat_minor": 2
}
